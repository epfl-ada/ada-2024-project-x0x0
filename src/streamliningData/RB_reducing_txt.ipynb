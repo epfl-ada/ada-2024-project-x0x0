{
 "cells": [
  {
   "cell_type": "code",
   "execution_count": 1,
   "id": "2d75dbfd",
   "metadata": {
    "execution": {
     "iopub.execute_input": "2024-11-14T16:24:28.760947Z",
     "iopub.status.busy": "2024-11-14T16:24:28.760947Z",
     "iopub.status.idle": "2024-11-14T16:24:30.344092Z",
     "shell.execute_reply": "2024-11-14T16:24:30.344092Z"
    },
    "jupyter": {
     "source_hidden": true
    },
    "papermill": {
     "duration": 1.63967,
     "end_time": "2024-11-14T16:24:30.344092",
     "exception": false,
     "start_time": "2024-11-14T16:24:28.704422",
     "status": "completed"
    },
    "tags": []
   },
   "outputs": [],
   "source": [
    "import pandas as pd\n",
    "import gc"
   ]
  },
  {
   "cell_type": "code",
   "execution_count": 2,
   "id": "4b417380",
   "metadata": {
    "execution": {
     "iopub.execute_input": "2024-11-14T16:24:30.364105Z",
     "iopub.status.busy": "2024-11-14T16:24:30.364105Z",
     "iopub.status.idle": "2024-11-14T16:24:30.415268Z",
     "shell.execute_reply": "2024-11-14T16:24:30.415268Z"
    },
    "jupyter": {
     "source_hidden": true
    },
    "papermill": {
     "duration": 0.061164,
     "end_time": "2024-11-14T16:24:30.415268",
     "exception": false,
     "start_time": "2024-11-14T16:24:30.354104",
     "status": "completed"
    },
    "tags": []
   },
   "outputs": [
    {
     "name": "stdout",
     "output_type": "stream",
     "text": [
      "RB_reducing_txt.ipynb takes around 5 minutes to run\n"
     ]
    }
   ],
   "source": [
    "gc.collect() #memory\n",
    "print(\"RB_reducing_txt.ipynb takes around 5 minutes to run\")"
   ]
  },
  {
   "cell_type": "code",
   "execution_count": 3,
   "id": "381ae818",
   "metadata": {
    "execution": {
     "iopub.execute_input": "2024-11-14T16:24:30.442224Z",
     "iopub.status.busy": "2024-11-14T16:24:30.442224Z",
     "iopub.status.idle": "2024-11-14T16:24:30.467871Z",
     "shell.execute_reply": "2024-11-14T16:24:30.467871Z"
    },
    "jupyter": {
     "source_hidden": true
    },
    "papermill": {
     "duration": 0.047593,
     "end_time": "2024-11-14T16:24:30.467871",
     "exception": false,
     "start_time": "2024-11-14T16:24:30.420278",
     "status": "completed"
    },
    "tags": []
   },
   "outputs": [],
   "source": [
    "new_column_names = [\n",
    "    'beer_name', 'beer_id', 'brewery_name', 'brewery_id', 'style', 'abv', 'date',\n",
    "    'user_name', 'user_id', 'appearance', 'aroma', 'palate', 'taste', 'overall',\n",
    "    'rating', 'text'\n",
    "]\n",
    "\n",
    "output_file_path = 'minimizedData/RB_ratings_small.csv'\n",
    "\n",
    "def parse_ratings_file(file_path, chunk_size=15_000_001, start=0, stop=200_000_000): #chunk is a mulitple of 17 since our text 'block' size is 17\n",
    "    #initialise the csv\n",
    "    pd.DataFrame(columns=new_column_names).drop(['user_name','abv','date','text'], axis=1).to_csv(\n",
    "        output_file_path, index=False\n",
    "    )\n",
    "\n",
    "    current_block = []\n",
    "    data = []\n",
    "    i = 0\n",
    "    k = 0 \n",
    "    chunk = 0\n",
    "    \n",
    "    with open(file_path, 'r', encoding = 'utf-8') as file:\n",
    "        for line in file:\n",
    "            i += 1\n",
    "            k += 1\n",
    "            if i<start: continue\n",
    "           \n",
    "            if i+16>stop:break\n",
    "           \n",
    "            if i % 10_000_000 == 0: print('Processing line: ', i)\n",
    "\n",
    "            line = line.strip()  #remove whitespace\n",
    "\n",
    "            if not line:  #empty line signifies end of block\n",
    "                data.append(current_block)\n",
    "                current_block = []\n",
    "                \n",
    "            if k >= chunk_size:\n",
    "                k = 0\n",
    "                chunk += 1\n",
    "                print('Processing chunk :', chunk)\n",
    "                \n",
    "                df = pd.DataFrame(data, columns=new_column_names)\n",
    "                df = df.drop(['user_name', 'abv', 'date', 'text'], axis=1)\n",
    "                df.to_csv(output_file_path, mode='a', index=False, header=False)\n",
    "                data = []  \n",
    "                gc.collect()  #manually invoke garbage collection\n",
    "                               \n",
    "            if ': ' in line:  \n",
    "                key, value = line.split(': ', 1)\n",
    "                current_block.append(value)\n",
    "\n",
    "        if data: #save any leftover data at the end\n",
    "            data.append(current_block)\n",
    "            current_block = []\n",
    "            print(k)\n",
    "            k = 0\n",
    "            chunk += 1 \n",
    "            print('Processing chunk :', chunk)\n",
    "            \n",
    "            df = pd.DataFrame(data, columns=new_column_names)\n",
    "            df = df.drop(['user_name', 'abv', 'date', 'text'], axis=1)\n",
    "            df.dropna()\n",
    "            df.to_csv(output_file_path, mode='a', index=False, header=False)\n",
    "            data = []  \n",
    "            gc.collect() \n",
    "            \n",
    "    print('Done!')"
   ]
  },
  {
   "cell_type": "code",
   "execution_count": 4,
   "id": "8dbcbbad",
   "metadata": {
    "execution": {
     "iopub.execute_input": "2024-11-14T16:24:30.527350Z",
     "iopub.status.busy": "2024-11-14T16:24:30.527350Z",
     "iopub.status.idle": "2024-11-14T16:28:06.886069Z",
     "shell.execute_reply": "2024-11-14T16:28:06.886069Z"
    },
    "jupyter": {
     "source_hidden": true
    },
    "papermill": {
     "duration": 216.405348,
     "end_time": "2024-11-14T16:28:06.906534",
     "exception": false,
     "start_time": "2024-11-14T16:24:30.501186",
     "status": "completed"
    },
    "tags": []
   },
   "outputs": [
    {
     "name": "stdout",
     "output_type": "stream",
     "text": [
      "There are around 120 million lines of text\n"
     ]
    },
    {
     "name": "stdout",
     "output_type": "stream",
     "text": [
      "Processing line:  10000000\n"
     ]
    },
    {
     "name": "stdout",
     "output_type": "stream",
     "text": [
      "Processing chunk : 1\n"
     ]
    },
    {
     "name": "stdout",
     "output_type": "stream",
     "text": [
      "Processing line:  20000000\n"
     ]
    },
    {
     "name": "stdout",
     "output_type": "stream",
     "text": [
      "Processing line:  30000000\n",
      "Processing chunk : 2\n"
     ]
    },
    {
     "name": "stdout",
     "output_type": "stream",
     "text": [
      "Processing line:  40000000\n"
     ]
    },
    {
     "name": "stdout",
     "output_type": "stream",
     "text": [
      "Processing chunk : 3\n"
     ]
    },
    {
     "name": "stdout",
     "output_type": "stream",
     "text": [
      "Processing line:  50000000\n"
     ]
    },
    {
     "name": "stdout",
     "output_type": "stream",
     "text": [
      "Processing line:  60000000\n",
      "Processing chunk : 4\n"
     ]
    },
    {
     "name": "stdout",
     "output_type": "stream",
     "text": [
      "Processing line:  70000000\n"
     ]
    },
    {
     "name": "stdout",
     "output_type": "stream",
     "text": [
      "Processing chunk : 5\n"
     ]
    },
    {
     "name": "stdout",
     "output_type": "stream",
     "text": [
      "Processing line:  80000000\n"
     ]
    },
    {
     "name": "stdout",
     "output_type": "stream",
     "text": [
      "Processing line:  90000000\n",
      "Processing chunk : 6\n"
     ]
    },
    {
     "name": "stdout",
     "output_type": "stream",
     "text": [
      "Processing line:  100000000\n"
     ]
    },
    {
     "name": "stdout",
     "output_type": "stream",
     "text": [
      "Processing chunk : 7\n"
     ]
    },
    {
     "name": "stdout",
     "output_type": "stream",
     "text": [
      "Processing line:  110000000\n"
     ]
    },
    {
     "name": "stdout",
     "output_type": "stream",
     "text": [
      "Processing line:  120000000\n",
      "Processing chunk : 8\n"
     ]
    },
    {
     "name": "stdout",
     "output_type": "stream",
     "text": [
      "1075250\n",
      "Processing chunk : 9\n"
     ]
    },
    {
     "name": "stdout",
     "output_type": "stream",
     "text": [
      "Done!\n"
     ]
    }
   ],
   "source": [
    "#takes 4 mins\n",
    "print(\"There are around 120 million lines of text\")\n",
    "parse_ratings_file('baseData/RateBeer/ratings.txt')"
   ]
  },
  {
   "cell_type": "code",
   "execution_count": 5,
   "id": "9c3099df",
   "metadata": {
    "execution": {
     "iopub.execute_input": "2024-11-14T16:28:06.939978Z",
     "iopub.status.busy": "2024-11-14T16:28:06.939978Z",
     "iopub.status.idle": "2024-11-14T16:29:19.744934Z",
     "shell.execute_reply": "2024-11-14T16:29:19.744934Z"
    },
    "jupyter": {
     "source_hidden": true
    },
    "papermill": {
     "duration": 72.843187,
     "end_time": "2024-11-14T16:29:19.754944",
     "exception": false,
     "start_time": "2024-11-14T16:28:06.911757",
     "status": "completed"
    },
    "tags": []
   },
   "outputs": [
    {
     "name": "stdout",
     "output_type": "stream",
     "text": [
      "Saved 'minimizedData/RB_ratings_small.csv'\n"
     ]
    }
   ],
   "source": [
    "df = pd.read_csv('minimizedData/RB_ratings_small.csv')\n",
    "df = df.drop(df.index[-1])\n",
    "df.to_csv('minimizedData/RB_ratings_small.csv', index=False)\n",
    "print(\"Saved 'minimizedData/RB_ratings_small.csv'\")\n",
    "#df = pd.read_csv('minimizedData/RB_ratings_small.csv')\n",
    "#df.tail(2)"
   ]
  },
  {
   "cell_type": "code",
   "execution_count": 6,
   "id": "9c49fcc8",
   "metadata": {
    "execution": {
     "iopub.execute_input": "2024-11-14T16:29:19.774769Z",
     "iopub.status.busy": "2024-11-14T16:29:19.774769Z",
     "iopub.status.idle": "2024-11-14T16:29:19.788490Z",
     "shell.execute_reply": "2024-11-14T16:29:19.787224Z"
    },
    "jupyter": {
     "source_hidden": true
    },
    "papermill": {
     "duration": 0.020749,
     "end_time": "2024-11-14T16:29:19.788490",
     "exception": false,
     "start_time": "2024-11-14T16:29:19.767741",
     "status": "completed"
    },
    "tags": []
   },
   "outputs": [],
   "source": [
    "#df.head(2)"
   ]
  },
  {
   "cell_type": "code",
   "execution_count": 7,
   "id": "66c57539",
   "metadata": {
    "execution": {
     "iopub.execute_input": "2024-11-14T16:29:19.804499Z",
     "iopub.status.busy": "2024-11-14T16:29:19.804499Z",
     "iopub.status.idle": "2024-11-14T16:29:19.814795Z",
     "shell.execute_reply": "2024-11-14T16:29:19.814795Z"
    },
    "jupyter": {
     "source_hidden": true
    },
    "papermill": {
     "duration": 0.016299,
     "end_time": "2024-11-14T16:29:19.814795",
     "exception": false,
     "start_time": "2024-11-14T16:29:19.798496",
     "status": "completed"
    },
    "tags": []
   },
   "outputs": [],
   "source": [
    "#df.sample(3)"
   ]
  }
 ],
 "metadata": {
  "kernelspec": {
   "display_name": "ada",
   "language": "python",
   "name": "python3"
  },
  "language_info": {
   "codemirror_mode": {
    "name": "ipython",
    "version": 3
   },
   "file_extension": ".py",
   "mimetype": "text/x-python",
   "name": "python",
   "nbconvert_exporter": "python",
   "pygments_lexer": "ipython3",
   "version": "3.11.9"
  },
  "papermill": {
   "default_parameters": {},
   "duration": 296.38211,
   "end_time": "2024-11-14T16:29:20.638213",
   "environment_variables": {},
   "exception": null,
   "input_path": "src/streamliningData/RB_reducing_txt.ipynb",
   "output_path": "src/streamliningData/RB_reducing_txt.ipynb",
   "parameters": {},
   "start_time": "2024-11-14T16:24:24.256103",
   "version": "2.6.0"
  }
 },
 "nbformat": 4,
 "nbformat_minor": 5
}