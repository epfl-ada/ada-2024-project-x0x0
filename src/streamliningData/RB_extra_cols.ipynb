{
 "cells": [
  {
   "cell_type": "code",
   "execution_count": 1,
   "metadata": {},
   "outputs": [],
   "source": [
    "import pandas as pd\n",
    "import gc"
   ]
  },
  {
   "cell_type": "code",
   "execution_count": null,
   "metadata": {},
   "outputs": [
    {
     "name": "stdout",
     "output_type": "stream",
     "text": [
      "RB_extra_cols.ipynb takes around a minute to run\n"
     ]
    }
   ],
   "source": [
    "gc.collect() #memory\n",
    "print(\"RB_extra_cols.ipynb takes around 2 minutes to run\")"
   ]
  },
  {
   "cell_type": "code",
   "execution_count": 3,
   "metadata": {},
   "outputs": [],
   "source": [
    "RBs_beers = pd.read_csv('../../minimizedData/RB_beers_small.csv')\n",
    "RBs_breweries = pd.read_csv('../../minimizedData/RB_breweries_small.csv')\n",
    "RBs_ratings = pd.read_csv('../../minimizedData/RB_ratings_small.csv')\n",
    "RBs_users = pd.read_csv('../../minimizedData/RB_users_small.csv')\n",
    "\n",
    "#change the name for merging\n",
    "RBs_breweries = RBs_breweries.rename(columns={'id': 'brewery_id'}) "
   ]
  },
  {
   "cell_type": "code",
   "execution_count": 4,
   "metadata": {},
   "outputs": [],
   "source": [
    "RBs_beers_loc = RBs_beers.merge(RBs_breweries[['brewery_id', 'location']], on='brewery_id', how='left')\n",
    "RBs_ratings_loc = RBs_ratings.merge(RBs_users[['user_id', 'location']], on='user_id', how='left')"
   ]
  },
  {
   "cell_type": "code",
   "execution_count": 5,
   "metadata": {},
   "outputs": [],
   "source": [
    "#modify the the location names to avoid confusion between beer_location and rating_location\n",
    "RBs_beers_loc = RBs_beers_loc.rename(columns={'location': 'beer_location'})\n",
    "RBs_ratings_loc = RBs_ratings_loc.rename(columns={'location': 'user_location'})\n",
    "\n",
    "#merge for even more cols\n",
    "RBs_ratbeer = RBs_ratings_loc.merge(RBs_beers_loc[['beer_id', 'avg', 'beer_location']], on='beer_id', how='left')"
   ]
  },
  {
   "cell_type": "code",
   "execution_count": 6,
   "metadata": {},
   "outputs": [
    {
     "name": "stdout",
     "output_type": "stream",
     "text": [
      "Saved '../../minimizedData/RB_beers_small_plus.csv'\n",
      "Saved '../../minimizedData/RB_beers_small_plus.csv'\n"
     ]
    }
   ],
   "source": [
    "RBs_beers_loc.to_csv('../../minimizedData/RB_beers_small_plus.csv', index=False)\n",
    "print(\"Saved '../../minimizedData/RB_beers_small_plus.csv'\")\n",
    "RBs_ratbeer.to_csv('../../minimizedData/RB_ratings_small_plus.csv', index=False)\n",
    "print(\"Saved '../../minimizedData/RB_beers_small_plus.csv'\")"
   ]
  }
 ],
 "metadata": {
  "kernelspec": {
   "display_name": "ada",
   "language": "python",
   "name": "python3"
  },
  "language_info": {
   "codemirror_mode": {
    "name": "ipython",
    "version": 3
   },
   "file_extension": ".py",
   "mimetype": "text/x-python",
   "name": "python",
   "nbconvert_exporter": "python",
   "pygments_lexer": "ipython3",
   "version": "3.11.9"
  }
 },
 "nbformat": 4,
 "nbformat_minor": 2
}
