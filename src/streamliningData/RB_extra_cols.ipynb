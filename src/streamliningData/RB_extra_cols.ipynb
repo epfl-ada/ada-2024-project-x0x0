{
 "cells": [
  {
   "cell_type": "code",
   "execution_count": 1,
   "id": "44bc3814",
   "metadata": {
    "execution": {
     "iopub.execute_input": "2024-11-14T16:31:27.577621Z",
     "iopub.status.busy": "2024-11-14T16:31:27.577621Z",
     "iopub.status.idle": "2024-11-14T16:31:29.205717Z",
     "shell.execute_reply": "2024-11-14T16:31:29.205717Z"
    },
    "jupyter": {
     "source_hidden": true
    },
    "papermill": {
     "duration": 1.676398,
     "end_time": "2024-11-14T16:31:29.205717",
     "exception": false,
     "start_time": "2024-11-14T16:31:27.529319",
     "status": "completed"
    },
    "tags": []
   },
   "outputs": [],
   "source": [
    "import pandas as pd\n",
    "import gc"
   ]
  },
  {
   "cell_type": "code",
   "execution_count": 2,
   "id": "fbd8e2f9",
   "metadata": {
    "execution": {
     "iopub.execute_input": "2024-11-14T16:31:29.225727Z",
     "iopub.status.busy": "2024-11-14T16:31:29.225727Z",
     "iopub.status.idle": "2024-11-14T16:31:29.288981Z",
     "shell.execute_reply": "2024-11-14T16:31:29.288981Z"
    },
    "jupyter": {
     "source_hidden": true
    },
    "papermill": {
     "duration": 0.073254,
     "end_time": "2024-11-14T16:31:29.288981",
     "exception": false,
     "start_time": "2024-11-14T16:31:29.215727",
     "status": "completed"
    },
    "tags": []
   },
   "outputs": [
    {
     "name": "stdout",
     "output_type": "stream",
     "text": [
      "RB_extra_cols.ipynb takes around 2 minutes to run\n"
     ]
    }
   ],
   "source": [
    "gc.collect() #memory\n",
    "print(\"RB_extra_cols.ipynb takes around 2 minutes to run\")"
   ]
  },
  {
   "cell_type": "code",
   "execution_count": 3,
   "id": "6faf5e4f",
   "metadata": {
    "execution": {
     "iopub.execute_input": "2024-11-14T16:31:29.370011Z",
     "iopub.status.busy": "2024-11-14T16:31:29.370011Z",
     "iopub.status.idle": "2024-11-14T16:31:45.199667Z",
     "shell.execute_reply": "2024-11-14T16:31:45.199667Z"
    },
    "jupyter": {
     "source_hidden": true
    },
    "papermill": {
     "duration": 15.854525,
     "end_time": "2024-11-14T16:31:45.199667",
     "exception": false,
     "start_time": "2024-11-14T16:31:29.345142",
     "status": "completed"
    },
    "tags": []
   },
   "outputs": [],
   "source": [
    "RBs_beers = pd.read_csv('minimizedData/RB_beers_small.csv')\n",
    "RBs_breweries = pd.read_csv('minimizedData/RB_breweries_small.csv')\n",
    "RBs_ratings = pd.read_csv('minimizedData/RB_ratings_small.csv')\n",
    "RBs_users = pd.read_csv('minimizedData/RB_users_small.csv')\n",
    "\n",
    "#change the name for merging\n",
    "RBs_breweries = RBs_breweries.rename(columns={'id': 'brewery_id'}) "
   ]
  },
  {
   "cell_type": "code",
   "execution_count": 4,
   "id": "2abeab2b",
   "metadata": {
    "execution": {
     "iopub.execute_input": "2024-11-14T16:31:45.219679Z",
     "iopub.status.busy": "2024-11-14T16:31:45.219679Z",
     "iopub.status.idle": "2024-11-14T16:31:48.222514Z",
     "shell.execute_reply": "2024-11-14T16:31:48.222514Z"
    },
    "jupyter": {
     "source_hidden": true
    },
    "papermill": {
     "duration": 3.012839,
     "end_time": "2024-11-14T16:31:48.222514",
     "exception": false,
     "start_time": "2024-11-14T16:31:45.209675",
     "status": "completed"
    },
    "tags": []
   },
   "outputs": [],
   "source": [
    "RBs_beers_loc = RBs_beers.merge(RBs_breweries[['brewery_id', 'location']], on='brewery_id', how='left')\n",
    "RBs_ratings_loc = RBs_ratings.merge(RBs_users[['user_id', 'location']], on='user_id', how='left')"
   ]
  },
  {
   "cell_type": "code",
   "execution_count": 5,
   "id": "1a5f08b9",
   "metadata": {
    "execution": {
     "iopub.execute_input": "2024-11-14T16:31:48.242557Z",
     "iopub.status.busy": "2024-11-14T16:31:48.242557Z",
     "iopub.status.idle": "2024-11-14T16:31:50.647544Z",
     "shell.execute_reply": "2024-11-14T16:31:50.647544Z"
    },
    "jupyter": {
     "source_hidden": true
    },
    "papermill": {
     "duration": 2.404987,
     "end_time": "2024-11-14T16:31:50.647544",
     "exception": false,
     "start_time": "2024-11-14T16:31:48.242557",
     "status": "completed"
    },
    "tags": []
   },
   "outputs": [],
   "source": [
    "#modify the the location names to avoid confusion between beer_location and rating_location\n",
    "RBs_beers_loc = RBs_beers_loc.rename(columns={'location': 'beer_location'})\n",
    "RBs_ratings_loc = RBs_ratings_loc.rename(columns={'location': 'user_location'})\n",
    "\n",
    "#merge for even more cols\n",
    "RBs_ratbeer = RBs_ratings_loc.merge(RBs_beers_loc[['beer_id', 'avg', 'beer_location']], on='beer_id', how='left')"
   ]
  },
  {
   "cell_type": "code",
   "execution_count": 6,
   "id": "25ead98c",
   "metadata": {
    "execution": {
     "iopub.execute_input": "2024-11-14T16:31:50.667214Z",
     "iopub.status.busy": "2024-11-14T16:31:50.667214Z",
     "iopub.status.idle": "2024-11-14T16:33:04.796163Z",
     "shell.execute_reply": "2024-11-14T16:33:04.796163Z"
    },
    "jupyter": {
     "source_hidden": true
    },
    "papermill": {
     "duration": 74.149067,
     "end_time": "2024-11-14T16:33:04.806184",
     "exception": false,
     "start_time": "2024-11-14T16:31:50.657117",
     "status": "completed"
    },
    "tags": []
   },
   "outputs": [
    {
     "name": "stdout",
     "output_type": "stream",
     "text": [
      "Saved 'minimizedData/RB_beers_small_plus.csv'\n"
     ]
    },
    {
     "name": "stdout",
     "output_type": "stream",
     "text": [
      "Saved 'minimizedData/RB_beers_small_plus.csv'\n"
     ]
    }
   ],
   "source": [
    "RBs_beers_loc.to_csv('minimizedData/RB_beers_small_plus.csv', index=False)\n",
    "print(\"Saved 'minimizedData/RB_beers_small_plus.csv'\")\n",
    "RBs_ratbeer.to_csv('minimizedData/RB_ratings_small_plus.csv', index=False)\n",
    "print(\"Saved 'minimizedData/RB_beers_small_plus.csv'\")"
   ]
  }
 ],
 "metadata": {
  "kernelspec": {
   "display_name": "Python 3.8.19 ('bachelor_project')",
   "language": "python",
   "name": "python3"
  },
  "language_info": {
   "codemirror_mode": {
    "name": "ipython",
    "version": 3
   },
   "file_extension": ".py",
   "mimetype": "text/x-python",
   "name": "python",
   "nbconvert_exporter": "python",
   "pygments_lexer": "ipython3",
   "version": "3.11.9"
  },
  "papermill": {
   "default_parameters": {},
   "duration": 100.898268,
   "end_time": "2024-11-14T16:33:05.912033",
   "environment_variables": {},
   "exception": null,
   "input_path": "src/streamliningData/RB_extra_cols.ipynb",
   "output_path": "src/streamliningData/RB_extra_cols.ipynb",
   "parameters": {},
   "start_time": "2024-11-14T16:31:25.013765",
   "version": "2.6.0"
  },
  "vscode": {
   "interpreter": {
    "hash": "ec4bdffda5b06bfe06e83280fc9167ae821730b2c55f7bc060d0a3d2bb72b812"
   }
  }
 },
 "nbformat": 4,
 "nbformat_minor": 5
}