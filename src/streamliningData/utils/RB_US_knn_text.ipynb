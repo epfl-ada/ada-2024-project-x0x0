{
 "cells": [
  {
   "cell_type": "code",
   "execution_count": 1,
   "id": "4a339014",
   "metadata": {
    "execution": {
     "iopub.execute_input": "2024-11-29T23:49:51.763584Z",
     "iopub.status.busy": "2024-11-29T23:49:51.761601Z",
     "iopub.status.idle": "2024-11-29T23:49:52.916682Z",
     "shell.execute_reply": "2024-11-29T23:49:52.916682Z"
    },
    "jupyter": {
     "source_hidden": true
    },
    "papermill": {
     "duration": 1.21995,
     "end_time": "2024-11-29T23:49:52.916682",
     "exception": false,
     "start_time": "2024-11-29T23:49:51.696732",
     "status": "completed"
    },
    "tags": []
   },
   "outputs": [],
   "source": [
    "import pandas as pd\n",
    "import gc"
   ]
  },
  {
   "cell_type": "code",
   "execution_count": 2,
   "id": "697f7d40",
   "metadata": {
    "execution": {
     "iopub.execute_input": "2024-11-29T23:49:52.936691Z",
     "iopub.status.busy": "2024-11-29T23:49:52.936691Z",
     "iopub.status.idle": "2024-11-29T23:49:52.974636Z",
     "shell.execute_reply": "2024-11-29T23:49:52.974636Z"
    },
    "jupyter": {
     "source_hidden": true
    },
    "papermill": {
     "duration": 0.04794,
     "end_time": "2024-11-29T23:49:52.974636",
     "exception": false,
     "start_time": "2024-11-29T23:49:52.926696",
     "status": "completed"
    },
    "tags": []
   },
   "outputs": [
    {
     "name": "stdout",
     "output_type": "stream",
     "text": [
      "RB_US_data.ipynb takes around a minute to run\n"
     ]
    }
   ],
   "source": [
    "gc.collect() #memory\n",
    "print(\"RB_US_data.ipynb takes around a minute to run\")"
   ]
  },
  {
   "cell_type": "code",
   "execution_count": 3,
   "id": "f826b64f",
   "metadata": {
    "execution": {
     "iopub.execute_input": "2024-11-29T23:49:52.998638Z",
     "iopub.status.busy": "2024-11-29T23:49:52.998638Z",
     "iopub.status.idle": "2024-11-29T23:51:27.360911Z",
     "shell.execute_reply": "2024-11-29T23:51:27.320902Z"
    },
    "jupyter": {
     "source_hidden": true
    },
    "papermill": {
     "duration": 94.500774,
     "end_time": "2024-11-29T23:51:27.489602",
     "exception": false,
     "start_time": "2024-11-29T23:49:52.988828",
     "status": "completed"
    },
    "tags": []
   },
   "outputs": [],
   "source": [
    "#rankings data with beer_location and user_location added as extra columns\n",
    "RB_merged = pd.read_csv('knnData/RB_knn_plus.csv')"
   ]
  },
  {
   "cell_type": "code",
   "execution_count": 4,
   "id": "c1ff8b6a",
   "metadata": {
    "execution": {
     "iopub.execute_input": "2024-11-29T23:51:27.809213Z",
     "iopub.status.busy": "2024-11-29T23:51:27.799210Z",
     "iopub.status.idle": "2024-11-29T23:51:31.398326Z",
     "shell.execute_reply": "2024-11-29T23:51:31.391379Z"
    },
    "jupyter": {
     "source_hidden": true
    },
    "papermill": {
     "duration": 3.686571,
     "end_time": "2024-11-29T23:51:31.430579",
     "exception": false,
     "start_time": "2024-11-29T23:51:27.744008",
     "status": "completed"
    },
    "tags": []
   },
   "outputs": [
    {
     "name": "stdout",
     "output_type": "stream",
     "text": [
      "We dropped 203719 rows due to NaNs in 'beer_location','user_location','rating'\n"
     ]
    }
   ],
   "source": [
    "RB_merged_clean = RB_merged.dropna(subset=['beer_location','user_location','rating'])\n",
    "print(\"We dropped \" + str(RB_merged.shape[0] - RB_merged_clean.shape[0]) + \" rows due to NaNs in 'beer_location','user_location','rating'\")"
   ]
  },
  {
   "cell_type": "code",
   "execution_count": 5,
   "id": "52f2d381",
   "metadata": {
    "execution": {
     "iopub.execute_input": "2024-11-29T23:51:31.499329Z",
     "iopub.status.busy": "2024-11-29T23:51:31.499329Z",
     "iopub.status.idle": "2024-11-29T23:51:37.433552Z",
     "shell.execute_reply": "2024-11-29T23:51:37.433552Z"
    },
    "jupyter": {
     "source_hidden": true
    },
    "papermill": {
     "duration": 5.97399,
     "end_time": "2024-11-29T23:51:37.454387",
     "exception": false,
     "start_time": "2024-11-29T23:51:31.480397",
     "status": "completed"
    },
    "tags": []
   },
   "outputs": [
    {
     "name": "stdout",
     "output_type": "stream",
     "text": [
      "We dropped 4523641 rows selecting only RB_US states\n"
     ]
    },
    {
     "data": {
      "text/html": [
       "<div>\n",
       "<style scoped>\n",
       "    .dataframe tbody tr th:only-of-type {\n",
       "        vertical-align: middle;\n",
       "    }\n",
       "\n",
       "    .dataframe tbody tr th {\n",
       "        vertical-align: top;\n",
       "    }\n",
       "\n",
       "    .dataframe thead th {\n",
       "        text-align: right;\n",
       "    }\n",
       "</style>\n",
       "<table border=\"1\" class=\"dataframe\">\n",
       "  <thead>\n",
       "    <tr style=\"text-align: right;\">\n",
       "      <th></th>\n",
       "      <th>beer_name</th>\n",
       "      <th>beer_id</th>\n",
       "      <th>brewery_name</th>\n",
       "      <th>brewery_id</th>\n",
       "      <th>style</th>\n",
       "      <th>abv</th>\n",
       "      <th>user_id</th>\n",
       "      <th>appearance</th>\n",
       "      <th>aroma</th>\n",
       "      <th>palate</th>\n",
       "      <th>taste</th>\n",
       "      <th>overall</th>\n",
       "      <th>rating</th>\n",
       "      <th>text</th>\n",
       "      <th>user_location</th>\n",
       "      <th>avg</th>\n",
       "      <th>beer_location</th>\n",
       "    </tr>\n",
       "  </thead>\n",
       "  <tbody>\n",
       "    <tr>\n",
       "      <th>5595392</th>\n",
       "      <td>Tracks Light Rail Lager</td>\n",
       "      <td>34920.0</td>\n",
       "      <td>Tracks Brewing Company &amp;#40;USA&amp;#41;</td>\n",
       "      <td>4800.0</td>\n",
       "      <td>Pale Lager</td>\n",
       "      <td>NaN</td>\n",
       "      <td>58936.0</td>\n",
       "      <td>3.0</td>\n",
       "      <td>5.0</td>\n",
       "      <td>3.0</td>\n",
       "      <td>6.0</td>\n",
       "      <td>13.0</td>\n",
       "      <td>3.0</td>\n",
       "      <td>On tap at the brewpub in Tooele. Pours a clear...</td>\n",
       "      <td>United States, Oregon</td>\n",
       "      <td>2.84</td>\n",
       "      <td>United States, Utah</td>\n",
       "    </tr>\n",
       "    <tr>\n",
       "      <th>5595393</th>\n",
       "      <td>Tracks Skull Valley Stout</td>\n",
       "      <td>34921.0</td>\n",
       "      <td>Tracks Brewing Company &amp;#40;USA&amp;#41;</td>\n",
       "      <td>4800.0</td>\n",
       "      <td>Stout</td>\n",
       "      <td>NaN</td>\n",
       "      <td>58936.0</td>\n",
       "      <td>4.0</td>\n",
       "      <td>6.0</td>\n",
       "      <td>4.0</td>\n",
       "      <td>6.0</td>\n",
       "      <td>13.0</td>\n",
       "      <td>3.3</td>\n",
       "      <td>The first rating of a Tracks beer ever on Rate...</td>\n",
       "      <td>United States, Oregon</td>\n",
       "      <td>2.96</td>\n",
       "      <td>United States, Utah</td>\n",
       "    </tr>\n",
       "  </tbody>\n",
       "</table>\n",
       "</div>"
      ],
      "text/plain": [
       "                         beer_name  beer_id  \\\n",
       "5595392    Tracks Light Rail Lager  34920.0   \n",
       "5595393  Tracks Skull Valley Stout  34921.0   \n",
       "\n",
       "                                 brewery_name  brewery_id       style  abv  \\\n",
       "5595392  Tracks Brewing Company &#40;USA&#41;      4800.0  Pale Lager  NaN   \n",
       "5595393  Tracks Brewing Company &#40;USA&#41;      4800.0       Stout  NaN   \n",
       "\n",
       "         user_id  appearance  aroma  palate  taste  overall  rating  \\\n",
       "5595392  58936.0         3.0    5.0     3.0    6.0     13.0     3.0   \n",
       "5595393  58936.0         4.0    6.0     4.0    6.0     13.0     3.3   \n",
       "\n",
       "                                                      text  \\\n",
       "5595392  On tap at the brewpub in Tooele. Pours a clear...   \n",
       "5595393  The first rating of a Tracks beer ever on Rate...   \n",
       "\n",
       "                 user_location   avg        beer_location  \n",
       "5595392  United States, Oregon  2.84  United States, Utah  \n",
       "5595393  United States, Oregon  2.96  United States, Utah  "
      ]
     },
     "execution_count": 5,
     "metadata": {},
     "output_type": "execute_result"
    }
   ],
   "source": [
    "#we are only interested in focusing on the ratings that originate from RB_US users AND are for RB_US beers\n",
    "RB_US_ratings = RB_merged_clean[RB_merged_clean['user_location'].str.startswith('United States,')]\n",
    "RB_US_ratings = RB_US_ratings[RB_US_ratings['beer_location'].str.startswith('United States,')]\n",
    "print(\"We dropped \" + str(RB_merged_clean.shape[0] - RB_US_ratings.shape[0]) + \" rows selecting only RB_US states\")\n",
    "RB_US_ratings.tail(2)"
   ]
  },
  {
   "cell_type": "code",
   "execution_count": 6,
   "id": "f6d3bffb",
   "metadata": {
    "execution": {
     "iopub.execute_input": "2024-11-29T23:51:37.530863Z",
     "iopub.status.busy": "2024-11-29T23:51:37.529874Z",
     "iopub.status.idle": "2024-11-29T23:51:41.683832Z",
     "shell.execute_reply": "2024-11-29T23:51:41.683832Z"
    },
    "jupyter": {
     "source_hidden": true
    },
    "papermill": {
     "duration": 4.172285,
     "end_time": "2024-11-29T23:51:41.683832",
     "exception": false,
     "start_time": "2024-11-29T23:51:37.511547",
     "status": "completed"
    },
    "tags": []
   },
   "outputs": [
    {
     "name": "stdout",
     "output_type": "stream",
     "text": [
      "We dropped 0 rows due to location only being 'United States'\n"
     ]
    }
   ],
   "source": [
    "#removing the United States part from the location for both beer and user for clarity\n",
    "RB_US_ratings['user_state'] = RB_US_ratings['user_location'].apply(lambda x: x.split(',')[1].strip())\n",
    "RB_US_ratings['beer_state'] = RB_US_ratings['beer_location'].apply(lambda x: x.split(',')[1].strip())\n",
    "RB_US_ratings = RB_US_ratings.drop(['user_location','beer_location'], axis=1)\n",
    "\n",
    "RB_US_state_ratings = RB_US_ratings[(RB_US_ratings['user_state'] != 'United States') & (RB_US_ratings['beer_state'] != 'United States')]\n",
    "\n",
    "print(\"We dropped \" + str(RB_US_ratings.shape[0] - RB_US_state_ratings.shape[0]) + \" rows due to location only being 'United States'\")"
   ]
  },
  {
   "cell_type": "code",
   "execution_count": 7,
   "id": "9e386958",
   "metadata": {
    "execution": {
     "iopub.execute_input": "2024-11-29T23:51:41.761043Z",
     "iopub.status.busy": "2024-11-29T23:51:41.761043Z",
     "iopub.status.idle": "2024-11-29T23:52:28.172121Z",
     "shell.execute_reply": "2024-11-29T23:52:28.172121Z"
    },
    "jupyter": {
     "source_hidden": true
    },
    "papermill": {
     "duration": 46.465629,
     "end_time": "2024-11-29T23:52:28.194314",
     "exception": false,
     "start_time": "2024-11-29T23:51:41.728685",
     "status": "completed"
    },
    "tags": []
   },
   "outputs": [
    {
     "name": "stdout",
     "output_type": "stream",
     "text": [
      "We dropped 4727360 rows all in all, going from 7123806 rows to 2396446 rows\n"
     ]
    },
    {
     "name": "stdout",
     "output_type": "stream",
     "text": [
      "Saved 'knnData/RB_US_knn_text.csv'\n"
     ]
    }
   ],
   "source": [
    "print(\"We dropped \" + str(RB_merged.shape[0] - RB_US_state_ratings.shape[0]) + \" rows all in all\"\n",
    "      + \", going from \" + str(RB_merged.shape[0]) + \" rows to \" + str(RB_US_state_ratings.shape[0]) + \" rows\")\n",
    "RB_US_state_ratings = RB_US_state_ratings.reset_index(drop=True)\n",
    "RB_US_state_ratings.to_csv('knnData/RB_US_knn_text.csv', index=False)\n",
    "print(\"Saved 'knnData/RB_US_knn_text.csv'\")"
   ]
  },
  {
   "cell_type": "code",
   "execution_count": 8,
   "id": "25f8e13e",
   "metadata": {
    "execution": {
     "iopub.execute_input": "2024-11-29T23:52:28.212755Z",
     "iopub.status.busy": "2024-11-29T23:52:28.212755Z",
     "iopub.status.idle": "2024-11-29T23:52:28.229508Z",
     "shell.execute_reply": "2024-11-29T23:52:28.228499Z"
    },
    "jupyter": {
     "source_hidden": true
    },
    "papermill": {
     "duration": 0.037021,
     "end_time": "2024-11-29T23:52:28.233417",
     "exception": false,
     "start_time": "2024-11-29T23:52:28.196396",
     "status": "completed"
    },
    "tags": []
   },
   "outputs": [
    {
     "data": {
      "text/plain": [
       "\"\\ndf=pd.read_csv('USData/RB_US_states_all.csv')\\ndf.head()\\n\""
      ]
     },
     "execution_count": 8,
     "metadata": {},
     "output_type": "execute_result"
    }
   ],
   "source": [
    "'''\n",
    "df=pd.read_csv('USData/RB_US_states_all.csv')\n",
    "df.head()\n",
    "'''"
   ]
  }
 ],
 "metadata": {
  "kernelspec": {
   "display_name": "ada",
   "language": "python",
   "name": "python3"
  },
  "language_info": {
   "codemirror_mode": {
    "name": "ipython",
    "version": 3
   },
   "file_extension": ".py",
   "mimetype": "text/x-python",
   "name": "python",
   "nbconvert_exporter": "python",
   "pygments_lexer": "ipython3",
   "version": "3.11.9"
  },
  "papermill": {
   "default_parameters": {},
   "duration": 163.501797,
   "end_time": "2024-11-29T23:52:31.531040",
   "environment_variables": {},
   "exception": null,
   "input_path": "src/streamliningData/RB_US_knn_text.ipynb",
   "output_path": "src/streamliningData/RB_US_knn_text.ipynb",
   "parameters": {},
   "start_time": "2024-11-29T23:49:48.029243",
   "version": "2.6.0"
  }
 },
 "nbformat": 4,
 "nbformat_minor": 5
}