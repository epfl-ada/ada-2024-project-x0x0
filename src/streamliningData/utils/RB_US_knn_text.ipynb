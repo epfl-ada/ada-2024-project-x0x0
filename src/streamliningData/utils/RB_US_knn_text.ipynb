{
 "cells": [
  {
   "cell_type": "code",
   "execution_count": 1,
   "id": "4a339014",
   "metadata": {
    "execution": {
     "iopub.execute_input": "2024-12-02T17:01:16.612857Z",
     "iopub.status.busy": "2024-12-02T17:01:16.612857Z",
     "iopub.status.idle": "2024-12-02T17:01:18.016422Z",
     "shell.execute_reply": "2024-12-02T17:01:18.016422Z"
    },
    "jupyter": {
     "source_hidden": true
    },
    "papermill": {
     "duration": 1.406897,
     "end_time": "2024-12-02T17:01:18.019754",
     "exception": false,
     "start_time": "2024-12-02T17:01:16.612857",
     "status": "completed"
    },
    "tags": []
   },
   "outputs": [],
   "source": [
    "import pandas as pd\n",
    "import gc"
   ]
  },
  {
   "cell_type": "code",
   "execution_count": 2,
   "id": "697f7d40",
   "metadata": {
    "execution": {
     "iopub.execute_input": "2024-12-02T17:01:18.029520Z",
     "iopub.status.busy": "2024-12-02T17:01:18.029520Z",
     "iopub.status.idle": "2024-12-02T17:01:18.083076Z",
     "shell.execute_reply": "2024-12-02T17:01:18.083076Z"
    },
    "jupyter": {
     "source_hidden": true
    },
    "papermill": {
     "duration": 0.05527,
     "end_time": "2024-12-02T17:01:18.083076",
     "exception": false,
     "start_time": "2024-12-02T17:01:18.027806",
     "status": "completed"
    },
    "tags": []
   },
   "outputs": [
    {
     "name": "stdout",
     "output_type": "stream",
     "text": [
      "RB_US_data.ipynb takes around a minute to run\n"
     ]
    }
   ],
   "source": [
    "gc.collect() #memory\n",
    "print(\"RB_US_data.ipynb takes around a minute to run\")"
   ]
  },
  {
   "cell_type": "code",
   "execution_count": null,
   "id": "f826b64f",
   "metadata": {
    "execution": {
     "iopub.execute_input": "2024-12-02T17:01:18.098738Z",
     "iopub.status.busy": "2024-12-02T17:01:18.083076Z",
     "iopub.status.idle": "2024-12-02T17:02:32.595463Z",
     "shell.execute_reply": "2024-12-02T17:02:32.595463Z"
    },
    "jupyter": {
     "source_hidden": true
    },
    "papermill": {
     "duration": 74.518494,
     "end_time": "2024-12-02T17:02:32.601570",
     "exception": false,
     "start_time": "2024-12-02T17:01:18.083076",
     "status": "completed"
    },
    "tags": []
   },
   "outputs": [],
   "source": [
    "#rankings data with beer_location and user_location added as extra columns\n",
    "RB_merged = pd.read_csv('data/knnData/RB_knn_plus.csv')"
   ]
  },
  {
   "cell_type": "code",
   "execution_count": 4,
   "id": "c1ff8b6a",
   "metadata": {
    "execution": {
     "iopub.execute_input": "2024-12-02T17:02:32.609705Z",
     "iopub.status.busy": "2024-12-02T17:02:32.609705Z",
     "iopub.status.idle": "2024-12-02T17:02:35.556432Z",
     "shell.execute_reply": "2024-12-02T17:02:35.553963Z"
    },
    "jupyter": {
     "source_hidden": true
    },
    "papermill": {
     "duration": 2.955948,
     "end_time": "2024-12-02T17:02:35.561544",
     "exception": false,
     "start_time": "2024-12-02T17:02:32.605596",
     "status": "completed"
    },
    "tags": []
   },
   "outputs": [
    {
     "name": "stdout",
     "output_type": "stream",
     "text": [
      "We dropped 203719 rows due to NaNs in 'beer_location','user_location','rating'\n"
     ]
    }
   ],
   "source": [
    "RB_merged_clean = RB_merged.dropna(subset=['beer_location','user_location','rating'])\n",
    "print(\"We dropped \" + str(RB_merged.shape[0] - RB_merged_clean.shape[0]) + \" rows due to NaNs in 'beer_location','user_location','rating'\")"
   ]
  },
  {
   "cell_type": "code",
   "execution_count": 5,
   "id": "52f2d381",
   "metadata": {
    "execution": {
     "iopub.execute_input": "2024-12-02T17:02:35.572996Z",
     "iopub.status.busy": "2024-12-02T17:02:35.572996Z",
     "iopub.status.idle": "2024-12-02T17:02:42.806595Z",
     "shell.execute_reply": "2024-12-02T17:02:42.804241Z"
    },
    "jupyter": {
     "source_hidden": true
    },
    "papermill": {
     "duration": 7.252571,
     "end_time": "2024-12-02T17:02:42.814115",
     "exception": false,
     "start_time": "2024-12-02T17:02:35.561544",
     "status": "completed"
    },
    "tags": []
   },
   "outputs": [
    {
     "name": "stdout",
     "output_type": "stream",
     "text": [
      "We dropped 4523641 rows selecting only RB_US states\n"
     ]
    },
    {
     "data": {
      "text/html": [
       "<div>\n",
       "<style scoped>\n",
       "    .dataframe tbody tr th:only-of-type {\n",
       "        vertical-align: middle;\n",
       "    }\n",
       "\n",
       "    .dataframe tbody tr th {\n",
       "        vertical-align: top;\n",
       "    }\n",
       "\n",
       "    .dataframe thead th {\n",
       "        text-align: right;\n",
       "    }\n",
       "</style>\n",
       "<table border=\"1\" class=\"dataframe\">\n",
       "  <thead>\n",
       "    <tr style=\"text-align: right;\">\n",
       "      <th></th>\n",
       "      <th>beer_name</th>\n",
       "      <th>beer_id</th>\n",
       "      <th>brewery_name</th>\n",
       "      <th>brewery_id</th>\n",
       "      <th>style</th>\n",
       "      <th>abv</th>\n",
       "      <th>user_id</th>\n",
       "      <th>appearance</th>\n",
       "      <th>aroma</th>\n",
       "      <th>palate</th>\n",
       "      <th>taste</th>\n",
       "      <th>overall</th>\n",
       "      <th>rating</th>\n",
       "      <th>text</th>\n",
       "      <th>user_location</th>\n",
       "      <th>avg</th>\n",
       "      <th>beer_location</th>\n",
       "    </tr>\n",
       "  </thead>\n",
       "  <tbody>\n",
       "    <tr>\n",
       "      <th>5595392</th>\n",
       "      <td>Tracks Light Rail Lager</td>\n",
       "      <td>34920.0</td>\n",
       "      <td>Tracks Brewing Company &amp;#40;USA&amp;#41;</td>\n",
       "      <td>4800.0</td>\n",
       "      <td>Pale Lager</td>\n",
       "      <td>NaN</td>\n",
       "      <td>58936.0</td>\n",
       "      <td>3.0</td>\n",
       "      <td>5.0</td>\n",
       "      <td>3.0</td>\n",
       "      <td>6.0</td>\n",
       "      <td>13.0</td>\n",
       "      <td>3.0</td>\n",
       "      <td>On tap at the brewpub in Tooele. Pours a clear...</td>\n",
       "      <td>United States, Oregon</td>\n",
       "      <td>2.84</td>\n",
       "      <td>United States, Utah</td>\n",
       "    </tr>\n",
       "    <tr>\n",
       "      <th>5595393</th>\n",
       "      <td>Tracks Skull Valley Stout</td>\n",
       "      <td>34921.0</td>\n",
       "      <td>Tracks Brewing Company &amp;#40;USA&amp;#41;</td>\n",
       "      <td>4800.0</td>\n",
       "      <td>Stout</td>\n",
       "      <td>NaN</td>\n",
       "      <td>58936.0</td>\n",
       "      <td>4.0</td>\n",
       "      <td>6.0</td>\n",
       "      <td>4.0</td>\n",
       "      <td>6.0</td>\n",
       "      <td>13.0</td>\n",
       "      <td>3.3</td>\n",
       "      <td>The first rating of a Tracks beer ever on Rate...</td>\n",
       "      <td>United States, Oregon</td>\n",
       "      <td>2.96</td>\n",
       "      <td>United States, Utah</td>\n",
       "    </tr>\n",
       "  </tbody>\n",
       "</table>\n",
       "</div>"
      ],
      "text/plain": [
       "                         beer_name  beer_id  \\\n",
       "5595392    Tracks Light Rail Lager  34920.0   \n",
       "5595393  Tracks Skull Valley Stout  34921.0   \n",
       "\n",
       "                                 brewery_name  brewery_id       style  abv  \\\n",
       "5595392  Tracks Brewing Company &#40;USA&#41;      4800.0  Pale Lager  NaN   \n",
       "5595393  Tracks Brewing Company &#40;USA&#41;      4800.0       Stout  NaN   \n",
       "\n",
       "         user_id  appearance  aroma  palate  taste  overall  rating  \\\n",
       "5595392  58936.0         3.0    5.0     3.0    6.0     13.0     3.0   \n",
       "5595393  58936.0         4.0    6.0     4.0    6.0     13.0     3.3   \n",
       "\n",
       "                                                      text  \\\n",
       "5595392  On tap at the brewpub in Tooele. Pours a clear...   \n",
       "5595393  The first rating of a Tracks beer ever on Rate...   \n",
       "\n",
       "                 user_location   avg        beer_location  \n",
       "5595392  United States, Oregon  2.84  United States, Utah  \n",
       "5595393  United States, Oregon  2.96  United States, Utah  "
      ]
     },
     "execution_count": 5,
     "metadata": {},
     "output_type": "execute_result"
    }
   ],
   "source": [
    "#we are only interested in focusing on the ratings that originate from RB_US users AND are for RB_US beers\n",
    "RB_US_ratings = RB_merged_clean[RB_merged_clean['user_location'].str.startswith('United States,')]\n",
    "RB_US_ratings = RB_US_ratings[RB_US_ratings['beer_location'].str.startswith('United States,')]\n",
    "print(\"We dropped \" + str(RB_merged_clean.shape[0] - RB_US_ratings.shape[0]) + \" rows selecting only RB_US states\")\n",
    "RB_US_ratings.tail(2)"
   ]
  },
  {
   "cell_type": "code",
   "execution_count": 6,
   "id": "f6d3bffb",
   "metadata": {
    "execution": {
     "iopub.execute_input": "2024-12-02T17:02:42.830322Z",
     "iopub.status.busy": "2024-12-02T17:02:42.830322Z",
     "iopub.status.idle": "2024-12-02T17:02:49.267285Z",
     "shell.execute_reply": "2024-12-02T17:02:49.267285Z"
    },
    "jupyter": {
     "source_hidden": true
    },
    "papermill": {
     "duration": 6.451575,
     "end_time": "2024-12-02T17:02:49.273768",
     "exception": false,
     "start_time": "2024-12-02T17:02:42.822193",
     "status": "completed"
    },
    "tags": []
   },
   "outputs": [
    {
     "name": "stdout",
     "output_type": "stream",
     "text": [
      "We dropped 0 rows due to location only being 'United States'\n"
     ]
    }
   ],
   "source": [
    "#removing the United States part from the location for both beer and user for clarity\n",
    "RB_US_ratings['user_state'] = RB_US_ratings['user_location'].apply(lambda x: x.split(',')[1].strip())\n",
    "RB_US_ratings['beer_state'] = RB_US_ratings['beer_location'].apply(lambda x: x.split(',')[1].strip())\n",
    "RB_US_ratings = RB_US_ratings.drop(['user_location','beer_location'], axis=1)\n",
    "\n",
    "RB_US_state_ratings = RB_US_ratings[(RB_US_ratings['user_state'] != 'United States') & (RB_US_ratings['beer_state'] != 'United States')]\n",
    "\n",
    "print(\"We dropped \" + str(RB_US_ratings.shape[0] - RB_US_state_ratings.shape[0]) + \" rows due to location only being 'United States'\")"
   ]
  },
  {
   "cell_type": "code",
   "execution_count": null,
   "id": "9e386958",
   "metadata": {
    "execution": {
     "iopub.execute_input": "2024-12-02T17:02:49.290003Z",
     "iopub.status.busy": "2024-12-02T17:02:49.290003Z",
     "iopub.status.idle": "2024-12-02T17:04:01.310078Z",
     "shell.execute_reply": "2024-12-02T17:04:01.310078Z"
    },
    "jupyter": {
     "source_hidden": true
    },
    "papermill": {
     "duration": 72.037405,
     "end_time": "2024-12-02T17:04:01.318188",
     "exception": false,
     "start_time": "2024-12-02T17:02:49.280783",
     "status": "completed"
    },
    "tags": []
   },
   "outputs": [
    {
     "name": "stdout",
     "output_type": "stream",
     "text": [
      "We dropped 4727360 rows all in all, going from 7123806 rows to 2396446 rows\n"
     ]
    },
    {
     "name": "stdout",
     "output_type": "stream",
     "text": [
      "Saved 'knnData/RB_US_knn_text.csv'\n"
     ]
    }
   ],
   "source": [
    "print(\"We dropped \" + str(RB_merged.shape[0] - RB_US_state_ratings.shape[0]) + \" rows all in all\"\n",
    "      + \", going from \" + str(RB_merged.shape[0]) + \" rows to \" + str(RB_US_state_ratings.shape[0]) + \" rows\")\n",
    "RB_US_state_ratings = RB_US_state_ratings.reset_index(drop=True)\n",
    "RB_US_state_ratings.to_csv('data/knnData/RB_US_knn_text.csv', index=False)\n",
    "print(\"Saved 'data/knnData/RB_US_knn_text.csv'\")"
   ]
  },
  {
   "cell_type": "code",
   "execution_count": null,
   "id": "25f8e13e",
   "metadata": {
    "execution": {
     "iopub.execute_input": "2024-12-02T17:04:01.337416Z",
     "iopub.status.busy": "2024-12-02T17:04:01.334443Z",
     "iopub.status.idle": "2024-12-02T17:04:01.345690Z",
     "shell.execute_reply": "2024-12-02T17:04:01.345690Z"
    },
    "jupyter": {
     "source_hidden": true
    },
    "papermill": {
     "duration": 0.024917,
     "end_time": "2024-12-02T17:04:01.351293",
     "exception": false,
     "start_time": "2024-12-02T17:04:01.326376",
     "status": "completed"
    },
    "tags": []
   },
   "outputs": [
    {
     "data": {
      "text/plain": [
       "\"\\ndf=pd.read_csv('USData/RB_US_states_all.csv')\\ndf.head()\\n\""
      ]
     },
     "execution_count": 8,
     "metadata": {},
     "output_type": "execute_result"
    }
   ],
   "source": [
    "'''\n",
    "df=pd.read_csv('data/USData/RB_US_states_all.csv')\n",
    "df.head()\n",
    "'''"
   ]
  }
 ],
 "metadata": {
  "kernelspec": {
   "display_name": "ada",
   "language": "python",
   "name": "python3"
  },
  "language_info": {
   "codemirror_mode": {
    "name": "ipython",
    "version": 3
   },
   "file_extension": ".py",
   "mimetype": "text/x-python",
   "name": "python",
   "nbconvert_exporter": "python",
   "pygments_lexer": "ipython3",
   "version": "3.12.4"
  },
  "papermill": {
   "default_parameters": {},
   "duration": 172.093699,
   "end_time": "2024-12-02T17:04:04.940259",
   "environment_variables": {},
   "exception": null,
   "input_path": "src/streamliningData/RB_US_knn_text.ipynb",
   "output_path": "src/streamliningData/RB_US_knn_text.ipynb",
   "parameters": {},
   "start_time": "2024-12-02T17:01:12.846560",
   "version": "2.6.0"
  }
 },
 "nbformat": 4,
 "nbformat_minor": 5
}
