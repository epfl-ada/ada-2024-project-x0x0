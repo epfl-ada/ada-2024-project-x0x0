{
 "cells": [
  {
   "cell_type": "code",
   "execution_count": 1,
   "id": "b6f3729e",
   "metadata": {
    "execution": {
     "iopub.execute_input": "2024-11-29T23:39:12.861214Z",
     "iopub.status.busy": "2024-11-29T23:39:12.858911Z",
     "iopub.status.idle": "2024-11-29T23:39:13.702135Z",
     "shell.execute_reply": "2024-11-29T23:39:13.702135Z"
    },
    "jupyter": {
     "source_hidden": true
    },
    "papermill": {
     "duration": 0.885729,
     "end_time": "2024-11-29T23:39:13.702135",
     "exception": false,
     "start_time": "2024-11-29T23:39:12.816406",
     "status": "completed"
    },
    "tags": []
   },
   "outputs": [],
   "source": [
    "import pandas as pd\n",
    "import gc"
   ]
  },
  {
   "cell_type": "code",
   "execution_count": 2,
   "id": "46646844",
   "metadata": {
    "execution": {
     "iopub.execute_input": "2024-11-29T23:39:13.712151Z",
     "iopub.status.busy": "2024-11-29T23:39:13.712151Z",
     "iopub.status.idle": "2024-11-29T23:39:13.751822Z",
     "shell.execute_reply": "2024-11-29T23:39:13.751822Z"
    },
    "jupyter": {
     "source_hidden": true
    },
    "papermill": {
     "duration": 0.049687,
     "end_time": "2024-11-29T23:39:13.751822",
     "exception": false,
     "start_time": "2024-11-29T23:39:13.702135",
     "status": "completed"
    },
    "tags": []
   },
   "outputs": [
    {
     "name": "stdout",
     "output_type": "stream",
     "text": [
      "RB_knn_extra_cols.ipynb takes around 5 minutes to run\n"
     ]
    }
   ],
   "source": [
    "gc.collect() #memory\n",
    "print(\"RB_knn_extra_cols.ipynb takes around 5 minutes to run\")"
   ]
  },
  {
   "cell_type": "code",
   "execution_count": 3,
   "id": "15b47f8d",
   "metadata": {
    "execution": {
     "iopub.execute_input": "2024-11-29T23:39:13.768116Z",
     "iopub.status.busy": "2024-11-29T23:39:13.768116Z",
     "iopub.status.idle": "2024-11-29T23:40:36.810696Z",
     "shell.execute_reply": "2024-11-29T23:40:36.780687Z"
    },
    "jupyter": {
     "source_hidden": true
    },
    "papermill": {
     "duration": 83.178874,
     "end_time": "2024-11-29T23:40:36.930696",
     "exception": false,
     "start_time": "2024-11-29T23:39:13.751822",
     "status": "completed"
    },
    "tags": []
   },
   "outputs": [],
   "source": [
    "#we split the files into RB/RB for memory reasons...\n",
    "RBs_beers = pd.read_csv('minimizedData/RB_beers_small.csv')\n",
    "RBs_breweries = pd.read_csv('minimizedData/RB_breweries_small.csv')\n",
    "RBs_ratings = pd.read_csv('knnData/RB_knn_text.csv')\n",
    "RBs_users = pd.read_csv('minimizedData/RB_users_small.csv')\n",
    "\n",
    "RBs_breweries = RBs_breweries.rename(columns={'id': 'brewery_id'}) #change the name for merging\n"
   ]
  },
  {
   "cell_type": "code",
   "execution_count": 4,
   "id": "1c4a2fdc",
   "metadata": {
    "execution": {
     "iopub.execute_input": "2024-11-29T23:40:37.105843Z",
     "iopub.status.busy": "2024-11-29T23:40:37.105843Z",
     "iopub.status.idle": "2024-11-29T23:40:50.685889Z",
     "shell.execute_reply": "2024-11-29T23:40:50.657423Z"
    },
    "jupyter": {
     "source_hidden": true
    },
    "papermill": {
     "duration": 13.655619,
     "end_time": "2024-11-29T23:40:50.686915",
     "exception": false,
     "start_time": "2024-11-29T23:40:37.031296",
     "status": "completed"
    },
    "tags": []
   },
   "outputs": [],
   "source": [
    "#extra location column\n",
    "RBs_beers_loc = RBs_beers.merge(RBs_breweries[['brewery_id', 'location']], on='brewery_id', how='left')\n",
    "RBs_ratings_loc = RBs_ratings.merge(RBs_users[['user_id', 'location']], on='user_id', how='left')"
   ]
  },
  {
   "cell_type": "code",
   "execution_count": 5,
   "id": "8a4c0e62",
   "metadata": {
    "execution": {
     "iopub.execute_input": "2024-11-29T23:40:50.776915Z",
     "iopub.status.busy": "2024-11-29T23:40:50.766918Z",
     "iopub.status.idle": "2024-11-29T23:41:01.055893Z",
     "shell.execute_reply": "2024-11-29T23:41:01.035883Z"
    },
    "jupyter": {
     "source_hidden": true
    },
    "papermill": {
     "duration": 10.348977,
     "end_time": "2024-11-29T23:41:01.065892",
     "exception": false,
     "start_time": "2024-11-29T23:40:50.716915",
     "status": "completed"
    },
    "tags": []
   },
   "outputs": [],
   "source": [
    "#modify the the location names to avoid confusion between beer_location and rating_location\n",
    "RBs_beers_loc = RBs_beers_loc.rename(columns={'location': 'beer_location'})\n",
    "RBs_ratings_loc = RBs_ratings_loc.rename(columns={'location': 'user_location'})\n",
    "\n",
    "#merge for even more cols\n",
    "RBs_ratbeer = RBs_ratings_loc.merge(RBs_beers_loc[['beer_id', 'avg', 'beer_location']], on='beer_id', how='left')\n",
    "    "
   ]
  },
  {
   "cell_type": "code",
   "execution_count": 6,
   "id": "241c7575",
   "metadata": {
    "execution": {
     "iopub.execute_input": "2024-11-29T23:41:01.115893Z",
     "iopub.status.busy": "2024-11-29T23:41:01.115893Z",
     "iopub.status.idle": "2024-11-29T23:43:17.883439Z",
     "shell.execute_reply": "2024-11-29T23:43:17.863641Z"
    },
    "jupyter": {
     "source_hidden": true
    },
    "papermill": {
     "duration": 136.897539,
     "end_time": "2024-11-29T23:43:17.983431",
     "exception": false,
     "start_time": "2024-11-29T23:41:01.085892",
     "status": "completed"
    },
    "tags": []
   },
   "outputs": [
    {
     "name": "stdout",
     "output_type": "stream",
     "text": [
      "Saved 'knnData/RB_knn_plus.csv'\n"
     ]
    }
   ],
   "source": [
    "#RBs_beers_loc.to_csv('minimizedData/RB_beers_small_plus.csv', index=False)\n",
    "#print(\"Saved 'minimizedData/RB_beers_small_plus.csv'\")\n",
    "RBs_ratbeer.to_csv('knnData/RB_knn_plus.csv', index=False)\n",
    "print(\"Saved 'knnData/RB_knn_plus.csv'\")"
   ]
  }
 ],
 "metadata": {
  "kernelspec": {
   "display_name": "ada",
   "language": "python",
   "name": "python3"
  },
  "language_info": {
   "codemirror_mode": {
    "name": "ipython",
    "version": 3
   },
   "file_extension": ".py",
   "mimetype": "text/x-python",
   "name": "python",
   "nbconvert_exporter": "python",
   "pygments_lexer": "ipython3",
   "version": "3.11.9"
  },
  "papermill": {
   "default_parameters": {},
   "duration": 251.848521,
   "end_time": "2024-11-29T23:43:21.197072",
   "environment_variables": {},
   "exception": null,
   "input_path": "src/streamliningData/RB_knn_extra_cols.ipynb",
   "output_path": "src/streamliningData/RB_knn_extra_cols.ipynb",
   "parameters": {},
   "start_time": "2024-11-29T23:39:09.348551",
   "version": "2.6.0"
  }
 },
 "nbformat": 4,
 "nbformat_minor": 5
}