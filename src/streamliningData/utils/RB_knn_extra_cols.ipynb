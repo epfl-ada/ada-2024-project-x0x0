{
 "cells": [
  {
   "cell_type": "code",
   "execution_count": 1,
   "id": "b6f3729e",
   "metadata": {
    "execution": {
     "iopub.execute_input": "2024-12-02T16:56:01.403458Z",
     "iopub.status.busy": "2024-12-02T16:56:01.403458Z",
     "iopub.status.idle": "2024-12-02T16:56:03.005153Z",
     "shell.execute_reply": "2024-12-02T16:56:03.005153Z"
    },
    "jupyter": {
     "source_hidden": true
    },
    "papermill": {
     "duration": 1.608797,
     "end_time": "2024-12-02T16:56:03.005153",
     "exception": false,
     "start_time": "2024-12-02T16:56:01.396356",
     "status": "completed"
    },
    "tags": []
   },
   "outputs": [],
   "source": [
    "import pandas as pd\n",
    "import gc"
   ]
  },
  {
   "cell_type": "code",
   "execution_count": 2,
   "id": "46646844",
   "metadata": {
    "execution": {
     "iopub.execute_input": "2024-12-02T16:56:03.016179Z",
     "iopub.status.busy": "2024-12-02T16:56:03.016179Z",
     "iopub.status.idle": "2024-12-02T16:56:03.064415Z",
     "shell.execute_reply": "2024-12-02T16:56:03.064415Z"
    },
    "jupyter": {
     "source_hidden": true
    },
    "papermill": {
     "duration": 0.059262,
     "end_time": "2024-12-02T16:56:03.064415",
     "exception": false,
     "start_time": "2024-12-02T16:56:03.005153",
     "status": "completed"
    },
    "tags": []
   },
   "outputs": [
    {
     "name": "stdout",
     "output_type": "stream",
     "text": [
      "RB_knn_extra_cols.ipynb takes around 5 minutes to run\n"
     ]
    }
   ],
   "source": [
    "gc.collect() #memory\n",
    "print(\"RB_knn_extra_cols.ipynb takes around 5 minutes to run\")"
   ]
  },
  {
   "cell_type": "code",
   "execution_count": 3,
   "id": "15b47f8d",
   "metadata": {
    "execution": {
     "iopub.execute_input": "2024-12-02T16:56:03.080922Z",
     "iopub.status.busy": "2024-12-02T16:56:03.078923Z",
     "iopub.status.idle": "2024-12-02T16:57:41.374643Z",
     "shell.execute_reply": "2024-12-02T16:57:41.372116Z"
    },
    "jupyter": {
     "source_hidden": true
    },
    "papermill": {
     "duration": 98.310228,
     "end_time": "2024-12-02T16:57:41.374643",
     "exception": false,
     "start_time": "2024-12-02T16:56:03.064415",
     "status": "completed"
    },
    "tags": []
   },
   "outputs": [],
   "source": [
    "#we split the files into RB/RB for memory reasons...\n",
    "RBs_beers = pd.read_csv('minimizedData/RB_beers_small.csv')\n",
    "RBs_breweries = pd.read_csv('minimizedData/RB_breweries_small.csv')\n",
    "RBs_ratings = pd.read_csv('knnData/RB_knn_text.csv')\n",
    "RBs_users = pd.read_csv('minimizedData/RB_users_small.csv')\n",
    "\n",
    "RBs_breweries = RBs_breweries.rename(columns={'id': 'brewery_id'}) #change the name for merging\n"
   ]
  },
  {
   "cell_type": "code",
   "execution_count": 4,
   "id": "1c4a2fdc",
   "metadata": {
    "execution": {
     "iopub.execute_input": "2024-12-02T16:57:41.390380Z",
     "iopub.status.busy": "2024-12-02T16:57:41.390380Z",
     "iopub.status.idle": "2024-12-02T16:57:45.368628Z",
     "shell.execute_reply": "2024-12-02T16:57:45.368628Z"
    },
    "jupyter": {
     "source_hidden": true
    },
    "papermill": {
     "duration": 3.993985,
     "end_time": "2024-12-02T16:57:45.368628",
     "exception": false,
     "start_time": "2024-12-02T16:57:41.374643",
     "status": "completed"
    },
    "tags": []
   },
   "outputs": [],
   "source": [
    "#extra location column\n",
    "RBs_beers_loc = RBs_beers.merge(RBs_breweries[['brewery_id', 'location']], on='brewery_id', how='left')\n",
    "RBs_ratings_loc = RBs_ratings.merge(RBs_users[['user_id', 'location']], on='user_id', how='left')"
   ]
  },
  {
   "cell_type": "code",
   "execution_count": 5,
   "id": "8a4c0e62",
   "metadata": {
    "execution": {
     "iopub.execute_input": "2024-12-02T16:57:45.384161Z",
     "iopub.status.busy": "2024-12-02T16:57:45.384161Z",
     "iopub.status.idle": "2024-12-02T16:57:50.077031Z",
     "shell.execute_reply": "2024-12-02T16:57:50.076331Z"
    },
    "jupyter": {
     "source_hidden": true
    },
    "papermill": {
     "duration": 4.708403,
     "end_time": "2024-12-02T16:57:50.077031",
     "exception": false,
     "start_time": "2024-12-02T16:57:45.368628",
     "status": "completed"
    },
    "tags": []
   },
   "outputs": [],
   "source": [
    "#modify the the location names to avoid confusion between beer_location and rating_location\n",
    "RBs_beers_loc = RBs_beers_loc.rename(columns={'location': 'beer_location'})\n",
    "RBs_ratings_loc = RBs_ratings_loc.rename(columns={'location': 'user_location'})\n",
    "\n",
    "#merge for even more cols\n",
    "RBs_ratbeer = RBs_ratings_loc.merge(RBs_beers_loc[['beer_id', 'avg', 'beer_location']], on='beer_id', how='left')\n",
    "    "
   ]
  },
  {
   "cell_type": "code",
   "execution_count": 6,
   "id": "241c7575",
   "metadata": {
    "execution": {
     "iopub.execute_input": "2024-12-02T16:57:50.093514Z",
     "iopub.status.busy": "2024-12-02T16:57:50.093514Z",
     "iopub.status.idle": "2024-12-02T17:01:10.156371Z",
     "shell.execute_reply": "2024-12-02T17:01:10.156371Z"
    },
    "jupyter": {
     "source_hidden": true
    },
    "papermill": {
     "duration": 200.083242,
     "end_time": "2024-12-02T17:01:10.168476",
     "exception": false,
     "start_time": "2024-12-02T16:57:50.085234",
     "status": "completed"
    },
    "tags": []
   },
   "outputs": [
    {
     "name": "stdout",
     "output_type": "stream",
     "text": [
      "Saved 'knnData/RB_knn_plus.csv'\n"
     ]
    }
   ],
   "source": [
    "#RBs_beers_loc.to_csv('minimizedData/RB_beers_small_plus.csv', index=False)\n",
    "#print(\"Saved 'minimizedData/RB_beers_small_plus.csv'\")\n",
    "RBs_ratbeer.to_csv('knnData/RB_knn_plus.csv', index=False)\n",
    "print(\"Saved 'knnData/RB_knn_plus.csv'\")"
   ]
  }
 ],
 "metadata": {
  "kernelspec": {
   "display_name": "ada",
   "language": "python",
   "name": "python3"
  },
  "language_info": {
   "codemirror_mode": {
    "name": "ipython",
    "version": 3
   },
   "file_extension": ".py",
   "mimetype": "text/x-python",
   "name": "python",
   "nbconvert_exporter": "python",
   "pygments_lexer": "ipython3",
   "version": "3.12.4"
  },
  "papermill": {
   "default_parameters": {},
   "duration": 315.027867,
   "end_time": "2024-12-02T17:01:12.824021",
   "environment_variables": {},
   "exception": null,
   "input_path": "src/streamliningData/RB_knn_extra_cols.ipynb",
   "output_path": "src/streamliningData/RB_knn_extra_cols.ipynb",
   "parameters": {},
   "start_time": "2024-12-02T16:55:57.796154",
   "version": "2.6.0"
  }
 },
 "nbformat": 4,
 "nbformat_minor": 5
}