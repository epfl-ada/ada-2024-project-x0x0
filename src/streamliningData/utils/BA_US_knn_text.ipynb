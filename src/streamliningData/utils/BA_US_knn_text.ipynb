{
 "cells": [
  {
   "cell_type": "code",
   "execution_count": 1,
   "id": "57c803c2",
   "metadata": {
    "execution": {
     "iopub.execute_input": "2024-11-29T23:03:11.436104Z",
     "iopub.status.busy": "2024-11-29T23:03:11.436104Z",
     "iopub.status.idle": "2024-11-29T23:03:12.466984Z",
     "shell.execute_reply": "2024-11-29T23:03:12.466984Z"
    },
    "jupyter": {
     "source_hidden": true
    },
    "papermill": {
     "duration": 1.080077,
     "end_time": "2024-11-29T23:03:12.466984",
     "exception": false,
     "start_time": "2024-11-29T23:03:11.386907",
     "status": "completed"
    },
    "tags": []
   },
   "outputs": [],
   "source": [
    "import pandas as pd\n",
    "import gc"
   ]
  },
  {
   "cell_type": "code",
   "execution_count": 2,
   "id": "6263eecc",
   "metadata": {
    "execution": {
     "iopub.execute_input": "2024-11-29T23:03:12.477002Z",
     "iopub.status.busy": "2024-11-29T23:03:12.477002Z",
     "iopub.status.idle": "2024-11-29T23:03:12.529322Z",
     "shell.execute_reply": "2024-11-29T23:03:12.529322Z"
    },
    "jupyter": {
     "source_hidden": true
    },
    "papermill": {
     "duration": 0.056153,
     "end_time": "2024-11-29T23:03:12.533155",
     "exception": false,
     "start_time": "2024-11-29T23:03:12.477002",
     "status": "completed"
    },
    "tags": []
   },
   "outputs": [
    {
     "name": "stdout",
     "output_type": "stream",
     "text": [
      "BA_US_knn_text.ipynb takes around 5 minutes to run\n"
     ]
    }
   ],
   "source": [
    "gc.collect()\n",
    "print(\"BA_US_knn_text.ipynb takes around 5 minutes to run\")"
   ]
  },
  {
   "cell_type": "code",
   "execution_count": 3,
   "id": "984c224f",
   "metadata": {
    "execution": {
     "iopub.execute_input": "2024-11-29T23:03:12.549421Z",
     "iopub.status.busy": "2024-11-29T23:03:12.549421Z",
     "iopub.status.idle": "2024-11-29T23:04:27.240034Z",
     "shell.execute_reply": "2024-11-29T23:04:27.189567Z"
    },
    "jupyter": {
     "source_hidden": true
    },
    "papermill": {
     "duration": 74.795982,
     "end_time": "2024-11-29T23:04:27.330032",
     "exception": false,
     "start_time": "2024-11-29T23:03:12.534050",
     "status": "completed"
    },
    "tags": []
   },
   "outputs": [],
   "source": [
    "#rankings data with beer_location and user_location added as extra columns\n",
    "BA_merged = pd.read_csv('knnData/BA_knn_plus.csv')"
   ]
  },
  {
   "cell_type": "code",
   "execution_count": 4,
   "id": "21d893c8",
   "metadata": {
    "execution": {
     "iopub.execute_input": "2024-11-29T23:04:27.758073Z",
     "iopub.status.busy": "2024-11-29T23:04:27.758073Z",
     "iopub.status.idle": "2024-11-29T23:04:29.719294Z",
     "shell.execute_reply": "2024-11-29T23:04:29.719294Z"
    },
    "jupyter": {
     "source_hidden": true
    },
    "papermill": {
     "duration": 2.011226,
     "end_time": "2024-11-29T23:04:29.729303",
     "exception": false,
     "start_time": "2024-11-29T23:04:27.718077",
     "status": "completed"
    },
    "tags": []
   },
   "outputs": [
    {
     "name": "stdout",
     "output_type": "stream",
     "text": [
      "We dropped 500278 rows due to NaNs in 'beer_location','user_location','rating'\n"
     ]
    }
   ],
   "source": [
    "BA_merged_clean = BA_merged.dropna(subset=['beer_location','user_location','rating'])\n",
    "print(\"We dropped \" + str(BA_merged.shape[0] - BA_merged_clean.shape[0]) + \" rows due to NaNs in 'beer_location','user_location','rating'\")"
   ]
  },
  {
   "cell_type": "code",
   "execution_count": 5,
   "id": "5ddffd20",
   "metadata": {
    "execution": {
     "iopub.execute_input": "2024-11-29T23:04:29.781357Z",
     "iopub.status.busy": "2024-11-29T23:04:29.781357Z",
     "iopub.status.idle": "2024-11-29T23:04:55.351840Z",
     "shell.execute_reply": "2024-11-29T23:04:55.341832Z"
    },
    "jupyter": {
     "source_hidden": true
    },
    "papermill": {
     "duration": 25.593036,
     "end_time": "2024-11-29T23:04:55.359485",
     "exception": false,
     "start_time": "2024-11-29T23:04:29.766449",
     "status": "completed"
    },
    "tags": []
   },
   "outputs": [
    {
     "name": "stdout",
     "output_type": "stream",
     "text": [
      "We dropped 1561085 rows selecting only BA_US states\n"
     ]
    }
   ],
   "source": [
    "#we are only interested in focusing on the ratings that originate from BA_US users AND are for BA_US beers\n",
    "BA_US_ratings = BA_merged_clean[BA_merged_clean['user_location'].str.startswith('United States,')]\n",
    "BA_US_ratings = BA_US_ratings[BA_US_ratings['beer_location'].str.startswith('United States,')]\n",
    "print(\"We dropped \" + str(BA_merged_clean.shape[0] - BA_US_ratings.shape[0]) + \" rows selecting only BA_US states\")\n",
    "#BA_US_ratings.tail(2)"
   ]
  },
  {
   "cell_type": "code",
   "execution_count": 6,
   "id": "fe72f23b",
   "metadata": {
    "execution": {
     "iopub.execute_input": "2024-11-29T23:04:55.416909Z",
     "iopub.status.busy": "2024-11-29T23:04:55.414911Z",
     "iopub.status.idle": "2024-11-29T23:05:04.708584Z",
     "shell.execute_reply": "2024-11-29T23:05:04.708584Z"
    },
    "jupyter": {
     "source_hidden": true
    },
    "papermill": {
     "duration": 9.327743,
     "end_time": "2024-11-29T23:05:04.708584",
     "exception": false,
     "start_time": "2024-11-29T23:04:55.380841",
     "status": "completed"
    },
    "tags": []
   },
   "outputs": [
    {
     "name": "stdout",
     "output_type": "stream",
     "text": [
      "We dropped 31 rows due to location only being 'United States'\n"
     ]
    }
   ],
   "source": [
    "#removing the United States part from the location for both beer and user for clarity\n",
    "BA_US_ratings['user_state'] = BA_US_ratings['user_location'].apply(lambda x: x.split(',')[1].strip())\n",
    "BA_US_ratings['beer_state'] = BA_US_ratings['beer_location'].apply(lambda x: x.split(',')[1].strip())\n",
    "BA_US_ratings = BA_US_ratings.drop(['user_location','beer_location'], axis=1)\n",
    "\n",
    "BA_US_state_ratings = BA_US_ratings[(BA_US_ratings['user_state'] != 'United States') & (BA_US_ratings['beer_state'] != 'United States')]\n",
    "\n",
    "print(\"We dropped \" + str(BA_US_ratings.shape[0] - BA_US_state_ratings.shape[0]) + \" rows due to location only being 'United States'\")"
   ]
  },
  {
   "cell_type": "code",
   "execution_count": 7,
   "id": "5437ef03",
   "metadata": {
    "execution": {
     "iopub.execute_input": "2024-11-29T23:05:04.731408Z",
     "iopub.status.busy": "2024-11-29T23:05:04.731408Z",
     "iopub.status.idle": "2024-11-29T23:06:47.336451Z",
     "shell.execute_reply": "2024-11-29T23:06:47.325478Z"
    },
    "jupyter": {
     "source_hidden": true
    },
    "papermill": {
     "duration": 102.625507,
     "end_time": "2024-11-29T23:06:47.350695",
     "exception": false,
     "start_time": "2024-11-29T23:05:04.725188",
     "status": "completed"
    },
    "tags": []
   },
   "outputs": [
    {
     "name": "stdout",
     "output_type": "stream",
     "text": [
      "We dropped 2061394 rows all in all, going from 8393032 rows to 6331638 rows\n"
     ]
    },
    {
     "name": "stdout",
     "output_type": "stream",
     "text": [
      "Saved 'knnData/BA_US_knn_text.csv'\n"
     ]
    }
   ],
   "source": [
    "print(\"We dropped \" + str(BA_merged.shape[0] - BA_US_state_ratings.shape[0]) + \" rows all in all\"\n",
    "      + \", going from \" + str(BA_merged.shape[0]) + \" rows to \" + str(BA_US_state_ratings.shape[0]) + \" rows\")\n",
    "BA_US_state_ratings = BA_US_state_ratings.reset_index(drop=True)\n",
    "BA_US_state_ratings.to_csv('knnData/BA_US_knn_text.csv', index=False)\n",
    "print(\"Saved 'knnData/BA_US_knn_text.csv'\")"
   ]
  },
  {
   "cell_type": "code",
   "execution_count": 8,
   "id": "abd7545e",
   "metadata": {
    "execution": {
     "iopub.execute_input": "2024-11-29T23:06:47.380268Z",
     "iopub.status.busy": "2024-11-29T23:06:47.380268Z",
     "iopub.status.idle": "2024-11-29T23:06:47.497128Z",
     "shell.execute_reply": "2024-11-29T23:06:47.497128Z"
    },
    "jupyter": {
     "source_hidden": true
    },
    "papermill": {
     "duration": 0.146448,
     "end_time": "2024-11-29T23:06:47.507140",
     "exception": false,
     "start_time": "2024-11-29T23:06:47.360692",
     "status": "completed"
    },
    "tags": []
   },
   "outputs": [
    {
     "data": {
      "text/plain": [
       "\"\\ndf=pd.read_csv('USData/BA_US_states_all.csv')\\ndf.head()\\n\""
      ]
     },
     "execution_count": 8,
     "metadata": {},
     "output_type": "execute_result"
    }
   ],
   "source": [
    "'''\n",
    "df=pd.read_csv('USData/BA_US_states_all.csv')\n",
    "df.head()\n",
    "'''"
   ]
  }
 ],
 "metadata": {
  "kernelspec": {
   "display_name": "ada",
   "language": "python",
   "name": "python3"
  },
  "language_info": {
   "codemirror_mode": {
    "name": "ipython",
    "version": 3
   },
   "file_extension": ".py",
   "mimetype": "text/x-python",
   "name": "python",
   "nbconvert_exporter": "python",
   "pygments_lexer": "ipython3",
   "version": "3.11.9"
  },
  "papermill": {
   "default_parameters": {},
   "duration": 223.024739,
   "end_time": "2024-11-29T23:06:50.968320",
   "environment_variables": {},
   "exception": null,
   "input_path": "src/streamliningData/BA_US_knn_text.ipynb",
   "output_path": "src/streamliningData/BA_US_knn_text.ipynb",
   "parameters": {},
   "start_time": "2024-11-29T23:03:07.943581",
   "version": "2.6.0"
  }
 },
 "nbformat": 4,
 "nbformat_minor": 5
}