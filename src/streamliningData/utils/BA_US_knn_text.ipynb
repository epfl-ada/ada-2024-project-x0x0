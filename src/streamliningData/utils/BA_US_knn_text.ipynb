{
 "cells": [
  {
   "cell_type": "code",
   "execution_count": 1,
   "id": "57c803c2",
   "metadata": {
    "execution": {
     "iopub.execute_input": "2024-12-02T16:45:12.259072Z",
     "iopub.status.busy": "2024-12-02T16:45:12.259072Z",
     "iopub.status.idle": "2024-12-02T16:45:14.180636Z",
     "shell.execute_reply": "2024-12-02T16:45:14.179645Z"
    },
    "jupyter": {
     "source_hidden": true
    },
    "papermill": {
     "duration": 1.928009,
     "end_time": "2024-12-02T16:45:14.180636",
     "exception": false,
     "start_time": "2024-12-02T16:45:12.252627",
     "status": "completed"
    },
    "tags": []
   },
   "outputs": [],
   "source": [
    "import pandas as pd\n",
    "import gc"
   ]
  },
  {
   "cell_type": "code",
   "execution_count": 2,
   "id": "6263eecc",
   "metadata": {
    "execution": {
     "iopub.execute_input": "2024-12-02T16:45:14.189389Z",
     "iopub.status.busy": "2024-12-02T16:45:14.189389Z",
     "iopub.status.idle": "2024-12-02T16:45:14.260623Z",
     "shell.execute_reply": "2024-12-02T16:45:14.260623Z"
    },
    "jupyter": {
     "source_hidden": true
    },
    "papermill": {
     "duration": 0.082999,
     "end_time": "2024-12-02T16:45:14.263635",
     "exception": false,
     "start_time": "2024-12-02T16:45:14.180636",
     "status": "completed"
    },
    "tags": []
   },
   "outputs": [
    {
     "name": "stdout",
     "output_type": "stream",
     "text": [
      "BA_US_knn_text.ipynb takes around 5 minutes to run\n"
     ]
    }
   ],
   "source": [
    "gc.collect()\n",
    "print(\"BA_US_knn_text.ipynb takes around 5 minutes to run\")"
   ]
  },
  {
   "cell_type": "code",
   "execution_count": null,
   "id": "984c224f",
   "metadata": {
    "execution": {
     "iopub.execute_input": "2024-12-02T16:45:14.275194Z",
     "iopub.status.busy": "2024-12-02T16:45:14.275194Z",
     "iopub.status.idle": "2024-12-02T16:46:02.422672Z",
     "shell.execute_reply": "2024-12-02T16:46:02.422672Z"
    },
    "jupyter": {
     "source_hidden": true
    },
    "papermill": {
     "duration": 48.159037,
     "end_time": "2024-12-02T16:46:02.422672",
     "exception": false,
     "start_time": "2024-12-02T16:45:14.263635",
     "status": "completed"
    },
    "tags": []
   },
   "outputs": [],
   "source": [
    "#rankings data with beer_location and user_location added as extra columns\n",
    "BA_merged = pd.read_csv('data/knnData/BA_knn_plus.csv')"
   ]
  },
  {
   "cell_type": "code",
   "execution_count": 4,
   "id": "21d893c8",
   "metadata": {
    "execution": {
     "iopub.execute_input": "2024-12-02T16:46:02.422672Z",
     "iopub.status.busy": "2024-12-02T16:46:02.422672Z",
     "iopub.status.idle": "2024-12-02T16:46:04.686623Z",
     "shell.execute_reply": "2024-12-02T16:46:04.686623Z"
    },
    "jupyter": {
     "source_hidden": true
    },
    "papermill": {
     "duration": 2.263951,
     "end_time": "2024-12-02T16:46:04.686623",
     "exception": false,
     "start_time": "2024-12-02T16:46:02.422672",
     "status": "completed"
    },
    "tags": []
   },
   "outputs": [
    {
     "name": "stdout",
     "output_type": "stream",
     "text": [
      "We dropped 500278 rows due to NaNs in 'beer_location','user_location','rating'\n"
     ]
    }
   ],
   "source": [
    "BA_merged_clean = BA_merged.dropna(subset=['beer_location','user_location','rating'])\n",
    "print(\"We dropped \" + str(BA_merged.shape[0] - BA_merged_clean.shape[0]) + \" rows due to NaNs in 'beer_location','user_location','rating'\")"
   ]
  },
  {
   "cell_type": "code",
   "execution_count": 5,
   "id": "5ddffd20",
   "metadata": {
    "execution": {
     "iopub.execute_input": "2024-12-02T16:46:04.694892Z",
     "iopub.status.busy": "2024-12-02T16:46:04.694892Z",
     "iopub.status.idle": "2024-12-02T16:46:11.430704Z",
     "shell.execute_reply": "2024-12-02T16:46:11.430704Z"
    },
    "jupyter": {
     "source_hidden": true
    },
    "papermill": {
     "duration": 6.747991,
     "end_time": "2024-12-02T16:46:11.434614",
     "exception": false,
     "start_time": "2024-12-02T16:46:04.686623",
     "status": "completed"
    },
    "tags": []
   },
   "outputs": [
    {
     "name": "stdout",
     "output_type": "stream",
     "text": [
      "We dropped 1561085 rows selecting only BA_US states\n"
     ]
    }
   ],
   "source": [
    "#we are only interested in focusing on the ratings that originate from BA_US users AND are for BA_US beers\n",
    "BA_US_ratings = BA_merged_clean[BA_merged_clean['user_location'].str.startswith('United States,')]\n",
    "BA_US_ratings = BA_US_ratings[BA_US_ratings['beer_location'].str.startswith('United States,')]\n",
    "print(\"We dropped \" + str(BA_merged_clean.shape[0] - BA_US_ratings.shape[0]) + \" rows selecting only BA_US states\")\n",
    "#BA_US_ratings.tail(2)"
   ]
  },
  {
   "cell_type": "code",
   "execution_count": 6,
   "id": "fe72f23b",
   "metadata": {
    "execution": {
     "iopub.execute_input": "2024-12-02T16:46:11.443536Z",
     "iopub.status.busy": "2024-12-02T16:46:11.443536Z",
     "iopub.status.idle": "2024-12-02T16:46:22.498988Z",
     "shell.execute_reply": "2024-12-02T16:46:22.498988Z"
    },
    "jupyter": {
     "source_hidden": true
    },
    "papermill": {
     "duration": 11.062509,
     "end_time": "2024-12-02T16:46:22.502638",
     "exception": false,
     "start_time": "2024-12-02T16:46:11.440129",
     "status": "completed"
    },
    "tags": []
   },
   "outputs": [
    {
     "name": "stdout",
     "output_type": "stream",
     "text": [
      "We dropped 31 rows due to location only being 'United States'\n"
     ]
    }
   ],
   "source": [
    "#removing the United States part from the location for both beer and user for clarity\n",
    "BA_US_ratings['user_state'] = BA_US_ratings['user_location'].apply(lambda x: x.split(',')[1].strip())\n",
    "BA_US_ratings['beer_state'] = BA_US_ratings['beer_location'].apply(lambda x: x.split(',')[1].strip())\n",
    "BA_US_ratings = BA_US_ratings.drop(['user_location','beer_location'], axis=1)\n",
    "\n",
    "BA_US_state_ratings = BA_US_ratings[(BA_US_ratings['user_state'] != 'United States') & (BA_US_ratings['beer_state'] != 'United States')]\n",
    "\n",
    "print(\"We dropped \" + str(BA_US_ratings.shape[0] - BA_US_state_ratings.shape[0]) + \" rows due to location only being 'United States'\")"
   ]
  },
  {
   "cell_type": "code",
   "execution_count": null,
   "id": "5437ef03",
   "metadata": {
    "execution": {
     "iopub.execute_input": "2024-12-02T16:46:22.512764Z",
     "iopub.status.busy": "2024-12-02T16:46:22.512764Z",
     "iopub.status.idle": "2024-12-02T16:47:40.922001Z",
     "shell.execute_reply": "2024-12-02T16:47:40.919740Z"
    },
    "jupyter": {
     "source_hidden": true
    },
    "papermill": {
     "duration": 78.414351,
     "end_time": "2024-12-02T16:47:40.922001",
     "exception": false,
     "start_time": "2024-12-02T16:46:22.507650",
     "status": "completed"
    },
    "tags": []
   },
   "outputs": [
    {
     "name": "stdout",
     "output_type": "stream",
     "text": [
      "We dropped 2061394 rows all in all, going from 8393032 rows to 6331638 rows\n"
     ]
    },
    {
     "name": "stdout",
     "output_type": "stream",
     "text": [
      "Saved 'knnData/BA_US_knn_text.csv'\n"
     ]
    }
   ],
   "source": [
    "print(\"We dropped \" + str(BA_merged.shape[0] - BA_US_state_ratings.shape[0]) + \" rows all in all\"\n",
    "      + \", going from \" + str(BA_merged.shape[0]) + \" rows to \" + str(BA_US_state_ratings.shape[0]) + \" rows\")\n",
    "BA_US_state_ratings = BA_US_state_ratings.reset_index(drop=True)\n",
    "BA_US_state_ratings.to_csv('data/knnData/BA_US_knn_text.csv', index=False)\n",
    "print(\"Saved 'data/knnData/BA_US_knn_text.csv'\")"
   ]
  },
  {
   "cell_type": "code",
   "execution_count": null,
   "id": "abd7545e",
   "metadata": {
    "execution": {
     "iopub.execute_input": "2024-12-02T16:47:40.930544Z",
     "iopub.status.busy": "2024-12-02T16:47:40.930544Z",
     "iopub.status.idle": "2024-12-02T16:47:40.948973Z",
     "shell.execute_reply": "2024-12-02T16:47:40.947760Z"
    },
    "jupyter": {
     "source_hidden": true
    },
    "papermill": {
     "duration": 0.018429,
     "end_time": "2024-12-02T16:47:40.948973",
     "exception": false,
     "start_time": "2024-12-02T16:47:40.930544",
     "status": "completed"
    },
    "tags": []
   },
   "outputs": [
    {
     "data": {
      "text/plain": [
       "\"\\ndf=pd.read_csv('USData/BA_US_states_all.csv')\\ndf.head()\\n\""
      ]
     },
     "execution_count": 8,
     "metadata": {},
     "output_type": "execute_result"
    }
   ],
   "source": [
    "'''\n",
    "df=pd.read_csv('data/USData/BA_US_states_all.csv')\n",
    "df.head()\n",
    "'''"
   ]
  }
 ],
 "metadata": {
  "kernelspec": {
   "display_name": "ada",
   "language": "python",
   "name": "python3"
  },
  "language_info": {
   "codemirror_mode": {
    "name": "ipython",
    "version": 3
   },
   "file_extension": ".py",
   "mimetype": "text/x-python",
   "name": "python",
   "nbconvert_exporter": "python",
   "pygments_lexer": "ipython3",
   "version": "3.12.4"
  },
  "papermill": {
   "default_parameters": {},
   "duration": 155.678508,
   "end_time": "2024-12-02T16:47:43.711493",
   "environment_variables": {},
   "exception": null,
   "input_path": "src/streamliningData/BA_US_knn_text.ipynb",
   "output_path": "src/streamliningData/BA_US_knn_text.ipynb",
   "parameters": {},
   "start_time": "2024-12-02T16:45:08.032985",
   "version": "2.6.0"
  }
 },
 "nbformat": 4,
 "nbformat_minor": 5
}
