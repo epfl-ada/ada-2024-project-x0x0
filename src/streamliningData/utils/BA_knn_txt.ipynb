{
 "cells": [
  {
   "cell_type": "code",
   "execution_count": 1,
   "id": "f8ccc7df",
   "metadata": {
    "execution": {
     "iopub.execute_input": "2024-12-02T16:34:36.852359Z",
     "iopub.status.busy": "2024-12-02T16:34:36.852359Z",
     "iopub.status.idle": "2024-12-02T16:34:38.829163Z",
     "shell.execute_reply": "2024-12-02T16:34:38.829163Z"
    },
    "jupyter": {
     "source_hidden": true
    },
    "papermill": {
     "duration": 1.982346,
     "end_time": "2024-12-02T16:34:38.834705",
     "exception": false,
     "start_time": "2024-12-02T16:34:36.852359",
     "status": "completed"
    },
    "tags": []
   },
   "outputs": [],
   "source": [
    "import pandas as pd\n",
    "import gc"
   ]
  },
  {
   "cell_type": "code",
   "execution_count": 2,
   "id": "0b094f5b",
   "metadata": {
    "execution": {
     "iopub.execute_input": "2024-12-02T16:34:38.841857Z",
     "iopub.status.busy": "2024-12-02T16:34:38.841857Z",
     "iopub.status.idle": "2024-12-02T16:34:38.894236Z",
     "shell.execute_reply": "2024-12-02T16:34:38.894236Z"
    },
    "jupyter": {
     "source_hidden": true
    },
    "papermill": {
     "duration": 0.057489,
     "end_time": "2024-12-02T16:34:38.896272",
     "exception": false,
     "start_time": "2024-12-02T16:34:38.838783",
     "status": "completed"
    },
    "tags": []
   },
   "outputs": [
    {
     "name": "stdout",
     "output_type": "stream",
     "text": [
      "BA_knn_data.ipynb takes around 5 minutes to run\n"
     ]
    }
   ],
   "source": [
    "gc.collect() #memory\n",
    "print(\"BA_knn_data.ipynb takes around 5 minutes to run\")"
   ]
  },
  {
   "cell_type": "code",
   "execution_count": 3,
   "id": "e974c010",
   "metadata": {
    "execution": {
     "iopub.execute_input": "2024-12-02T16:34:38.903971Z",
     "iopub.status.busy": "2024-12-02T16:34:38.903971Z",
     "iopub.status.idle": "2024-12-02T16:34:38.916654Z",
     "shell.execute_reply": "2024-12-02T16:34:38.915922Z"
    },
    "jupyter": {
     "source_hidden": true
    },
    "papermill": {
     "duration": 0.016285,
     "end_time": "2024-12-02T16:34:38.916654",
     "exception": false,
     "start_time": "2024-12-02T16:34:38.900369",
     "status": "completed"
    },
    "tags": []
   },
   "outputs": [],
   "source": [
    "new_column_names = [\n",
    "    'beer_name', 'beer_id', 'brewery_name', 'brewery_id', 'style', 'abv', 'date',\n",
    "    'user_name', 'user_id', 'appearance', 'aroma', 'palate', 'taste', 'overall',\n",
    "    'rating', 'text', 'review'\n",
    "]\n",
    "\n",
    "output_file_path = 'knnData/BA_knn_txt.csv'\n",
    "\n",
    "def parse_ratings_file(file_path, chunk_size=15_000_012, start=0, stop=200_000_000): #chunk is a mulitple of 18 since our text 'block' size is 18\n",
    "    #initialise the csv\n",
    "    pd.DataFrame(columns=new_column_names).drop(['date', 'user_name', 'review'], axis=1).to_csv(\n",
    "        output_file_path, index=False\n",
    "    )\n",
    "\n",
    "    current_block = []\n",
    "    data = []\n",
    "    i = 0\n",
    "    k = 0 \n",
    "    chunk = 0\n",
    "    \n",
    "    with open(file_path, 'r', encoding='utf-8') as file:\n",
    "        for line in file:\n",
    "            i += 1\n",
    "            k += 1\n",
    "            if i<start: continue\n",
    "           \n",
    "            if i+18>stop: break\n",
    "           \n",
    "            if i % 10_000_000 == 0: print('Processing line: ', i)\n",
    "\n",
    "            line = line.strip()  #remove whitespace\n",
    "\n",
    "            if not line:  #empty line signifies end of block\n",
    "                data.append(current_block)\n",
    "                current_block = []\n",
    "                \n",
    "            if k >= chunk_size:\n",
    "                k = 0\n",
    "                chunk += 1\n",
    "                print('Processing chunk :', chunk)\n",
    "                \n",
    "                df = pd.DataFrame(data, columns=new_column_names)\n",
    "                df = df.drop(['date', 'user_name', 'review'], axis=1)\n",
    "                df.to_csv(output_file_path, mode='a', index=False, header=False)\n",
    "                data = []  \n",
    "                gc.collect()  #manually invoke garbage collection\n",
    "                    \n",
    "                    \n",
    "            if ': ' in line:  \n",
    "                key, value = line.split(': ', 1)\n",
    "                current_block.append(value)\n",
    "\n",
    "        if data: #save any leftover data at the end\n",
    "            data.append(current_block)\n",
    "            current_block = []\n",
    "            print(k)\n",
    "            k = 0\n",
    "            chunk += 1 \n",
    "            print('Processing chunk :', chunk)\n",
    "            \n",
    "            df = pd.DataFrame(data, columns=new_column_names)\n",
    "            df = df.drop(['date', 'user_name', 'review'], axis=1)\n",
    "            df.to_csv(output_file_path, mode='a', index=False, header=False)\n",
    "            data = []  \n",
    "            gc.collect() \n",
    "            \n",
    "    print('Done!')"
   ]
  },
  {
   "cell_type": "code",
   "execution_count": 4,
   "id": "db753c57",
   "metadata": {
    "execution": {
     "iopub.execute_input": "2024-12-02T16:34:38.924671Z",
     "iopub.status.busy": "2024-12-02T16:34:38.924671Z",
     "iopub.status.idle": "2024-12-02T16:38:42.291524Z",
     "shell.execute_reply": "2024-12-02T16:38:42.291524Z"
    },
    "jupyter": {
     "source_hidden": true
    },
    "papermill": {
     "duration": 243.37487,
     "end_time": "2024-12-02T16:38:42.291524",
     "exception": false,
     "start_time": "2024-12-02T16:34:38.916654",
     "status": "completed"
    },
    "tags": []
   },
   "outputs": [
    {
     "name": "stdout",
     "output_type": "stream",
     "text": [
      "There are around 150 million lines of text\n"
     ]
    },
    {
     "name": "stdout",
     "output_type": "stream",
     "text": [
      "Processing line:  10000000\n"
     ]
    },
    {
     "name": "stdout",
     "output_type": "stream",
     "text": [
      "Processing chunk : 1\n"
     ]
    },
    {
     "name": "stdout",
     "output_type": "stream",
     "text": [
      "Processing line:  20000000\n"
     ]
    },
    {
     "name": "stdout",
     "output_type": "stream",
     "text": [
      "Processing line:  30000000\n",
      "Processing chunk : 2\n"
     ]
    },
    {
     "name": "stdout",
     "output_type": "stream",
     "text": [
      "Processing line:  40000000\n"
     ]
    },
    {
     "name": "stdout",
     "output_type": "stream",
     "text": [
      "Processing chunk : 3\n"
     ]
    },
    {
     "name": "stdout",
     "output_type": "stream",
     "text": [
      "Processing line:  50000000\n"
     ]
    },
    {
     "name": "stdout",
     "output_type": "stream",
     "text": [
      "Processing line:  60000000\n",
      "Processing chunk : 4\n"
     ]
    },
    {
     "name": "stdout",
     "output_type": "stream",
     "text": [
      "Processing line:  70000000\n"
     ]
    },
    {
     "name": "stdout",
     "output_type": "stream",
     "text": [
      "Processing chunk : 5\n"
     ]
    },
    {
     "name": "stdout",
     "output_type": "stream",
     "text": [
      "Processing line:  80000000\n"
     ]
    },
    {
     "name": "stdout",
     "output_type": "stream",
     "text": [
      "Processing line:  90000000\n",
      "Processing chunk : 6\n"
     ]
    },
    {
     "name": "stdout",
     "output_type": "stream",
     "text": [
      "Processing line:  100000000\n"
     ]
    },
    {
     "name": "stdout",
     "output_type": "stream",
     "text": [
      "Processing chunk : 7\n"
     ]
    },
    {
     "name": "stdout",
     "output_type": "stream",
     "text": [
      "Processing line:  110000000\n"
     ]
    },
    {
     "name": "stdout",
     "output_type": "stream",
     "text": [
      "Processing line:  120000000\n",
      "Processing chunk : 8\n"
     ]
    },
    {
     "name": "stdout",
     "output_type": "stream",
     "text": [
      "Processing line:  130000000\n"
     ]
    },
    {
     "name": "stdout",
     "output_type": "stream",
     "text": [
      "Processing chunk : 9\n"
     ]
    },
    {
     "name": "stdout",
     "output_type": "stream",
     "text": [
      "Processing line:  140000000\n"
     ]
    },
    {
     "name": "stdout",
     "output_type": "stream",
     "text": [
      "Processing line:  150000000\n",
      "Processing chunk : 10\n"
     ]
    },
    {
     "name": "stdout",
     "output_type": "stream",
     "text": [
      "1074456\n",
      "Processing chunk : 11\n"
     ]
    },
    {
     "name": "stdout",
     "output_type": "stream",
     "text": [
      "Done!\n"
     ]
    }
   ],
   "source": [
    "#takes 4 mins\n",
    "print(\"There are around 150 million lines of text\")\n",
    "parse_ratings_file('baseData/BeerAdvocate/ratings.txt')"
   ]
  },
  {
   "cell_type": "code",
   "execution_count": 5,
   "id": "f7e5050c",
   "metadata": {
    "execution": {
     "iopub.execute_input": "2024-12-02T16:38:42.301115Z",
     "iopub.status.busy": "2024-12-02T16:38:42.301115Z",
     "iopub.status.idle": "2024-12-02T16:41:59.074212Z",
     "shell.execute_reply": "2024-12-02T16:41:59.074212Z"
    },
    "jupyter": {
     "source_hidden": true
    },
    "papermill": {
     "duration": 196.784503,
     "end_time": "2024-12-02T16:41:59.082943",
     "exception": false,
     "start_time": "2024-12-02T16:38:42.298440",
     "status": "completed"
    },
    "tags": []
   },
   "outputs": [
    {
     "name": "stdout",
     "output_type": "stream",
     "text": [
      "Saved 'knnData/BA_knn_txt.csv'\n"
     ]
    },
    {
     "data": {
      "text/html": [
       "<div>\n",
       "<style scoped>\n",
       "    .dataframe tbody tr th:only-of-type {\n",
       "        vertical-align: middle;\n",
       "    }\n",
       "\n",
       "    .dataframe tbody tr th {\n",
       "        vertical-align: top;\n",
       "    }\n",
       "\n",
       "    .dataframe thead th {\n",
       "        text-align: right;\n",
       "    }\n",
       "</style>\n",
       "<table border=\"1\" class=\"dataframe\">\n",
       "  <thead>\n",
       "    <tr style=\"text-align: right;\">\n",
       "      <th></th>\n",
       "      <th>beer_name</th>\n",
       "      <th>beer_id</th>\n",
       "      <th>brewery_name</th>\n",
       "      <th>brewery_id</th>\n",
       "      <th>style</th>\n",
       "      <th>abv</th>\n",
       "      <th>user_id</th>\n",
       "      <th>appearance</th>\n",
       "      <th>aroma</th>\n",
       "      <th>palate</th>\n",
       "      <th>taste</th>\n",
       "      <th>overall</th>\n",
       "      <th>rating</th>\n",
       "      <th>text</th>\n",
       "    </tr>\n",
       "  </thead>\n",
       "  <tbody>\n",
       "    <tr>\n",
       "      <th>0</th>\n",
       "      <td>Régab</td>\n",
       "      <td>142544.0</td>\n",
       "      <td>Societe des Brasseries du Gabon (SOBRAGA)</td>\n",
       "      <td>37262.0</td>\n",
       "      <td>Euro Pale Lager</td>\n",
       "      <td>4.5</td>\n",
       "      <td>nmann08.184925</td>\n",
       "      <td>3.25</td>\n",
       "      <td>2.75</td>\n",
       "      <td>3.25</td>\n",
       "      <td>2.75</td>\n",
       "      <td>3.0</td>\n",
       "      <td>2.88</td>\n",
       "      <td>From a bottle, pours a piss yellow color with ...</td>\n",
       "    </tr>\n",
       "    <tr>\n",
       "      <th>1</th>\n",
       "      <td>Barelegs Brew</td>\n",
       "      <td>19590.0</td>\n",
       "      <td>Strangford Lough Brewing Company Ltd</td>\n",
       "      <td>10093.0</td>\n",
       "      <td>English Pale Ale</td>\n",
       "      <td>4.5</td>\n",
       "      <td>stjamesgate.163714</td>\n",
       "      <td>3.00</td>\n",
       "      <td>3.50</td>\n",
       "      <td>3.50</td>\n",
       "      <td>4.00</td>\n",
       "      <td>3.5</td>\n",
       "      <td>3.67</td>\n",
       "      <td>Pours pale copper with a thin head that quickl...</td>\n",
       "    </tr>\n",
       "  </tbody>\n",
       "</table>\n",
       "</div>"
      ],
      "text/plain": [
       "       beer_name   beer_id                               brewery_name  \\\n",
       "0          Régab  142544.0  Societe des Brasseries du Gabon (SOBRAGA)   \n",
       "1  Barelegs Brew   19590.0       Strangford Lough Brewing Company Ltd   \n",
       "\n",
       "   brewery_id             style  abv             user_id  appearance  aroma  \\\n",
       "0     37262.0   Euro Pale Lager  4.5      nmann08.184925        3.25   2.75   \n",
       "1     10093.0  English Pale Ale  4.5  stjamesgate.163714        3.00   3.50   \n",
       "\n",
       "   palate  taste  overall  rating  \\\n",
       "0    3.25   2.75      3.0    2.88   \n",
       "1    3.50   4.00      3.5    3.67   \n",
       "\n",
       "                                                text  \n",
       "0  From a bottle, pours a piss yellow color with ...  \n",
       "1  Pours pale copper with a thin head that quickl...  "
      ]
     },
     "execution_count": 5,
     "metadata": {},
     "output_type": "execute_result"
    }
   ],
   "source": [
    "df = pd.read_csv('knnData/BA_knn_txt.csv')\n",
    "df = df.drop(df.index[-1])\n",
    "df.to_csv('knnData/BA_knn_txt.csv', index=False)\n",
    "print(\"Saved 'knnData/BA_knn_txt.csv'\")\n",
    "df = pd.read_csv('knnData/BA_knn_txt.csv')\n",
    "df.head(2)"
   ]
  },
  {
   "cell_type": "code",
   "execution_count": 6,
   "id": "62a9c6e1",
   "metadata": {
    "execution": {
     "iopub.execute_input": "2024-12-02T16:41:59.101342Z",
     "iopub.status.busy": "2024-12-02T16:41:59.101342Z",
     "iopub.status.idle": "2024-12-02T16:41:59.109480Z",
     "shell.execute_reply": "2024-12-02T16:41:59.108687Z"
    },
    "jupyter": {
     "source_hidden": true
    },
    "papermill": {
     "duration": 0.031679,
     "end_time": "2024-12-02T16:41:59.114622",
     "exception": false,
     "start_time": "2024-12-02T16:41:59.082943",
     "status": "completed"
    },
    "tags": []
   },
   "outputs": [],
   "source": [
    "#df.tail(2)"
   ]
  },
  {
   "cell_type": "code",
   "execution_count": 7,
   "id": "e3e68df7",
   "metadata": {
    "execution": {
     "iopub.execute_input": "2024-12-02T16:41:59.129215Z",
     "iopub.status.busy": "2024-12-02T16:41:59.129215Z",
     "iopub.status.idle": "2024-12-02T16:41:59.136519Z",
     "shell.execute_reply": "2024-12-02T16:41:59.136519Z"
    },
    "jupyter": {
     "source_hidden": true
    },
    "papermill": {
     "duration": 0.019724,
     "end_time": "2024-12-02T16:41:59.136519",
     "exception": false,
     "start_time": "2024-12-02T16:41:59.116795",
     "status": "completed"
    },
    "tags": []
   },
   "outputs": [],
   "source": [
    "#df.sample(3)"
   ]
  }
 ],
 "metadata": {
  "kernelspec": {
   "display_name": "ada",
   "language": "python",
   "name": "python3"
  },
  "language_info": {
   "codemirror_mode": {
    "name": "ipython",
    "version": 3
   },
   "file_extension": ".py",
   "mimetype": "text/x-python",
   "name": "python",
   "nbconvert_exporter": "python",
   "pygments_lexer": "ipython3",
   "version": "3.12.4"
  },
  "papermill": {
   "default_parameters": {},
   "duration": 450.16394,
   "end_time": "2024-12-02T16:42:01.448307",
   "environment_variables": {},
   "exception": null,
   "input_path": "src/streamliningData/BA_knn_txt.ipynb",
   "output_path": "src/streamliningData/BA_knn_txt.ipynb",
   "parameters": {},
   "start_time": "2024-12-02T16:34:31.284367",
   "version": "2.6.0"
  }
 },
 "nbformat": 4,
 "nbformat_minor": 5
}