{
 "cells": [
  {
   "cell_type": "code",
   "execution_count": 4,
   "id": "57c803c2",
   "metadata": {
    "execution": {
     "iopub.execute_input": "2024-11-14T16:33:09.021074Z",
     "iopub.status.busy": "2024-11-14T16:33:09.021074Z",
     "iopub.status.idle": "2024-11-14T16:33:10.265575Z",
     "shell.execute_reply": "2024-11-14T16:33:10.264230Z"
    },
    "jupyter": {
     "source_hidden": true
    },
    "papermill": {
     "duration": 1.28004,
     "end_time": "2024-11-14T16:33:10.268122",
     "exception": false,
     "start_time": "2024-11-14T16:33:08.988082",
     "status": "completed"
    },
    "tags": []
   },
   "outputs": [],
   "source": [
    "import pandas as pd\n",
    "import gc"
   ]
  },
  {
   "cell_type": "code",
   "execution_count": 5,
   "id": "6263eecc",
   "metadata": {
    "execution": {
     "iopub.execute_input": "2024-11-14T16:33:10.288253Z",
     "iopub.status.busy": "2024-11-14T16:33:10.288253Z",
     "iopub.status.idle": "2024-11-14T16:33:10.344629Z",
     "shell.execute_reply": "2024-11-14T16:33:10.344629Z"
    },
    "jupyter": {
     "source_hidden": true
    },
    "papermill": {
     "duration": 0.068615,
     "end_time": "2024-11-14T16:33:10.344629",
     "exception": false,
     "start_time": "2024-11-14T16:33:10.276014",
     "status": "completed"
    },
    "tags": []
   },
   "outputs": [
    {
     "name": "stdout",
     "output_type": "stream",
     "text": [
      "BA_US_data.ipynb takes around 2 minutes to run\n"
     ]
    }
   ],
   "source": [
    "gc.collect()\n",
    "print(\"BA_US_data.ipynb takes around 2 minutes to run\")"
   ]
  },
  {
   "cell_type": "code",
   "execution_count": null,
   "id": "984c224f",
   "metadata": {
    "execution": {
     "iopub.execute_input": "2024-11-14T16:33:10.378104Z",
     "iopub.status.busy": "2024-11-14T16:33:10.378104Z",
     "iopub.status.idle": "2024-11-14T16:33:34.622042Z",
     "shell.execute_reply": "2024-11-14T16:33:34.622042Z"
    },
    "jupyter": {
     "source_hidden": true
    },
    "papermill": {
     "duration": 24.259137,
     "end_time": "2024-11-14T16:33:34.622042",
     "exception": false,
     "start_time": "2024-11-14T16:33:10.362905",
     "status": "completed"
    },
    "tags": []
   },
   "outputs": [],
   "source": [
    "#rankings data with beer_location and user_location added as extra columns\n",
    "BA_merged = pd.read_csv('data/minimizedData/BA_ratings_small_plus.csv')"
   ]
  },
  {
   "cell_type": "code",
   "execution_count": 7,
   "id": "21d893c8",
   "metadata": {
    "execution": {
     "iopub.execute_input": "2024-11-14T16:33:34.642052Z",
     "iopub.status.busy": "2024-11-14T16:33:34.642052Z",
     "iopub.status.idle": "2024-11-14T16:33:36.290708Z",
     "shell.execute_reply": "2024-11-14T16:33:36.290708Z"
    },
    "jupyter": {
     "source_hidden": true
    },
    "papermill": {
     "duration": 1.658657,
     "end_time": "2024-11-14T16:33:36.290708",
     "exception": false,
     "start_time": "2024-11-14T16:33:34.632051",
     "status": "completed"
    },
    "tags": []
   },
   "outputs": [
    {
     "name": "stdout",
     "output_type": "stream",
     "text": [
      "We dropped 500278 rows due to NaNs in 'beer_location','user_location','rating'\n"
     ]
    }
   ],
   "source": [
    "BA_merged_clean = BA_merged.dropna(subset=['beer_location','user_location','rating'])\n",
    "print(\"We dropped \" + str(BA_merged.shape[0] - BA_merged_clean.shape[0]) + \" rows due to NaNs in 'beer_location','user_location','rating'\")"
   ]
  },
  {
   "cell_type": "code",
   "execution_count": 8,
   "id": "5ddffd20",
   "metadata": {
    "execution": {
     "iopub.execute_input": "2024-11-14T16:33:36.315837Z",
     "iopub.status.busy": "2024-11-14T16:33:36.314724Z",
     "iopub.status.idle": "2024-11-14T16:33:44.605725Z",
     "shell.execute_reply": "2024-11-14T16:33:44.605725Z"
    },
    "jupyter": {
     "source_hidden": true
    },
    "papermill": {
     "duration": 8.313204,
     "end_time": "2024-11-14T16:33:44.618538",
     "exception": false,
     "start_time": "2024-11-14T16:33:36.305334",
     "status": "completed"
    },
    "tags": []
   },
   "outputs": [
    {
     "name": "stdout",
     "output_type": "stream",
     "text": [
      "We dropped 1561085 rows selecting only BA_US states\n"
     ]
    }
   ],
   "source": [
    "#we are only interested in focusing on the ratings that originate from BA_US users AND are for BA_US beers\n",
    "BA_US_ratings = BA_merged_clean[BA_merged_clean['user_location'].str.startswith('United States,')]\n",
    "BA_US_ratings = BA_US_ratings[BA_US_ratings['beer_location'].str.startswith('United States,')]\n",
    "print(\"We dropped \" + str(BA_merged_clean.shape[0] - BA_US_ratings.shape[0]) + \" rows selecting only BA_US states\")\n",
    "#BA_US_ratings.tail(2)"
   ]
  },
  {
   "cell_type": "code",
   "execution_count": 9,
   "id": "fe72f23b",
   "metadata": {
    "execution": {
     "iopub.execute_input": "2024-11-14T16:33:44.655512Z",
     "iopub.status.busy": "2024-11-14T16:33:44.655512Z",
     "iopub.status.idle": "2024-11-14T16:33:56.560459Z",
     "shell.execute_reply": "2024-11-14T16:33:56.560459Z"
    },
    "jupyter": {
     "source_hidden": true
    },
    "papermill": {
     "duration": 11.924388,
     "end_time": "2024-11-14T16:33:56.567593",
     "exception": false,
     "start_time": "2024-11-14T16:33:44.643205",
     "status": "completed"
    },
    "tags": []
   },
   "outputs": [
    {
     "name": "stdout",
     "output_type": "stream",
     "text": [
      "We dropped 31 rows due to location only being 'United States'\n"
     ]
    }
   ],
   "source": [
    "#removing the United States part from the location for both beer and user for clarity\n",
    "BA_US_ratings['user_state'] = BA_US_ratings['user_location'].apply(lambda x: x.split(',')[1].strip())\n",
    "BA_US_ratings['beer_state'] = BA_US_ratings['beer_location'].apply(lambda x: x.split(',')[1].strip())\n",
    "BA_US_ratings = BA_US_ratings.drop(['user_location','beer_location'], axis=1)\n",
    "\n",
    "BA_US_state_ratings = BA_US_ratings[(BA_US_ratings['user_state'] != 'United States') & (BA_US_ratings['beer_state'] != 'United States')]\n",
    "\n",
    "print(\"We dropped \" + str(BA_US_ratings.shape[0] - BA_US_state_ratings.shape[0]) + \" rows due to location only being 'United States'\")"
   ]
  },
  {
   "cell_type": "code",
   "execution_count": null,
   "id": "5437ef03",
   "metadata": {
    "jupyter": {
     "source_hidden": true
    },
    "papermill": {
     "duration": null,
     "end_time": null,
     "exception": false,
     "start_time": "2024-11-14T16:33:56.586725",
     "status": "running"
    },
    "tags": []
   },
   "outputs": [
    {
     "name": "stdout",
     "output_type": "stream",
     "text": [
      "We dropped 2061394 rows all in all, going from 8393032 rows to 6331638 rows\n",
      "Saved 'USData/BA_US_states_all.csv'\n"
     ]
    }
   ],
   "source": [
    "print(\"We dropped \" + str(BA_merged.shape[0] - BA_US_state_ratings.shape[0]) + \" rows all in all\"\n",
    "      + \", going from \" + str(BA_merged.shape[0]) + \" rows to \" + str(BA_US_state_ratings.shape[0]) + \" rows\")\n",
    "BA_US_state_ratings = BA_US_state_ratings.reset_index(drop=True)\n",
    "BA_US_state_ratings.to_csv('data/USData/BA_US_states_all.csv', index=False)\n",
    "print(\"Saved 'data/USData/BA_US_states_all.csv'\")"
   ]
  },
  {
   "cell_type": "code",
   "execution_count": null,
   "id": "abd7545e",
   "metadata": {
    "jupyter": {
     "source_hidden": true
    },
    "papermill": {
     "duration": null,
     "end_time": null,
     "exception": null,
     "start_time": null,
     "status": "pending"
    },
    "tags": []
   },
   "outputs": [],
   "source": [
    "'''\n",
    "df=pd.read_csv('data/USData/BA_US_states_all.csv')\n",
    "df.head()\n",
    "'''"
   ]
  }
 ],
 "metadata": {
  "kernelspec": {
   "display_name": "ada",
   "language": "python",
   "name": "python3"
  },
  "language_info": {
   "codemirror_mode": {
    "name": "ipython",
    "version": 3
   },
   "file_extension": ".py",
   "mimetype": "text/x-python",
   "name": "python",
   "nbconvert_exporter": "python",
   "pygments_lexer": "ipython3",
   "version": "3.11.9"
  },
  "papermill": {
   "default_parameters": {},
   "duration": null,
   "end_time": null,
   "environment_variables": {},
   "exception": null,
   "input_path": "src/streamliningData/BA_US_data.ipynb",
   "output_path": "src/streamliningData/BA_US_data.ipynb",
   "parameters": {},
   "start_time": "2024-11-14T16:33:05.946707",
   "version": "2.6.0"
  }
 },
 "nbformat": 4,
 "nbformat_minor": 5
}
