{
 "cells": [
  {
   "cell_type": "code",
   "execution_count": 1,
   "id": "b6f3729e",
   "metadata": {
    "execution": {
     "iopub.execute_input": "2024-11-29T22:46:04.746704Z",
     "iopub.status.busy": "2024-11-29T22:46:04.745707Z",
     "iopub.status.idle": "2024-11-29T22:46:05.864790Z",
     "shell.execute_reply": "2024-11-29T22:46:05.863773Z"
    },
    "jupyter": {
     "source_hidden": true
    },
    "papermill": {
     "duration": 1.148365,
     "end_time": "2024-11-29T22:46:05.865790",
     "exception": false,
     "start_time": "2024-11-29T22:46:04.717425",
     "status": "completed"
    },
    "tags": []
   },
   "outputs": [],
   "source": [
    "import pandas as pd\n",
    "import gc"
   ]
  },
  {
   "cell_type": "code",
   "execution_count": null,
   "id": "46646844",
   "metadata": {
    "execution": {
     "iopub.execute_input": "2024-11-29T22:46:05.878564Z",
     "iopub.status.busy": "2024-11-29T22:46:05.878564Z",
     "iopub.status.idle": "2024-11-29T22:46:05.915054Z",
     "shell.execute_reply": "2024-11-29T22:46:05.914222Z"
    },
    "jupyter": {
     "source_hidden": true
    },
    "papermill": {
     "duration": 0.045263,
     "end_time": "2024-11-29T22:46:05.917054",
     "exception": false,
     "start_time": "2024-11-29T22:46:05.871791",
     "status": "completed"
    },
    "tags": []
   },
   "outputs": [
    {
     "name": "stdout",
     "output_type": "stream",
     "text": [
      "BA_knn_extra_cols.ipynb takes around 2 minutes to run\n"
     ]
    }
   ],
   "source": [
    "gc.collect() #memory\n",
    "print(\"BA_knn_extra_cols.ipynb takes around 5 minutes to run\")"
   ]
  },
  {
   "cell_type": "code",
   "execution_count": 3,
   "id": "15b47f8d",
   "metadata": {
    "execution": {
     "iopub.execute_input": "2024-11-29T22:46:05.931164Z",
     "iopub.status.busy": "2024-11-29T22:46:05.931164Z",
     "iopub.status.idle": "2024-11-29T22:47:54.115098Z",
     "shell.execute_reply": "2024-11-29T22:47:54.098007Z"
    },
    "jupyter": {
     "source_hidden": true
    },
    "papermill": {
     "duration": 108.223664,
     "end_time": "2024-11-29T22:47:54.146716",
     "exception": false,
     "start_time": "2024-11-29T22:46:05.923052",
     "status": "completed"
    },
    "tags": []
   },
   "outputs": [],
   "source": [
    "#we split the files into BA/RB for memory reasons...\n",
    "BAs_beers = pd.read_csv('minimizedData/BA_beers_small.csv')\n",
    "BAs_breweries = pd.read_csv('minimizedData/BA_breweries_small.csv')\n",
    "BAs_ratings = pd.read_csv('knnData/BA_knn_txt.csv')\n",
    "BAs_users = pd.read_csv('minimizedData/BA_users_small.csv')\n",
    "\n",
    "BAs_breweries = BAs_breweries.rename(columns={'id': 'brewery_id'}) #change the name for merging\n"
   ]
  },
  {
   "cell_type": "code",
   "execution_count": 4,
   "id": "1c4a2fdc",
   "metadata": {
    "execution": {
     "iopub.execute_input": "2024-11-29T22:47:54.245745Z",
     "iopub.status.busy": "2024-11-29T22:47:54.242052Z",
     "iopub.status.idle": "2024-11-29T22:47:59.395177Z",
     "shell.execute_reply": "2024-11-29T22:47:59.392833Z"
    },
    "jupyter": {
     "source_hidden": true
    },
    "papermill": {
     "duration": 5.186505,
     "end_time": "2024-11-29T22:47:59.399183",
     "exception": false,
     "start_time": "2024-11-29T22:47:54.212678",
     "status": "completed"
    },
    "tags": []
   },
   "outputs": [],
   "source": [
    "#extra location column\n",
    "BAs_beers_loc = BAs_beers.merge(BAs_breweries[['brewery_id', 'location']], on='brewery_id', how='left')\n",
    "BAs_ratings_loc = BAs_ratings.merge(BAs_users[['user_id', 'location']], on='user_id', how='left')"
   ]
  },
  {
   "cell_type": "code",
   "execution_count": 5,
   "id": "8a4c0e62",
   "metadata": {
    "execution": {
     "iopub.execute_input": "2024-11-29T22:47:59.461574Z",
     "iopub.status.busy": "2024-11-29T22:47:59.461574Z",
     "iopub.status.idle": "2024-11-29T22:48:21.840252Z",
     "shell.execute_reply": "2024-11-29T22:48:21.840252Z"
    },
    "jupyter": {
     "source_hidden": true
    },
    "papermill": {
     "duration": 22.407053,
     "end_time": "2024-11-29T22:48:21.850264",
     "exception": false,
     "start_time": "2024-11-29T22:47:59.443211",
     "status": "completed"
    },
    "tags": []
   },
   "outputs": [],
   "source": [
    "#modify the the location names to avoid confusion between beer_location and rating_location\n",
    "BAs_beers_loc = BAs_beers_loc.rename(columns={'location': 'beer_location'})\n",
    "BAs_ratings_loc = BAs_ratings_loc.rename(columns={'location': 'user_location'})\n",
    "\n",
    "#merge for even more cols\n",
    "BAs_ratbeer = BAs_ratings_loc.merge(BAs_beers_loc[['beer_id', 'avg', 'beer_location']], on='beer_id', how='left')\n",
    "    "
   ]
  },
  {
   "cell_type": "code",
   "execution_count": null,
   "id": "241c7575",
   "metadata": {
    "execution": {
     "iopub.execute_input": "2024-11-29T22:48:21.900260Z",
     "iopub.status.busy": "2024-11-29T22:48:21.890259Z",
     "iopub.status.idle": "2024-11-29T22:50:38.722431Z",
     "shell.execute_reply": "2024-11-29T22:50:38.722431Z"
    },
    "jupyter": {
     "source_hidden": true
    },
    "papermill": {
     "duration": 136.967196,
     "end_time": "2024-11-29T22:50:38.847457",
     "exception": false,
     "start_time": "2024-11-29T22:48:21.880261",
     "status": "completed"
    },
    "tags": []
   },
   "outputs": [
    {
     "name": "stdout",
     "output_type": "stream",
     "text": [
      "Saved 'knnData/BA_knn_plus.csv'\n"
     ]
    },
    {
     "data": {
      "text/html": [
       "<div>\n",
       "<style scoped>\n",
       "    .dataframe tbody tr th:only-of-type {\n",
       "        vertical-align: middle;\n",
       "    }\n",
       "\n",
       "    .dataframe tbody tr th {\n",
       "        vertical-align: top;\n",
       "    }\n",
       "\n",
       "    .dataframe thead th {\n",
       "        text-align: right;\n",
       "    }\n",
       "</style>\n",
       "<table border=\"1\" class=\"dataframe\">\n",
       "  <thead>\n",
       "    <tr style=\"text-align: right;\">\n",
       "      <th></th>\n",
       "      <th>beer_name</th>\n",
       "      <th>beer_id</th>\n",
       "      <th>brewery_name</th>\n",
       "      <th>brewery_id</th>\n",
       "      <th>style</th>\n",
       "      <th>abv</th>\n",
       "      <th>user_id</th>\n",
       "      <th>appearance</th>\n",
       "      <th>aroma</th>\n",
       "      <th>palate</th>\n",
       "      <th>taste</th>\n",
       "      <th>overall</th>\n",
       "      <th>rating</th>\n",
       "      <th>text</th>\n",
       "      <th>user_location</th>\n",
       "      <th>avg</th>\n",
       "      <th>beer_location</th>\n",
       "    </tr>\n",
       "  </thead>\n",
       "  <tbody>\n",
       "    <tr>\n",
       "      <th>0</th>\n",
       "      <td>Régab</td>\n",
       "      <td>142544.0</td>\n",
       "      <td>Societe des Brasseries du Gabon (SOBRAGA)</td>\n",
       "      <td>37262.0</td>\n",
       "      <td>Euro Pale Lager</td>\n",
       "      <td>4.5</td>\n",
       "      <td>nmann08.184925</td>\n",
       "      <td>3.25</td>\n",
       "      <td>2.75</td>\n",
       "      <td>3.25</td>\n",
       "      <td>2.75</td>\n",
       "      <td>3.0</td>\n",
       "      <td>2.88</td>\n",
       "      <td>From a bottle, pours a piss yellow color with ...</td>\n",
       "      <td>United States, Washington</td>\n",
       "      <td>2.88</td>\n",
       "      <td>Gabon</td>\n",
       "    </tr>\n",
       "    <tr>\n",
       "      <th>1</th>\n",
       "      <td>Barelegs Brew</td>\n",
       "      <td>19590.0</td>\n",
       "      <td>Strangford Lough Brewing Company Ltd</td>\n",
       "      <td>10093.0</td>\n",
       "      <td>English Pale Ale</td>\n",
       "      <td>4.5</td>\n",
       "      <td>stjamesgate.163714</td>\n",
       "      <td>3.00</td>\n",
       "      <td>3.50</td>\n",
       "      <td>3.50</td>\n",
       "      <td>4.00</td>\n",
       "      <td>3.5</td>\n",
       "      <td>3.67</td>\n",
       "      <td>Pours pale copper with a thin head that quickl...</td>\n",
       "      <td>United States, New York</td>\n",
       "      <td>3.85</td>\n",
       "      <td>Northern Ireland</td>\n",
       "    </tr>\n",
       "    <tr>\n",
       "      <th>2</th>\n",
       "      <td>Barelegs Brew</td>\n",
       "      <td>19590.0</td>\n",
       "      <td>Strangford Lough Brewing Company Ltd</td>\n",
       "      <td>10093.0</td>\n",
       "      <td>English Pale Ale</td>\n",
       "      <td>4.5</td>\n",
       "      <td>mdagnew.19527</td>\n",
       "      <td>4.00</td>\n",
       "      <td>3.50</td>\n",
       "      <td>3.50</td>\n",
       "      <td>4.00</td>\n",
       "      <td>3.5</td>\n",
       "      <td>3.73</td>\n",
       "      <td>500ml Bottle bought from The Vintage, Antrim.....</td>\n",
       "      <td>Northern Ireland</td>\n",
       "      <td>3.85</td>\n",
       "      <td>Northern Ireland</td>\n",
       "    </tr>\n",
       "    <tr>\n",
       "      <th>3</th>\n",
       "      <td>Barelegs Brew</td>\n",
       "      <td>19590.0</td>\n",
       "      <td>Strangford Lough Brewing Company Ltd</td>\n",
       "      <td>10093.0</td>\n",
       "      <td>English Pale Ale</td>\n",
       "      <td>4.5</td>\n",
       "      <td>helloloser12345.10867</td>\n",
       "      <td>4.00</td>\n",
       "      <td>3.50</td>\n",
       "      <td>4.00</td>\n",
       "      <td>4.00</td>\n",
       "      <td>4.5</td>\n",
       "      <td>3.98</td>\n",
       "      <td>Serving: 500ml brown bottlePour: Good head wit...</td>\n",
       "      <td>Northern Ireland</td>\n",
       "      <td>3.85</td>\n",
       "      <td>Northern Ireland</td>\n",
       "    </tr>\n",
       "    <tr>\n",
       "      <th>4</th>\n",
       "      <td>Barelegs Brew</td>\n",
       "      <td>19590.0</td>\n",
       "      <td>Strangford Lough Brewing Company Ltd</td>\n",
       "      <td>10093.0</td>\n",
       "      <td>English Pale Ale</td>\n",
       "      <td>4.5</td>\n",
       "      <td>cypressbob.3708</td>\n",
       "      <td>4.00</td>\n",
       "      <td>4.00</td>\n",
       "      <td>4.00</td>\n",
       "      <td>4.00</td>\n",
       "      <td>4.0</td>\n",
       "      <td>4.00</td>\n",
       "      <td>500ml bottlePours with a light, slightly hazy ...</td>\n",
       "      <td>Northern Ireland</td>\n",
       "      <td>3.85</td>\n",
       "      <td>Northern Ireland</td>\n",
       "    </tr>\n",
       "  </tbody>\n",
       "</table>\n",
       "</div>"
      ],
      "text/plain": [
       "       beer_name   beer_id                               brewery_name  \\\n",
       "0          Régab  142544.0  Societe des Brasseries du Gabon (SOBRAGA)   \n",
       "1  Barelegs Brew   19590.0       Strangford Lough Brewing Company Ltd   \n",
       "2  Barelegs Brew   19590.0       Strangford Lough Brewing Company Ltd   \n",
       "3  Barelegs Brew   19590.0       Strangford Lough Brewing Company Ltd   \n",
       "4  Barelegs Brew   19590.0       Strangford Lough Brewing Company Ltd   \n",
       "\n",
       "   brewery_id             style  abv                user_id  appearance  \\\n",
       "0     37262.0   Euro Pale Lager  4.5         nmann08.184925        3.25   \n",
       "1     10093.0  English Pale Ale  4.5     stjamesgate.163714        3.00   \n",
       "2     10093.0  English Pale Ale  4.5          mdagnew.19527        4.00   \n",
       "3     10093.0  English Pale Ale  4.5  helloloser12345.10867        4.00   \n",
       "4     10093.0  English Pale Ale  4.5        cypressbob.3708        4.00   \n",
       "\n",
       "   aroma  palate  taste  overall  rating  \\\n",
       "0   2.75    3.25   2.75      3.0    2.88   \n",
       "1   3.50    3.50   4.00      3.5    3.67   \n",
       "2   3.50    3.50   4.00      3.5    3.73   \n",
       "3   3.50    4.00   4.00      4.5    3.98   \n",
       "4   4.00    4.00   4.00      4.0    4.00   \n",
       "\n",
       "                                                text  \\\n",
       "0  From a bottle, pours a piss yellow color with ...   \n",
       "1  Pours pale copper with a thin head that quickl...   \n",
       "2  500ml Bottle bought from The Vintage, Antrim.....   \n",
       "3  Serving: 500ml brown bottlePour: Good head wit...   \n",
       "4  500ml bottlePours with a light, slightly hazy ...   \n",
       "\n",
       "               user_location   avg     beer_location  \n",
       "0  United States, Washington  2.88             Gabon  \n",
       "1    United States, New York  3.85  Northern Ireland  \n",
       "2           Northern Ireland  3.85  Northern Ireland  \n",
       "3           Northern Ireland  3.85  Northern Ireland  \n",
       "4           Northern Ireland  3.85  Northern Ireland  "
      ]
     },
     "execution_count": 6,
     "metadata": {},
     "output_type": "execute_result"
    }
   ],
   "source": [
    "#BAs_beers_loc.to_csv('minimizedData/BA_beers_small_plus.csv', index=False)\n",
    "#print(\"Saved 'minimizedData/BA_beers_small_plus.csv'\")\n",
    "BAs_ratbeer.to_csv('knnData/BA_knn_plus.csv', index=False)\n",
    "print(\"Saved 'knnData/BA_knn_plus.csv'\")"
   ]
  }
 ],
 "metadata": {
  "kernelspec": {
   "display_name": "ada",
   "language": "python",
   "name": "python3"
  },
  "language_info": {
   "codemirror_mode": {
    "name": "ipython",
    "version": 3
   },
   "file_extension": ".py",
   "mimetype": "text/x-python",
   "name": "python",
   "nbconvert_exporter": "python",
   "pygments_lexer": "ipython3",
   "version": "3.11.9"
  },
  "papermill": {
   "default_parameters": {},
   "duration": 280.467414,
   "end_time": "2024-11-29T22:50:41.913428",
   "environment_variables": {},
   "exception": null,
   "input_path": "src/streamliningData/BA_knn_extra_cols.ipynb",
   "output_path": "src/streamliningData/BA_knn_extra_cols.ipynb",
   "parameters": {},
   "start_time": "2024-11-29T22:46:01.446014",
   "version": "2.6.0"
  }
 },
 "nbformat": 4,
 "nbformat_minor": 5
}
