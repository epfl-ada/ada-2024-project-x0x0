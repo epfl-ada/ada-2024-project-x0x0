{
 "cells": [
  {
   "cell_type": "code",
   "execution_count": 1,
   "id": "b6f3729e",
   "metadata": {
    "execution": {
     "iopub.execute_input": "2024-12-02T16:42:05.712346Z",
     "iopub.status.busy": "2024-12-02T16:42:05.712346Z",
     "iopub.status.idle": "2024-12-02T16:42:07.380081Z",
     "shell.execute_reply": "2024-12-02T16:42:07.380081Z"
    },
    "jupyter": {
     "source_hidden": true
    },
    "papermill": {
     "duration": 1.673285,
     "end_time": "2024-12-02T16:42:07.380081",
     "exception": false,
     "start_time": "2024-12-02T16:42:05.706796",
     "status": "completed"
    },
    "tags": []
   },
   "outputs": [],
   "source": [
    "import pandas as pd\n",
    "import gc"
   ]
  },
  {
   "cell_type": "code",
   "execution_count": 2,
   "id": "46646844",
   "metadata": {
    "execution": {
     "iopub.execute_input": "2024-12-02T16:42:07.391182Z",
     "iopub.status.busy": "2024-12-02T16:42:07.391182Z",
     "iopub.status.idle": "2024-12-02T16:42:07.442229Z",
     "shell.execute_reply": "2024-12-02T16:42:07.442229Z"
    },
    "jupyter": {
     "source_hidden": true
    },
    "papermill": {
     "duration": 0.062148,
     "end_time": "2024-12-02T16:42:07.442229",
     "exception": false,
     "start_time": "2024-12-02T16:42:07.380081",
     "status": "completed"
    },
    "tags": []
   },
   "outputs": [
    {
     "name": "stdout",
     "output_type": "stream",
     "text": [
      "BA_knn_extra_cols.ipynb takes around 5 minutes to run\n"
     ]
    }
   ],
   "source": [
    "gc.collect() #memory\n",
    "print(\"BA_knn_extra_cols.ipynb takes around 5 minutes to run\")"
   ]
  },
  {
   "cell_type": "code",
   "execution_count": null,
   "id": "15b47f8d",
   "metadata": {
    "execution": {
     "iopub.execute_input": "2024-12-02T16:42:07.442229Z",
     "iopub.status.busy": "2024-12-02T16:42:07.442229Z",
     "iopub.status.idle": "2024-12-02T16:42:47.842033Z",
     "shell.execute_reply": "2024-12-02T16:42:47.842033Z"
    },
    "jupyter": {
     "source_hidden": true
    },
    "papermill": {
     "duration": 40.399804,
     "end_time": "2024-12-02T16:42:47.842033",
     "exception": false,
     "start_time": "2024-12-02T16:42:07.442229",
     "status": "completed"
    },
    "tags": []
   },
   "outputs": [],
   "source": [
    "#we split the files into BA/RB for memory reasons...\n",
    "BAs_beers = pd.read_csv('data/minimizedData/BA_beers_small.csv')\n",
    "BAs_breweries = pd.read_csv('data/minimizedData/BA_breweries_small.csv')\n",
    "BAs_ratings = pd.read_csv('data/knnData/BA_knn_txt.csv')\n",
    "BAs_users = pd.read_csv('data/minimizedData/BA_users_small.csv')\n",
    "\n",
    "BAs_breweries = BAs_breweries.rename(columns={'id': 'brewery_id'}) #change the name for merging\n"
   ]
  },
  {
   "cell_type": "code",
   "execution_count": 4,
   "id": "1c4a2fdc",
   "metadata": {
    "execution": {
     "iopub.execute_input": "2024-12-02T16:42:47.852544Z",
     "iopub.status.busy": "2024-12-02T16:42:47.852544Z",
     "iopub.status.idle": "2024-12-02T16:42:50.961540Z",
     "shell.execute_reply": "2024-12-02T16:42:50.961540Z"
    },
    "jupyter": {
     "source_hidden": true
    },
    "papermill": {
     "duration": 3.119507,
     "end_time": "2024-12-02T16:42:50.961540",
     "exception": false,
     "start_time": "2024-12-02T16:42:47.842033",
     "status": "completed"
    },
    "tags": []
   },
   "outputs": [],
   "source": [
    "#extra location column\n",
    "BAs_beers_loc = BAs_beers.merge(BAs_breweries[['brewery_id', 'location']], on='brewery_id', how='left')\n",
    "BAs_ratings_loc = BAs_ratings.merge(BAs_users[['user_id', 'location']], on='user_id', how='left')"
   ]
  },
  {
   "cell_type": "code",
   "execution_count": 5,
   "id": "8a4c0e62",
   "metadata": {
    "execution": {
     "iopub.execute_input": "2024-12-02T16:42:50.967818Z",
     "iopub.status.busy": "2024-12-02T16:42:50.967818Z",
     "iopub.status.idle": "2024-12-02T16:42:54.294829Z",
     "shell.execute_reply": "2024-12-02T16:42:54.292833Z"
    },
    "jupyter": {
     "source_hidden": true
    },
    "papermill": {
     "duration": 3.333289,
     "end_time": "2024-12-02T16:42:54.294829",
     "exception": false,
     "start_time": "2024-12-02T16:42:50.961540",
     "status": "completed"
    },
    "tags": []
   },
   "outputs": [],
   "source": [
    "#modify the the location names to avoid confusion between beer_location and rating_location\n",
    "BAs_beers_loc = BAs_beers_loc.rename(columns={'location': 'beer_location'})\n",
    "BAs_ratings_loc = BAs_ratings_loc.rename(columns={'location': 'user_location'})\n",
    "\n",
    "#merge for even more cols\n",
    "BAs_ratbeer = BAs_ratings_loc.merge(BAs_beers_loc[['beer_id', 'avg', 'beer_location']], on='beer_id', how='left')\n",
    "    "
   ]
  },
  {
   "cell_type": "code",
   "execution_count": null,
   "id": "241c7575",
   "metadata": {
    "execution": {
     "iopub.execute_input": "2024-12-02T16:42:54.294829Z",
     "iopub.status.busy": "2024-12-02T16:42:54.294829Z",
     "iopub.status.idle": "2024-12-02T16:45:06.158012Z",
     "shell.execute_reply": "2024-12-02T16:45:06.158012Z"
    },
    "jupyter": {
     "source_hidden": true
    },
    "papermill": {
     "duration": 131.863183,
     "end_time": "2024-12-02T16:45:06.158012",
     "exception": false,
     "start_time": "2024-12-02T16:42:54.294829",
     "status": "completed"
    },
    "tags": []
   },
   "outputs": [
    {
     "name": "stdout",
     "output_type": "stream",
     "text": [
      "Saved 'knnData/BA_knn_plus.csv'\n"
     ]
    }
   ],
   "source": [
    "#BAs_beers_loc.to_csv('minimizedData/BA_beers_small_plus.csv', index=False)\n",
    "#print(\"Saved 'minimizedData/BA_beers_small_plus.csv'\")\n",
    "BAs_ratbeer.to_csv('data/knnData/BA_knn_plus.csv', index=False)\n",
    "print(\"Saved 'data/knnData/BA_knn_plus.csv'\")"
   ]
  }
 ],
 "metadata": {
  "kernelspec": {
   "display_name": "ada",
   "language": "python",
   "name": "python3"
  },
  "language_info": {
   "codemirror_mode": {
    "name": "ipython",
    "version": 3
   },
   "file_extension": ".py",
   "mimetype": "text/x-python",
   "name": "python",
   "nbconvert_exporter": "python",
   "pygments_lexer": "ipython3",
   "version": "3.12.4"
  },
  "papermill": {
   "default_parameters": {},
   "duration": 186.560762,
   "end_time": "2024-12-02T16:45:08.020179",
   "environment_variables": {},
   "exception": null,
   "input_path": "src/streamliningData/BA_knn_extra_cols.ipynb",
   "output_path": "src/streamliningData/BA_knn_extra_cols.ipynb",
   "parameters": {},
   "start_time": "2024-12-02T16:42:01.459417",
   "version": "2.6.0"
  }
 },
 "nbformat": 4,
 "nbformat_minor": 5
}
