{
 "cells": [
  {
   "cell_type": "code",
   "execution_count": 1,
   "id": "3c88dd47",
   "metadata": {
    "execution": {
     "iopub.execute_input": "2024-11-14T16:14:28.416230Z",
     "iopub.status.busy": "2024-11-14T16:14:28.408120Z",
     "iopub.status.idle": "2024-11-14T16:14:29.816028Z",
     "shell.execute_reply": "2024-11-14T16:14:29.816028Z"
    },
    "jupyter": {
     "source_hidden": true
    },
    "papermill": {
     "duration": 1.472773,
     "end_time": "2024-11-14T16:14:29.816028",
     "exception": false,
     "start_time": "2024-11-14T16:14:28.343255",
     "status": "completed"
    },
    "tags": []
   },
   "outputs": [],
   "source": [
    "import pandas as pd\n",
    "import gc"
   ]
  },
  {
   "cell_type": "code",
   "execution_count": 2,
   "id": "65f78d09",
   "metadata": {
    "execution": {
     "iopub.execute_input": "2024-11-14T16:14:29.836040Z",
     "iopub.status.busy": "2024-11-14T16:14:29.836040Z",
     "iopub.status.idle": "2024-11-14T16:14:29.890006Z",
     "shell.execute_reply": "2024-11-14T16:14:29.890006Z"
    },
    "jupyter": {
     "source_hidden": true
    },
    "papermill": {
     "duration": 0.063969,
     "end_time": "2024-11-14T16:14:29.890006",
     "exception": false,
     "start_time": "2024-11-14T16:14:29.826037",
     "status": "completed"
    },
    "tags": []
   },
   "outputs": [
    {
     "name": "stdout",
     "output_type": "stream",
     "text": [
      "reducing_csv.ipynb takes around 5 seconds to run\n"
     ]
    }
   ],
   "source": [
    "gc.collect() #memory\n",
    "print(\"reducing_csv.ipynb takes around 5 seconds to run\")"
   ]
  },
  {
   "cell_type": "code",
   "execution_count": 3,
   "id": "d5a3fd3d",
   "metadata": {
    "execution": {
     "iopub.execute_input": "2024-11-14T16:14:30.004164Z",
     "iopub.status.busy": "2024-11-14T16:14:30.004164Z",
     "iopub.status.idle": "2024-11-14T16:14:32.601538Z",
     "shell.execute_reply": "2024-11-14T16:14:32.601538Z"
    },
    "jupyter": {
     "source_hidden": true
    },
    "papermill": {
     "duration": 2.697436,
     "end_time": "2024-11-14T16:14:32.601538",
     "exception": false,
     "start_time": "2024-11-14T16:14:29.904102",
     "status": "completed"
    },
    "tags": []
   },
   "outputs": [
    {
     "name": "stdout",
     "output_type": "stream",
     "text": [
      "Saved 'minimizedData/BA_beers_small.csv'\n"
     ]
    }
   ],
   "source": [
    "#out of exploration out of src\n",
    "BA_beers = pd.read_csv('baseData/BeerAdvocate/beers.csv')\n",
    "\n",
    "BA_beers = BA_beers.drop(['nbr_reviews','ba_score','bros_score','abv','avg_computed','zscore',\n",
    "            'nbr_matched_valid_ratings','avg_matched_valid_ratings'],axis=1)\n",
    "\n",
    "BA_beers.to_csv('minimizedData/BA_beers_small.csv', index=False) #otherwise extra col when wwe reimport...\n",
    "print(\"Saved 'minimizedData/BA_beers_small.csv'\")"
   ]
  },
  {
   "cell_type": "code",
   "execution_count": 4,
   "id": "0921b064",
   "metadata": {
    "execution": {
     "iopub.execute_input": "2024-11-14T16:14:32.628157Z",
     "iopub.status.busy": "2024-11-14T16:14:32.628157Z",
     "iopub.status.idle": "2024-11-14T16:14:32.713412Z",
     "shell.execute_reply": "2024-11-14T16:14:32.713412Z"
    },
    "jupyter": {
     "source_hidden": true
    },
    "papermill": {
     "duration": 0.097665,
     "end_time": "2024-11-14T16:14:32.713412",
     "exception": false,
     "start_time": "2024-11-14T16:14:32.615747",
     "status": "completed"
    },
    "tags": []
   },
   "outputs": [
    {
     "name": "stdout",
     "output_type": "stream",
     "text": [
      "Saved 'minimizedData/BA_breweries_small.csv'\n"
     ]
    }
   ],
   "source": [
    "#out of exploration out of src\n",
    "BA_breweries = pd.read_csv('baseData/BeerAdvocate/breweries.csv')\n",
    "\n",
    "BA_breweries.to_csv('minimizedData/BA_breweries_small.csv', index=False) #keep everything\n",
    "print(\"Saved 'minimizedData/BA_breweries_small.csv'\")"
   ]
  },
  {
   "cell_type": "code",
   "execution_count": 5,
   "id": "d1dcebbf",
   "metadata": {
    "execution": {
     "iopub.execute_input": "2024-11-14T16:14:32.734162Z",
     "iopub.status.busy": "2024-11-14T16:14:32.734162Z",
     "iopub.status.idle": "2024-11-14T16:14:33.473301Z",
     "shell.execute_reply": "2024-11-14T16:14:33.473301Z"
    },
    "jupyter": {
     "source_hidden": true
    },
    "papermill": {
     "duration": 0.748701,
     "end_time": "2024-11-14T16:14:33.475809",
     "exception": false,
     "start_time": "2024-11-14T16:14:32.727108",
     "status": "completed"
    },
    "tags": []
   },
   "outputs": [
    {
     "name": "stdout",
     "output_type": "stream",
     "text": [
      "Saved 'minimizedData/BA_users_small.csv'\n"
     ]
    }
   ],
   "source": [
    "#out of exploration out of src\n",
    "BA_users = pd.read_csv('baseData/BeerAdvocate/users.csv')\n",
    "\n",
    "BA_users = BA_users.drop(['nbr_reviews', 'user_name', 'joined'], axis=1)\n",
    "\n",
    "BA_users.to_csv('minimizedData/BA_users_small.csv', index=False)\n",
    "print(\"Saved 'minimizedData/BA_users_small.csv'\")"
   ]
  },
  {
   "cell_type": "markdown",
   "id": "e502688a",
   "metadata": {
    "papermill": {
     "duration": 0.01192,
     "end_time": "2024-11-14T16:14:33.487729",
     "exception": false,
     "start_time": "2024-11-14T16:14:33.475809",
     "status": "completed"
    },
    "tags": []
   },
   "source": [
    "RateBeer"
   ]
  },
  {
   "cell_type": "code",
   "execution_count": 6,
   "id": "25a21d8d",
   "metadata": {
    "execution": {
     "iopub.execute_input": "2024-11-14T16:14:33.513911Z",
     "iopub.status.busy": "2024-11-14T16:14:33.513911Z",
     "iopub.status.idle": "2024-11-14T16:14:37.135879Z",
     "shell.execute_reply": "2024-11-14T16:14:37.135879Z"
    },
    "jupyter": {
     "source_hidden": true
    },
    "papermill": {
     "duration": 3.635588,
     "end_time": "2024-11-14T16:14:37.135879",
     "exception": false,
     "start_time": "2024-11-14T16:14:33.500291",
     "status": "completed"
    },
    "tags": []
   },
   "outputs": [
    {
     "name": "stdout",
     "output_type": "stream",
     "text": [
      "Saved 'minimizedData/RB_beers_small.csv'\n"
     ]
    }
   ],
   "source": [
    "#out of exploration out of src\n",
    "RB_beers = pd.read_csv('baseData/RateBeer/beers.csv')\n",
    "\n",
    "RB_beers = RB_beers.drop(['overall_score','style_score','abv','avg_computed','zscore',\n",
    "            'nbr_matched_valid_ratings','avg_matched_valid_ratings'],axis=1)\n",
    "\n",
    "\n",
    "RB_beers.to_csv('minimizedData/RB_beers_small.csv', index=False)\n",
    "print(\"Saved 'minimizedData/RB_beers_small.csv'\")"
   ]
  },
  {
   "cell_type": "code",
   "execution_count": 7,
   "id": "bf50bc71",
   "metadata": {
    "execution": {
     "iopub.execute_input": "2024-11-14T16:14:37.149638Z",
     "iopub.status.busy": "2024-11-14T16:14:37.149638Z",
     "iopub.status.idle": "2024-11-14T16:14:37.243965Z",
     "shell.execute_reply": "2024-11-14T16:14:37.243965Z"
    },
    "jupyter": {
     "source_hidden": true
    },
    "papermill": {
     "duration": 0.108086,
     "end_time": "2024-11-14T16:14:37.243965",
     "exception": false,
     "start_time": "2024-11-14T16:14:37.135879",
     "status": "completed"
    },
    "tags": []
   },
   "outputs": [
    {
     "name": "stdout",
     "output_type": "stream",
     "text": [
      "Saved 'minimizedData/RB_breweries_small.csv'\n"
     ]
    }
   ],
   "source": [
    "#out of exploration out of src\n",
    "RB_breweries = pd.read_csv('baseData/RateBeer/breweries.csv')\n",
    "\n",
    "RB_breweries.to_csv('minimizedData/RB_breweries_small.csv', index=False) #keep everything\n",
    "print(\"Saved 'minimizedData/RB_breweries_small.csv'\")"
   ]
  },
  {
   "cell_type": "code",
   "execution_count": 8,
   "id": "c091533a",
   "metadata": {
    "execution": {
     "iopub.execute_input": "2024-11-14T16:14:37.257204Z",
     "iopub.status.busy": "2024-11-14T16:14:37.257204Z",
     "iopub.status.idle": "2024-11-14T16:14:37.447166Z",
     "shell.execute_reply": "2024-11-14T16:14:37.447166Z"
    },
    "jupyter": {
     "source_hidden": true
    },
    "papermill": {
     "duration": 0.191724,
     "end_time": "2024-11-14T16:14:37.447166",
     "exception": false,
     "start_time": "2024-11-14T16:14:37.255442",
     "status": "completed"
    },
    "tags": []
   },
   "outputs": [
    {
     "name": "stdout",
     "output_type": "stream",
     "text": [
      "Saved 'minimizedData/RB_users_small.csv'\n"
     ]
    }
   ],
   "source": [
    "#out of exploration out of src\n",
    "RB_users = pd.read_csv('baseData/RateBeer/users.csv')\n",
    "\n",
    "RB_users.drop(['user_name', 'joined'], axis=1, inplace=True)\n",
    "\n",
    "RB_users.to_csv('minimizedData/RB_users_small.csv', index=False)\n",
    "print(\"Saved 'minimizedData/RB_users_small.csv'\")"
   ]
  }
 ],
 "metadata": {
  "kernelspec": {
   "display_name": "ada",
   "language": "python",
   "name": "python3"
  },
  "language_info": {
   "codemirror_mode": {
    "name": "ipython",
    "version": 3
   },
   "file_extension": ".py",
   "mimetype": "text/x-python",
   "name": "python",
   "nbconvert_exporter": "python",
   "pygments_lexer": "ipython3",
   "version": "3.11.9"
  },
  "papermill": {
   "default_parameters": {},
   "duration": 13.906786,
   "end_time": "2024-11-14T16:14:38.006791",
   "environment_variables": {},
   "exception": null,
   "input_path": "src/streamliningData/reducing_csv.ipynb",
   "output_path": "src/streamliningData/reducing_csv.ipynb",
   "parameters": {},
   "start_time": "2024-11-14T16:14:24.100005",
   "version": "2.6.0"
  }
 },
 "nbformat": 4,
 "nbformat_minor": 5
}