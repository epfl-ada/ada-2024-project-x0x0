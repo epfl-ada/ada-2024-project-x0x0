{
 "cells": [
  {
   "cell_type": "code",
   "execution_count": 1,
   "id": "33525fd7",
   "metadata": {
    "execution": {
     "iopub.execute_input": "2024-11-14T15:16:51.830109Z",
     "iopub.status.busy": "2024-11-14T15:16:51.830109Z",
     "iopub.status.idle": "2024-11-14T15:16:52.536733Z",
     "shell.execute_reply": "2024-11-14T15:16:52.536733Z"
    },
    "jupyter": {
     "source_hidden": true
    },
    "papermill": {
     "duration": 0.716528,
     "end_time": "2024-11-14T15:16:52.536733",
     "exception": false,
     "start_time": "2024-11-14T15:16:51.820205",
     "status": "completed"
    },
    "tags": []
   },
   "outputs": [],
   "source": [
    "import pandas as pd\n",
    "import gc"
   ]
  },
  {
   "cell_type": "code",
   "execution_count": 2,
   "id": "c0c8954d",
   "metadata": {
    "execution": {
     "iopub.execute_input": "2024-11-14T15:16:52.546753Z",
     "iopub.status.busy": "2024-11-14T15:16:52.546753Z",
     "iopub.status.idle": "2024-11-14T15:16:52.597992Z",
     "shell.execute_reply": "2024-11-14T15:16:52.596733Z"
    },
    "jupyter": {
     "source_hidden": true
    },
    "papermill": {
     "duration": 0.053271,
     "end_time": "2024-11-14T15:16:52.600024",
     "exception": false,
     "start_time": "2024-11-14T15:16:52.546753",
     "status": "completed"
    },
    "tags": []
   },
   "outputs": [
    {
     "name": "stdout",
     "output_type": "stream",
     "text": [
      "reducing_csv.ipynb takes around 5 seconds to run\n"
     ]
    }
   ],
   "source": [
    "gc.collect() #memory\n",
    "print(\"reducing_csv.ipynb takes around 5 seconds to run\")"
   ]
  },
  {
   "cell_type": "code",
   "execution_count": 3,
   "id": "8c43e7c7",
   "metadata": {
    "execution": {
     "iopub.execute_input": "2024-11-14T15:16:52.619435Z",
     "iopub.status.busy": "2024-11-14T15:16:52.619435Z",
     "iopub.status.idle": "2024-11-14T15:16:54.526588Z",
     "shell.execute_reply": "2024-11-14T15:16:54.526588Z"
    },
    "jupyter": {
     "source_hidden": true
    },
    "papermill": {
     "duration": 1.917945,
     "end_time": "2024-11-14T15:16:54.526588",
     "exception": false,
     "start_time": "2024-11-14T15:16:52.608643",
     "status": "completed"
    },
    "tags": []
   },
   "outputs": [
    {
     "name": "stdout",
     "output_type": "stream",
     "text": [
      "Saved 'minimizedData/BA_beers_small.csv'\n"
     ]
    }
   ],
   "source": [
    "#out of exploration out of src\n",
    "BA_beers = pd.read_csv('baseData/BeerAdvocate/beers.csv')\n",
    "\n",
    "BA_beers = BA_beers.drop(['nbr_reviews','ba_score','bros_score','abv','avg_computed','zscore',\n",
    "            'nbr_matched_valid_ratings','avg_matched_valid_ratings'],axis=1)\n",
    "\n",
    "BA_beers.to_csv('minimizedData/BA_beers_small.csv', index=False) #otherwise extra col when wwe reimport...\n",
    "print(\"Saved 'minimizedData/BA_beers_small.csv'\")"
   ]
  },
  {
   "cell_type": "code",
   "execution_count": 4,
   "id": "f7f184b6",
   "metadata": {
    "execution": {
     "iopub.execute_input": "2024-11-14T15:16:54.548220Z",
     "iopub.status.busy": "2024-11-14T15:16:54.548220Z",
     "iopub.status.idle": "2024-11-14T15:16:54.620722Z",
     "shell.execute_reply": "2024-11-14T15:16:54.620722Z"
    },
    "jupyter": {
     "source_hidden": true
    },
    "papermill": {
     "duration": 0.079917,
     "end_time": "2024-11-14T15:16:54.620722",
     "exception": false,
     "start_time": "2024-11-14T15:16:54.540805",
     "status": "completed"
    },
    "tags": []
   },
   "outputs": [
    {
     "name": "stdout",
     "output_type": "stream",
     "text": [
      "Saved 'minimizedData/BA_breweries_small.csv'\n"
     ]
    }
   ],
   "source": [
    "#out of exploration out of src\n",
    "BA_breweries = pd.read_csv('baseData/BeerAdvocate/breweries.csv')\n",
    "\n",
    "BA_breweries.to_csv('minimizedData/BA_breweries_small.csv', index=False) #keep everything\n",
    "print(\"Saved 'minimizedData/BA_breweries_small.csv'\")"
   ]
  },
  {
   "cell_type": "code",
   "execution_count": 5,
   "id": "b0056bd2",
   "metadata": {
    "execution": {
     "iopub.execute_input": "2024-11-14T15:16:54.638881Z",
     "iopub.status.busy": "2024-11-14T15:16:54.638881Z",
     "iopub.status.idle": "2024-11-14T15:16:55.434347Z",
     "shell.execute_reply": "2024-11-14T15:16:55.434347Z"
    },
    "jupyter": {
     "source_hidden": true
    },
    "papermill": {
     "duration": 0.813625,
     "end_time": "2024-11-14T15:16:55.434347",
     "exception": false,
     "start_time": "2024-11-14T15:16:54.620722",
     "status": "completed"
    },
    "tags": []
   },
   "outputs": [
    {
     "name": "stdout",
     "output_type": "stream",
     "text": [
      "Saved 'minimizedData/BA_users_small.csv'\n"
     ]
    }
   ],
   "source": [
    "#out of exploration out of src\n",
    "BA_users = pd.read_csv('baseData/BeerAdvocate/users.csv')\n",
    "\n",
    "BA_users = BA_users.drop(['nbr_reviews', 'user_name', 'joined'], axis=1)\n",
    "\n",
    "BA_users.to_csv('minimizedData/BA_users_small.csv', index=False)\n",
    "print(\"Saved 'minimizedData/BA_users_small.csv'\")"
   ]
  },
  {
   "cell_type": "markdown",
   "id": "bd1a8eb2",
   "metadata": {
    "papermill": {
     "duration": 0.019843,
     "end_time": "2024-11-14T15:16:55.454190",
     "exception": false,
     "start_time": "2024-11-14T15:16:55.434347",
     "status": "completed"
    },
    "tags": []
   },
   "source": [
    "RateBeer"
   ]
  },
  {
   "cell_type": "code",
   "execution_count": 6,
   "id": "59d2adfe",
   "metadata": {
    "execution": {
     "iopub.execute_input": "2024-11-14T15:16:55.476709Z",
     "iopub.status.busy": "2024-11-14T15:16:55.466705Z",
     "iopub.status.idle": "2024-11-14T15:16:58.637616Z",
     "shell.execute_reply": "2024-11-14T15:16:58.636615Z"
    },
    "jupyter": {
     "source_hidden": true
    },
    "papermill": {
     "duration": 3.173944,
     "end_time": "2024-11-14T15:16:58.640649",
     "exception": false,
     "start_time": "2024-11-14T15:16:55.466705",
     "status": "completed"
    },
    "tags": []
   },
   "outputs": [
    {
     "name": "stdout",
     "output_type": "stream",
     "text": [
      "Saved 'minimizedData/RB_beers_small.csv'\n"
     ]
    }
   ],
   "source": [
    "#out of exploration out of src\n",
    "RB_beers = pd.read_csv('baseData/RateBeer/beers.csv')\n",
    "\n",
    "RB_beers = RB_beers.drop(['overall_score','style_score','abv','avg_computed','zscore',\n",
    "            'nbr_matched_valid_ratings','avg_matched_valid_ratings'],axis=1)\n",
    "\n",
    "\n",
    "RB_beers.to_csv('minimizedData/RB_beers_small.csv', index=False)\n",
    "print(\"Saved 'minimizedData/RB_beers_small.csv'\")"
   ]
  },
  {
   "cell_type": "code",
   "execution_count": 7,
   "id": "075ea7d6",
   "metadata": {
    "execution": {
     "iopub.execute_input": "2024-11-14T15:16:58.655106Z",
     "iopub.status.busy": "2024-11-14T15:16:58.655106Z",
     "iopub.status.idle": "2024-11-14T15:16:58.752204Z",
     "shell.execute_reply": "2024-11-14T15:16:58.750664Z"
    },
    "jupyter": {
     "source_hidden": true
    },
    "papermill": {
     "duration": 0.10654,
     "end_time": "2024-11-14T15:16:58.753208",
     "exception": false,
     "start_time": "2024-11-14T15:16:58.646668",
     "status": "completed"
    },
    "tags": []
   },
   "outputs": [
    {
     "name": "stdout",
     "output_type": "stream",
     "text": [
      "Saved 'minimizedData/RB_breweries_small.csv'\n"
     ]
    }
   ],
   "source": [
    "#out of exploration out of src\n",
    "RB_breweries = pd.read_csv('baseData/RateBeer/breweries.csv')\n",
    "\n",
    "RB_breweries.to_csv('minimizedData/RB_breweries_small.csv', index=False) #keep everything\n",
    "print(\"Saved 'minimizedData/RB_breweries_small.csv'\")"
   ]
  },
  {
   "cell_type": "code",
   "execution_count": 8,
   "id": "230b017f",
   "metadata": {
    "execution": {
     "iopub.execute_input": "2024-11-14T15:16:58.765748Z",
     "iopub.status.busy": "2024-11-14T15:16:58.765748Z",
     "iopub.status.idle": "2024-11-14T15:16:59.022102Z",
     "shell.execute_reply": "2024-11-14T15:16:59.022102Z"
    },
    "jupyter": {
     "source_hidden": true
    },
    "papermill": {
     "duration": 0.262796,
     "end_time": "2024-11-14T15:16:59.022102",
     "exception": false,
     "start_time": "2024-11-14T15:16:58.759306",
     "status": "completed"
    },
    "tags": []
   },
   "outputs": [
    {
     "name": "stdout",
     "output_type": "stream",
     "text": [
      "Saved 'minimizedData/RB_users_small.csv'\n"
     ]
    }
   ],
   "source": [
    "#out of exploration out of src\n",
    "RB_users = pd.read_csv('baseData/RateBeer/users.csv')\n",
    "\n",
    "RB_users.drop(['user_name', 'joined'], axis=1, inplace=True)\n",
    "\n",
    "RB_users.to_csv('minimizedData/RB_users_small.csv', index=False)\n",
    "print(\"Saved 'minimizedData/RB_users_small.csv'\")"
   ]
  }
 ],
 "metadata": {
  "kernelspec": {
   "display_name": "Python 3.8.19 ('bachelor_project')",
   "language": "python",
   "name": "python3"
  },
  "language_info": {
   "codemirror_mode": {
    "name": "ipython",
    "version": 3
   },
   "file_extension": ".py",
   "mimetype": "text/x-python",
   "name": "python",
   "nbconvert_exporter": "python",
   "pygments_lexer": "ipython3",
   "version": "3.8.19"
  },
  "vscode": {
   "interpreter": {
    "hash": "ec4bdffda5b06bfe06e83280fc9167ae821730b2c55f7bc060d0a3d2bb72b812"
   }
   "version": "3.11.9"
  },
  "papermill": {
   "default_parameters": {},
   "duration": 11.091628,
   "end_time": "2024-11-14T15:16:59.374260",
   "environment_variables": {},
   "exception": null,
   "input_path": "src/streamliningData/reducing_csv.ipynb",
   "output_path": "src/streamliningData/reducing_csv.ipynb",
   "parameters": {},
   "start_time": "2024-11-14T15:16:48.282632",
   "version": "2.6.0"
  }
 },
 "nbformat": 4,
 "nbformat_minor": 5
}
