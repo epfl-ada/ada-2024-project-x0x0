{
 "cells": [
  {
   "cell_type": "code",
   "execution_count": 9,
   "metadata": {},
   "outputs": [],
   "source": [
    "import pandas as pd\n",
    "import gc"
   ]
  },
  {
   "cell_type": "code",
   "execution_count": 10,
   "metadata": {},
   "outputs": [
    {
     "name": "stdout",
     "output_type": "stream",
     "text": [
      "reducing_csv.ipynb takes around a minute to run\n"
     ]
    }
   ],
   "source": [
    "gc.collect() #memory\n",
    "print(\"reducing_csv.ipynb takes around 5 seconds to run\")"
   ]
  },
  {
   "cell_type": "code",
   "execution_count": 11,
   "metadata": {},
   "outputs": [
    {
     "name": "stdout",
     "output_type": "stream",
     "text": [
      "Saved '../../minimizedData/BA_beers_small.csv'\n"
     ]
    }
   ],
   "source": [
    "#out of exploration out of src\n",
    "BA_beers = pd.read_csv('../../baseData/BeerAdvocate/beers.csv')\n",
    "\n",
    "BA_beers = BA_beers.drop(['nbr_reviews','ba_score','bros_score','abv','avg_computed','zscore',\n",
    "            'nbr_matched_valid_ratings','avg_matched_valid_ratings'],axis=1)\n",
    "\n",
    "BA_beers.to_csv('../../minimizedData/BA_beers_small.csv', index=False) #otherwise extra col when wwe reimport...\n",
    "print(\"Saved '../../minimizedData/BA_beers_small.csv'\")"
   ]
  },
  {
   "cell_type": "code",
   "execution_count": 12,
   "metadata": {},
   "outputs": [
    {
     "name": "stdout",
     "output_type": "stream",
     "text": [
      "Saved '../../minimizedData/BA_breweries_small.csv'\n"
     ]
    }
   ],
   "source": [
    "#out of exploration out of src\n",
    "BA_breweries = pd.read_csv('../../baseData/BeerAdvocate/breweries.csv')\n",
    "\n",
    "BA_breweries.to_csv('../../minimizedData/BA_breweries_small.csv', index=False) #keep everything\n",
    "print(\"Saved '../../minimizedData/BA_breweries_small.csv'\")"
   ]
  },
  {
   "cell_type": "code",
   "execution_count": 13,
   "metadata": {},
   "outputs": [
    {
     "name": "stdout",
     "output_type": "stream",
     "text": [
      "Saved '../../minimizedData/BA_users_small.csv'\n"
     ]
    }
   ],
   "source": [
    "#out of exploration out of src\n",
    "BA_users = pd.read_csv('../../baseData/BeerAdvocate/users.csv')\n",
    "\n",
    "BA_users = BA_users.drop(['nbr_reviews', 'user_name', 'joined'], axis=1)\n",
    "\n",
    "BA_users.to_csv('../../minimizedData/BA_users_small.csv', index=False)\n",
    "print(\"Saved '../../minimizedData/BA_users_small.csv'\")"
   ]
  },
  {
   "cell_type": "markdown",
   "metadata": {},
   "source": [
    "RateBeer"
   ]
  },
  {
   "cell_type": "code",
   "execution_count": 14,
   "metadata": {},
   "outputs": [
    {
     "name": "stdout",
     "output_type": "stream",
     "text": [
      "Saved '../../minimizedData/RB_beers_small.csv'\n"
     ]
    }
   ],
   "source": [
    "#out of exploration out of src\n",
    "RB_beers = pd.read_csv('../../baseData/RateBeer/beers.csv')\n",
    "\n",
    "RB_beers = RB_beers.drop(['overall_score','style_score','abv','avg_computed','zscore',\n",
    "            'nbr_matched_valid_ratings','avg_matched_valid_ratings'],axis=1)\n",
    "\n",
    "\n",
    "RB_beers.to_csv('../../minimizedData/RB_beers_small.csv', index=False)\n",
    "print(\"Saved '../../minimizedData/RB_beers_small.csv'\")"
   ]
  },
  {
   "cell_type": "code",
   "execution_count": 15,
   "metadata": {},
   "outputs": [
    {
     "name": "stdout",
     "output_type": "stream",
     "text": [
      "Saved '../../minimizedData/RB_breweries_small.csv'\n"
     ]
    }
   ],
   "source": [
    "#out of exploration out of src\n",
    "RB_breweries = pd.read_csv('../../baseData/RateBeer/breweries.csv')\n",
    "\n",
    "RB_breweries.to_csv('../../minimizedData/RB_breweries_small.csv', index=False) #keep everything\n",
    "print(\"Saved '../../minimizedData/RB_breweries_small.csv'\")"
   ]
  },
  {
   "cell_type": "code",
   "execution_count": 16,
   "metadata": {},
   "outputs": [
    {
     "name": "stdout",
     "output_type": "stream",
     "text": [
      "Saved '../../minimizedData/RB_users_small.csv'\n"
     ]
    }
   ],
   "source": [
    "#out of exploration out of src\n",
    "RB_users = pd.read_csv('../../baseData/RateBeer/users.csv')\n",
    "\n",
    "RB_users.drop(['user_name', 'joined'], axis=1, inplace=True)\n",
    "\n",
    "RB_users.to_csv('../../minimizedData/RB_users_small.csv', index=False)\n",
    "print(\"Saved '../../minimizedData/RB_users_small.csv'\")"
   ]
  }
 ],
 "metadata": {
  "kernelspec": {
   "display_name": "Python 3.8.19 ('bachelor_project')",
   "language": "python",
   "name": "python3"
  },
  "language_info": {
   "codemirror_mode": {
    "name": "ipython",
    "version": 3
   },
   "file_extension": ".py",
   "mimetype": "text/x-python",
   "name": "python",
   "nbconvert_exporter": "python",
   "pygments_lexer": "ipython3",
   "version": "3.8.19"
  },
  "vscode": {
   "interpreter": {
    "hash": "ec4bdffda5b06bfe06e83280fc9167ae821730b2c55f7bc060d0a3d2bb72b812"
   }
  }
 },
 "nbformat": 4,
 "nbformat_minor": 2
}
