{
 "cells": [
  {
   "cell_type": "code",
   "execution_count": 1,
   "metadata": {},
   "outputs": [],
   "source": [
    "import pandas as pd"
   ]
  },
  {
   "cell_type": "markdown",
   "metadata": {},
   "source": [
    "BeerAdvocate"
   ]
  },
  {
   "cell_type": "code",
   "execution_count": 2,
   "metadata": {},
   "outputs": [
    {
     "name": "stdout",
     "output_type": "stream",
     "text": [
      "NaNs occupy: 11.69028177891412 percent\n"
     ]
    }
   ],
   "source": [
    "#out of exploration out of src\n",
    "beers = pd.read_csv('../../baseData/BeerAdvocate/beers.csv')\n",
    "\n",
    "beers.drop(['nbr_reviews','ba_score','bros_score','abv','avg_computed','zscore',\n",
    "            'nbr_matched_valid_ratings','avg_matched_valid_ratings'],axis=1, inplace=True)\n",
    "\n",
    "print('NaNs occupy: '+ str(beers['avg'].isna().mean()*100)+' percent') #10% nans\n",
    "\n",
    "beers.to_csv('../../minimizedData/BA_beers_small.csv', index=False) #otherwise extra col when wwe reimport..."
   ]
  },
  {
   "cell_type": "code",
   "execution_count": 3,
   "metadata": {},
   "outputs": [],
   "source": [
    "#out of exploration out of src\n",
    "breweries = pd.read_csv('../../baseData/BeerAdvocate/breweries.csv')\n",
    "\n",
    "breweries.to_csv('../../minimizedData/BA_breweries_small.csv', index=False) #keep everything"
   ]
  },
  {
   "cell_type": "code",
   "execution_count": 4,
   "metadata": {},
   "outputs": [],
   "source": [
    "#out of exploration out of src\n",
    "users = pd.read_csv('../../baseData/BeerAdvocate/users.csv')\n",
    "\n",
    "users.drop(['nbr_reviews', 'user_name', 'joined'], axis=1, inplace=True)\n",
    "\n",
    "users.to_csv('../../minimizedData/BA_users_small.csv', index=False)"
   ]
  },
  {
   "cell_type": "markdown",
   "metadata": {},
   "source": [
    "RateBeer"
   ]
  },
  {
   "cell_type": "code",
   "execution_count": 5,
   "metadata": {},
   "outputs": [
    {
     "name": "stdout",
     "output_type": "stream",
     "text": [
      "NaNs occupy: 10.501242984882861 percent\n"
     ]
    }
   ],
   "source": [
    "#out of exploration out of src\n",
    "beers = pd.read_csv('../../baseData/RateBeer/beers.csv')\n",
    "\n",
    "beers.drop(['overall_score','style_score','abv','avg_computed','zscore',\n",
    "            'nbr_matched_valid_ratings','avg_matched_valid_ratings'],axis=1, inplace=True)\n",
    "\n",
    "print('NaNs occupy: '+ str(beers['avg'].isna().mean()*100)+' percent') #10% nans\n",
    "\n",
    "beers.to_csv('../../minimizedData/RB_beers_small.csv', index=False)"
   ]
  },
  {
   "cell_type": "code",
   "execution_count": 6,
   "metadata": {},
   "outputs": [],
   "source": [
    "#out of exploration out of src\n",
    "breweries = pd.read_csv('../../baseData/RateBeer/breweries.csv')\n",
    "\n",
    "breweries.to_csv('../../minimizedData/RB_breweries_small.csv', index=False) #keep everything"
   ]
  },
  {
   "cell_type": "code",
   "execution_count": 7,
   "metadata": {},
   "outputs": [],
   "source": [
    "#out of exploration out of src\n",
    "users = pd.read_csv('../../baseData/RateBeer/users.csv')\n",
    "\n",
    "users.drop(['user_name', 'joined'], axis=1, inplace=True)\n",
    "\n",
    "users.to_csv('../../minimizedData/RB_users_small.csv', index=False)"
   ]
  }
 ],
 "metadata": {
  "kernelspec": {
   "display_name": "Python 3.8.19 ('bachelor_project')",
   "language": "python",
   "name": "python3"
  },
  "language_info": {
   "codemirror_mode": {
    "name": "ipython",
    "version": 3
   },
   "file_extension": ".py",
   "mimetype": "text/x-python",
   "name": "python",
   "nbconvert_exporter": "python",
   "pygments_lexer": "ipython3",
   "version": "3.8.19"
  },
  "vscode": {
   "interpreter": {
    "hash": "ec4bdffda5b06bfe06e83280fc9167ae821730b2c55f7bc060d0a3d2bb72b812"
   }
  }
 },
 "nbformat": 4,
 "nbformat_minor": 2
}
