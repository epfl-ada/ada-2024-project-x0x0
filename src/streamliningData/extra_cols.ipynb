{
 "cells": [
  {
   "cell_type": "code",
   "execution_count": 1,
   "metadata": {},
   "outputs": [],
   "source": [
    "import pandas as pd"
   ]
  },
  {
   "cell_type": "code",
   "execution_count": 2,
   "metadata": {},
   "outputs": [],
   "source": [
    "BAs_beers = pd.read_csv('../../minimizedData/BA_beers_small.csv')\n",
    "BAs_breweries = pd.read_csv('../../minimizedData/BA_breweries_small.csv')\n",
    "BAs_ratings = pd.read_csv('../../minimizedData/BA_ratings_small.csv')\n",
    "BAs_users = pd.read_csv('../../minimizedData/BA_users_small.csv')\n",
    "\n",
    "RBs_beers = pd.read_csv('../../minimizedData/RB_beers_small.csv')\n",
    "RBs_breweries = pd.read_csv('../../minimizedData/RB_breweries_small.csv')\n",
    "RBs_ratings = pd.read_csv('../../minimizedData/RB_ratings_small.csv')\n",
    "RBs_users = pd.read_csv('../../minimizedData/RB_users_small.csv')\n",
    "\n",
    "BAs_breweries = BAs_breweries.rename(columns={'id': 'brewery_id'}) #change the name for merging\n",
    "RBs_breweries = RBs_breweries.rename(columns={'id': 'brewery_id'}) \n"
   ]
  },
  {
   "cell_type": "code",
   "execution_count": 3,
   "metadata": {},
   "outputs": [],
   "source": [
    "#extra location column\n",
    "BAs_beers_loc = BAs_beers.merge(BAs_breweries[['brewery_id', 'location']], on='brewery_id', how='left')\n",
    "BAs_beers_loc = BAs_beers_loc.drop(BAs_beers_loc.columns[0], axis=1) #parasyte col\n",
    "\n",
    "BAs_ratings_loc = BAs_ratings.merge(BAs_users[['user_id', 'location']], on='user_id', how='left')\n",
    "BAs_ratings_loc = BAs_ratings_loc.drop(BAs_ratings_loc.columns[0], axis=1) #parasyte col\n",
    "\n",
    "RBs_beers_loc = RBs_beers.merge(RBs_breweries[['brewery_id', 'location']], on='brewery_id', how='left')\n",
    "RBs_beers_loc = RBs_beers_loc.drop(RBs_beers_loc.columns[0], axis=1) #parasyte col\n",
    "\n",
    "RBs_ratings_loc = RBs_ratings.merge(RBs_users[['user_id', 'location']], on='user_id', how='left')\n",
    "RBs_ratings_loc = RBs_ratings_loc.drop(RBs_ratings_loc.columns[0], axis=1) #parasyte col"
   ]
  },
  {
   "cell_type": "code",
   "execution_count": 4,
   "metadata": {},
   "outputs": [],
   "source": [
    "#modify the the location names to avoid confusion between beer_location and rating_location\n",
    "BAs_beers_loc = BAs_beers_loc.rename(columns={'location': 'beer_location'})\n",
    "BAs_ratings_loc = BAs_ratings_loc.rename(columns={'location': 'user_location'})\n",
    "\n",
    "RBs_beers_loc = RBs_beers_loc.rename(columns={'location': 'beer_location'})\n",
    "RBs_ratings_loc = RBs_ratings_loc.rename(columns={'location': 'user_location'})"
   ]
  },
  {
   "cell_type": "code",
   "execution_count": 5,
   "metadata": {},
   "outputs": [],
   "source": [
    "BAs_beers_loc.to_csv('../../minimizedData/BA_beers_small_plus.csv')\n",
    "BAs_ratings_loc.to_csv('../../minimizedData/BA_ratings_small_plus.csv')\n",
    "RBs_beers_loc.to_csv('../../minimizedData/RB_beers_small_plus.csv')\n",
    "RBs_ratings_loc.to_csv('../../minimizedData/RB_ratings_small_plus.csv')"
   ]
  }
 ],
 "metadata": {
  "kernelspec": {
   "display_name": "ada",
   "language": "python",
   "name": "python3"
  },
  "language_info": {
   "codemirror_mode": {
    "name": "ipython",
    "version": 3
   },
   "file_extension": ".py",
   "mimetype": "text/x-python",
   "name": "python",
   "nbconvert_exporter": "python",
   "pygments_lexer": "ipython3",
   "version": "3.11.9"
  }
 },
 "nbformat": 4,
 "nbformat_minor": 2
}
