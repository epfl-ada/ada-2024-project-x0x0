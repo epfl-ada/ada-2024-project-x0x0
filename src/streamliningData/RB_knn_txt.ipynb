{
 "cells": [
  {
   "cell_type": "code",
   "execution_count": 1,
   "id": "f8ccc7df",
   "metadata": {
    "execution": {
     "iopub.execute_input": "2024-11-29T23:24:29.341121Z",
     "iopub.status.busy": "2024-11-29T23:24:29.341121Z",
     "iopub.status.idle": "2024-11-29T23:24:30.368382Z",
     "shell.execute_reply": "2024-11-29T23:24:30.368382Z"
    },
    "jupyter": {
     "source_hidden": true
    },
    "papermill": {
     "duration": 1.05063,
     "end_time": "2024-11-29T23:24:30.370400",
     "exception": false,
     "start_time": "2024-11-29T23:24:29.319770",
     "status": "completed"
    },
    "tags": []
   },
   "outputs": [],
   "source": [
    "import pandas as pd\n",
    "import gc"
   ]
  },
  {
   "cell_type": "code",
   "execution_count": 2,
   "id": "0b094f5b",
   "metadata": {
    "execution": {
     "iopub.execute_input": "2024-11-29T23:24:30.381673Z",
     "iopub.status.busy": "2024-11-29T23:24:30.381673Z",
     "iopub.status.idle": "2024-11-29T23:24:30.419218Z",
     "shell.execute_reply": "2024-11-29T23:24:30.419218Z"
    },
    "jupyter": {
     "source_hidden": true
    },
    "papermill": {
     "duration": 0.040819,
     "end_time": "2024-11-29T23:24:30.419218",
     "exception": false,
     "start_time": "2024-11-29T23:24:30.378399",
     "status": "completed"
    },
    "tags": []
   },
   "outputs": [
    {
     "name": "stdout",
     "output_type": "stream",
     "text": [
      "RB_knn_data.ipynb takes around 5 minutes to run\n"
     ]
    }
   ],
   "source": [
    "gc.collect() #memory\n",
    "print(\"RB_knn_data.ipynb takes around 5 minutes to run\")"
   ]
  },
  {
   "cell_type": "code",
   "execution_count": null,
   "id": "e974c010",
   "metadata": {
    "execution": {
     "iopub.execute_input": "2024-11-29T23:24:30.439351Z",
     "iopub.status.busy": "2024-11-29T23:24:30.438353Z",
     "iopub.status.idle": "2024-11-29T23:24:30.450145Z",
     "shell.execute_reply": "2024-11-29T23:24:30.448311Z"
    },
    "jupyter": {
     "source_hidden": true
    },
    "papermill": {
     "duration": 0.033321,
     "end_time": "2024-11-29T23:24:30.452539",
     "exception": false,
     "start_time": "2024-11-29T23:24:30.419218",
     "status": "completed"
    },
    "tags": []
   },
   "outputs": [],
   "source": [
    "new_column_names = [\n",
    "    'beer_name', 'beer_id', 'brewery_name', 'brewery_id', 'style', 'abv', 'date',\n",
    "    'user_name', 'user_id', 'appearance', 'aroma', 'palate', 'taste', 'overall',\n",
    "    'rating', 'text'\n",
    "]\n",
    "\n",
    "output_file_path = 'knnData/RB_knn_text.csv'\n",
    "\n",
    "def parse_ratings_file(file_path, chunk_size=15_000_001, start=0, stop=200_000_000): #chunk is a mulitple of 17 since our text 'block' size is 18\n",
    "    #initialise the csv\n",
    "    pd.DataFrame(columns=new_column_names).drop(['date', 'user_name'], axis=1).to_csv(\n",
    "        output_file_path, index=False\n",
    "    )\n",
    "\n",
    "    current_block = []\n",
    "    data = []\n",
    "    i = 0\n",
    "    k = 0 \n",
    "    chunk = 0\n",
    "    \n",
    "    with open(file_path, 'r', encoding='utf-8') as file:\n",
    "        for line in file:\n",
    "            i += 1\n",
    "            k += 1\n",
    "            if i<start: continue\n",
    "           \n",
    "            if i+16>stop: break\n",
    "           \n",
    "            if i % 10_000_000 == 0: print('Processing line: ', i)\n",
    "\n",
    "            line = line.strip()  #remove whitespace\n",
    "\n",
    "            if not line:  #empty line signifies end of block\n",
    "                data.append(current_block)\n",
    "                current_block = []\n",
    "                \n",
    "            if k >= chunk_size:\n",
    "                k = 0\n",
    "                chunk += 1\n",
    "                print('Processing chunk :', chunk)\n",
    "                \n",
    "                df = pd.DataFrame(data, columns=new_column_names)\n",
    "                df = df.drop(['date', 'user_name'], axis=1)\n",
    "                df.to_csv(output_file_path, mode='a', index=False, header=False)\n",
    "                data = []  \n",
    "                gc.collect()  #manually invoke garRBge collection\n",
    "                    \n",
    "                    \n",
    "            if ': ' in line:  \n",
    "                key, value = line.split(': ', 1)\n",
    "                current_block.append(value)\n",
    "\n",
    "        if data: #save any leftover data at the end\n",
    "            data.append(current_block)\n",
    "            current_block = []\n",
    "            print(k)\n",
    "            k = 0\n",
    "            chunk += 1 \n",
    "            print('Processing chunk :', chunk)\n",
    "            \n",
    "            df = pd.DataFrame(data, columns=new_column_names)\n",
    "            df = df.drop(['date', 'user_name'], axis=1)\n",
    "            df.to_csv(output_file_path, mode='a', index=False, header=False)\n",
    "            data = []  \n",
    "            gc.collect() \n",
    "            \n",
    "    print('Done!')"
   ]
  },
  {
   "cell_type": "code",
   "execution_count": 4,
   "id": "db753c57",
   "metadata": {
    "execution": {
     "iopub.execute_input": "2024-11-29T23:24:30.469184Z",
     "iopub.status.busy": "2024-11-29T23:24:30.468184Z",
     "iopub.status.idle": "2024-11-29T23:28:24.581207Z",
     "shell.execute_reply": "2024-11-29T23:28:24.581207Z"
    },
    "jupyter": {
     "source_hidden": true
    },
    "papermill": {
     "duration": 234.126605,
     "end_time": "2024-11-29T23:28:24.581207",
     "exception": false,
     "start_time": "2024-11-29T23:24:30.454602",
     "status": "completed"
    },
    "tags": []
   },
   "outputs": [
    {
     "name": "stdout",
     "output_type": "stream",
     "text": [
      "There are around 150 million lines of text\n"
     ]
    },
    {
     "name": "stdout",
     "output_type": "stream",
     "text": [
      "Processing line:  10000000\n"
     ]
    },
    {
     "name": "stdout",
     "output_type": "stream",
     "text": [
      "Processing chunk : 1\n"
     ]
    },
    {
     "name": "stdout",
     "output_type": "stream",
     "text": [
      "Processing line:  20000000\n"
     ]
    },
    {
     "name": "stdout",
     "output_type": "stream",
     "text": [
      "Processing line:  30000000\n",
      "Processing chunk : 2\n"
     ]
    },
    {
     "name": "stdout",
     "output_type": "stream",
     "text": [
      "Processing line:  40000000\n"
     ]
    },
    {
     "name": "stdout",
     "output_type": "stream",
     "text": [
      "Processing chunk : 3\n"
     ]
    },
    {
     "name": "stdout",
     "output_type": "stream",
     "text": [
      "Processing line:  50000000\n"
     ]
    },
    {
     "name": "stdout",
     "output_type": "stream",
     "text": [
      "Processing line:  60000000\n",
      "Processing chunk : 4\n"
     ]
    },
    {
     "name": "stdout",
     "output_type": "stream",
     "text": [
      "Processing line:  70000000\n"
     ]
    },
    {
     "name": "stdout",
     "output_type": "stream",
     "text": [
      "Processing chunk : 5\n"
     ]
    },
    {
     "name": "stdout",
     "output_type": "stream",
     "text": [
      "Processing line:  80000000\n"
     ]
    },
    {
     "name": "stdout",
     "output_type": "stream",
     "text": [
      "Processing line:  90000000\n",
      "Processing chunk : 6\n"
     ]
    },
    {
     "name": "stdout",
     "output_type": "stream",
     "text": [
      "Processing line:  100000000\n"
     ]
    },
    {
     "name": "stdout",
     "output_type": "stream",
     "text": [
      "Processing chunk : 7\n"
     ]
    },
    {
     "name": "stdout",
     "output_type": "stream",
     "text": [
      "Processing line:  110000000\n"
     ]
    },
    {
     "name": "stdout",
     "output_type": "stream",
     "text": [
      "Processing line:  120000000\n",
      "Processing chunk : 8\n"
     ]
    },
    {
     "name": "stdout",
     "output_type": "stream",
     "text": [
      "1075250\n",
      "Processing chunk : 9\n"
     ]
    },
    {
     "name": "stdout",
     "output_type": "stream",
     "text": [
      "Done!\n"
     ]
    }
   ],
   "source": [
    "#takes 4 mins\n",
    "print(\"There are around 150 million lines of text\")\n",
    "parse_ratings_file('baseData/RateBeer/ratings.txt')"
   ]
  },
  {
   "cell_type": "code",
   "execution_count": null,
   "id": "f7e5050c",
   "metadata": {
    "execution": {
     "iopub.execute_input": "2024-11-29T23:28:24.598879Z",
     "iopub.status.busy": "2024-11-29T23:28:24.598879Z",
     "iopub.status.idle": "2024-11-29T23:33:23.794614Z",
     "shell.execute_reply": "2024-11-29T23:33:23.788239Z"
    },
    "jupyter": {
     "source_hidden": true
    },
    "papermill": {
     "duration": 299.370873,
     "end_time": "2024-11-29T23:33:23.968708",
     "exception": false,
     "start_time": "2024-11-29T23:28:24.597835",
     "status": "completed"
    },
    "tags": []
   },
   "outputs": [
    {
     "name": "stdout",
     "output_type": "stream",
     "text": [
      "Saved 'knnData/RB_knn_txt.csv'\n"
     ]
    },
    {
     "data": {
      "text/html": [
       "<div>\n",
       "<style scoped>\n",
       "    .dataframe tbody tr th:only-of-type {\n",
       "        vertical-align: middle;\n",
       "    }\n",
       "\n",
       "    .dataframe tbody tr th {\n",
       "        vertical-align: top;\n",
       "    }\n",
       "\n",
       "    .dataframe thead th {\n",
       "        text-align: right;\n",
       "    }\n",
       "</style>\n",
       "<table border=\"1\" class=\"dataframe\">\n",
       "  <thead>\n",
       "    <tr style=\"text-align: right;\">\n",
       "      <th></th>\n",
       "      <th>beer_name</th>\n",
       "      <th>beer_id</th>\n",
       "      <th>brewery_name</th>\n",
       "      <th>brewery_id</th>\n",
       "      <th>style</th>\n",
       "      <th>abv</th>\n",
       "      <th>user_id</th>\n",
       "      <th>appearance</th>\n",
       "      <th>aroma</th>\n",
       "      <th>palate</th>\n",
       "      <th>taste</th>\n",
       "      <th>overall</th>\n",
       "      <th>rating</th>\n",
       "      <th>text</th>\n",
       "    </tr>\n",
       "  </thead>\n",
       "  <tbody>\n",
       "    <tr>\n",
       "      <th>0</th>\n",
       "      <td>33 Export (Gabon)</td>\n",
       "      <td>410549.0</td>\n",
       "      <td>Sobraga</td>\n",
       "      <td>3198.0</td>\n",
       "      <td>Pale Lager</td>\n",
       "      <td>5.0</td>\n",
       "      <td>175852.0</td>\n",
       "      <td>2.0</td>\n",
       "      <td>4.0</td>\n",
       "      <td>2.0</td>\n",
       "      <td>4.0</td>\n",
       "      <td>8.0</td>\n",
       "      <td>2.0</td>\n",
       "      <td>Puszka 0,33l dzięki Christoph . Kolor jasnozło...</td>\n",
       "    </tr>\n",
       "    <tr>\n",
       "      <th>1</th>\n",
       "      <td>Castel Beer (Gabon)</td>\n",
       "      <td>105273.0</td>\n",
       "      <td>Sobraga</td>\n",
       "      <td>3198.0</td>\n",
       "      <td>Pale Lager</td>\n",
       "      <td>5.2</td>\n",
       "      <td>442761.0</td>\n",
       "      <td>2.0</td>\n",
       "      <td>3.0</td>\n",
       "      <td>2.0</td>\n",
       "      <td>4.0</td>\n",
       "      <td>8.0</td>\n",
       "      <td>1.9</td>\n",
       "      <td>Cerveza pale lager gabonesa. MÃ¡s floja que la...</td>\n",
       "    </tr>\n",
       "  </tbody>\n",
       "</table>\n",
       "</div>"
      ],
      "text/plain": [
       "             beer_name   beer_id brewery_name  brewery_id       style  abv  \\\n",
       "0    33 Export (Gabon)  410549.0      Sobraga      3198.0  Pale Lager  5.0   \n",
       "1  Castel Beer (Gabon)  105273.0      Sobraga      3198.0  Pale Lager  5.2   \n",
       "\n",
       "    user_id  appearance  aroma  palate  taste  overall  rating  \\\n",
       "0  175852.0         2.0    4.0     2.0    4.0      8.0     2.0   \n",
       "1  442761.0         2.0    3.0     2.0    4.0      8.0     1.9   \n",
       "\n",
       "                                                text  \n",
       "0  Puszka 0,33l dzięki Christoph . Kolor jasnozło...  \n",
       "1  Cerveza pale lager gabonesa. MÃ¡s floja que la...  "
      ]
     },
     "execution_count": 5,
     "metadata": {},
     "output_type": "execute_result"
    }
   ],
   "source": [
    "df = pd.read_csv('knnData/RB_knn_text.csv')\n",
    "df = df.drop(df.index[-1])\n",
    "df.to_csv('knnData/RB_knn_text.csv', index=False)\n",
    "print(\"Saved 'knnData/RB_knn_text.csv'\")\n",
    "df = pd.read_csv('knnData/RB_knn_text.csv')\n",
    "df.head(2)"
   ]
  },
  {
   "cell_type": "code",
   "execution_count": 6,
   "id": "62a9c6e1",
   "metadata": {
    "execution": {
     "iopub.execute_input": "2024-11-29T23:33:24.017476Z",
     "iopub.status.busy": "2024-11-29T23:33:24.016478Z",
     "iopub.status.idle": "2024-11-29T23:33:24.033456Z",
     "shell.execute_reply": "2024-11-29T23:33:24.031445Z"
    },
    "jupyter": {
     "source_hidden": true
    },
    "papermill": {
     "duration": 0.043553,
     "end_time": "2024-11-29T23:33:24.036454",
     "exception": false,
     "start_time": "2024-11-29T23:33:23.992901",
     "status": "completed"
    },
    "tags": []
   },
   "outputs": [],
   "source": [
    "#df.tail(2)"
   ]
  },
  {
   "cell_type": "code",
   "execution_count": 7,
   "id": "e3e68df7",
   "metadata": {
    "execution": {
     "iopub.execute_input": "2024-11-29T23:33:24.059587Z",
     "iopub.status.busy": "2024-11-29T23:33:24.059587Z",
     "iopub.status.idle": "2024-11-29T23:33:24.065307Z",
     "shell.execute_reply": "2024-11-29T23:33:24.063966Z"
    },
    "jupyter": {
     "source_hidden": true
    },
    "papermill": {
     "duration": 0.018701,
     "end_time": "2024-11-29T23:33:24.066308",
     "exception": false,
     "start_time": "2024-11-29T23:33:24.047607",
     "status": "completed"
    },
    "tags": []
   },
   "outputs": [],
   "source": [
    "#df.sample(3)"
   ]
  }
 ],
 "metadata": {
  "kernelspec": {
   "display_name": "ada",
   "language": "python",
   "name": "python3"
  },
  "language_info": {
   "codemirror_mode": {
    "name": "ipython",
    "version": 3
   },
   "file_extension": ".py",
   "mimetype": "text/x-python",
   "name": "python",
   "nbconvert_exporter": "python",
   "pygments_lexer": "ipython3",
   "version": "3.11.9"
  },
  "papermill": {
   "default_parameters": {},
   "duration": 540.56149,
   "end_time": "2024-11-29T23:33:26.765924",
   "environment_variables": {},
   "exception": null,
   "input_path": "src/streamliningData/RB_knn_txt.ipynb",
   "output_path": "src/streamliningData/RB_knn_txt.ipynb",
   "parameters": {},
   "start_time": "2024-11-29T23:24:26.204434",
   "version": "2.6.0"
  }
 },
 "nbformat": 4,
 "nbformat_minor": 5
}
