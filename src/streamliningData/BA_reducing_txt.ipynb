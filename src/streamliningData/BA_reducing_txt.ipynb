{
 "cells": [
  {
   "cell_type": "code",
   "execution_count": 1,
   "id": "f8ccc7df",
   "metadata": {
    "execution": {
     "iopub.execute_input": "2024-11-14T16:14:40.514187Z",
     "iopub.status.busy": "2024-11-14T16:14:40.514187Z",
     "iopub.status.idle": "2024-11-14T16:14:41.526481Z",
     "shell.execute_reply": "2024-11-14T16:14:41.526481Z"
    },
    "jupyter": {
     "source_hidden": true
    },
    "papermill": {
     "duration": 1.044209,
     "end_time": "2024-11-14T16:14:41.526481",
     "exception": false,
     "start_time": "2024-11-14T16:14:40.482272",
     "status": "completed"
    },
    "tags": []
   },
   "outputs": [],
   "source": [
    "import pandas as pd\n",
    "import gc"
   ]
  },
  {
   "cell_type": "code",
   "execution_count": 2,
   "id": "0b094f5b",
   "metadata": {
    "execution": {
     "iopub.execute_input": "2024-11-14T16:14:41.559811Z",
     "iopub.status.busy": "2024-11-14T16:14:41.559811Z",
     "iopub.status.idle": "2024-11-14T16:14:41.608446Z",
     "shell.execute_reply": "2024-11-14T16:14:41.608446Z"
    },
    "jupyter": {
     "source_hidden": true
    },
    "papermill": {
     "duration": 0.065325,
     "end_time": "2024-11-14T16:14:41.608446",
     "exception": false,
     "start_time": "2024-11-14T16:14:41.543121",
     "status": "completed"
    },
    "tags": []
   },
   "outputs": [
    {
     "name": "stdout",
     "output_type": "stream",
     "text": [
      "BA_reducing_txt.ipynb takes around 5 minutes to run\n"
     ]
    }
   ],
   "source": [
    "gc.collect() #memory\n",
    "print(\"BA_reducing_txt.ipynb takes around 5 minutes to run\")"
   ]
  },
  {
   "cell_type": "code",
   "execution_count": 3,
   "id": "e974c010",
   "metadata": {
    "execution": {
     "iopub.execute_input": "2024-11-14T16:14:41.633100Z",
     "iopub.status.busy": "2024-11-14T16:14:41.633100Z",
     "iopub.status.idle": "2024-11-14T16:14:41.657809Z",
     "shell.execute_reply": "2024-11-14T16:14:41.657809Z"
    },
    "jupyter": {
     "source_hidden": true
    },
    "papermill": {
     "duration": 0.034761,
     "end_time": "2024-11-14T16:14:41.657809",
     "exception": false,
     "start_time": "2024-11-14T16:14:41.623048",
     "status": "completed"
    },
    "tags": []
   },
   "outputs": [],
   "source": [
    "new_column_names = [\n",
    "    'beer_name', 'beer_id', 'brewery_name', 'brewery_id', 'style', 'abv', 'date',\n",
    "    'user_name', 'user_id', 'appearance', 'aroma', 'palate', 'taste', 'overall',\n",
    "    'rating', 'text', 'review'\n",
    "]\n",
    "\n",
    "output_file_path = 'minimizedData/BA_ratings_small.csv'\n",
    "\n",
    "def parse_ratings_file(file_path, chunk_size=15_000_012, start=0, stop=200_000_000): #chunk is a mulitple of 18 since our text 'block' size is 18\n",
    "    #initialise the csv\n",
    "    pd.DataFrame(columns=new_column_names).drop(['user_name','abv','date','text','review'], axis=1).to_csv(\n",
    "        output_file_path, index=False\n",
    "    )\n",
    "\n",
    "    current_block = []\n",
    "    data = []\n",
    "    i = 0\n",
    "    k = 0 \n",
    "    chunk = 0\n",
    "    \n",
    "    with open(file_path, 'r', encoding='utf-8') as file:\n",
    "        for line in file:\n",
    "            i += 1\n",
    "            k += 1\n",
    "            if i<start: continue\n",
    "           \n",
    "            if i+18>stop: break\n",
    "           \n",
    "            if i % 10_000_000 == 0: print('Processing line: ', i)\n",
    "\n",
    "            line = line.strip()  #remove whitespace\n",
    "\n",
    "            if not line:  #empty line signifies end of block\n",
    "                data.append(current_block)\n",
    "                current_block = []\n",
    "                \n",
    "            if k >= chunk_size:\n",
    "                k = 0\n",
    "                chunk += 1\n",
    "                print('Processing chunk :', chunk)\n",
    "                \n",
    "                df = pd.DataFrame(data, columns=new_column_names)\n",
    "                df = df.drop(['user_name', 'abv', 'date', 'text', 'review'], axis=1)\n",
    "                df.to_csv(output_file_path, mode='a', index=False, header=False)\n",
    "                data = []  \n",
    "                gc.collect()  #manually invoke garbage collection\n",
    "                    \n",
    "                    \n",
    "            if ': ' in line:  \n",
    "                key, value = line.split(': ', 1)\n",
    "                current_block.append(value)\n",
    "\n",
    "        if data: #save any leftover data at the end\n",
    "            data.append(current_block)\n",
    "            current_block = []\n",
    "            print(k)\n",
    "            k = 0\n",
    "            chunk += 1 \n",
    "            print('Processing chunk :', chunk)\n",
    "            \n",
    "            df = pd.DataFrame(data, columns=new_column_names)\n",
    "            df = df.drop(['user_name', 'abv', 'date', 'text', 'review'], axis=1)\n",
    "            df.dropna()\n",
    "            df.to_csv(output_file_path, mode='a', index=False, header=False)\n",
    "            data = []  \n",
    "            gc.collect() \n",
    "            \n",
    "    print('Done!')\n",
    "\n",
    "\n"
   ]
  },
  {
   "cell_type": "code",
   "execution_count": 4,
   "id": "db753c57",
   "metadata": {
    "execution": {
     "iopub.execute_input": "2024-11-14T16:14:41.711209Z",
     "iopub.status.busy": "2024-11-14T16:14:41.711209Z",
     "iopub.status.idle": "2024-11-14T16:19:00.851060Z",
     "shell.execute_reply": "2024-11-14T16:19:00.851060Z"
    },
    "jupyter": {
     "source_hidden": true
    },
    "papermill": {
     "duration": 259.172311,
     "end_time": "2024-11-14T16:19:00.862131",
     "exception": false,
     "start_time": "2024-11-14T16:14:41.689820",
     "status": "completed"
    },
    "tags": []
   },
   "outputs": [
    {
     "name": "stdout",
     "output_type": "stream",
     "text": [
      "There are around 150 million lines of text\n"
     ]
    },
    {
     "name": "stdout",
     "output_type": "stream",
     "text": [
      "Processing line:  10000000\n"
     ]
    },
    {
     "name": "stdout",
     "output_type": "stream",
     "text": [
      "Processing chunk : 1\n"
     ]
    },
    {
     "name": "stdout",
     "output_type": "stream",
     "text": [
      "Processing line:  20000000\n"
     ]
    },
    {
     "name": "stdout",
     "output_type": "stream",
     "text": [
      "Processing line:  30000000\n",
      "Processing chunk : 2\n"
     ]
    },
    {
     "name": "stdout",
     "output_type": "stream",
     "text": [
      "Processing line:  40000000\n"
     ]
    },
    {
     "name": "stdout",
     "output_type": "stream",
     "text": [
      "Processing chunk : 3\n"
     ]
    },
    {
     "name": "stdout",
     "output_type": "stream",
     "text": [
      "Processing line:  50000000\n"
     ]
    },
    {
     "name": "stdout",
     "output_type": "stream",
     "text": [
      "Processing line:  60000000\n",
      "Processing chunk : 4\n"
     ]
    },
    {
     "name": "stdout",
     "output_type": "stream",
     "text": [
      "Processing line:  70000000\n"
     ]
    },
    {
     "name": "stdout",
     "output_type": "stream",
     "text": [
      "Processing chunk : 5\n"
     ]
    },
    {
     "name": "stdout",
     "output_type": "stream",
     "text": [
      "Processing line:  80000000\n"
     ]
    },
    {
     "name": "stdout",
     "output_type": "stream",
     "text": [
      "Processing line:  90000000\n",
      "Processing chunk : 6\n"
     ]
    },
    {
     "name": "stdout",
     "output_type": "stream",
     "text": [
      "Processing line:  100000000\n"
     ]
    },
    {
     "name": "stdout",
     "output_type": "stream",
     "text": [
      "Processing chunk : 7\n"
     ]
    },
    {
     "name": "stdout",
     "output_type": "stream",
     "text": [
      "Processing line:  110000000\n"
     ]
    },
    {
     "name": "stdout",
     "output_type": "stream",
     "text": [
      "Processing line:  120000000\n",
      "Processing chunk : 8\n"
     ]
    },
    {
     "name": "stdout",
     "output_type": "stream",
     "text": [
      "Processing line:  130000000\n"
     ]
    },
    {
     "name": "stdout",
     "output_type": "stream",
     "text": [
      "Processing chunk : 9\n"
     ]
    },
    {
     "name": "stdout",
     "output_type": "stream",
     "text": [
      "Processing line:  140000000\n"
     ]
    },
    {
     "name": "stdout",
     "output_type": "stream",
     "text": [
      "Processing line:  150000000\n",
      "Processing chunk : 10\n"
     ]
    },
    {
     "name": "stdout",
     "output_type": "stream",
     "text": [
      "1074456\n",
      "Processing chunk : 11\n"
     ]
    },
    {
     "name": "stdout",
     "output_type": "stream",
     "text": [
      "Done!\n"
     ]
    }
   ],
   "source": [
    "#takes 4 mins\n",
    "print(\"There are around 150 million lines of text\")\n",
    "parse_ratings_file('baseData/BeerAdvocate/ratings.txt')"
   ]
  },
  {
   "cell_type": "code",
   "execution_count": null,
   "id": "f7e5050c",
   "metadata": {
    "jupyter": {
     "source_hidden": true
    },
    "papermill": {
     "duration": null,
     "end_time": null,
     "exception": false,
     "start_time": "2024-11-14T16:19:00.870648",
     "status": "running"
    },
    "tags": []
   },
   "outputs": [],
   "source": [
    "df = pd.read_csv('minimizedData/BA_ratings_small.csv')\n",
    "df = df.drop(df.index[-1])\n",
    "df.to_csv('minimizedData/BA_ratings_small.csv', index=False)\n",
    "print(\"Saved 'minimizedData/BA_ratings_small.csv'\")\n",
    "#df = pd.read_csv('minimizedData/BA_ratings_small.csv')\n",
    "#df.head(2)"
   ]
  },
  {
   "cell_type": "code",
   "execution_count": null,
   "id": "62a9c6e1",
   "metadata": {
    "jupyter": {
     "source_hidden": true
    },
    "papermill": {
     "duration": null,
     "end_time": null,
     "exception": null,
     "start_time": null,
     "status": "pending"
    },
    "tags": []
   },
   "outputs": [],
   "source": [
    "#df.tail(2)"
   ]
  },
  {
   "cell_type": "code",
   "execution_count": null,
   "id": "e3e68df7",
   "metadata": {
    "jupyter": {
     "source_hidden": true
    },
    "papermill": {
     "duration": null,
     "end_time": null,
     "exception": null,
     "start_time": null,
     "status": "pending"
    },
    "tags": []
   },
   "outputs": [],
   "source": [
    "#df.sample(3)"
   ]
  }
 ],
 "metadata": {
  "kernelspec": {
   "display_name": "ada",
   "language": "python",
   "name": "python3"
  },
  "language_info": {
   "codemirror_mode": {
    "name": "ipython",
    "version": 3
   },
   "file_extension": ".py",
   "mimetype": "text/x-python",
   "name": "python",
   "nbconvert_exporter": "python",
   "pygments_lexer": "ipython3",
   "version": "3.11.9"
  },
  "papermill": {
   "default_parameters": {},
   "duration": null,
   "end_time": null,
   "environment_variables": {},
   "exception": null,
   "input_path": "src/streamliningData/BA_reducing_txt.ipynb",
   "output_path": "src/streamliningData/BA_reducing_txt.ipynb",
   "parameters": {},
   "start_time": "2024-11-14T16:14:38.050233",
   "version": "2.6.0"
  }
 },
 "nbformat": 4,
 "nbformat_minor": 5
}
