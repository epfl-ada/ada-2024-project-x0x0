{
 "cells": [
  {
   "cell_type": "code",
   "execution_count": 1,
   "id": "b6f3729e",
   "metadata": {
    "execution": {
     "iopub.execute_input": "2024-11-14T16:29:24.055958Z",
     "iopub.status.busy": "2024-11-14T16:29:24.055958Z",
     "iopub.status.idle": "2024-11-14T16:29:25.407372Z",
     "shell.execute_reply": "2024-11-14T16:29:25.407372Z"
    },
    "jupyter": {
     "source_hidden": true
    },
    "papermill": {
     "duration": 1.395485,
     "end_time": "2024-11-14T16:29:25.407372",
     "exception": false,
     "start_time": "2024-11-14T16:29:24.011887",
     "status": "completed"
    },
    "tags": []
   },
   "outputs": [],
   "source": [
    "import pandas as pd\n",
    "import gc"
   ]
  },
  {
   "cell_type": "code",
   "execution_count": 2,
   "id": "46646844",
   "metadata": {
    "execution": {
     "iopub.execute_input": "2024-11-14T16:29:25.417392Z",
     "iopub.status.busy": "2024-11-14T16:29:25.417392Z",
     "iopub.status.idle": "2024-11-14T16:29:25.464365Z",
     "shell.execute_reply": "2024-11-14T16:29:25.464365Z"
    },
    "jupyter": {
     "source_hidden": true
    },
    "papermill": {
     "duration": 0.056993,
     "end_time": "2024-11-14T16:29:25.464365",
     "exception": false,
     "start_time": "2024-11-14T16:29:25.407372",
     "status": "completed"
    },
    "tags": []
   },
   "outputs": [
    {
     "name": "stdout",
     "output_type": "stream",
     "text": [
      "BA_extra_cols.ipynb takes around 2 minutes to run\n"
     ]
    }
   ],
   "source": [
    "gc.collect() #memory\n",
    "print(\"BA_extra_cols.ipynb takes around 2 minutes to run\")"
   ]
  },
  {
   "cell_type": "code",
   "execution_count": 3,
   "id": "15b47f8d",
   "metadata": {
    "execution": {
     "iopub.execute_input": "2024-11-14T16:29:25.478332Z",
     "iopub.status.busy": "2024-11-14T16:29:25.478332Z",
     "iopub.status.idle": "2024-11-14T16:29:43.792778Z",
     "shell.execute_reply": "2024-11-14T16:29:43.792778Z"
    },
    "jupyter": {
     "source_hidden": true
    },
    "papermill": {
     "duration": 18.323027,
     "end_time": "2024-11-14T16:29:43.797403",
     "exception": false,
     "start_time": "2024-11-14T16:29:25.474376",
     "status": "completed"
    },
    "tags": []
   },
   "outputs": [],
   "source": [
    "\n",
    "#we split the files into BA/RB for memory reasons...\n",
    "BAs_beers = pd.read_csv('minimizedData/BA_beers_small.csv')\n",
    "BAs_breweries = pd.read_csv('minimizedData/BA_breweries_small.csv')\n",
    "BAs_ratings = pd.read_csv('minimizedData/BA_ratings_small.csv')\n",
    "BAs_users = pd.read_csv('minimizedData/BA_users_small.csv')\n",
    "\n",
    "BAs_breweries = BAs_breweries.rename(columns={'id': 'brewery_id'}) #change the name for merging\n"
   ]
  },
  {
   "cell_type": "code",
   "execution_count": 4,
   "id": "1c4a2fdc",
   "metadata": {
    "execution": {
     "iopub.execute_input": "2024-11-14T16:29:43.813695Z",
     "iopub.status.busy": "2024-11-14T16:29:43.813695Z",
     "iopub.status.idle": "2024-11-14T16:29:47.401546Z",
     "shell.execute_reply": "2024-11-14T16:29:47.401546Z"
    },
    "jupyter": {
     "source_hidden": true
    },
    "papermill": {
     "duration": 3.595853,
     "end_time": "2024-11-14T16:29:47.401546",
     "exception": false,
     "start_time": "2024-11-14T16:29:43.805693",
     "status": "completed"
    },
    "tags": []
   },
   "outputs": [],
   "source": [
    "#extra location column\n",
    "BAs_beers_loc = BAs_beers.merge(BAs_breweries[['brewery_id', 'location']], on='brewery_id', how='left')\n",
    "BAs_ratings_loc = BAs_ratings.merge(BAs_users[['user_id', 'location']], on='user_id', how='left')"
   ]
  },
  {
   "cell_type": "code",
   "execution_count": 5,
   "id": "8a4c0e62",
   "metadata": {
    "execution": {
     "iopub.execute_input": "2024-11-14T16:29:47.421578Z",
     "iopub.status.busy": "2024-11-14T16:29:47.421578Z",
     "iopub.status.idle": "2024-11-14T16:29:54.804011Z",
     "shell.execute_reply": "2024-11-14T16:29:54.800507Z"
    },
    "jupyter": {
     "source_hidden": true
    },
    "papermill": {
     "duration": 7.392434,
     "end_time": "2024-11-14T16:29:54.804011",
     "exception": false,
     "start_time": "2024-11-14T16:29:47.411577",
     "status": "completed"
    },
    "tags": []
   },
   "outputs": [],
   "source": [
    "#modify the the location names to avoid confusion between beer_location and rating_location\n",
    "BAs_beers_loc = BAs_beers_loc.rename(columns={'location': 'beer_location'})\n",
    "BAs_ratings_loc = BAs_ratings_loc.rename(columns={'location': 'user_location'})\n",
    "\n",
    "#merge for even more cols\n",
    "BAs_ratbeer = BAs_ratings_loc.merge(BAs_beers_loc[['beer_id', 'avg', 'beer_location']], on='beer_id', how='left')\n",
    "    "
   ]
  },
  {
   "cell_type": "code",
   "execution_count": 6,
   "id": "241c7575",
   "metadata": {
    "execution": {
     "iopub.execute_input": "2024-11-14T16:29:54.824023Z",
     "iopub.status.busy": "2024-11-14T16:29:54.824023Z",
     "iopub.status.idle": "2024-11-14T16:31:22.605023Z",
     "shell.execute_reply": "2024-11-14T16:31:22.605023Z"
    },
    "jupyter": {
     "source_hidden": true
    },
    "papermill": {
     "duration": 87.796047,
     "end_time": "2024-11-14T16:31:22.610068",
     "exception": false,
     "start_time": "2024-11-14T16:29:54.814021",
     "status": "completed"
    },
    "tags": []
   },
   "outputs": [
    {
     "name": "stdout",
     "output_type": "stream",
     "text": [
      "Saved 'minimizedData/BA_beers_small_plus.csv'\n"
     ]
    },
    {
     "name": "stdout",
     "output_type": "stream",
     "text": [
      "Saved 'minimizedData/BA_ratings_small_plus.csv'\n"
     ]
    }
   ],
   "source": [
    "BAs_beers_loc.to_csv('minimizedData/BA_beers_small_plus.csv', index=False)\n",
    "print(\"Saved 'minimizedData/BA_beers_small_plus.csv'\")\n",
    "BAs_ratbeer.to_csv('minimizedData/BA_ratings_small_plus.csv', index=False)\n",
    "print(\"Saved 'minimizedData/BA_ratings_small_plus.csv'\")"
   ]
  }
 ],
 "metadata": {
  "kernelspec": {
   "display_name": "ada",
   "language": "python",
   "name": "python3"
  },
  "language_info": {
   "codemirror_mode": {
    "name": "ipython",
    "version": 3
   },
   "file_extension": ".py",
   "mimetype": "text/x-python",
   "name": "python",
   "nbconvert_exporter": "python",
   "pygments_lexer": "ipython3",
   "version": "3.11.9"
  },
  "papermill": {
   "default_parameters": {},
   "duration": 124.051176,
   "end_time": "2024-11-14T16:31:24.973842",
   "environment_variables": {},
   "exception": null,
   "input_path": "src/streamliningData/BA_extra_cols.ipynb",
   "output_path": "src/streamliningData/BA_extra_cols.ipynb",
   "parameters": {},
   "start_time": "2024-11-14T16:29:20.922666",
   "version": "2.6.0"
  }
 },
 "nbformat": 4,
 "nbformat_minor": 5
}