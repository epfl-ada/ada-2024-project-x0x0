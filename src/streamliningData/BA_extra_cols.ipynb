{
 "cells": [
  {
   "cell_type": "code",
   "execution_count": 3,
   "metadata": {},
   "outputs": [],
   "source": [
    "import pandas as pd"
   ]
  },
  {
   "cell_type": "code",
   "execution_count": 4,
   "metadata": {},
   "outputs": [],
   "source": [
    "#we split the files into BA/RB for memory reasons...\n",
    "BAs_beers = pd.read_csv('../../minimizedData/BA_beers_small.csv')\n",
    "BAs_breweries = pd.read_csv('../../minimizedData/BA_breweries_small.csv')\n",
    "BAs_ratings = pd.read_csv('../../minimizedData/BA_ratings_small.csv')\n",
    "BAs_users = pd.read_csv('../../minimizedData/BA_users_small.csv')\n",
    "\n",
    "BAs_breweries = BAs_breweries.rename(columns={'id': 'brewery_id'}) #change the name for merging\n"
   ]
  },
  {
   "cell_type": "code",
   "execution_count": 5,
   "metadata": {},
   "outputs": [],
   "source": [
    "#extra location column\n",
    "BAs_beers_loc = BAs_beers.merge(BAs_breweries[['brewery_id', 'location']], on='brewery_id', how='left')\n",
    "BAs_ratings_loc = BAs_ratings.merge(BAs_users[['user_id', 'location']], on='user_id', how='left')"
   ]
  },
  {
   "cell_type": "code",
   "execution_count": 6,
   "metadata": {},
   "outputs": [],
   "source": [
    "#modify the the location names to avoid confusion between beer_location and rating_location\n",
    "BAs_beers_loc = BAs_beers_loc.rename(columns={'location': 'beer_location'})\n",
    "BAs_ratings_loc = BAs_ratings_loc.rename(columns={'location': 'user_location'})\n",
    "\n",
    "#merge for even more cols\n",
    "BAs_ratbeer = BAs_ratings_loc.merge(BAs_beers_loc[['beer_id', 'avg', 'beer_location']], on='beer_id', how='left')\n",
    "    "
   ]
  },
  {
   "cell_type": "code",
   "execution_count": 7,
   "metadata": {},
   "outputs": [],
   "source": [
    "BAs_beers_loc.to_csv('../../minimizedData/BA_beers_small_plus.csv', index=False)\n",
    "BAs_ratbeer.to_csv('../../minimizedData/BA_ratings_small_plus.csv', index=False)"
   ]
  }
 ],
 "metadata": {
  "kernelspec": {
   "display_name": "Python 3.8.19 ('bachelor_project')",
   "language": "python",
   "name": "python3"
  },
  "language_info": {
   "codemirror_mode": {
    "name": "ipython",
    "version": 3
   },
   "file_extension": ".py",
   "mimetype": "text/x-python",
   "name": "python",
   "nbconvert_exporter": "python",
   "pygments_lexer": "ipython3",
   "version": "3.8.19"
  },
  "vscode": {
   "interpreter": {
    "hash": "ec4bdffda5b06bfe06e83280fc9167ae821730b2c55f7bc060d0a3d2bb72b812"
   }
  }
 },
 "nbformat": 4,
 "nbformat_minor": 2
}
