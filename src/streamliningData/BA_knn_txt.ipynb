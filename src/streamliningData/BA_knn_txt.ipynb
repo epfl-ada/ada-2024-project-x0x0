{
 "cells": [
  {
   "cell_type": "markdown",
   "id": "99346da9",
   "metadata": {
    "tags": [
     "papermill-error-cell-tag"
    ]
   },
   "source": [
    "<span style=\"color:red; font-family:Helvetica Neue, Helvetica, Arial, sans-serif; font-size:2em;\">An Exception was encountered at '<a href=\"#papermill-error-cell\">In [5]</a>'.</span>"
   ]
  },
  {
   "cell_type": "code",
   "execution_count": 1,
   "id": "f8ccc7df",
   "metadata": {
    "execution": {
     "iopub.execute_input": "2024-11-29T16:22:47.531142Z",
     "iopub.status.busy": "2024-11-29T16:22:47.520000Z",
     "iopub.status.idle": "2024-11-29T16:22:48.469340Z",
     "shell.execute_reply": "2024-11-29T16:22:48.469340Z"
    },
    "jupyter": {
     "source_hidden": true
    },
    "papermill": {
     "duration": 1.007466,
     "end_time": "2024-11-29T16:22:48.469340",
     "exception": false,
     "start_time": "2024-11-29T16:22:47.461874",
     "status": "completed"
    },
    "tags": []
   },
   "outputs": [],
   "source": [
    "import pandas as pd\n",
    "import gc"
   ]
  },
  {
   "cell_type": "code",
   "execution_count": 2,
   "id": "0b094f5b",
   "metadata": {
    "execution": {
     "iopub.execute_input": "2024-11-29T16:22:48.478535Z",
     "iopub.status.busy": "2024-11-29T16:22:48.478535Z",
     "iopub.status.idle": "2024-11-29T16:22:48.524450Z",
     "shell.execute_reply": "2024-11-29T16:22:48.524450Z"
    },
    "jupyter": {
     "source_hidden": true
    },
    "papermill": {
     "duration": 0.045915,
     "end_time": "2024-11-29T16:22:48.524450",
     "exception": false,
     "start_time": "2024-11-29T16:22:48.478535",
     "status": "completed"
    },
    "tags": []
   },
   "outputs": [
    {
     "name": "stdout",
     "output_type": "stream",
     "text": [
      "BA_knn_data.ipynb takes around 5 minutes to run\n"
     ]
    }
   ],
   "source": [
    "gc.collect() #memory\n",
    "print(\"BA_knn_data.ipynb takes around 5 minutes to run\")"
   ]
  },
  {
   "cell_type": "code",
   "execution_count": null,
   "id": "e974c010",
   "metadata": {
    "execution": {
     "iopub.execute_input": "2024-11-29T16:22:48.540213Z",
     "iopub.status.busy": "2024-11-29T16:22:48.540213Z",
     "iopub.status.idle": "2024-11-29T16:22:48.563456Z",
     "shell.execute_reply": "2024-11-29T16:22:48.563456Z"
    },
    "jupyter": {
     "source_hidden": true
    },
    "papermill": {
     "duration": 0.038484,
     "end_time": "2024-11-29T16:22:48.567113",
     "exception": false,
     "start_time": "2024-11-29T16:22:48.528629",
     "status": "completed"
    },
    "tags": []
   },
   "outputs": [],
   "source": [
    "new_column_names = [\n",
    "    'beer_name', 'beer_id', 'brewery_name', 'brewery_id', 'style', 'abv', 'date',\n",
    "    'user_name', 'user_id', 'appearance', 'aroma', 'palate', 'taste', 'overall',\n",
    "    'rating', 'text', 'review'\n",
    "]\n",
    "\n",
    "output_file_path = 'knnData/BA_knn_txt.csv'\n",
    "\n",
    "def parse_ratings_file(file_path, chunk_size=15_000_012, start=0, stop=200_000_000): #chunk is a mulitple of 18 since our text 'block' size is 18\n",
    "    #initialise the csv\n",
    "    pd.DataFrame(columns=new_column_names).drop(['date', 'user_name', 'review'], axis=1).to_csv(\n",
    "        output_file_path, index=False\n",
    "    )\n",
    "\n",
    "    current_block = []\n",
    "    data = []\n",
    "    i = 0\n",
    "    k = 0 \n",
    "    chunk = 0\n",
    "    \n",
    "    with open(file_path, 'r', encoding='utf-8') as file:\n",
    "        for line in file:\n",
    "            i += 1\n",
    "            k += 1\n",
    "            if i<start: continue\n",
    "           \n",
    "            if i+18>stop: break\n",
    "           \n",
    "            if i % 10_000_000 == 0: print('Processing line: ', i)\n",
    "\n",
    "            line = line.strip()  #remove whitespace\n",
    "\n",
    "            if not line:  #empty line signifies end of block\n",
    "                data.append(current_block)\n",
    "                current_block = []\n",
    "                \n",
    "            if k >= chunk_size:\n",
    "                k = 0\n",
    "                chunk += 1\n",
    "                print('Processing chunk :', chunk)\n",
    "                \n",
    "                df = pd.DataFrame(data, columns=new_column_names)\n",
    "                df = df.drop(['date', 'user_name', 'review'], axis=1)\n",
    "                df.to_csv(output_file_path, mode='a', index=False, header=False)\n",
    "                data = []  \n",
    "                gc.collect()  #manually invoke garbage collection\n",
    "                    \n",
    "                    \n",
    "            if ': ' in line:  \n",
    "                key, value = line.split(': ', 1)\n",
    "                current_block.append(value)\n",
    "\n",
    "        if data: #save any leftover data at the end\n",
    "            data.append(current_block)\n",
    "            current_block = []\n",
    "            print(k)\n",
    "            k = 0\n",
    "            chunk += 1 \n",
    "            print('Processing chunk :', chunk)\n",
    "            \n",
    "            df = pd.DataFrame(data, columns=new_column_names)\n",
    "            df = df.drop(['date', 'user_name', 'review'], axis=1)\n",
    "            df.to_csv(output_file_path, mode='a', index=False, header=False)\n",
    "            data = []  \n",
    "            gc.collect() \n",
    "            \n",
    "    print('Done!')"
   ]
  },
  {
   "cell_type": "code",
   "execution_count": 4,
   "id": "db753c57",
   "metadata": {
    "execution": {
     "iopub.execute_input": "2024-11-29T16:22:48.612372Z",
     "iopub.status.busy": "2024-11-29T16:22:48.612372Z",
     "iopub.status.idle": "2024-11-29T16:27:47.894397Z",
     "shell.execute_reply": "2024-11-29T16:27:47.894397Z"
    },
    "jupyter": {
     "source_hidden": true
    },
    "papermill": {
     "duration": 299.348064,
     "end_time": "2024-11-29T16:27:47.926102",
     "exception": false,
     "start_time": "2024-11-29T16:22:48.578038",
     "status": "completed"
    },
    "tags": []
   },
   "outputs": [
    {
     "name": "stdout",
     "output_type": "stream",
     "text": [
      "There are around 150 million lines of text\n"
     ]
    },
    {
     "name": "stdout",
     "output_type": "stream",
     "text": [
      "Processing line:  10000000\n"
     ]
    },
    {
     "name": "stdout",
     "output_type": "stream",
     "text": [
      "Processing chunk : 1\n"
     ]
    },
    {
     "name": "stdout",
     "output_type": "stream",
     "text": [
      "Processing line:  20000000\n"
     ]
    },
    {
     "name": "stdout",
     "output_type": "stream",
     "text": [
      "Processing line:  30000000\n",
      "Processing chunk : 2\n"
     ]
    },
    {
     "name": "stdout",
     "output_type": "stream",
     "text": [
      "Processing line:  40000000\n"
     ]
    },
    {
     "name": "stdout",
     "output_type": "stream",
     "text": [
      "Processing chunk : 3\n"
     ]
    },
    {
     "name": "stdout",
     "output_type": "stream",
     "text": [
      "Processing line:  50000000\n"
     ]
    },
    {
     "name": "stdout",
     "output_type": "stream",
     "text": [
      "Processing line:  60000000\n",
      "Processing chunk : 4\n"
     ]
    },
    {
     "name": "stdout",
     "output_type": "stream",
     "text": [
      "Processing line:  70000000\n"
     ]
    },
    {
     "name": "stdout",
     "output_type": "stream",
     "text": [
      "Processing chunk : 5\n"
     ]
    },
    {
     "name": "stdout",
     "output_type": "stream",
     "text": [
      "Processing line:  80000000\n"
     ]
    },
    {
     "name": "stdout",
     "output_type": "stream",
     "text": [
      "Processing line:  90000000\n",
      "Processing chunk : 6\n"
     ]
    },
    {
     "name": "stdout",
     "output_type": "stream",
     "text": [
      "Processing line:  100000000\n"
     ]
    },
    {
     "name": "stdout",
     "output_type": "stream",
     "text": [
      "Processing chunk : 7\n"
     ]
    },
    {
     "name": "stdout",
     "output_type": "stream",
     "text": [
      "Processing line:  110000000\n"
     ]
    },
    {
     "name": "stdout",
     "output_type": "stream",
     "text": [
      "Processing line:  120000000\n",
      "Processing chunk : 8\n"
     ]
    },
    {
     "name": "stdout",
     "output_type": "stream",
     "text": [
      "Processing line:  130000000\n"
     ]
    },
    {
     "name": "stdout",
     "output_type": "stream",
     "text": [
      "Processing chunk : 9\n"
     ]
    },
    {
     "name": "stdout",
     "output_type": "stream",
     "text": [
      "Processing line:  140000000\n"
     ]
    },
    {
     "name": "stdout",
     "output_type": "stream",
     "text": [
      "Processing line:  150000000\n",
      "Processing chunk : 10\n"
     ]
    },
    {
     "name": "stdout",
     "output_type": "stream",
     "text": [
      "1074456\n",
      "Processing chunk : 11\n"
     ]
    },
    {
     "name": "stdout",
     "output_type": "stream",
     "text": [
      "Done!\n"
     ]
    }
   ],
   "source": [
    "#takes 4 mins\n",
    "print(\"There are around 150 million lines of text\")\n",
    "parse_ratings_file('baseData/BeerAdvocate/ratings.txt')"
   ]
  },
  {
   "cell_type": "markdown",
   "id": "6fdb4d11",
   "metadata": {
    "tags": [
     "papermill-error-cell-tag"
    ]
   },
   "source": [
    "<span id=\"papermill-error-cell\" style=\"color:red; font-family:Helvetica Neue, Helvetica, Arial, sans-serif; font-size:2em;\">Execution using papermill encountered an exception here and stopped:</span>"
   ]
  },
  {
   "cell_type": "code",
   "execution_count": 5,
   "id": "f7e5050c",
   "metadata": {
    "execution": {
     "iopub.execute_input": "2024-11-29T16:27:48.025366Z",
     "iopub.status.busy": "2024-11-29T16:27:48.025366Z",
     "iopub.status.idle": "2024-11-29T16:32:50.957522Z",
     "shell.execute_reply": "2024-11-29T16:32:50.954197Z"
    },
    "jupyter": {
     "source_hidden": true
    },
    "papermill": {
     "duration": 303.060033,
     "end_time": "2024-11-29T16:32:51.029019",
     "exception": true,
     "start_time": "2024-11-29T16:27:47.968986",
     "status": "failed"
    },
    "tags": []
   },
   "outputs": [
    {
     "name": "stdout",
     "output_type": "stream",
     "text": [
      "Saved 'knnData/BA_knn_txt.csv'\n"
     ]
    },
    {
     "name": "stdout",
     "output_type": "stream",
     "text": [
      "Unexpected exception formatting exception. Falling back to standard exception\n"
     ]
    },
    {
     "name": "stderr",
     "output_type": "stream",
     "text": [
      "Traceback (most recent call last):\n",
      "  File \"C:\\Users\\Enzo\\anaconda3\\envs\\ada\\Lib\\site-packages\\IPython\\core\\interactiveshell.py\", line 3577, in run_code\n",
      "    exec(code_obj, self.user_global_ns, self.user_ns)\n",
      "  File \"C:\\Users\\Enzo\\AppData\\Local\\Temp\\ipykernel_29028\\1053303831.py\", line 5, in <module>\n",
      "    df = pd.read_csv('knnData/BA_knn_txt.csv')\n",
      "         ^^^^^^^^^^^^^^^^^^^^^^^^^^^^^^^^^^^^^\n",
      "  File \"C:\\Users\\Enzo\\anaconda3\\envs\\ada\\Lib\\site-packages\\pandas\\io\\parsers\\readers.py\", line 1026, in read_csv\n",
      "    return _read(filepath_or_buffer, kwds)\n",
      "           ^^^^^^^^^^^^^^^^^^^^^^^^^^^^^^^\n",
      "  File \"C:\\Users\\Enzo\\anaconda3\\envs\\ada\\Lib\\site-packages\\pandas\\io\\parsers\\readers.py\", line 626, in _read\n",
      "    return parser.read(nrows)\n",
      "           ^^^^^^^^^^^^^^^^^^\n",
      "  File \"C:\\Users\\Enzo\\anaconda3\\envs\\ada\\Lib\\site-packages\\pandas\\io\\parsers\\readers.py\", line 1968, in read\n",
      "    df = DataFrame(\n",
      "         ^^^^^^^^^^\n",
      "  File \"C:\\Users\\Enzo\\anaconda3\\envs\\ada\\Lib\\site-packages\\pandas\\core\\frame.py\", line 778, in __init__\n",
      "    mgr = dict_to_mgr(data, index, columns, dtype=dtype, copy=copy, typ=manager)\n",
      "          ^^^^^^^^^^^^^^^^^^^^^^^^^^^^^^^^^^^^^^^^^^^^^^^^^^^^^^^^^^^^^^^^^^^^^^\n",
      "  File \"C:\\Users\\Enzo\\anaconda3\\envs\\ada\\Lib\\site-packages\\pandas\\core\\internals\\construction.py\", line 503, in dict_to_mgr\n",
      "    return arrays_to_mgr(arrays, columns, index, dtype=dtype, typ=typ, consolidate=copy)\n",
      "           ^^^^^^^^^^^^^^^^^^^^^^^^^^^^^^^^^^^^^^^^^^^^^^^^^^^^^^^^^^^^^^^^^^^^^^^^^^^^^\n",
      "  File \"C:\\Users\\Enzo\\anaconda3\\envs\\ada\\Lib\\site-packages\\pandas\\core\\internals\\construction.py\", line 152, in arrays_to_mgr\n",
      "    return create_block_manager_from_column_arrays(\n",
      "           ^^^^^^^^^^^^^^^^^^^^^^^^^^^^^^^^^^^^^^^^\n",
      "  File \"C:\\Users\\Enzo\\anaconda3\\envs\\ada\\Lib\\site-packages\\pandas\\core\\internals\\managers.py\", line 2139, in create_block_manager_from_column_arrays\n",
      "    blocks = _form_blocks(arrays, consolidate, refs)\n",
      "             ^^^^^^^^^^^^^^^^^^^^^^^^^^^^^^^^^^^^^^^\n",
      "  File \"C:\\Users\\Enzo\\anaconda3\\envs\\ada\\Lib\\site-packages\\pandas\\core\\internals\\managers.py\", line 2212, in _form_blocks\n",
      "    values, placement = _stack_arrays(list(tup_block), dtype)\n",
      "                        ^^^^^^^^^^^^^^^^^^^^^^^^^^^^^^^^^^^^^\n",
      "  File \"C:\\Users\\Enzo\\anaconda3\\envs\\ada\\Lib\\site-packages\\pandas\\core\\internals\\managers.py\", line 2252, in _stack_arrays\n",
      "    stacked = np.empty(shape, dtype=dtype)\n",
      "              ^^^^^^^^^^^^^^^^^^^^^^^^^^^^\n",
      "numpy.core._exceptions._ArrayMemoryError: Unable to allocate 384. MiB for an array with shape (6, 8393032) and data type float64\n",
      "\n",
      "During handling of the above exception, another exception occurred:\n",
      "\n",
      "Traceback (most recent call last):\n",
      "  File \"C:\\Users\\Enzo\\anaconda3\\envs\\ada\\Lib\\site-packages\\IPython\\core\\interactiveshell.py\", line 2168, in showtraceback\n",
      "    stb = self.InteractiveTB.structured_traceback(\n",
      "          ^^^^^^^^^^^^^^^^^^^^^^^^^^^^^^^^^^^^^^^^\n",
      "  File \"C:\\Users\\Enzo\\anaconda3\\envs\\ada\\Lib\\site-packages\\IPython\\core\\ultratb.py\", line 1457, in structured_traceback\n",
      "    return FormattedTB.structured_traceback(\n",
      "           ^^^^^^^^^^^^^^^^^^^^^^^^^^^^^^^^^\n",
      "  File \"C:\\Users\\Enzo\\anaconda3\\envs\\ada\\Lib\\site-packages\\IPython\\core\\ultratb.py\", line 1348, in structured_traceback\n",
      "    return VerboseTB.structured_traceback(\n",
      "           ^^^^^^^^^^^^^^^^^^^^^^^^^^^^^^^\n",
      "  File \"C:\\Users\\Enzo\\anaconda3\\envs\\ada\\Lib\\site-packages\\IPython\\core\\ultratb.py\", line 1195, in structured_traceback\n",
      "    formatted_exception = self.format_exception_as_a_whole(etype, evalue, etb, number_of_lines_of_context,\n",
      "                          ^^^^^^^^^^^^^^^^^^^^^^^^^^^^^^^^^^^^^^^^^^^^^^^^^^^^^^^^^^^^^^^^^^^^^^^^^^^^^^^^\n",
      "  File \"C:\\Users\\Enzo\\anaconda3\\envs\\ada\\Lib\\site-packages\\IPython\\core\\ultratb.py\", line 1110, in format_exception_as_a_whole\n",
      "    frames.append(self.format_record(record))\n",
      "                  ^^^^^^^^^^^^^^^^^^^^^^^^^^\n",
      "  File \"C:\\Users\\Enzo\\anaconda3\\envs\\ada\\Lib\\site-packages\\IPython\\core\\ultratb.py\", line 992, in format_record\n",
      "    frame_info.lines, Colors, self.has_colors, lvals\n",
      "    ^^^^^^^^^^^^^^^^\n",
      "  File \"C:\\Users\\Enzo\\anaconda3\\envs\\ada\\Lib\\site-packages\\IPython\\core\\ultratb.py\", line 804, in lines\n",
      "    return self._sd.lines\n",
      "           ^^^^^^^^^^^^^^\n",
      "  File \"C:\\Users\\Enzo\\anaconda3\\envs\\ada\\Lib\\site-packages\\stack_data\\utils.py\", line 145, in cached_property_wrapper\n",
      "    value = obj.__dict__[self.func.__name__] = self.func(obj)\n",
      "                                               ^^^^^^^^^^^^^^\n",
      "  File \"C:\\Users\\Enzo\\anaconda3\\envs\\ada\\Lib\\site-packages\\stack_data\\core.py\", line 698, in lines\n",
      "    pieces = self.included_pieces\n",
      "             ^^^^^^^^^^^^^^^^^^^^\n",
      "  File \"C:\\Users\\Enzo\\anaconda3\\envs\\ada\\Lib\\site-packages\\stack_data\\utils.py\", line 145, in cached_property_wrapper\n",
      "    value = obj.__dict__[self.func.__name__] = self.func(obj)\n",
      "                                               ^^^^^^^^^^^^^^\n",
      "  File \"C:\\Users\\Enzo\\anaconda3\\envs\\ada\\Lib\\site-packages\\stack_data\\core.py\", line 645, in included_pieces\n",
      "    scope_pieces = self.scope_pieces\n",
      "                   ^^^^^^^^^^^^^^^^^\n",
      "  File \"C:\\Users\\Enzo\\anaconda3\\envs\\ada\\Lib\\site-packages\\stack_data\\utils.py\", line 145, in cached_property_wrapper\n",
      "    value = obj.__dict__[self.func.__name__] = self.func(obj)\n",
      "                                               ^^^^^^^^^^^^^^\n",
      "  File \"C:\\Users\\Enzo\\anaconda3\\envs\\ada\\Lib\\site-packages\\stack_data\\core.py\", line 585, in scope_pieces\n",
      "    for piece in self.source.pieces\n",
      "                 ^^^^^^^^^^^^^^^^^^\n",
      "  File \"C:\\Users\\Enzo\\anaconda3\\envs\\ada\\Lib\\site-packages\\stack_data\\utils.py\", line 145, in cached_property_wrapper\n",
      "    value = obj.__dict__[self.func.__name__] = self.func(obj)\n",
      "                                               ^^^^^^^^^^^^^^\n",
      "  File \"C:\\Users\\Enzo\\anaconda3\\envs\\ada\\Lib\\site-packages\\stack_data\\core.py\", line 90, in pieces\n",
      "    return list(self._clean_pieces())\n",
      "           ^^^^^^^^^^^^^^^^^^^^^^^^^^\n",
      "  File \"C:\\Users\\Enzo\\anaconda3\\envs\\ada\\Lib\\site-packages\\stack_data\\core.py\", line 110, in _clean_pieces\n",
      "    ends = [end for start, end in pieces[:-1]]\n",
      "           ^^^^^^^^^^^^^^^^^^^^^^^^^^^^^^^^^^^\n",
      "  File \"C:\\Users\\Enzo\\anaconda3\\envs\\ada\\Lib\\site-packages\\stack_data\\core.py\", line 110, in <listcomp>\n",
      "    ends = [end for start, end in pieces[:-1]]\n",
      "           ^^^^^^^^^^^^^^^^^^^^^^^^^^^^^^^^^^^\n",
      "MemoryError\n"
     ]
    }
   ],
   "source": [
    "df = pd.read_csv('knnData/BA_knn_txt.csv')\n",
    "df = df.drop(df.index[-1])\n",
    "df.to_csv('knnData/BA_knn_txt.csv', index=False)\n",
    "print(\"Saved 'knnData/BA_knn_txt.csv'\")\n",
    "df = pd.read_csv('knnData/BA_knn_txt.csv')\n",
    "df.head(2)"
   ]
  },
  {
   "cell_type": "code",
   "execution_count": null,
   "id": "62a9c6e1",
   "metadata": {
    "execution": {
     "iopub.execute_input": "2024-11-29T15:58:36.115527Z",
     "iopub.status.busy": "2024-11-29T15:58:36.115527Z",
     "iopub.status.idle": "2024-11-29T15:58:36.130677Z",
     "shell.execute_reply": "2024-11-29T15:58:36.130677Z"
    },
    "jupyter": {
     "source_hidden": true
    },
    "papermill": {
     "duration": null,
     "end_time": null,
     "exception": null,
     "start_time": null,
     "status": "pending"
    },
    "tags": []
   },
   "outputs": [],
   "source": [
    "#df.tail(2)"
   ]
  },
  {
   "cell_type": "code",
   "execution_count": null,
   "id": "e3e68df7",
   "metadata": {
    "execution": {
     "iopub.execute_input": "2024-11-29T15:58:36.166416Z",
     "iopub.status.busy": "2024-11-29T15:58:36.158070Z",
     "iopub.status.idle": "2024-11-29T15:58:36.169765Z",
     "shell.execute_reply": "2024-11-29T15:58:36.169765Z"
    },
    "jupyter": {
     "source_hidden": true
    },
    "papermill": {
     "duration": null,
     "end_time": null,
     "exception": null,
     "start_time": null,
     "status": "pending"
    },
    "tags": []
   },
   "outputs": [],
   "source": [
    "#df.sample(3)"
   ]
  }
 ],
 "metadata": {
  "kernelspec": {
   "display_name": "ada",
   "language": "python",
   "name": "python3"
  },
  "language_info": {
   "codemirror_mode": {
    "name": "ipython",
    "version": 3
   },
   "file_extension": ".py",
   "mimetype": "text/x-python",
   "name": "python",
   "nbconvert_exporter": "python",
   "pygments_lexer": "ipython3",
   "version": "3.11.9"
  },
  "papermill": {
   "default_parameters": {},
   "duration": 610.439449,
   "end_time": "2024-11-29T16:32:54.670313",
   "environment_variables": {},
   "exception": true,
   "input_path": "src/streamliningData/BA_knn_txt.ipynb",
   "output_path": "src/streamliningData/BA_knn_txt.ipynb",
   "parameters": {},
   "start_time": "2024-11-29T16:22:44.230864",
   "version": "2.6.0"
  }
 },
 "nbformat": 4,
 "nbformat_minor": 5
}
