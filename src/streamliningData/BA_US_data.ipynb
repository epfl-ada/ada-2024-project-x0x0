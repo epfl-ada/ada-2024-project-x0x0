{
 "cells": [
  {
   "cell_type": "code",
   "execution_count": 1,
   "metadata": {},
   "outputs": [],
   "source": [
    "import pandas as pd\n",
    "import gc"
   ]
  },
  {
   "cell_type": "code",
   "execution_count": 2,
   "metadata": {},
   "outputs": [
    {
     "name": "stdout",
     "output_type": "stream",
     "text": [
      "BA_US_data.ipynb takes around a minute to run\n"
     ]
    }
   ],
   "source": [
    "gc.collect()\n",
    "print(\"BA_US_data.ipynb takes around 2 minutes to run\")"
   ]
  },
  {
   "cell_type": "code",
   "execution_count": null,
   "metadata": {},
   "outputs": [],
   "source": [
    "#rankings data with beer_location and user_location added as extra columns\n",
    "BA_merged = pd.read_csv('minimizedData/BA_ratings_small_plus.csv')"
   ]
  },
  {
   "cell_type": "code",
   "execution_count": 4,
   "metadata": {},
   "outputs": [
    {
     "name": "stdout",
     "output_type": "stream",
     "text": [
      "We dropped 500278 rows due to NaNs in 'beer_location','user_location','rating'\n"
     ]
    }
   ],
   "source": [
    "BA_merged_clean = BA_merged.dropna(subset=['beer_location','user_location','rating'])\n",
    "print(\"We dropped \" + str(BA_merged.shape[0] - BA_merged_clean.shape[0]) + \" rows due to NaNs in 'beer_location','user_location','rating'\")"
   ]
  },
  {
   "cell_type": "code",
   "execution_count": 5,
   "metadata": {},
   "outputs": [
    {
     "name": "stdout",
     "output_type": "stream",
     "text": [
      "We dropped 1561085 rows selecting only BA_US states\n"
     ]
    },
    {
     "data": {
      "text/html": [
       "<div>\n",
       "<style scoped>\n",
       "    .dataframe tbody tr th:only-of-type {\n",
       "        vertical-align: middle;\n",
       "    }\n",
       "\n",
       "    .dataframe tbody tr th {\n",
       "        vertical-align: top;\n",
       "    }\n",
       "\n",
       "    .dataframe thead th {\n",
       "        text-align: right;\n",
       "    }\n",
       "</style>\n",
       "<table border=\"1\" class=\"dataframe\">\n",
       "  <thead>\n",
       "    <tr style=\"text-align: right;\">\n",
       "      <th></th>\n",
       "      <th>beer_name</th>\n",
       "      <th>beer_id</th>\n",
       "      <th>brewery_name</th>\n",
       "      <th>brewery_id</th>\n",
       "      <th>style</th>\n",
       "      <th>user_id</th>\n",
       "      <th>appearance</th>\n",
       "      <th>aroma</th>\n",
       "      <th>palate</th>\n",
       "      <th>taste</th>\n",
       "      <th>overall</th>\n",
       "      <th>rating</th>\n",
       "      <th>user_location</th>\n",
       "      <th>avg</th>\n",
       "      <th>beer_location</th>\n",
       "    </tr>\n",
       "  </thead>\n",
       "  <tbody>\n",
       "    <tr>\n",
       "      <th>8393029</th>\n",
       "      <td>Kölsch Ale</td>\n",
       "      <td>19139.0</td>\n",
       "      <td>Summit Station Restaurant &amp; Brewery</td>\n",
       "      <td>885.0</td>\n",
       "      <td>Kölsch</td>\n",
       "      <td>manekineko.2654</td>\n",
       "      <td>3.0</td>\n",
       "      <td>1.5</td>\n",
       "      <td>1.0</td>\n",
       "      <td>1.5</td>\n",
       "      <td>1.5</td>\n",
       "      <td>1.54</td>\n",
       "      <td>United States, Virginia</td>\n",
       "      <td>2.71</td>\n",
       "      <td>United States, Maryland</td>\n",
       "    </tr>\n",
       "    <tr>\n",
       "      <th>8393031</th>\n",
       "      <td>Nut Brown Ale</td>\n",
       "      <td>19140.0</td>\n",
       "      <td>Summit Station Restaurant &amp; Brewery</td>\n",
       "      <td>885.0</td>\n",
       "      <td>English Brown Ale</td>\n",
       "      <td>dithyramb.4413</td>\n",
       "      <td>3.0</td>\n",
       "      <td>3.0</td>\n",
       "      <td>3.0</td>\n",
       "      <td>3.0</td>\n",
       "      <td>3.0</td>\n",
       "      <td>3.00</td>\n",
       "      <td>United States, Maryland</td>\n",
       "      <td>3.10</td>\n",
       "      <td>United States, Maryland</td>\n",
       "    </tr>\n",
       "  </tbody>\n",
       "</table>\n",
       "</div>"
      ],
      "text/plain": [
       "             beer_name  beer_id                         brewery_name  \\\n",
       "8393029     Kölsch Ale  19139.0  Summit Station Restaurant & Brewery   \n",
       "8393031  Nut Brown Ale  19140.0  Summit Station Restaurant & Brewery   \n",
       "\n",
       "         brewery_id              style          user_id  appearance  aroma  \\\n",
       "8393029       885.0             Kölsch  manekineko.2654         3.0    1.5   \n",
       "8393031       885.0  English Brown Ale   dithyramb.4413         3.0    3.0   \n",
       "\n",
       "         palate  taste  overall  rating            user_location   avg  \\\n",
       "8393029     1.0    1.5      1.5    1.54  United States, Virginia  2.71   \n",
       "8393031     3.0    3.0      3.0    3.00  United States, Maryland  3.10   \n",
       "\n",
       "                   beer_location  \n",
       "8393029  United States, Maryland  \n",
       "8393031  United States, Maryland  "
      ]
     },
     "execution_count": 5,
     "metadata": {},
     "output_type": "execute_result"
    }
   ],
   "source": [
    "#we are only interested in focusing on the ratings that originate from BA_US users AND are for BA_US beers\n",
    "BA_US_ratings = BA_merged_clean[BA_merged_clean['user_location'].str.startswith('United States,')]\n",
    "BA_US_ratings = BA_US_ratings[BA_US_ratings['beer_location'].str.startswith('United States,')]\n",
    "print(\"We dropped \" + str(BA_merged_clean.shape[0] - BA_US_ratings.shape[0]) + \" rows selecting only BA_US states\")\n",
    "BA_US_ratings.tail(2)"
   ]
  },
  {
   "cell_type": "code",
   "execution_count": 6,
   "metadata": {},
   "outputs": [
    {
     "name": "stdout",
     "output_type": "stream",
     "text": [
      "We dropped 31 rows due to location only being 'United States'\n"
     ]
    }
   ],
   "source": [
    "#removing the United States part from the location for both beer and user for clarity\n",
    "BA_US_ratings['user_state'] = BA_US_ratings['user_location'].apply(lambda x: x.split(',')[1].strip())\n",
    "BA_US_ratings['beer_state'] = BA_US_ratings['beer_location'].apply(lambda x: x.split(',')[1].strip())\n",
    "BA_US_ratings = BA_US_ratings.drop(['user_location','beer_location'], axis=1)\n",
    "\n",
    "BA_US_state_ratings = BA_US_ratings[(BA_US_ratings['user_state'] != 'United States') & (BA_US_ratings['beer_state'] != 'United States')]\n",
    "\n",
    "print(\"We dropped \" + str(BA_US_ratings.shape[0] - BA_US_state_ratings.shape[0]) + \" rows due to location only being 'United States'\")"
   ]
  },
  {
   "cell_type": "code",
   "execution_count": null,
   "metadata": {},
   "outputs": [
    {
     "name": "stdout",
     "output_type": "stream",
     "text": [
      "We dropped 2061394 rows all in all, going from 8393032 rows to 6331638 rows\n"
     ]
    }
   ],
   "source": [
    "print(\"We dropped \" + str(BA_merged.shape[0] - BA_US_state_ratings.shape[0]) + \" rows all in all\"\n",
    "      + \", going from \" + str(BA_merged.shape[0]) + \" rows to \" + str(BA_US_state_ratings.shape[0]) + \" rows\")\n",
    "BA_US_state_ratings = BA_US_state_ratings.reset_index(drop=True)\n",
    "BA_US_state_ratings.to_csv('USData/BA_US_states_all.csv', index=False)"
   ]
  },
  {
   "cell_type": "code",
   "execution_count": null,
   "metadata": {},
   "outputs": [
    {
     "data": {
      "text/html": [
       "<div>\n",
       "<style scoped>\n",
       "    .dataframe tbody tr th:only-of-type {\n",
       "        vertical-align: middle;\n",
       "    }\n",
       "\n",
       "    .dataframe tbody tr th {\n",
       "        vertical-align: top;\n",
       "    }\n",
       "\n",
       "    .dataframe thead th {\n",
       "        text-align: right;\n",
       "    }\n",
       "</style>\n",
       "<table border=\"1\" class=\"dataframe\">\n",
       "  <thead>\n",
       "    <tr style=\"text-align: right;\">\n",
       "      <th></th>\n",
       "      <th>beer_name</th>\n",
       "      <th>beer_id</th>\n",
       "      <th>brewery_name</th>\n",
       "      <th>brewery_id</th>\n",
       "      <th>style</th>\n",
       "      <th>user_id</th>\n",
       "      <th>appearance</th>\n",
       "      <th>aroma</th>\n",
       "      <th>palate</th>\n",
       "      <th>taste</th>\n",
       "      <th>overall</th>\n",
       "      <th>rating</th>\n",
       "      <th>avg</th>\n",
       "      <th>user_state</th>\n",
       "      <th>beer_state</th>\n",
       "    </tr>\n",
       "  </thead>\n",
       "  <tbody>\n",
       "    <tr>\n",
       "      <th>0</th>\n",
       "      <td>Kupfer Kolsch</td>\n",
       "      <td>289320.0</td>\n",
       "      <td>Copper State Brewing Company</td>\n",
       "      <td>49595.0</td>\n",
       "      <td>Kölsch</td>\n",
       "      <td>n2185.211743</td>\n",
       "      <td>2.50</td>\n",
       "      <td>4.00</td>\n",
       "      <td>4.00</td>\n",
       "      <td>3.75</td>\n",
       "      <td>3.75</td>\n",
       "      <td>3.76</td>\n",
       "      <td>3.76</td>\n",
       "      <td>North Carolina</td>\n",
       "      <td>Wisconsin</td>\n",
       "    </tr>\n",
       "    <tr>\n",
       "      <th>1</th>\n",
       "      <td>Northwestern Alt</td>\n",
       "      <td>289321.0</td>\n",
       "      <td>Copper State Brewing Company</td>\n",
       "      <td>49595.0</td>\n",
       "      <td>Altbier</td>\n",
       "      <td>n2185.211743</td>\n",
       "      <td>3.00</td>\n",
       "      <td>3.75</td>\n",
       "      <td>4.00</td>\n",
       "      <td>3.50</td>\n",
       "      <td>3.50</td>\n",
       "      <td>3.58</td>\n",
       "      <td>3.58</td>\n",
       "      <td>North Carolina</td>\n",
       "      <td>Wisconsin</td>\n",
       "    </tr>\n",
       "    <tr>\n",
       "      <th>2</th>\n",
       "      <td>One Cent Wheat</td>\n",
       "      <td>289319.0</td>\n",
       "      <td>Copper State Brewing Company</td>\n",
       "      <td>49595.0</td>\n",
       "      <td>Witbier</td>\n",
       "      <td>n2185.211743</td>\n",
       "      <td>3.75</td>\n",
       "      <td>3.25</td>\n",
       "      <td>3.75</td>\n",
       "      <td>3.50</td>\n",
       "      <td>3.50</td>\n",
       "      <td>3.48</td>\n",
       "      <td>3.48</td>\n",
       "      <td>North Carolina</td>\n",
       "      <td>Wisconsin</td>\n",
       "    </tr>\n",
       "    <tr>\n",
       "      <th>3</th>\n",
       "      <td>Platinum Coffee Blonde</td>\n",
       "      <td>289324.0</td>\n",
       "      <td>Copper State Brewing Company</td>\n",
       "      <td>49595.0</td>\n",
       "      <td>American Blonde Ale</td>\n",
       "      <td>n2185.211743</td>\n",
       "      <td>3.25</td>\n",
       "      <td>3.75</td>\n",
       "      <td>3.50</td>\n",
       "      <td>4.25</td>\n",
       "      <td>4.25</td>\n",
       "      <td>4.00</td>\n",
       "      <td>4.02</td>\n",
       "      <td>North Carolina</td>\n",
       "      <td>Wisconsin</td>\n",
       "    </tr>\n",
       "    <tr>\n",
       "      <th>4</th>\n",
       "      <td>Platinum Coffee Blonde</td>\n",
       "      <td>289324.0</td>\n",
       "      <td>Copper State Brewing Company</td>\n",
       "      <td>49595.0</td>\n",
       "      <td>American Blonde Ale</td>\n",
       "      <td>angerhaus.1049226</td>\n",
       "      <td>4.00</td>\n",
       "      <td>4.25</td>\n",
       "      <td>3.75</td>\n",
       "      <td>4.00</td>\n",
       "      <td>4.00</td>\n",
       "      <td>4.04</td>\n",
       "      <td>4.02</td>\n",
       "      <td>Wisconsin</td>\n",
       "      <td>Wisconsin</td>\n",
       "    </tr>\n",
       "  </tbody>\n",
       "</table>\n",
       "</div>"
      ],
      "text/plain": [
       "                beer_name   beer_id                  brewery_name  brewery_id  \\\n",
       "0           Kupfer Kolsch  289320.0  Copper State Brewing Company     49595.0   \n",
       "1        Northwestern Alt  289321.0  Copper State Brewing Company     49595.0   \n",
       "2          One Cent Wheat  289319.0  Copper State Brewing Company     49595.0   \n",
       "3  Platinum Coffee Blonde  289324.0  Copper State Brewing Company     49595.0   \n",
       "4  Platinum Coffee Blonde  289324.0  Copper State Brewing Company     49595.0   \n",
       "\n",
       "                 style            user_id  appearance  aroma  palate  taste  \\\n",
       "0               Kölsch       n2185.211743        2.50   4.00    4.00   3.75   \n",
       "1              Altbier       n2185.211743        3.00   3.75    4.00   3.50   \n",
       "2              Witbier       n2185.211743        3.75   3.25    3.75   3.50   \n",
       "3  American Blonde Ale       n2185.211743        3.25   3.75    3.50   4.25   \n",
       "4  American Blonde Ale  angerhaus.1049226        4.00   4.25    3.75   4.00   \n",
       "\n",
       "   overall  rating   avg      user_state beer_state  \n",
       "0     3.75    3.76  3.76  North Carolina  Wisconsin  \n",
       "1     3.50    3.58  3.58  North Carolina  Wisconsin  \n",
       "2     3.50    3.48  3.48  North Carolina  Wisconsin  \n",
       "3     4.25    4.00  4.02  North Carolina  Wisconsin  \n",
       "4     4.00    4.04  4.02       Wisconsin  Wisconsin  "
      ]
     },
     "execution_count": 8,
     "metadata": {},
     "output_type": "execute_result"
    }
   ],
   "source": [
    "'''\n",
    "df=pd.read_csv('USData/BA_US_states_all.csv')\n",
    "df.head()\n",
    "'''"
   ]
  }
 ],
 "metadata": {
  "kernelspec": {
   "display_name": "ada",
   "language": "python",
   "name": "python3"
  },
  "language_info": {
   "codemirror_mode": {
    "name": "ipython",
    "version": 3
   },
   "file_extension": ".py",
   "mimetype": "text/x-python",
   "name": "python",
   "nbconvert_exporter": "python",
   "pygments_lexer": "ipython3",
   "version": "3.11.9"
  }
 },
 "nbformat": 4,
 "nbformat_minor": 2
}
