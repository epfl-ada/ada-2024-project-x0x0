{
 "cells": [
  {
   "cell_type": "code",
   "execution_count": 2,
   "metadata": {},
   "outputs": [],
   "source": [
    "import pandas as pd\n",
    "import numpy as np\n",
    "import matplotlib.pyplot as plt\n",
    "%matplotlib inline\n",
    "import seaborn as sns"
   ]
  },
  {
   "cell_type": "markdown",
   "metadata": {},
   "source": [
    "BeerAdvocate"
   ]
  },
  {
   "cell_type": "code",
   "execution_count": 3,
   "metadata": {},
   "outputs": [
    {
     "name": "stdout",
     "output_type": "stream",
     "text": [
      "NaNs occupy: 11.69028177891412 percent\n"
     ]
    }
   ],
   "source": [
    "#out of exploration out of src\n",
    "beers = pd.read_csv('../../baseData/BeerAdvocate/beers.csv')\n",
    "\n",
    "beers.drop(['nbr_reviews','ba_score','bros_score','abv','avg_computed','zscore',\n",
    "            'nbr_matched_valid_ratings','avg_matched_valid_ratings'],axis=1, inplace=True)\n",
    "\n",
    "print('NaNs occupy: '+ str(beers['avg'].isna().mean()*100)+' percent') #10% nans\n",
    "\n",
    "beers.to_csv('../../minimizedData/BA_beers_small.csv')"
   ]
  },
  {
   "cell_type": "code",
   "execution_count": 4,
   "metadata": {},
   "outputs": [],
   "source": [
    "#out of exploration out of src\n",
    "breweries = pd.read_csv('../../baseData/BeerAdvocate/breweries.csv')\n",
    "\n",
    "breweries.to_csv('../../minimizedData/BA_breweries_small.csv') #keep everything"
   ]
  },
  {
   "cell_type": "code",
   "execution_count": 5,
   "metadata": {},
   "outputs": [],
   "source": [
    "#out of exploration out of src\n",
    "users = pd.read_csv('../../baseData/BeerAdvocate/users.csv')\n",
    "\n",
    "users.drop(['nbr_reviews', 'user_name', 'joined'], axis=1, inplace=True)\n",
    "\n",
    "users.to_csv('../../minimizedData/BA_users_small.csv')"
   ]
  },
  {
   "cell_type": "markdown",
   "metadata": {},
   "source": [
    "RateBeer"
   ]
  },
  {
   "cell_type": "code",
   "execution_count": 7,
   "metadata": {},
   "outputs": [
    {
     "name": "stdout",
     "output_type": "stream",
     "text": [
      "NaNs occupy: 10.501242984882861 percent\n"
     ]
    }
   ],
   "source": [
    "#out of exploration out of src\n",
    "beers = pd.read_csv('../../baseData/RateBeer/beers.csv')\n",
    "\n",
    "beers.drop(['overall_score','style_score','abv','avg_computed','zscore',\n",
    "            'nbr_matched_valid_ratings','avg_matched_valid_ratings'],axis=1, inplace=True)\n",
    "\n",
    "print('NaNs occupy: '+ str(beers['avg'].isna().mean()*100)+' percent') #10% nans\n",
    "\n",
    "beers.to_csv('../../minimizedData/RB_beers_small.csv')"
   ]
  },
  {
   "cell_type": "code",
   "execution_count": 8,
   "metadata": {},
   "outputs": [],
   "source": [
    "#out of exploration out of src\n",
    "breweries = pd.read_csv('../../baseData/RateBeer/breweries.csv')\n",
    "\n",
    "breweries.to_csv('../../minimizedData/RB_breweries_small.csv') #keep everything"
   ]
  },
  {
   "cell_type": "code",
   "execution_count": 9,
   "metadata": {},
   "outputs": [],
   "source": [
    "#out of exploration out of src\n",
    "users = pd.read_csv('../../baseData/RateBeer/users.csv')\n",
    "\n",
    "users.drop(['user_name', 'joined'], axis=1, inplace=True)\n",
    "\n",
    "users.to_csv('../../minimizedData/RB_users_small.csv')"
   ]
  }
 ],
 "metadata": {
  "kernelspec": {
   "display_name": "ada",
   "language": "python",
   "name": "python3"
  },
  "language_info": {
   "codemirror_mode": {
    "name": "ipython",
    "version": 3
   },
   "file_extension": ".py",
   "mimetype": "text/x-python",
   "name": "python",
   "nbconvert_exporter": "python",
   "pygments_lexer": "ipython3",
   "version": "3.11.9"
  }
 },
 "nbformat": 4,
 "nbformat_minor": 2
}
