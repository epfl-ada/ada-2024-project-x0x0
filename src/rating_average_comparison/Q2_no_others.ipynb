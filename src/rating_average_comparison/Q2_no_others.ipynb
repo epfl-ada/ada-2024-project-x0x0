{
 "cells": [
  {
   "cell_type": "code",
   "execution_count": 1,
   "metadata": {},
   "outputs": [],
   "source": [
    "import numpy as np\n",
    "import pandas as pd\n",
    "import seaborn as sns\n",
    "import matplotlib.pyplot as plt\n",
    "import tqdm as tqdm\n",
    "import os"
   ]
  },
  {
   "cell_type": "code",
   "execution_count": 7,
   "metadata": {},
   "outputs": [],
   "source": [
    "dtype_BAs_beers = {\n",
    "    'beer_id': 'int64',\n",
    "    'beer_name': 'string',\n",
    "    'brewery_id': 'int64',\n",
    "    'brewery_name': 'string',\n",
    "    'style': 'string',\n",
    "    'nbr_ratings': 'int64',\n",
    "    'avg': 'float64',\n",
    "}\n",
    "\n",
    "dtype_BAs_breweries = {\n",
    "    'id': 'int64',\n",
    "    'location': 'string',\n",
    "    'name': 'string',\n",
    "    'nbr_beers': 'int64'\n",
    "}\n",
    "\n",
    "dtype_BAs_ratings = {\n",
    "    'beer_name': 'string',\n",
    "    'beer_id': 'int64',\n",
    "    'brewery_name': 'string',\n",
    "    'brewery_id': 'int64',\n",
    "    'style': 'string',\n",
    "    'user_id': 'string',    # This is 'user_name' + '.' + 'int64', I put it as a string as it would be easier to modify\n",
    "    'appearance': 'float64',\n",
    "    'aroma': 'float64',\n",
    "    'palate': 'float64',\n",
    "    'taste': 'float64',\n",
    "    'overall': 'float64',\n",
    "    'rating': 'float64',\n",
    "}\n",
    "\n",
    "dtype_BAs_users = {\n",
    "    'nbr_ratings': 'int64',\n",
    "    'user_id': 'string',    # This is 'user_name' + '.' + 'int64', I put it as a string as it would be easier to modify\n",
    "    'location': 'string'\n",
    "}"
   ]
  },
  {
   "cell_type": "code",
   "execution_count": 24,
   "metadata": {},
   "outputs": [],
   "source": [
    "# import data\n",
    "BAs_path = 'baseData/minimizedData/'\n",
    "\n",
    "BAs_beers = pd.read_csv(BAs_path + 'BA_beers_small.csv', dtype=dtype_BAs_beers)\n",
    "BAs_breweries = pd.read_csv(BAs_path + 'BA_breweries_small.csv', dtype=dtype_BAs_breweries)\n",
    "BAs_ratings = pd.read_csv(BAs_path + 'BA_ratings_small.csv', dtype=dtype_BAs_ratings)\n",
    "BAs_users = pd.read_csv(BAs_path + 'BA_users_small.csv', dtype=dtype_BAs_users)"
   ]
  },
  {
   "cell_type": "code",
   "execution_count": 25,
   "metadata": {},
   "outputs": [
    {
     "name": "stdout",
     "output_type": "stream",
     "text": [
      "<class 'pandas.core.frame.DataFrame'>\n",
      "RangeIndex: 280823 entries, 0 to 280822\n",
      "Data columns (total 8 columns):\n",
      " #   Column        Non-Null Count   Dtype  \n",
      "---  ------        --------------   -----  \n",
      " 0   Unnamed: 0    280823 non-null  int64  \n",
      " 1   beer_id       280823 non-null  int64  \n",
      " 2   beer_name     280823 non-null  string \n",
      " 3   brewery_id    280823 non-null  int64  \n",
      " 4   brewery_name  280823 non-null  string \n",
      " 5   style         280823 non-null  string \n",
      " 6   nbr_ratings   280823 non-null  int64  \n",
      " 7   avg           247994 non-null  float64\n",
      "dtypes: float64(1), int64(4), string(3)\n",
      "memory usage: 17.1 MB\n",
      "<class 'pandas.core.frame.DataFrame'>\n",
      "RangeIndex: 16758 entries, 0 to 16757\n",
      "Data columns (total 5 columns):\n",
      " #   Column      Non-Null Count  Dtype \n",
      "---  ------      --------------  ----- \n",
      " 0   Unnamed: 0  16758 non-null  int64 \n",
      " 1   id          16758 non-null  int64 \n",
      " 2   location    16758 non-null  string\n",
      " 3   name        16758 non-null  string\n",
      " 4   nbr_beers   16758 non-null  int64 \n",
      "dtypes: int64(3), string(2)\n",
      "memory usage: 654.7 KB\n",
      "<class 'pandas.core.frame.DataFrame'>\n",
      "RangeIndex: 8393032 entries, 0 to 8393031\n",
      "Data columns (total 13 columns):\n",
      " #   Column        Dtype  \n",
      "---  ------        -----  \n",
      " 0   Unnamed: 0    int64  \n",
      " 1   beer_name     string \n",
      " 2   beer_id       int64  \n",
      " 3   brewery_name  string \n",
      " 4   brewery_id    int64  \n",
      " 5   style         string \n",
      " 6   user_id       string \n",
      " 7   appearance    float64\n",
      " 8   aroma         float64\n",
      " 9   palate        float64\n",
      " 10  taste         float64\n",
      " 11  overall       float64\n",
      " 12  rating        float64\n",
      "dtypes: float64(6), int64(3), string(4)\n",
      "memory usage: 832.4 MB\n",
      "<class 'pandas.core.frame.DataFrame'>\n",
      "RangeIndex: 153704 entries, 0 to 153703\n",
      "Data columns (total 4 columns):\n",
      " #   Column       Non-Null Count   Dtype \n",
      "---  ------       --------------   ----- \n",
      " 0   Unnamed: 0   153704 non-null  int64 \n",
      " 1   nbr_ratings  153704 non-null  int64 \n",
      " 2   user_id      153704 non-null  string\n",
      " 3   location     122425 non-null  string\n",
      "dtypes: int64(2), string(2)\n",
      "memory usage: 4.7 MB\n"
     ]
    }
   ],
   "source": [
    "BAs_beers.info()\n",
    "BAs_breweries.info()\n",
    "BAs_ratings.info()\n",
    "BAs_users.info()"
   ]
  },
  {
   "cell_type": "markdown",
   "metadata": {},
   "source": [
    "What has to be done:\n",
    "\n",
    "Input: Country name (x)\n",
    "\n",
    "Output: ratings given to beer of each country that is not x from reviewers of country x.\n",
    "\n",
    "It needs all the ratings to have a country associated"
   ]
  },
  {
   "cell_type": "code",
   "execution_count": 26,
   "metadata": {},
   "outputs": [],
   "source": [
    "def add_country(df_loc, df_no_loc, identifier):\n",
    "    df_ratings_loc = df_no_loc.merge(df_loc[[identifier, 'location']], on=identifier, how='left')\n",
    "\n",
    "    return df_ratings_loc\n"
   ]
  },
  {
   "cell_type": "code",
   "execution_count": 27,
   "metadata": {},
   "outputs": [],
   "source": [
    "BAs_breweries = BAs_breweries.rename(columns={'id': 'brewery_id'})"
   ]
  },
  {
   "cell_type": "code",
   "execution_count": 28,
   "metadata": {},
   "outputs": [],
   "source": [
    "BAs_beers_loc = add_country(df_loc=BAs_breweries, df_no_loc=BAs_beers, identifier='brewery_id')\n",
    "BAs_ratings_loc = add_country(df_loc=BAs_users, df_no_loc=BAs_ratings, identifier='user_id')"
   ]
  },
  {
   "cell_type": "code",
   "execution_count": 29,
   "metadata": {},
   "outputs": [
    {
     "name": "stdout",
     "output_type": "stream",
     "text": [
      "<class 'pandas.core.frame.DataFrame'>\n",
      "RangeIndex: 280823 entries, 0 to 280822\n",
      "Data columns (total 9 columns):\n",
      " #   Column        Non-Null Count   Dtype  \n",
      "---  ------        --------------   -----  \n",
      " 0   Unnamed: 0    280823 non-null  int64  \n",
      " 1   beer_id       280823 non-null  int64  \n",
      " 2   beer_name     280823 non-null  string \n",
      " 3   brewery_id    280823 non-null  int64  \n",
      " 4   brewery_name  280823 non-null  string \n",
      " 5   style         280823 non-null  string \n",
      " 6   nbr_ratings   280823 non-null  int64  \n",
      " 7   avg           247994 non-null  float64\n",
      " 8   location      280823 non-null  string \n",
      "dtypes: float64(1), int64(4), string(4)\n",
      "memory usage: 19.3 MB\n",
      "<class 'pandas.core.frame.DataFrame'>\n",
      "RangeIndex: 8393032 entries, 0 to 8393031\n",
      "Data columns (total 14 columns):\n",
      " #   Column        Dtype  \n",
      "---  ------        -----  \n",
      " 0   Unnamed: 0    int64  \n",
      " 1   beer_name     string \n",
      " 2   beer_id       int64  \n",
      " 3   brewery_name  string \n",
      " 4   brewery_id    int64  \n",
      " 5   style         string \n",
      " 6   user_id       string \n",
      " 7   appearance    float64\n",
      " 8   aroma         float64\n",
      " 9   palate        float64\n",
      " 10  taste         float64\n",
      " 11  overall       float64\n",
      " 12  rating        float64\n",
      " 13  location      string \n",
      "dtypes: float64(6), int64(3), string(5)\n",
      "memory usage: 896.5 MB\n"
     ]
    }
   ],
   "source": [
    "BAs_beers_loc.info()\n",
    "BAs_ratings_loc.info()"
   ]
  },
  {
   "cell_type": "markdown",
   "metadata": {},
   "source": [
    "With the data now having the needed information, a function that takes in a target country (e.g., Germany) will then for each unique other country's beer, test how the vote is given.\n",
    "\n",
    "Possible course of action, \n",
    "\n",
    "work with separate dataframes, for beers, remove chosen country, for ratings select only chosen country, then for each rating, verify for the specific beer id the difference\n",
    "\n",
    "create a new dataframe where each rating has the beer avg added and the location of the beer, then in the df, chose to keep only the ratings with user_location given and beer_location !=, then take the difference between the rating and the avg. This could be a single df made and used in multiple applications"
   ]
  },
  {
   "cell_type": "code",
   "execution_count": 30,
   "metadata": {},
   "outputs": [],
   "source": [
    "#Merge rating and beer\n",
    "\n",
    "BAs_beers_loc = BAs_beers_loc.rename(columns={'location': 'beer_location'})\n",
    "BAs_ratings_loc = BAs_ratings_loc.rename(columns={'location': 'user_location'})\n",
    "\n",
    "BAs_ratbeer = BAs_ratings_loc.merge(BAs_beers_loc[['beer_id', 'avg', 'beer_location']], on='beer_id', how='left')"
   ]
  },
  {
   "cell_type": "code",
   "execution_count": 45,
   "metadata": {},
   "outputs": [],
   "source": [
    "def differnce_onCountry(location, df):\n",
    "    df = df[df['user_location'] == location]\n",
    "    df = df[df['beer_location'] != location]\n",
    "\n",
    "    df['rating_diff'] = df['rating'] - df['avg']\n",
    "\n",
    "    result_beer = df.groupby(['user_location', 'beer_id', 'beer_location']).agg(\n",
    "        avg_rating_diff=('rating_diff', 'mean'), count=('rating_diff', 'size')).reset_index()\n",
    "    \n",
    "    result_location = result_beer.groupby(['user_location', 'beer_location']).agg(\n",
    "        avg_rating_diff_location=('avg_rating_diff', 'mean'), total_count=('count', 'sum')).reset_index()\n",
    "\n",
    "    return result_beer, result_location\n"
   ]
  },
  {
   "cell_type": "code",
   "execution_count": 46,
   "metadata": {},
   "outputs": [
    {
     "name": "stdout",
     "output_type": "stream",
     "text": [
      "      user_location  beer_id             beer_location  avg_rating_diff  count\n",
      "0           England        5  United States, Louisiana         0.350000      2\n",
      "1           England        6  United States, Louisiana        -0.355000      2\n",
      "2           England        7  United States, Louisiana        -0.575000      2\n",
      "3           England       10      United States, Maine         0.215000      2\n",
      "4           England       14                   Belgium        -0.183333      6\n",
      "...             ...      ...                       ...              ...    ...\n",
      "10120       England   292637                    Poland         0.000000      1\n",
      "10121       England   292665                   Belgium         0.000000      1\n",
      "10122       England   293127                    Norway         0.020000      1\n",
      "10123       England   293144                    Poland         0.000000      1\n",
      "10124       England   293151                    Poland         0.000000      1\n",
      "\n",
      "[10125 rows x 5 columns]\n",
      "    user_location                                      beer_location  \\\n",
      "0         England                                            Albania   \n",
      "1         England                                          Argentina   \n",
      "2         England                                            Armenia   \n",
      "3         England                                          Australia   \n",
      "4         England                                            Austria   \n",
      "..            ...                                                ...   \n",
      "150       England  Utah</a><br><a href=\"http://utahbeers.com\" tar...   \n",
      "151       England                                            Vanuatu   \n",
      "152       England                                            Vietnam   \n",
      "153       England                                              Wales   \n",
      "154       England                                             Zambia   \n",
      "\n",
      "     avg_rating_diff_location  total_count  \n",
      "0                    0.290000            1  \n",
      "1                   -0.251818           24  \n",
      "2                    0.226000            5  \n",
      "3                   -0.310766          380  \n",
      "4                   -0.074861           98  \n",
      "..                        ...          ...  \n",
      "150                  0.157857            8  \n",
      "151                 -0.270000            1  \n",
      "152                 -0.327143           17  \n",
      "153                  0.005881          624  \n",
      "154                 -0.150000            1  \n",
      "\n",
      "[155 rows x 4 columns]\n"
     ]
    }
   ],
   "source": [
    "result_beer, result_location = differnce_onCountry('England', BAs_ratbeer)\n",
    "\n",
    "print(result_beer)\n",
    "\n",
    "print(result_location)"
   ]
  }
 ],
 "metadata": {
  "kernelspec": {
   "display_name": "ada",
   "language": "python",
   "name": "python3"
  },
  "language_info": {
   "codemirror_mode": {
    "name": "ipython",
    "version": 3
   },
   "file_extension": ".py",
   "mimetype": "text/x-python",
   "name": "python",
   "nbconvert_exporter": "python",
   "pygments_lexer": "ipython3",
   "version": "3.11.10"
  }
 },
 "nbformat": 4,
 "nbformat_minor": 2
}
