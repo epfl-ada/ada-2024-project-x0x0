{
 "cells": [
  {
   "cell_type": "code",
   "execution_count": 1,
   "metadata": {},
   "outputs": [],
   "source": [
    "import sys\n",
    "import os\n",
    "\n",
    "#otherwise our imports get all messed up\n",
    "project_root = os.path.abspath(os.path.join(os.getcwd(), \"../../..\"))\n",
    "if project_root not in sys.path:\n",
    "    sys.path.append(project_root)"
   ]
  },
  {
   "cell_type": "code",
   "execution_count": 2,
   "metadata": {},
   "outputs": [],
   "source": [
    "import pandas as pd\n",
    "\n",
    "from src.questions.question1.regionalAnalysis import regional_analysis"
   ]
  },
  {
   "cell_type": "code",
   "execution_count": 3,
   "metadata": {},
   "outputs": [],
   "source": [
    "US_ratings = pd.read_csv('../../../USData/BA_US_states_all.csv')\n",
    "\n",
    "#csv file containing all the states and their neighbouring states\n",
    "#empty list for states that have no neighbours (e.g Alazka, Hawaii)\n",
    "neighbours_df = pd.read_csv('../../../additionalData/bordering_states.csv', dtype={'state':'string', \n",
    "                                                                          'neighbours': 'string'})"
   ]
  },
  {
   "cell_type": "code",
   "execution_count": null,
   "metadata": {},
   "outputs": [
    {
     "name": "stdout",
     "output_type": "stream",
     "text": [
      "      region  rating user_state rating_type\n",
      "0  Wisconsin    4.04  Wisconsin    In-State\n",
      "1  Wisconsin    4.00  Wisconsin    In-State\n"
     ]
    },
    {
     "name": "stderr",
     "output_type": "stream",
     "text": [
      "c:\\Users\\Enzo\\Desktop\\ada-2024-project-x0x0\\src\\questions\\question1\\utils\\basicPlots.py:119: FutureWarning: The behavior of DataFrame concatenation with empty or all-NA entries is deprecated. In a future version, this will no longer exclude empty or all-NA columns when determining the result dtypes. To retain the old behavior, exclude the relevant entries before the concat operation.\n",
      "  final_cohen_df = pd.concat(all_cohen_results, ignore_index=True)\n"
     ]
    },
    {
     "name": "stdout",
     "output_type": "stream",
     "text": [
      "State Groups:\n",
      "--------------------------------------------------\n",
      "States: West Virginia, Ohio, Delaware, New York\n",
      "--------------------------------------------------\n",
      "States: Pennsylvania, Maryland, Virginia, Kentucky, New Jersey\n",
      "--------------------------------------------------\n",
      "States: South Dakota, Wyoming\n",
      "--------------------------------------------------\n",
      "States: Utah, Montana, Washington\n",
      "--------------------------------------------------\n",
      "States: Missouri, Iowa, Minnesota, New Mexico, Nevada, Idaho\n",
      "--------------------------------------------------\n",
      "States: Kansas, Nebraska\n",
      "--------------------------------------------------\n",
      "States: Texas, Oklahoma, Louisiana, Arizona, Oregon, Colorado, California\n",
      "--------------------------------------------------\n",
      "States: Illinois, Indiana\n",
      "--------------------------------------------------\n",
      "States: Wisconsin, Michigan, North Dakota\n",
      "--------------------------------------------------\n",
      "States: Alabama, Arkansas, South Carolina, Tennessee, Mississippi\n",
      "--------------------------------------------------\n",
      "States: New Hampshire, Rhode Island, Maine\n",
      "--------------------------------------------------\n",
      "States: Georgia, North Carolina, Florida\n",
      "--------------------------------------------------\n",
      "States: Massachusetts, Connecticut, Vermont\n",
      "--------------------------------------------------\n",
      "Summary of State Groups Check:\n",
      "----------------------------------------\n",
      "Missing States (not included in state_groups):\n",
      " - Alaska\n",
      " - Hawaii\n",
      "\n",
      "----------------------------------------\n",
      "No extra states found in state_groups.\n",
      "\n",
      "----------------------------------------\n",
      "No states are present in multiple groups.\n",
      "----------------------------------------\n"
     ]
    },
    {
     "data": {
      "application/vnd.plotly.v1+json": {
       "config": {
        "plotlyServerURL": "https://plot.ly"
       },
       "data": [
        {
         "colorscale": [
          [
           0,
           "rgb(252,141,98)"
          ],
          [
           1,
           "rgb(252,141,98)"
          ]
         ],
         "customdata": [
          [
           "Mississippi",
           "Group 10",
           "MS",
           "Cohen's d values:<br>Tennessee: -0.1046<br>Louisiana: -0.1359<br>Alabama: -0.2539"
          ],
          [
           "Alabama",
           "Group 10",
           "AL",
           "Cohen's d values:<br>Tennessee: 0.1123<br>Georgia: -0.1004<br>Florida: -0.1829<br>Mississippi: 0.2166"
          ],
          [
           "Tennessee",
           "Group 10",
           "TN",
           "Cohen's d values:<br>Missouri: -0.1249<br>Arkansas: -0.0412<br>Kentucky: 0.0348<br>Alabama: -0.0311<br>Virginia: -0.0912<br>Mississippi: 0.1260<br>Georgia: -0.1553<br>North Carolina: -0.2139"
          ],
          [
           "South Carolina",
           "Group 10",
           "SC",
           "Cohen's d values:<br>Georgia: -0.1091<br>North Carolina: -0.0916"
          ],
          [
           "Arkansas",
           "Group 10",
           "AR",
           "Cohen's d values:<br>Missouri: -0.0565<br>Texas: -0.0139<br>Oklahoma: -0.0097<br>Louisiana: 0.0347<br>Tennessee: 0.1350<br>Mississippi: 0.2207"
          ]
         ],
         "geo": "geo",
         "hovertemplate": "%{customdata[0]}<br><br>%{customdata[3]}",
         "hovertext": [
          "Mississippi",
          "Alabama",
          "Tennessee",
          "South Carolina",
          "Arkansas"
         ],
         "locationmode": "USA-states",
         "locations": [
          "MS",
          "AL",
          "TN",
          "SC",
          "AR"
         ],
         "name": "Group 10",
         "showlegend": true,
         "showscale": false,
         "type": "choropleth",
         "z": [
          1,
          1,
          1,
          1,
          1
         ]
        },
        {
         "colorscale": [
          [
           0,
           "rgb(229,196,148)"
          ],
          [
           1,
           "rgb(229,196,148)"
          ]
         ],
         "customdata": [
          [
           "Louisiana",
           "Group 7",
           "LA",
           "Cohen's d values:<br>Mississippi: 0.1779<br>Texas: -0.0061<br>Arkansas: -0.0676"
          ],
          [
           "California",
           "Group 7",
           "CA",
           "Cohen's d values:<br>Arizona: 0.0419<br>Oregon: 0.0568<br>Nevada: 0.1253"
          ],
          [
           "Arizona",
           "Group 7",
           "AZ",
           "Cohen's d values:<br>Colorado: 0.0572<br>California: -0.0688<br>Nevada: 0.0782<br>New Mexico: 0.1021<br>Utah: 0.1571"
          ],
          [
           "Oklahoma",
           "Group 7",
           "OK",
           "Cohen's d values:<br>Colorado: -0.0797<br>New Mexico: -0.0434<br>Missouri: -0.0335<br>Arkansas: 0.0204<br>Texas: -0.0097<br>Kansas: 0.0408"
          ],
          [
           "Colorado",
           "Group 7",
           "CO",
           "Cohen's d values:<br>Oklahoma: -0.0417<br>New Mexico: 0.0315<br>Arizona: 0.0547<br>Nebraska: 0.0673<br>Wyoming: 0.1238<br>Kansas: 0.1279<br>Utah: 0.1659"
          ],
          [
           "Oregon",
           "Group 7",
           "OR",
           "Cohen's d values:<br>Washington: 0.0687<br>Nevada: 0.0392<br>California: -0.0927<br>Idaho: 0.2374"
          ],
          [
           "Texas",
           "Group 7",
           "TX",
           "Cohen's d values:<br>Oklahoma: -0.0887<br>New Mexico: -0.0706<br>Louisiana: -0.0126<br>Arkansas: -0.1096"
          ]
         ],
         "geo": "geo",
         "hovertemplate": "%{customdata[0]}<br><br>%{customdata[3]}",
         "hovertext": [
          "Louisiana",
          "California",
          "Arizona",
          "Oklahoma",
          "Colorado",
          "Oregon",
          "Texas"
         ],
         "locationmode": "USA-states",
         "locations": [
          "LA",
          "CA",
          "AZ",
          "OK",
          "CO",
          "OR",
          "TX"
         ],
         "name": "Group 7",
         "showlegend": true,
         "showscale": false,
         "type": "choropleth",
         "z": [
          1,
          1,
          1,
          1,
          1,
          1,
          1
         ]
        },
        {
         "colorscale": [
          [
           0,
           "rgb(141,160,203)"
          ],
          [
           1,
           "rgb(141,160,203)"
          ]
         ],
         "customdata": [
          [
           "New Hampshire",
           "Group 11",
           "NH",
           "Cohen's d values:<br>Vermont: -0.1615<br>Maine: 0.1111<br>Massachusetts: -0.0587"
          ],
          [
           "Rhode Island",
           "Group 11",
           "RI",
           "Cohen's d values:<br>New York: 0.0608<br>Connecticut: -0.0511<br>Massachusetts: -0.0215"
          ],
          [
           "Maine",
           "Group 11",
           "ME",
           "Cohen's d values:<br>New Hampshire: 0.0233"
          ]
         ],
         "geo": "geo",
         "hovertemplate": "%{customdata[0]}<br><br>%{customdata[3]}",
         "hovertext": [
          "New Hampshire",
          "Rhode Island",
          "Maine"
         ],
         "locationmode": "USA-states",
         "locations": [
          "NH",
          "RI",
          "ME"
         ],
         "name": "Group 11",
         "showlegend": true,
         "showscale": false,
         "type": "choropleth",
         "z": [
          1,
          1,
          1
         ]
        },
        {
         "colorscale": [
          [
           0,
           "rgb(231,138,195)"
          ],
          [
           1,
           "rgb(231,138,195)"
          ]
         ],
         "customdata": [
          [
           "North Carolina",
           "Group 12",
           "NC",
           "Cohen's d values:<br>South Carolina: 0.1089<br>Georgia: -0.0118<br>Virginia: 0.1291<br>Tennessee: 0.2024"
          ],
          [
           "Florida",
           "Group 12",
           "FL",
           "Cohen's d values:<br>Georgia: 0.0818<br>Alabama: 0.1732"
          ],
          [
           "Georgia",
           "Group 12",
           "GA",
           "Cohen's d values:<br>South Carolina: 0.1125<br>Florida: -0.0747<br>North Carolina: 0.0152<br>Alabama: 0.0995<br>Tennessee: 0.1935"
          ]
         ],
         "geo": "geo",
         "hovertemplate": "%{customdata[0]}<br><br>%{customdata[3]}",
         "hovertext": [
          "North Carolina",
          "Florida",
          "Georgia"
         ],
         "locationmode": "USA-states",
         "locations": [
          "NC",
          "FL",
          "GA"
         ],
         "name": "Group 12",
         "showlegend": true,
         "showscale": false,
         "type": "choropleth",
         "z": [
          1,
          1,
          1
         ]
        },
        {
         "colorscale": [
          [
           0,
           "rgb(102,194,165)"
          ],
          [
           1,
           "rgb(102,194,165)"
          ]
         ],
         "customdata": [
          [
           "New York",
           "Group 1",
           "NY",
           "Cohen's d values:<br>Vermont: -0.1832<br>Connecticut: -0.1031<br>Rhode Island: -0.0552<br>New Jersey: 0.0627<br>Massachusetts: -0.0897<br>Pennsylvania: 0.1215"
          ],
          [
           "Ohio",
           "Group 1",
           "OH",
           "Cohen's d values:<br>Indiana: -0.0294<br>West Virginia: 0.0007<br>Kentucky: 0.0586<br>Michigan: 0.0900<br>Pennsylvania: 0.1367"
          ],
          [
           "Delaware",
           "Group 1",
           "DE",
           "Cohen's d values:<br>Pennsylvania: 0.1139<br>Maryland: 0.1000<br>New Jersey: 0.0607"
          ],
          [
           "West Virginia",
           "Group 1",
           "WV",
           "Cohen's d values:<br>Ohio: -0.0322<br>Kentucky: 0.1090<br>Virginia: 0.1245<br>Pennsylvania: 0.1269<br>Maryland: 0.1305"
          ]
         ],
         "geo": "geo",
         "hovertemplate": "%{customdata[0]}<br><br>%{customdata[3]}",
         "hovertext": [
          "New York",
          "Ohio",
          "Delaware",
          "West Virginia"
         ],
         "locationmode": "USA-states",
         "locations": [
          "NY",
          "OH",
          "DE",
          "WV"
         ],
         "name": "Group 1",
         "showlegend": true,
         "showscale": false,
         "type": "choropleth",
         "z": [
          1,
          1,
          1,
          1
         ]
        },
        {
         "colorscale": [
          [
           0,
           "rgb(166,216,84)"
          ],
          [
           1,
           "rgb(166,216,84)"
          ]
         ],
         "customdata": [
          [
           "Minnesota",
           "Group 5",
           "MN",
           "Cohen's d values:<br>Wisconsin: 0.0717<br>Michigan: 0.0594<br>Iowa: 0.0251<br>North Dakota: 0.0993<br>South Dakota: 0.2552"
          ],
          [
           "Missouri",
           "Group 5",
           "MO",
           "Cohen's d values:<br>Arkansas: 0.0420<br>Oklahoma: 0.0219<br>Iowa: -0.0032<br>Nebraska: 0.0841<br>Kansas: 0.0972<br>Kentucky: 0.1224<br>Illinois: -0.1500<br>Tennessee: 0.1674"
          ],
          [
           "Iowa",
           "Group 5",
           "IA",
           "Cohen's d values:<br>Minnesota: -0.0860<br>Missouri: -0.0015<br>Wisconsin: -0.0451<br>Nebraska: 0.0861<br>Illinois: -0.1475<br>South Dakota: 0.2246"
          ],
          [
           "Nevada",
           "Group 5",
           "NV",
           "Cohen's d values:<br>Utah: 0.0232<br>Oregon: -0.0725<br>Arizona: -0.0832<br>California: -0.1330<br>Idaho: 0.1850"
          ],
          [
           "New Mexico",
           "Group 5",
           "NM",
           "Cohen's d values:<br>Oklahoma: -0.0404<br>Texas: 0.0205<br>Colorado: -0.0279<br>Arizona: 0.0295<br>Utah: 0.1444"
          ],
          [
           "Idaho",
           "Group 5",
           "ID",
           "Cohen's d values:<br>Montana: -0.1810<br>Utah: -0.1798<br>Wyoming: -0.1220<br>Nevada: -0.0820<br>Washington: -0.2121<br>Oregon: -0.3033"
          ]
         ],
         "geo": "geo",
         "hovertemplate": "%{customdata[0]}<br><br>%{customdata[3]}",
         "hovertext": [
          "Minnesota",
          "Missouri",
          "Iowa",
          "Nevada",
          "New Mexico",
          "Idaho"
         ],
         "locationmode": "USA-states",
         "locations": [
          "MN",
          "MO",
          "IA",
          "NV",
          "NM",
          "ID"
         ],
         "name": "Group 5",
         "showlegend": true,
         "showscale": false,
         "type": "choropleth",
         "z": [
          1,
          1,
          1,
          1,
          1,
          1
         ]
        },
        {
         "colorscale": [
          [
           0,
           "rgb(179,179,179)"
          ],
          [
           1,
           "rgb(179,179,179)"
          ]
         ],
         "customdata": [
          [
           "Illinois",
           "Group 8",
           "IL",
           "Cohen's d values:<br>Wisconsin: 0.1016<br>Indiana: 0.0182<br>Michigan: 0.1228<br>Iowa: 0.1343<br>Missouri: 0.1371<br>Kentucky: 0.1535"
          ],
          [
           "Indiana",
           "Group 8",
           "IN",
           "Cohen's d values:<br>Illinois: -0.0182<br>Ohio: 0.0185<br>Kentucky: 0.0852<br>Michigan: 0.1246"
          ]
         ],
         "geo": "geo",
         "hovertemplate": "%{customdata[0]}<br><br>%{customdata[3]}",
         "hovertext": [
          "Illinois",
          "Indiana"
         ],
         "locationmode": "USA-states",
         "locations": [
          "IL",
          "IN"
         ],
         "name": "Group 8",
         "showlegend": true,
         "showscale": false,
         "type": "choropleth",
         "z": [
          1,
          1
         ]
        },
        {
         "colorscale": [
          [
           0,
           "rgb(252,141,98)"
          ],
          [
           1,
           "rgb(252,141,98)"
          ]
         ],
         "customdata": [
          [
           "Maryland",
           "Group 2",
           "MD",
           "Cohen's d values:<br>Pennsylvania: 0.0210<br>Virginia: 0.0032<br>West Virginia: -0.0303<br>Delaware: -0.0902"
          ],
          [
           "New Jersey",
           "Group 2",
           "NJ",
           "Cohen's d values:<br>Delaware: -0.0546<br>New York: -0.0396<br>Pennsylvania: 0.0606"
          ],
          [
           "Pennsylvania",
           "Group 2",
           "PA",
           "Cohen's d values:<br>Delaware: -0.1073<br>New York: -0.0951<br>New Jersey: -0.0456<br>Maryland: -0.0165<br>West Virginia: -0.1061<br>Ohio: -0.1426"
          ],
          [
           "Kentucky",
           "Group 2",
           "KY",
           "Cohen's d values:<br>Illinois: -0.2112<br>Tennessee: 0.1052<br>West Virginia: 0.0377<br>Virginia: 0.0069<br>Missouri: -0.0359<br>Ohio: -0.1249<br>Indiana: -0.1473"
          ],
          [
           "Virginia",
           "Group 2",
           "VA",
           "Cohen's d values:<br>Tennessee: 0.0628<br>Kentucky: 0.0305<br>Maryland: 0.0036<br>West Virginia: -0.0416<br>North Carolina: -0.1463"
          ]
         ],
         "geo": "geo",
         "hovertemplate": "%{customdata[0]}<br><br>%{customdata[3]}",
         "hovertext": [
          "Maryland",
          "New Jersey",
          "Pennsylvania",
          "Kentucky",
          "Virginia"
         ],
         "locationmode": "USA-states",
         "locations": [
          "MD",
          "NJ",
          "PA",
          "KY",
          "VA"
         ],
         "name": "Group 2",
         "showlegend": true,
         "showscale": false,
         "type": "choropleth",
         "z": [
          1,
          1,
          1,
          1,
          1
         ]
        },
        {
         "colorscale": [
          [
           0,
           "grey"
          ],
          [
           1,
           "grey"
          ]
         ],
         "customdata": [
          [
           "Alaska",
           "No Group",
           "AK",
           null
          ],
          [
           "Hawaii",
           "No Group",
           "HI",
           null
          ]
         ],
         "geo": "geo",
         "hovertemplate": "%{customdata[0]}<br><br>%{customdata[3]}",
         "hovertext": [
          "Alaska",
          "Hawaii"
         ],
         "locationmode": "USA-states",
         "locations": [
          "AK",
          "HI"
         ],
         "name": "No Group",
         "showlegend": true,
         "showscale": false,
         "type": "choropleth",
         "z": [
          1,
          1
         ]
        },
        {
         "colorscale": [
          [
           0,
           "rgb(166,216,84)"
          ],
          [
           1,
           "rgb(166,216,84)"
          ]
         ],
         "customdata": [
          [
           "Massachusetts",
           "Group 13",
           "MA",
           "Cohen's d values:<br>Vermont: -0.0939<br>New York: 0.0815<br>New Hampshire: 0.0458<br>Connecticut: -0.0207<br>Rhode Island: 0.0368"
          ],
          [
           "Connecticut",
           "Group 13",
           "CT",
           "Cohen's d values:<br>New York: 0.1117<br>Rhode Island: 0.0511<br>Massachusetts: 0.0290"
          ],
          [
           "Vermont",
           "Group 13",
           "VT",
           "Cohen's d values:<br>New York: 0.1867<br>New Hampshire: 0.1468<br>Massachusetts: 0.0878"
          ]
         ],
         "geo": "geo",
         "hovertemplate": "%{customdata[0]}<br><br>%{customdata[3]}",
         "hovertext": [
          "Massachusetts",
          "Connecticut",
          "Vermont"
         ],
         "locationmode": "USA-states",
         "locations": [
          "MA",
          "CT",
          "VT"
         ],
         "name": "Group 13",
         "showlegend": true,
         "showscale": false,
         "type": "choropleth",
         "z": [
          1,
          1,
          1
         ]
        },
        {
         "colorscale": [
          [
           0,
           "rgb(141,160,203)"
          ],
          [
           1,
           "rgb(141,160,203)"
          ]
         ],
         "customdata": [
          [
           "Wyoming",
           "Group 3",
           "WY",
           "Cohen's d values:<br>Nebraska: -0.0391<br>Montana: -0.0327<br>Utah: 0.0599<br>South Dakota: 0.0841<br>Colorado: -0.1283<br>Idaho: 0.1517"
          ],
          [
           "South Dakota",
           "Group 3",
           "SD",
           "Cohen's d values:<br>Minnesota: -0.2679<br>Iowa: -0.2637<br>North Dakota: -0.1386<br>Montana: -0.0915<br>Nebraska: -0.0759<br>Wyoming: -0.0127"
          ]
         ],
         "geo": "geo",
         "hovertemplate": "%{customdata[0]}<br><br>%{customdata[3]}",
         "hovertext": [
          "Wyoming",
          "South Dakota"
         ],
         "locationmode": "USA-states",
         "locations": [
          "WY",
          "SD"
         ],
         "name": "Group 3",
         "showlegend": true,
         "showscale": false,
         "type": "choropleth",
         "z": [
          1,
          1
         ]
        },
        {
         "colorscale": [
          [
           0,
           "rgb(102,194,165)"
          ],
          [
           1,
           "rgb(102,194,165)"
          ]
         ],
         "customdata": [
          [
           "Wisconsin",
           "Group 9",
           "WI",
           "Cohen's d values:<br>Illinois: -0.1095<br>Minnesota: -0.0616<br>Iowa: -0.0318<br>Michigan: -0.0050"
          ],
          [
           "North Dakota",
           "Group 9",
           "ND",
           "Cohen's d values:<br>Minnesota: -0.1160<br>South Dakota: 0.1009<br>Montana: 0.0402"
          ],
          [
           "Michigan",
           "Group 9",
           "MI",
           "Cohen's d values:<br>Indiana: -0.1141<br>Ohio: -0.0933<br>Minnesota: -0.0385<br>Wisconsin: 0.0161<br>Illinois: -0.1132"
          ]
         ],
         "geo": "geo",
         "hovertemplate": "%{customdata[0]}<br><br>%{customdata[3]}",
         "hovertext": [
          "Wisconsin",
          "North Dakota",
          "Michigan"
         ],
         "locationmode": "USA-states",
         "locations": [
          "WI",
          "ND",
          "MI"
         ],
         "name": "Group 9",
         "showlegend": true,
         "showscale": false,
         "type": "choropleth",
         "z": [
          1,
          1,
          1
         ]
        },
        {
         "colorscale": [
          [
           0,
           "rgb(231,138,195)"
          ],
          [
           1,
           "rgb(231,138,195)"
          ]
         ],
         "customdata": [
          [
           "Utah",
           "Group 4",
           "UT",
           "Cohen's d values:<br>Nevada: 0.0643<br>Wyoming: -0.0724<br>Arizona: -0.1046<br>Idaho: 0.1067<br>New Mexico: -0.1354<br>Colorado: -0.1845"
          ],
          [
           "Montana",
           "Group 4",
           "MT",
           "Cohen's d values:<br>South Dakota: 0.1071<br>North Dakota: 0.0576<br>Wyoming: 0.1005<br>Idaho: 0.2997"
          ],
          [
           "Washington",
           "Group 4",
           "WA",
           "Cohen's d values:<br>Oregon: -0.1085<br>Idaho: 0.2146"
          ]
         ],
         "geo": "geo",
         "hovertemplate": "%{customdata[0]}<br><br>%{customdata[3]}",
         "hovertext": [
          "Utah",
          "Montana",
          "Washington"
         ],
         "locationmode": "USA-states",
         "locations": [
          "UT",
          "MT",
          "WA"
         ],
         "name": "Group 4",
         "showlegend": true,
         "showscale": false,
         "type": "choropleth",
         "z": [
          1,
          1,
          1
         ]
        },
        {
         "colorscale": [
          [
           0,
           "rgb(255,217,47)"
          ],
          [
           1,
           "rgb(255,217,47)"
          ]
         ],
         "customdata": [
          [
           "Nebraska",
           "Group 6",
           "NE",
           "Cohen's d values:<br>South Dakota: 0.1838<br>Wyoming: 0.0514<br>Kansas: 0.0101<br>Iowa: -0.0455<br>Missouri: -0.0697<br>Colorado: -0.1191"
          ],
          [
           "Kansas",
           "Group 6",
           "KS",
           "Cohen's d values:<br>Missouri: -0.0744<br>Oklahoma: -0.0557<br>Nebraska: 0.0017<br>Colorado: -0.1203"
          ]
         ],
         "geo": "geo",
         "hovertemplate": "%{customdata[0]}<br><br>%{customdata[3]}",
         "hovertext": [
          "Nebraska",
          "Kansas"
         ],
         "locationmode": "USA-states",
         "locations": [
          "NE",
          "KS"
         ],
         "name": "Group 6",
         "showlegend": true,
         "showscale": false,
         "type": "choropleth",
         "z": [
          1,
          1
         ]
        }
       ],
       "layout": {
        "geo": {
         "center": {},
         "domain": {
          "x": [
           0,
           1
          ],
          "y": [
           0,
           1
          ]
         },
         "projection": {
          "type": "albers usa"
         },
         "scope": "usa"
        },
        "height": 600,
        "legend": {
         "title": {
          "text": "group"
         },
         "tracegroupgap": 0
        },
        "template": {
         "data": {
          "bar": [
           {
            "error_x": {
             "color": "#2a3f5f"
            },
            "error_y": {
             "color": "#2a3f5f"
            },
            "marker": {
             "line": {
              "color": "#E5ECF6",
              "width": 0.5
             },
             "pattern": {
              "fillmode": "overlay",
              "size": 10,
              "solidity": 0.2
             }
            },
            "type": "bar"
           }
          ],
          "barpolar": [
           {
            "marker": {
             "line": {
              "color": "#E5ECF6",
              "width": 0.5
             },
             "pattern": {
              "fillmode": "overlay",
              "size": 10,
              "solidity": 0.2
             }
            },
            "type": "barpolar"
           }
          ],
          "carpet": [
           {
            "aaxis": {
             "endlinecolor": "#2a3f5f",
             "gridcolor": "white",
             "linecolor": "white",
             "minorgridcolor": "white",
             "startlinecolor": "#2a3f5f"
            },
            "baxis": {
             "endlinecolor": "#2a3f5f",
             "gridcolor": "white",
             "linecolor": "white",
             "minorgridcolor": "white",
             "startlinecolor": "#2a3f5f"
            },
            "type": "carpet"
           }
          ],
          "choropleth": [
           {
            "colorbar": {
             "outlinewidth": 0,
             "ticks": ""
            },
            "type": "choropleth"
           }
          ],
          "contour": [
           {
            "colorbar": {
             "outlinewidth": 0,
             "ticks": ""
            },
            "colorscale": [
             [
              0,
              "#0d0887"
             ],
             [
              0.1111111111111111,
              "#46039f"
             ],
             [
              0.2222222222222222,
              "#7201a8"
             ],
             [
              0.3333333333333333,
              "#9c179e"
             ],
             [
              0.4444444444444444,
              "#bd3786"
             ],
             [
              0.5555555555555556,
              "#d8576b"
             ],
             [
              0.6666666666666666,
              "#ed7953"
             ],
             [
              0.7777777777777778,
              "#fb9f3a"
             ],
             [
              0.8888888888888888,
              "#fdca26"
             ],
             [
              1,
              "#f0f921"
             ]
            ],
            "type": "contour"
           }
          ],
          "contourcarpet": [
           {
            "colorbar": {
             "outlinewidth": 0,
             "ticks": ""
            },
            "type": "contourcarpet"
           }
          ],
          "heatmap": [
           {
            "colorbar": {
             "outlinewidth": 0,
             "ticks": ""
            },
            "colorscale": [
             [
              0,
              "#0d0887"
             ],
             [
              0.1111111111111111,
              "#46039f"
             ],
             [
              0.2222222222222222,
              "#7201a8"
             ],
             [
              0.3333333333333333,
              "#9c179e"
             ],
             [
              0.4444444444444444,
              "#bd3786"
             ],
             [
              0.5555555555555556,
              "#d8576b"
             ],
             [
              0.6666666666666666,
              "#ed7953"
             ],
             [
              0.7777777777777778,
              "#fb9f3a"
             ],
             [
              0.8888888888888888,
              "#fdca26"
             ],
             [
              1,
              "#f0f921"
             ]
            ],
            "type": "heatmap"
           }
          ],
          "heatmapgl": [
           {
            "colorbar": {
             "outlinewidth": 0,
             "ticks": ""
            },
            "colorscale": [
             [
              0,
              "#0d0887"
             ],
             [
              0.1111111111111111,
              "#46039f"
             ],
             [
              0.2222222222222222,
              "#7201a8"
             ],
             [
              0.3333333333333333,
              "#9c179e"
             ],
             [
              0.4444444444444444,
              "#bd3786"
             ],
             [
              0.5555555555555556,
              "#d8576b"
             ],
             [
              0.6666666666666666,
              "#ed7953"
             ],
             [
              0.7777777777777778,
              "#fb9f3a"
             ],
             [
              0.8888888888888888,
              "#fdca26"
             ],
             [
              1,
              "#f0f921"
             ]
            ],
            "type": "heatmapgl"
           }
          ],
          "histogram": [
           {
            "marker": {
             "pattern": {
              "fillmode": "overlay",
              "size": 10,
              "solidity": 0.2
             }
            },
            "type": "histogram"
           }
          ],
          "histogram2d": [
           {
            "colorbar": {
             "outlinewidth": 0,
             "ticks": ""
            },
            "colorscale": [
             [
              0,
              "#0d0887"
             ],
             [
              0.1111111111111111,
              "#46039f"
             ],
             [
              0.2222222222222222,
              "#7201a8"
             ],
             [
              0.3333333333333333,
              "#9c179e"
             ],
             [
              0.4444444444444444,
              "#bd3786"
             ],
             [
              0.5555555555555556,
              "#d8576b"
             ],
             [
              0.6666666666666666,
              "#ed7953"
             ],
             [
              0.7777777777777778,
              "#fb9f3a"
             ],
             [
              0.8888888888888888,
              "#fdca26"
             ],
             [
              1,
              "#f0f921"
             ]
            ],
            "type": "histogram2d"
           }
          ],
          "histogram2dcontour": [
           {
            "colorbar": {
             "outlinewidth": 0,
             "ticks": ""
            },
            "colorscale": [
             [
              0,
              "#0d0887"
             ],
             [
              0.1111111111111111,
              "#46039f"
             ],
             [
              0.2222222222222222,
              "#7201a8"
             ],
             [
              0.3333333333333333,
              "#9c179e"
             ],
             [
              0.4444444444444444,
              "#bd3786"
             ],
             [
              0.5555555555555556,
              "#d8576b"
             ],
             [
              0.6666666666666666,
              "#ed7953"
             ],
             [
              0.7777777777777778,
              "#fb9f3a"
             ],
             [
              0.8888888888888888,
              "#fdca26"
             ],
             [
              1,
              "#f0f921"
             ]
            ],
            "type": "histogram2dcontour"
           }
          ],
          "mesh3d": [
           {
            "colorbar": {
             "outlinewidth": 0,
             "ticks": ""
            },
            "type": "mesh3d"
           }
          ],
          "parcoords": [
           {
            "line": {
             "colorbar": {
              "outlinewidth": 0,
              "ticks": ""
             }
            },
            "type": "parcoords"
           }
          ],
          "pie": [
           {
            "automargin": true,
            "type": "pie"
           }
          ],
          "scatter": [
           {
            "fillpattern": {
             "fillmode": "overlay",
             "size": 10,
             "solidity": 0.2
            },
            "type": "scatter"
           }
          ],
          "scatter3d": [
           {
            "line": {
             "colorbar": {
              "outlinewidth": 0,
              "ticks": ""
             }
            },
            "marker": {
             "colorbar": {
              "outlinewidth": 0,
              "ticks": ""
             }
            },
            "type": "scatter3d"
           }
          ],
          "scattercarpet": [
           {
            "marker": {
             "colorbar": {
              "outlinewidth": 0,
              "ticks": ""
             }
            },
            "type": "scattercarpet"
           }
          ],
          "scattergeo": [
           {
            "marker": {
             "colorbar": {
              "outlinewidth": 0,
              "ticks": ""
             }
            },
            "type": "scattergeo"
           }
          ],
          "scattergl": [
           {
            "marker": {
             "colorbar": {
              "outlinewidth": 0,
              "ticks": ""
             }
            },
            "type": "scattergl"
           }
          ],
          "scattermapbox": [
           {
            "marker": {
             "colorbar": {
              "outlinewidth": 0,
              "ticks": ""
             }
            },
            "type": "scattermapbox"
           }
          ],
          "scatterpolar": [
           {
            "marker": {
             "colorbar": {
              "outlinewidth": 0,
              "ticks": ""
             }
            },
            "type": "scatterpolar"
           }
          ],
          "scatterpolargl": [
           {
            "marker": {
             "colorbar": {
              "outlinewidth": 0,
              "ticks": ""
             }
            },
            "type": "scatterpolargl"
           }
          ],
          "scatterternary": [
           {
            "marker": {
             "colorbar": {
              "outlinewidth": 0,
              "ticks": ""
             }
            },
            "type": "scatterternary"
           }
          ],
          "surface": [
           {
            "colorbar": {
             "outlinewidth": 0,
             "ticks": ""
            },
            "colorscale": [
             [
              0,
              "#0d0887"
             ],
             [
              0.1111111111111111,
              "#46039f"
             ],
             [
              0.2222222222222222,
              "#7201a8"
             ],
             [
              0.3333333333333333,
              "#9c179e"
             ],
             [
              0.4444444444444444,
              "#bd3786"
             ],
             [
              0.5555555555555556,
              "#d8576b"
             ],
             [
              0.6666666666666666,
              "#ed7953"
             ],
             [
              0.7777777777777778,
              "#fb9f3a"
             ],
             [
              0.8888888888888888,
              "#fdca26"
             ],
             [
              1,
              "#f0f921"
             ]
            ],
            "type": "surface"
           }
          ],
          "table": [
           {
            "cells": {
             "fill": {
              "color": "#EBF0F8"
             },
             "line": {
              "color": "white"
             }
            },
            "header": {
             "fill": {
              "color": "#C8D4E3"
             },
             "line": {
              "color": "white"
             }
            },
            "type": "table"
           }
          ]
         },
         "layout": {
          "annotationdefaults": {
           "arrowcolor": "#2a3f5f",
           "arrowhead": 0,
           "arrowwidth": 1
          },
          "autotypenumbers": "strict",
          "coloraxis": {
           "colorbar": {
            "outlinewidth": 0,
            "ticks": ""
           }
          },
          "colorscale": {
           "diverging": [
            [
             0,
             "#8e0152"
            ],
            [
             0.1,
             "#c51b7d"
            ],
            [
             0.2,
             "#de77ae"
            ],
            [
             0.3,
             "#f1b6da"
            ],
            [
             0.4,
             "#fde0ef"
            ],
            [
             0.5,
             "#f7f7f7"
            ],
            [
             0.6,
             "#e6f5d0"
            ],
            [
             0.7,
             "#b8e186"
            ],
            [
             0.8,
             "#7fbc41"
            ],
            [
             0.9,
             "#4d9221"
            ],
            [
             1,
             "#276419"
            ]
           ],
           "sequential": [
            [
             0,
             "#0d0887"
            ],
            [
             0.1111111111111111,
             "#46039f"
            ],
            [
             0.2222222222222222,
             "#7201a8"
            ],
            [
             0.3333333333333333,
             "#9c179e"
            ],
            [
             0.4444444444444444,
             "#bd3786"
            ],
            [
             0.5555555555555556,
             "#d8576b"
            ],
            [
             0.6666666666666666,
             "#ed7953"
            ],
            [
             0.7777777777777778,
             "#fb9f3a"
            ],
            [
             0.8888888888888888,
             "#fdca26"
            ],
            [
             1,
             "#f0f921"
            ]
           ],
           "sequentialminus": [
            [
             0,
             "#0d0887"
            ],
            [
             0.1111111111111111,
             "#46039f"
            ],
            [
             0.2222222222222222,
             "#7201a8"
            ],
            [
             0.3333333333333333,
             "#9c179e"
            ],
            [
             0.4444444444444444,
             "#bd3786"
            ],
            [
             0.5555555555555556,
             "#d8576b"
            ],
            [
             0.6666666666666666,
             "#ed7953"
            ],
            [
             0.7777777777777778,
             "#fb9f3a"
            ],
            [
             0.8888888888888888,
             "#fdca26"
            ],
            [
             1,
             "#f0f921"
            ]
           ]
          },
          "colorway": [
           "#636efa",
           "#EF553B",
           "#00cc96",
           "#ab63fa",
           "#FFA15A",
           "#19d3f3",
           "#FF6692",
           "#B6E880",
           "#FF97FF",
           "#FECB52"
          ],
          "font": {
           "color": "#2a3f5f"
          },
          "geo": {
           "bgcolor": "white",
           "lakecolor": "white",
           "landcolor": "#E5ECF6",
           "showlakes": true,
           "showland": true,
           "subunitcolor": "white"
          },
          "hoverlabel": {
           "align": "left"
          },
          "hovermode": "closest",
          "mapbox": {
           "style": "light"
          },
          "paper_bgcolor": "white",
          "plot_bgcolor": "#E5ECF6",
          "polar": {
           "angularaxis": {
            "gridcolor": "white",
            "linecolor": "white",
            "ticks": ""
           },
           "bgcolor": "#E5ECF6",
           "radialaxis": {
            "gridcolor": "white",
            "linecolor": "white",
            "ticks": ""
           }
          },
          "scene": {
           "xaxis": {
            "backgroundcolor": "#E5ECF6",
            "gridcolor": "white",
            "gridwidth": 2,
            "linecolor": "white",
            "showbackground": true,
            "ticks": "",
            "zerolinecolor": "white"
           },
           "yaxis": {
            "backgroundcolor": "#E5ECF6",
            "gridcolor": "white",
            "gridwidth": 2,
            "linecolor": "white",
            "showbackground": true,
            "ticks": "",
            "zerolinecolor": "white"
           },
           "zaxis": {
            "backgroundcolor": "#E5ECF6",
            "gridcolor": "white",
            "gridwidth": 2,
            "linecolor": "white",
            "showbackground": true,
            "ticks": "",
            "zerolinecolor": "white"
           }
          },
          "shapedefaults": {
           "line": {
            "color": "#2a3f5f"
           }
          },
          "ternary": {
           "aaxis": {
            "gridcolor": "white",
            "linecolor": "white",
            "ticks": ""
           },
           "baxis": {
            "gridcolor": "white",
            "linecolor": "white",
            "ticks": ""
           },
           "bgcolor": "#E5ECF6",
           "caxis": {
            "gridcolor": "white",
            "linecolor": "white",
            "ticks": ""
           }
          },
          "title": {
           "x": 0.05
          },
          "xaxis": {
           "automargin": true,
           "gridcolor": "white",
           "linecolor": "white",
           "ticks": "",
           "title": {
            "standoff": 15
           },
           "zerolinecolor": "white",
           "zerolinewidth": 2
          },
          "yaxis": {
           "automargin": true,
           "gridcolor": "white",
           "linecolor": "white",
           "ticks": "",
           "title": {
            "standoff": 15
           },
           "zerolinecolor": "white",
           "zerolinewidth": 2
          }
         }
        },
        "title": {
         "font": {
          "size": 20
         },
         "text": "State Groups by Cohen's d"
        },
        "width": 900
       }
      }
     },
     "metadata": {},
     "output_type": "display_data"
    }
   ],
   "source": [
    "state_groups_df = regional_analysis(US_ratings, neighbours_df)"
   ]
  },
  {
   "cell_type": "code",
   "execution_count": 7,
   "metadata": {},
   "outputs": [
    {
     "data": {
      "text/html": [
       "<div>\n",
       "<style scoped>\n",
       "    .dataframe tbody tr th:only-of-type {\n",
       "        vertical-align: middle;\n",
       "    }\n",
       "\n",
       "    .dataframe tbody tr th {\n",
       "        vertical-align: top;\n",
       "    }\n",
       "\n",
       "    .dataframe thead th {\n",
       "        text-align: right;\n",
       "    }\n",
       "</style>\n",
       "<table border=\"1\" class=\"dataframe\">\n",
       "  <thead>\n",
       "    <tr style=\"text-align: right;\">\n",
       "      <th></th>\n",
       "      <th>States</th>\n",
       "    </tr>\n",
       "  </thead>\n",
       "  <tbody>\n",
       "    <tr>\n",
       "      <th>0</th>\n",
       "      <td>[West Virginia, Ohio, Delaware, New York]</td>\n",
       "    </tr>\n",
       "    <tr>\n",
       "      <th>1</th>\n",
       "      <td>[Pennsylvania, Maryland, Virginia, Kentucky, N...</td>\n",
       "    </tr>\n",
       "    <tr>\n",
       "      <th>2</th>\n",
       "      <td>[South Dakota, Wyoming]</td>\n",
       "    </tr>\n",
       "    <tr>\n",
       "      <th>3</th>\n",
       "      <td>[Utah, Montana, Washington]</td>\n",
       "    </tr>\n",
       "    <tr>\n",
       "      <th>4</th>\n",
       "      <td>[Missouri, Iowa, Minnesota, New Mexico, Nevada...</td>\n",
       "    </tr>\n",
       "    <tr>\n",
       "      <th>5</th>\n",
       "      <td>[Kansas, Nebraska]</td>\n",
       "    </tr>\n",
       "    <tr>\n",
       "      <th>6</th>\n",
       "      <td>[Texas, Oklahoma, Louisiana, Arizona, Oregon, ...</td>\n",
       "    </tr>\n",
       "    <tr>\n",
       "      <th>7</th>\n",
       "      <td>[Illinois, Indiana]</td>\n",
       "    </tr>\n",
       "    <tr>\n",
       "      <th>8</th>\n",
       "      <td>[Wisconsin, Michigan, North Dakota]</td>\n",
       "    </tr>\n",
       "    <tr>\n",
       "      <th>9</th>\n",
       "      <td>[Alabama, Arkansas, South Carolina, Tennessee,...</td>\n",
       "    </tr>\n",
       "    <tr>\n",
       "      <th>10</th>\n",
       "      <td>[New Hampshire, Rhode Island, Maine]</td>\n",
       "    </tr>\n",
       "    <tr>\n",
       "      <th>11</th>\n",
       "      <td>[Georgia, North Carolina, Florida]</td>\n",
       "    </tr>\n",
       "    <tr>\n",
       "      <th>12</th>\n",
       "      <td>[Massachusetts, Connecticut, Vermont]</td>\n",
       "    </tr>\n",
       "  </tbody>\n",
       "</table>\n",
       "</div>"
      ],
      "text/plain": [
       "                                               States\n",
       "0           [West Virginia, Ohio, Delaware, New York]\n",
       "1   [Pennsylvania, Maryland, Virginia, Kentucky, N...\n",
       "2                             [South Dakota, Wyoming]\n",
       "3                         [Utah, Montana, Washington]\n",
       "4   [Missouri, Iowa, Minnesota, New Mexico, Nevada...\n",
       "5                                  [Kansas, Nebraska]\n",
       "6   [Texas, Oklahoma, Louisiana, Arizona, Oregon, ...\n",
       "7                                 [Illinois, Indiana]\n",
       "8                 [Wisconsin, Michigan, North Dakota]\n",
       "9   [Alabama, Arkansas, South Carolina, Tennessee,...\n",
       "10               [New Hampshire, Rhode Island, Maine]\n",
       "11                 [Georgia, North Carolina, Florida]\n",
       "12              [Massachusetts, Connecticut, Vermont]"
      ]
     },
     "execution_count": 7,
     "metadata": {},
     "output_type": "execute_result"
    }
   ],
   "source": [
    "state_groups_df"
   ]
  }
 ],
 "metadata": {
  "kernelspec": {
   "display_name": "ada",
   "language": "python",
   "name": "python3"
  },
  "language_info": {
   "codemirror_mode": {
    "name": "ipython",
    "version": 3
   },
   "file_extension": ".py",
   "mimetype": "text/x-python",
   "name": "python",
   "nbconvert_exporter": "python",
   "pygments_lexer": "ipython3",
   "version": "3.11.9"
  }
 },
 "nbformat": 4,
 "nbformat_minor": 2
}
