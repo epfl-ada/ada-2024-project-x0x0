{
 "cells": [
  {
   "cell_type": "code",
   "execution_count": 9,
   "metadata": {},
   "outputs": [],
   "source": [
    "import os\n",
    "import subprocess\n",
    "from pathlib import Path\n",
    "\n",
    "\"\"\"\n",
    "Dynamically find the project root (where .git exists) and set it as the current working directory.\n",
    "\"\"\"\n",
    "project_root = Path(subprocess.check_output(['git', 'rev-parse', '--show-toplevel'], text=True).strip())\n",
    "os.chdir(project_root)"
   ]
  },
  {
   "cell_type": "code",
   "execution_count": 10,
   "metadata": {},
   "outputs": [],
   "source": [
    "import pandas as pd\n",
    "import numpy as np\n",
    "import matplotlib.pyplot as plt\n",
    "%matplotlib inline\n",
    "import seaborn as sns\n",
    "import scipy.stats as stats\n",
    "from scipy.stats import mannwhitneyu\n",
    "import math\n",
    "import geopandas as gpd\n",
    "import matplotlib.patches as mpatches\n",
    "from matplotlib.patches import Patch\n",
    "import plotly.express as px\n",
    "from matplotlib import cm\n",
    "from matplotlib.colors import to_hex\n",
    "import plotly.graph_objects as go\n",
    "\n",
    "\n"
   ]
  },
  {
   "cell_type": "code",
   "execution_count": 11,
   "metadata": {},
   "outputs": [
    {
     "data": {
      "text/html": [
       "<div>\n",
       "<style scoped>\n",
       "    .dataframe tbody tr th:only-of-type {\n",
       "        vertical-align: middle;\n",
       "    }\n",
       "\n",
       "    .dataframe tbody tr th {\n",
       "        vertical-align: top;\n",
       "    }\n",
       "\n",
       "    .dataframe thead th {\n",
       "        text-align: right;\n",
       "    }\n",
       "</style>\n",
       "<table border=\"1\" class=\"dataframe\">\n",
       "  <thead>\n",
       "    <tr style=\"text-align: right;\">\n",
       "      <th></th>\n",
       "      <th>beer_name</th>\n",
       "      <th>beer_id</th>\n",
       "      <th>brewery_name</th>\n",
       "      <th>brewery_id</th>\n",
       "      <th>style</th>\n",
       "      <th>user_id</th>\n",
       "      <th>appearance</th>\n",
       "      <th>aroma</th>\n",
       "      <th>palate</th>\n",
       "      <th>taste</th>\n",
       "      <th>overall</th>\n",
       "      <th>rating</th>\n",
       "      <th>avg</th>\n",
       "      <th>user_state</th>\n",
       "      <th>beer_state</th>\n",
       "    </tr>\n",
       "  </thead>\n",
       "  <tbody>\n",
       "    <tr>\n",
       "      <th>0</th>\n",
       "      <td>Kupfer Kolsch</td>\n",
       "      <td>289320.0</td>\n",
       "      <td>Copper State Brewing Company</td>\n",
       "      <td>49595.0</td>\n",
       "      <td>Kölsch</td>\n",
       "      <td>n2185.211743</td>\n",
       "      <td>2.50</td>\n",
       "      <td>4.00</td>\n",
       "      <td>4.00</td>\n",
       "      <td>3.75</td>\n",
       "      <td>3.75</td>\n",
       "      <td>3.76</td>\n",
       "      <td>3.76</td>\n",
       "      <td>North Carolina</td>\n",
       "      <td>Wisconsin</td>\n",
       "    </tr>\n",
       "    <tr>\n",
       "      <th>1</th>\n",
       "      <td>Northwestern Alt</td>\n",
       "      <td>289321.0</td>\n",
       "      <td>Copper State Brewing Company</td>\n",
       "      <td>49595.0</td>\n",
       "      <td>Altbier</td>\n",
       "      <td>n2185.211743</td>\n",
       "      <td>3.00</td>\n",
       "      <td>3.75</td>\n",
       "      <td>4.00</td>\n",
       "      <td>3.50</td>\n",
       "      <td>3.50</td>\n",
       "      <td>3.58</td>\n",
       "      <td>3.58</td>\n",
       "      <td>North Carolina</td>\n",
       "      <td>Wisconsin</td>\n",
       "    </tr>\n",
       "    <tr>\n",
       "      <th>2</th>\n",
       "      <td>One Cent Wheat</td>\n",
       "      <td>289319.0</td>\n",
       "      <td>Copper State Brewing Company</td>\n",
       "      <td>49595.0</td>\n",
       "      <td>Witbier</td>\n",
       "      <td>n2185.211743</td>\n",
       "      <td>3.75</td>\n",
       "      <td>3.25</td>\n",
       "      <td>3.75</td>\n",
       "      <td>3.50</td>\n",
       "      <td>3.50</td>\n",
       "      <td>3.48</td>\n",
       "      <td>3.48</td>\n",
       "      <td>North Carolina</td>\n",
       "      <td>Wisconsin</td>\n",
       "    </tr>\n",
       "  </tbody>\n",
       "</table>\n",
       "</div>"
      ],
      "text/plain": [
       "          beer_name   beer_id                  brewery_name  brewery_id  \\\n",
       "0     Kupfer Kolsch  289320.0  Copper State Brewing Company     49595.0   \n",
       "1  Northwestern Alt  289321.0  Copper State Brewing Company     49595.0   \n",
       "2    One Cent Wheat  289319.0  Copper State Brewing Company     49595.0   \n",
       "\n",
       "     style       user_id  appearance  aroma  palate  taste  overall  rating  \\\n",
       "0   Kölsch  n2185.211743        2.50   4.00    4.00   3.75     3.75    3.76   \n",
       "1  Altbier  n2185.211743        3.00   3.75    4.00   3.50     3.50    3.58   \n",
       "2  Witbier  n2185.211743        3.75   3.25    3.75   3.50     3.50    3.48   \n",
       "\n",
       "    avg      user_state beer_state  \n",
       "0  3.76  North Carolina  Wisconsin  \n",
       "1  3.58  North Carolina  Wisconsin  \n",
       "2  3.48  North Carolina  Wisconsin  "
      ]
     },
     "execution_count": 11,
     "metadata": {},
     "output_type": "execute_result"
    }
   ],
   "source": [
    "US_ratings = pd.read_csv('data/USData/BA_US_states_all.csv')\n",
    "US_ratings.head(3)"
   ]
  },
  {
   "cell_type": "code",
   "execution_count": 14,
   "metadata": {},
   "outputs": [
    {
     "name": "stdout",
     "output_type": "stream",
     "text": [
      "<class 'pandas.core.frame.DataFrame'>\n",
      "RangeIndex: 6331638 entries, 0 to 6331637\n",
      "Data columns (total 15 columns):\n",
      " #   Column        Dtype  \n",
      "---  ------        -----  \n",
      " 0   beer_name     object \n",
      " 1   beer_id       float64\n",
      " 2   brewery_name  object \n",
      " 3   brewery_id    float64\n",
      " 4   style         object \n",
      " 5   user_id       object \n",
      " 6   appearance    float64\n",
      " 7   aroma         float64\n",
      " 8   palate        float64\n",
      " 9   taste         float64\n",
      " 10  overall       float64\n",
      " 11  rating        float64\n",
      " 12  avg           float64\n",
      " 13  user_state    object \n",
      " 14  beer_state    object \n",
      "dtypes: float64(9), object(6)\n",
      "memory usage: 724.6+ MB\n"
     ]
    }
   ],
   "source": [
    "US_ratings.info()"
   ]
  },
  {
   "cell_type": "code",
   "execution_count": 15,
   "metadata": {},
   "outputs": [
    {
     "data": {
      "text/html": [
       "<div>\n",
       "<style scoped>\n",
       "    .dataframe tbody tr th:only-of-type {\n",
       "        vertical-align: middle;\n",
       "    }\n",
       "\n",
       "    .dataframe tbody tr th {\n",
       "        vertical-align: top;\n",
       "    }\n",
       "\n",
       "    .dataframe thead th {\n",
       "        text-align: right;\n",
       "    }\n",
       "</style>\n",
       "<table border=\"1\" class=\"dataframe\">\n",
       "  <thead>\n",
       "    <tr style=\"text-align: right;\">\n",
       "      <th></th>\n",
       "      <th>state</th>\n",
       "      <th>neighbours</th>\n",
       "      <th>nb_neighbours</th>\n",
       "    </tr>\n",
       "  </thead>\n",
       "  <tbody>\n",
       "    <tr>\n",
       "      <th>0</th>\n",
       "      <td>Alabama</td>\n",
       "      <td>[Florida, Georgia, Mississippi, Tennessee]</td>\n",
       "      <td>4</td>\n",
       "    </tr>\n",
       "    <tr>\n",
       "      <th>1</th>\n",
       "      <td>Alaska</td>\n",
       "      <td>[]</td>\n",
       "      <td>0</td>\n",
       "    </tr>\n",
       "    <tr>\n",
       "      <th>2</th>\n",
       "      <td>Arizona</td>\n",
       "      <td>[California, Colorado, Nevada, New Mexico, Utah]</td>\n",
       "      <td>5</td>\n",
       "    </tr>\n",
       "  </tbody>\n",
       "</table>\n",
       "</div>"
      ],
      "text/plain": [
       "     state                                        neighbours  nb_neighbours\n",
       "0  Alabama        [Florida, Georgia, Mississippi, Tennessee]              4\n",
       "1   Alaska                                                []              0\n",
       "2  Arizona  [California, Colorado, Nevada, New Mexico, Utah]              5"
      ]
     },
     "execution_count": 15,
     "metadata": {},
     "output_type": "execute_result"
    }
   ],
   "source": [
    "#csv file containing all the states and their neighbouring states\n",
    "#empty list for states that have no neighbours (e.g Alazka, Hawaii)\n",
    "neighbours_df = pd.read_csv('data/additionalData/bordering_states.csv', dtype={'state':'string', \n",
    "                                                                          'neighbours': 'string'})\n",
    "neighbours_df[\"neighbours\"] = neighbours_df[\"neighbours\"].fillna(\"\").apply(lambda x: x.split(\";\") if x else [])\n",
    "\n",
    "neighbours_df.head(3)"
   ]
  },
  {
   "cell_type": "code",
   "execution_count": 16,
   "metadata": {},
   "outputs": [
    {
     "data": {
      "text/html": [
       "<div>\n",
       "<style scoped>\n",
       "    .dataframe tbody tr th:only-of-type {\n",
       "        vertical-align: middle;\n",
       "    }\n",
       "\n",
       "    .dataframe tbody tr th {\n",
       "        vertical-align: top;\n",
       "    }\n",
       "\n",
       "    .dataframe thead th {\n",
       "        text-align: right;\n",
       "    }\n",
       "</style>\n",
       "<table border=\"1\" class=\"dataframe\">\n",
       "  <thead>\n",
       "    <tr style=\"text-align: right;\">\n",
       "      <th></th>\n",
       "      <th>region</th>\n",
       "      <th>rating</th>\n",
       "      <th>rating_type</th>\n",
       "      <th>user_state</th>\n",
       "    </tr>\n",
       "  </thead>\n",
       "  <tbody>\n",
       "    <tr>\n",
       "      <th>0</th>\n",
       "      <td>Wisconsin</td>\n",
       "      <td>4.04</td>\n",
       "      <td>In-Region</td>\n",
       "      <td>Wisconsin</td>\n",
       "    </tr>\n",
       "    <tr>\n",
       "      <th>1</th>\n",
       "      <td>Wisconsin</td>\n",
       "      <td>4.00</td>\n",
       "      <td>In-Region</td>\n",
       "      <td>Wisconsin</td>\n",
       "    </tr>\n",
       "    <tr>\n",
       "      <th>2</th>\n",
       "      <td>Wisconsin</td>\n",
       "      <td>3.75</td>\n",
       "      <td>In-Region</td>\n",
       "      <td>Wisconsin</td>\n",
       "    </tr>\n",
       "    <tr>\n",
       "      <th>3</th>\n",
       "      <td>Wisconsin</td>\n",
       "      <td>3.90</td>\n",
       "      <td>In-Region</td>\n",
       "      <td>Illinois</td>\n",
       "    </tr>\n",
       "    <tr>\n",
       "      <th>4</th>\n",
       "      <td>Wisconsin</td>\n",
       "      <td>3.25</td>\n",
       "      <td>In-Region</td>\n",
       "      <td>Wisconsin</td>\n",
       "    </tr>\n",
       "  </tbody>\n",
       "</table>\n",
       "</div>"
      ],
      "text/plain": [
       "      region  rating rating_type user_state\n",
       "0  Wisconsin    4.04   In-Region  Wisconsin\n",
       "1  Wisconsin    4.00   In-Region  Wisconsin\n",
       "2  Wisconsin    3.75   In-Region  Wisconsin\n",
       "3  Wisconsin    3.90   In-Region   Illinois\n",
       "4  Wisconsin    3.25   In-Region  Wisconsin"
      ]
     },
     "execution_count": 16,
     "metadata": {},
     "output_type": "execute_result"
    }
   ],
   "source": [
    "def gather_region_ratings(state, US_ratings, neighbours_df):\n",
    "    neighbours = neighbours_df.loc[neighbours_df['state'] == state, 'neighbours'].values[0]\n",
    "    \n",
    "    region_states = [state] + neighbours    \n",
    "    region_ratings = US_ratings[US_ratings['beer_state'].isin(region_states)]\n",
    "\n",
    "    in_region_ratings = region_ratings[region_ratings['user_state'].isin(region_states)]\n",
    "    not_in_region_ratings = region_ratings[~region_ratings['user_state'].isin(region_states)]\n",
    "    \n",
    "    return in_region_ratings, not_in_region_ratings\n",
    "\n",
    "states = US_ratings['beer_state'].unique()\n",
    "\n",
    "all_ratings = {'region': [], 'rating': [], 'rating_type': [], 'user_state': []}\n",
    "\n",
    "for state in states:\n",
    "    in_region, non_region = gather_region_ratings(state, US_ratings, neighbours_df)\n",
    "\n",
    "    region_name = f\"{state}\"\n",
    "    \n",
    "    # Add In-Region ratings to the dictionary\n",
    "    all_ratings['region'].extend([region_name] * len(in_region))\n",
    "    all_ratings['rating'].extend(in_region['rating'].tolist())\n",
    "    all_ratings['rating_type'].extend(['In-Region'] * len(in_region))\n",
    "    all_ratings['user_state'].extend(in_region['user_state'].tolist())\n",
    "    \n",
    "    # Add Non-Region ratings to the dictionary\n",
    "    all_ratings['region'].extend([region_name] * len(non_region))\n",
    "    all_ratings['rating'].extend(non_region['rating'].tolist())\n",
    "    all_ratings['rating_type'].extend(['Non-Region'] * len(non_region))\n",
    "    all_ratings['user_state'].extend(non_region['user_state'].tolist())\n",
    "\n",
    "ratings_df = pd.DataFrame(all_ratings)\n",
    "\n",
    "ratings_df.head()\n"
   ]
  },
  {
   "cell_type": "code",
   "execution_count": 17,
   "metadata": {},
   "outputs": [
    {
     "data": {
      "text/html": [
       "<div>\n",
       "<style scoped>\n",
       "    .dataframe tbody tr th:only-of-type {\n",
       "        vertical-align: middle;\n",
       "    }\n",
       "\n",
       "    .dataframe tbody tr th {\n",
       "        vertical-align: top;\n",
       "    }\n",
       "\n",
       "    .dataframe thead th {\n",
       "        text-align: right;\n",
       "    }\n",
       "</style>\n",
       "<table border=\"1\" class=\"dataframe\">\n",
       "  <thead>\n",
       "    <tr style=\"text-align: right;\">\n",
       "      <th></th>\n",
       "      <th>region</th>\n",
       "      <th>rating</th>\n",
       "      <th>rating_type</th>\n",
       "      <th>user_state</th>\n",
       "    </tr>\n",
       "  </thead>\n",
       "  <tbody>\n",
       "    <tr>\n",
       "      <th>0</th>\n",
       "      <td>Wisconsin</td>\n",
       "      <td>4.04</td>\n",
       "      <td>In-Region</td>\n",
       "      <td>Wisconsin</td>\n",
       "    </tr>\n",
       "    <tr>\n",
       "      <th>1</th>\n",
       "      <td>Wisconsin</td>\n",
       "      <td>4.00</td>\n",
       "      <td>In-Region</td>\n",
       "      <td>Wisconsin</td>\n",
       "    </tr>\n",
       "    <tr>\n",
       "      <th>2</th>\n",
       "      <td>Wisconsin</td>\n",
       "      <td>3.75</td>\n",
       "      <td>In-Region</td>\n",
       "      <td>Wisconsin</td>\n",
       "    </tr>\n",
       "    <tr>\n",
       "      <th>3</th>\n",
       "      <td>Wisconsin</td>\n",
       "      <td>3.90</td>\n",
       "      <td>In-Region</td>\n",
       "      <td>Illinois</td>\n",
       "    </tr>\n",
       "    <tr>\n",
       "      <th>4</th>\n",
       "      <td>Wisconsin</td>\n",
       "      <td>3.25</td>\n",
       "      <td>In-Region</td>\n",
       "      <td>Wisconsin</td>\n",
       "    </tr>\n",
       "    <tr>\n",
       "      <th>...</th>\n",
       "      <td>...</td>\n",
       "      <td>...</td>\n",
       "      <td>...</td>\n",
       "      <td>...</td>\n",
       "    </tr>\n",
       "    <tr>\n",
       "      <th>195</th>\n",
       "      <td>Wisconsin</td>\n",
       "      <td>3.50</td>\n",
       "      <td>In-Region</td>\n",
       "      <td>Minnesota</td>\n",
       "    </tr>\n",
       "    <tr>\n",
       "      <th>196</th>\n",
       "      <td>Wisconsin</td>\n",
       "      <td>4.25</td>\n",
       "      <td>In-Region</td>\n",
       "      <td>Wisconsin</td>\n",
       "    </tr>\n",
       "    <tr>\n",
       "      <th>197</th>\n",
       "      <td>Wisconsin</td>\n",
       "      <td>3.75</td>\n",
       "      <td>In-Region</td>\n",
       "      <td>Minnesota</td>\n",
       "    </tr>\n",
       "    <tr>\n",
       "      <th>198</th>\n",
       "      <td>Wisconsin</td>\n",
       "      <td>4.15</td>\n",
       "      <td>In-Region</td>\n",
       "      <td>Minnesota</td>\n",
       "    </tr>\n",
       "    <tr>\n",
       "      <th>199</th>\n",
       "      <td>Wisconsin</td>\n",
       "      <td>3.25</td>\n",
       "      <td>In-Region</td>\n",
       "      <td>Minnesota</td>\n",
       "    </tr>\n",
       "  </tbody>\n",
       "</table>\n",
       "<p>200 rows × 4 columns</p>\n",
       "</div>"
      ],
      "text/plain": [
       "        region  rating rating_type user_state\n",
       "0    Wisconsin    4.04   In-Region  Wisconsin\n",
       "1    Wisconsin    4.00   In-Region  Wisconsin\n",
       "2    Wisconsin    3.75   In-Region  Wisconsin\n",
       "3    Wisconsin    3.90   In-Region   Illinois\n",
       "4    Wisconsin    3.25   In-Region  Wisconsin\n",
       "..         ...     ...         ...        ...\n",
       "195  Wisconsin    3.50   In-Region  Minnesota\n",
       "196  Wisconsin    4.25   In-Region  Wisconsin\n",
       "197  Wisconsin    3.75   In-Region  Minnesota\n",
       "198  Wisconsin    4.15   In-Region  Minnesota\n",
       "199  Wisconsin    3.25   In-Region  Minnesota\n",
       "\n",
       "[200 rows x 4 columns]"
      ]
     },
     "execution_count": 17,
     "metadata": {},
     "output_type": "execute_result"
    }
   ],
   "source": [
    "ratings_df.head(200)"
   ]
  },
  {
   "cell_type": "code",
   "execution_count": 18,
   "metadata": {},
   "outputs": [
    {
     "name": "stdout",
     "output_type": "stream",
     "text": [
      "<class 'pandas.core.frame.DataFrame'>\n",
      "Index: 13278808 entries, 0 to 34011603\n",
      "Data columns (total 3 columns):\n",
      " #   Column      Dtype  \n",
      "---  ------      -----  \n",
      " 0   region      object \n",
      " 1   rating      float64\n",
      " 2   user_state  object \n",
      "dtypes: float64(1), object(2)\n",
      "memory usage: 405.2+ MB\n"
     ]
    }
   ],
   "source": [
    "ratings_df = ratings_df[ratings_df['rating_type'] == 'In-Region']\n",
    "ratings_df = ratings_df.drop('rating_type', axis=1)\n",
    "ratings_df.info()"
   ]
  },
  {
   "cell_type": "code",
   "execution_count": 19,
   "metadata": {},
   "outputs": [
    {
     "data": {
      "text/html": [
       "<div>\n",
       "<style scoped>\n",
       "    .dataframe tbody tr th:only-of-type {\n",
       "        vertical-align: middle;\n",
       "    }\n",
       "\n",
       "    .dataframe tbody tr th {\n",
       "        vertical-align: top;\n",
       "    }\n",
       "\n",
       "    .dataframe thead th {\n",
       "        text-align: right;\n",
       "    }\n",
       "</style>\n",
       "<table border=\"1\" class=\"dataframe\">\n",
       "  <thead>\n",
       "    <tr style=\"text-align: right;\">\n",
       "      <th>rating_type</th>\n",
       "      <th>region</th>\n",
       "      <th>In-State</th>\n",
       "      <th>Non-State</th>\n",
       "    </tr>\n",
       "  </thead>\n",
       "  <tbody>\n",
       "    <tr>\n",
       "      <th>0</th>\n",
       "      <td>Alabama</td>\n",
       "      <td>3.876441</td>\n",
       "      <td>3.942452</td>\n",
       "    </tr>\n",
       "    <tr>\n",
       "      <th>1</th>\n",
       "      <td>Alaska</td>\n",
       "      <td>3.970084</td>\n",
       "      <td>NaN</td>\n",
       "    </tr>\n",
       "    <tr>\n",
       "      <th>2</th>\n",
       "      <td>Arizona</td>\n",
       "      <td>3.950191</td>\n",
       "      <td>3.971004</td>\n",
       "    </tr>\n",
       "    <tr>\n",
       "      <th>3</th>\n",
       "      <td>Arkansas</td>\n",
       "      <td>3.782575</td>\n",
       "      <td>3.784315</td>\n",
       "    </tr>\n",
       "    <tr>\n",
       "      <th>4</th>\n",
       "      <td>California</td>\n",
       "      <td>4.003972</td>\n",
       "      <td>3.970370</td>\n",
       "    </tr>\n",
       "  </tbody>\n",
       "</table>\n",
       "</div>"
      ],
      "text/plain": [
       "rating_type      region  In-State  Non-State\n",
       "0               Alabama  3.876441   3.942452\n",
       "1                Alaska  3.970084        NaN\n",
       "2               Arizona  3.950191   3.971004\n",
       "3              Arkansas  3.782575   3.784315\n",
       "4            California  4.003972   3.970370"
      ]
     },
     "execution_count": 19,
     "metadata": {},
     "output_type": "execute_result"
    }
   ],
   "source": [
    "ratings_df['rating_type'] = np.where(ratings_df['region'] == ratings_df['user_state'], 'In-State', 'Non-State')\n",
    "avg_ratings = ratings_df.groupby(['region', 'rating_type'])['rating'].mean().unstack()\n",
    "avg_ratings = avg_ratings.reset_index()\n",
    "avg_ratings.head()\n"
   ]
  },
  {
   "cell_type": "code",
   "execution_count": 20,
   "metadata": {},
   "outputs": [],
   "source": [
    "# Creating a scatter plot for each region displaying the average rating for each user state in region\n",
    "for region in ratings_df['region'].unique():\n",
    "    subset = ratings_df[ratings_df['region'] == region]\n",
    "    \n",
    "    avg_ratings = subset.groupby('user_state')['rating'].mean().reset_index()\n",
    "    \n",
    "    # plt.figure(figsize=(14, 6))\n",
    "    \n",
    "    # sns.scatterplot(data=avg_ratings, x='user_state', y='rating', color='blue', s=100, marker='o', label='Average Rating')\n",
    "\n",
    "    # plt.title(f'Average Rating by User State for Region: {region}')\n",
    "    # plt.xlabel('User State')\n",
    "    # plt.ylabel('Average Rating')\n",
    "    # plt.xticks(rotation=90)\n",
    "    # plt.legend(title='Rating Type')\n",
    "    # plt.tight_layout()\n",
    "    # plt.ylim(0,5)\n",
    "\n",
    "    # plt.show()\n"
   ]
  },
  {
   "cell_type": "code",
   "execution_count": 21,
   "metadata": {},
   "outputs": [],
   "source": [
    "# Creating violin plot for each region displaying rating distributions for each user state in the region\n",
    "unique_regions = ratings_df['region'].unique()\n",
    "\n",
    "for region in unique_regions:\n",
    "    subset_data = ratings_df[ratings_df['region'] == region]\n",
    "    \n",
    "    # plt.figure(figsize=(12, 8))\n",
    "    # sns.violinplot(\n",
    "    #     x='user_state',\n",
    "    #     y='rating',\n",
    "    #     data=subset_data,\n",
    "    #     inner='quartile',\n",
    "    #     palette='Set2',\n",
    "    #     hue='user_state'\n",
    "    # )\n",
    "    \n",
    "    # plt.title(f\"Violin Plot of Ratings by User State Within Region: {region}\")\n",
    "    # plt.xlabel(\"User State\")\n",
    "    # plt.ylabel(\"Rating\")\n",
    "    # plt.xticks(rotation=90)\n",
    "    # plt.tight_layout()\n",
    "    # plt.ylim(0,5)\n",
    "    # plt.show()\n"
   ]
  },
  {
   "cell_type": "code",
   "execution_count": 23,
   "metadata": {},
   "outputs": [],
   "source": [
    "def cohen_d(x, y):\n",
    "    x = np.array(x, dtype=float)\n",
    "    y = np.array(y, dtype=float)\n",
    "    nx, ny = len(x), len(y)\n",
    "    mean_x, mean_y = np.mean(x), np.mean(y)\n",
    "    std_x, std_y = np.std(x, ddof=1), np.std(y, ddof=1) \n",
    "    pooled_std = np.sqrt(((nx - 1) * std_x ** 2 + (ny - 1) * std_y ** 2) / (nx + ny - 2))\n",
    "    return (mean_x - mean_y) / pooled_std"
   ]
  },
  {
   "cell_type": "code",
   "execution_count": 24,
   "metadata": {},
   "outputs": [
    {
     "name": "stderr",
     "output_type": "stream",
     "text": [
      "C:\\Users\\helen\\AppData\\Local\\Temp\\ipykernel_34504\\3806953283.py:63: FutureWarning: The behavior of DataFrame concatenation with empty or all-NA entries is deprecated. In a future version, this will no longer exclude empty or all-NA columns when determining the result dtypes. To retain the old behavior, exclude the relevant entries before the concat operation.\n",
      "  final_cohen_df = pd.concat(all_cohen_results, ignore_index=True)\n"
     ]
    }
   ],
   "source": [
    "# Creating a plot of the Cohen's D values between every user_state of a region without calculating it twice.\n",
    "all_cohen_results = []\n",
    "\n",
    "\n",
    "for region in ratings_df['region'].unique():\n",
    "    subset = ratings_df[ratings_df['region'] == region]\n",
    "    cohen_results = []\n",
    "    processed_pairs = set()\n",
    "    \n",
    "    for state1 in subset['user_state'].unique():\n",
    "        for state2 in subset['user_state'].unique():\n",
    "            if state1 != state2:\n",
    "                state_pair = tuple(sorted([state1, state2]))\n",
    "                \n",
    "                if state_pair in processed_pairs:\n",
    "                    continue\n",
    "                \n",
    "                ratings_state1 = subset[subset['user_state'] == state1]['rating']\n",
    "                ratings_state2 = subset[subset['user_state'] == state2]['rating']\n",
    "                \n",
    "                if len(ratings_state1) == 0 or len(ratings_state2) == 0:\n",
    "                    continue\n",
    "                \n",
    "                d_value = cohen_d(ratings_state1, ratings_state2)\n",
    "                cohen_results.append((state1, state2, d_value, region))\n",
    "                processed_pairs.add(state_pair)    \n",
    "    \n",
    "    cohen_df_region = pd.DataFrame(cohen_results, columns=['State1', 'State2', 'Cohen_d', 'Region'])\n",
    "    \n",
    "    cohen_df_region = cohen_df_region.sort_values(by='Cohen_d')\n",
    "    \n",
    "    all_cohen_results.append(cohen_df_region)\n",
    "\n",
    "\n",
    "    \n",
    "    # plt.figure(figsize=(12, 8))\n",
    "    # sns.barplot(\n",
    "    #     x='State1', \n",
    "    #     y='Cohen_d', \n",
    "    #     data=cohen_df_region, \n",
    "    #     palette='viridis', \n",
    "    #     hue='State2'\n",
    "    # )\n",
    "\n",
    "    # plt.axhline(y=0, color='black', linewidth=1)\n",
    "    # plt.axhline(y=0.2, color='#FFA07A', linestyle=':', linewidth=2, label='Small effect (d=0.2)')\n",
    "    # plt.axhline(y=-0.2, color='#FFA07A', linestyle=':', linewidth=2)\n",
    "    # plt.axhline(y=0.5, color='#FF8C00', linestyle=':', linewidth=2, label='Medium effect (d=0.5)')\n",
    "    # plt.axhline(y=-0.5, color='#FF8C00', linestyle=':', linewidth=2)\n",
    "    # plt.axhline(y=0.8, color='#CD3700', linestyle=':', linewidth=2, label='Large effect (d=0.8)')\n",
    "    # plt.axhline(y=-0.8, color='#CD3700', linestyle=':', linewidth=2)\n",
    "    \n",
    "    # plt.xlabel('State')\n",
    "    # plt.ylabel('Cohen’s D')\n",
    "    # plt.title(f'Cohen’s D for State pair Ratings by Region: Center state {region}')\n",
    "    # plt.xticks(rotation=0)\n",
    "    # plt.legend(title='State Pairs', loc='upper right')\n",
    "    # plt.tight_layout()\n",
    "    \n",
    "    # plt.show()\n",
    "    \n",
    "\n",
    "final_cohen_df = pd.concat(all_cohen_results, ignore_index=True)"
   ]
  },
  {
   "cell_type": "code",
   "execution_count": 25,
   "metadata": {},
   "outputs": [
    {
     "data": {
      "text/html": [
       "<div>\n",
       "<style scoped>\n",
       "    .dataframe tbody tr th:only-of-type {\n",
       "        vertical-align: middle;\n",
       "    }\n",
       "\n",
       "    .dataframe tbody tr th {\n",
       "        vertical-align: top;\n",
       "    }\n",
       "\n",
       "    .dataframe thead th {\n",
       "        text-align: right;\n",
       "    }\n",
       "</style>\n",
       "<table border=\"1\" class=\"dataframe\">\n",
       "  <thead>\n",
       "    <tr style=\"text-align: right;\">\n",
       "      <th></th>\n",
       "      <th>State1</th>\n",
       "      <th>State2</th>\n",
       "      <th>Cohen_d</th>\n",
       "      <th>Region</th>\n",
       "    </tr>\n",
       "  </thead>\n",
       "  <tbody>\n",
       "    <tr>\n",
       "      <th>0</th>\n",
       "      <td>Wisconsin</td>\n",
       "      <td>Illinois</td>\n",
       "      <td>-0.109529</td>\n",
       "      <td>Wisconsin</td>\n",
       "    </tr>\n",
       "    <tr>\n",
       "      <th>1</th>\n",
       "      <td>Wisconsin</td>\n",
       "      <td>Minnesota</td>\n",
       "      <td>-0.061605</td>\n",
       "      <td>Wisconsin</td>\n",
       "    </tr>\n",
       "    <tr>\n",
       "      <th>2</th>\n",
       "      <td>Michigan</td>\n",
       "      <td>Minnesota</td>\n",
       "      <td>-0.058442</td>\n",
       "      <td>Wisconsin</td>\n",
       "    </tr>\n",
       "    <tr>\n",
       "      <th>3</th>\n",
       "      <td>Wisconsin</td>\n",
       "      <td>Iowa</td>\n",
       "      <td>-0.031834</td>\n",
       "      <td>Wisconsin</td>\n",
       "    </tr>\n",
       "    <tr>\n",
       "      <th>4</th>\n",
       "      <td>Iowa</td>\n",
       "      <td>Minnesota</td>\n",
       "      <td>-0.028861</td>\n",
       "      <td>Wisconsin</td>\n",
       "    </tr>\n",
       "  </tbody>\n",
       "</table>\n",
       "</div>"
      ],
      "text/plain": [
       "      State1     State2   Cohen_d     Region\n",
       "0  Wisconsin   Illinois -0.109529  Wisconsin\n",
       "1  Wisconsin  Minnesota -0.061605  Wisconsin\n",
       "2   Michigan  Minnesota -0.058442  Wisconsin\n",
       "3  Wisconsin       Iowa -0.031834  Wisconsin\n",
       "4       Iowa  Minnesota -0.028861  Wisconsin"
      ]
     },
     "execution_count": 25,
     "metadata": {},
     "output_type": "execute_result"
    }
   ],
   "source": [
    "final_cohen_df.head()"
   ]
  },
  {
   "cell_type": "code",
   "execution_count": 26,
   "metadata": {},
   "outputs": [
    {
     "data": {
      "text/html": [
       "<div>\n",
       "<style scoped>\n",
       "    .dataframe tbody tr th:only-of-type {\n",
       "        vertical-align: middle;\n",
       "    }\n",
       "\n",
       "    .dataframe tbody tr th {\n",
       "        vertical-align: top;\n",
       "    }\n",
       "\n",
       "    .dataframe thead th {\n",
       "        text-align: right;\n",
       "    }\n",
       "</style>\n",
       "<table border=\"1\" class=\"dataframe\">\n",
       "  <thead>\n",
       "    <tr style=\"text-align: right;\">\n",
       "      <th></th>\n",
       "      <th>State1</th>\n",
       "      <th>State2</th>\n",
       "      <th>Cohen_d</th>\n",
       "      <th>Region</th>\n",
       "    </tr>\n",
       "  </thead>\n",
       "  <tbody>\n",
       "    <tr>\n",
       "      <th>28</th>\n",
       "      <td>Arkansas</td>\n",
       "      <td>Missouri</td>\n",
       "      <td>-0.056528</td>\n",
       "      <td>Arkansas</td>\n",
       "    </tr>\n",
       "    <tr>\n",
       "      <th>29</th>\n",
       "      <td>Texas</td>\n",
       "      <td>Missouri</td>\n",
       "      <td>-0.046513</td>\n",
       "      <td>Arkansas</td>\n",
       "    </tr>\n",
       "    <tr>\n",
       "      <th>30</th>\n",
       "      <td>Oklahoma</td>\n",
       "      <td>Missouri</td>\n",
       "      <td>-0.046008</td>\n",
       "      <td>Arkansas</td>\n",
       "    </tr>\n",
       "    <tr>\n",
       "      <th>37</th>\n",
       "      <td>Missouri</td>\n",
       "      <td>Louisiana</td>\n",
       "      <td>0.091351</td>\n",
       "      <td>Arkansas</td>\n",
       "    </tr>\n",
       "    <tr>\n",
       "      <th>41</th>\n",
       "      <td>Missouri</td>\n",
       "      <td>Tennessee</td>\n",
       "      <td>0.189659</td>\n",
       "      <td>Arkansas</td>\n",
       "    </tr>\n",
       "    <tr>\n",
       "      <th>45</th>\n",
       "      <td>Missouri</td>\n",
       "      <td>Mississippi</td>\n",
       "      <td>0.268916</td>\n",
       "      <td>Arkansas</td>\n",
       "    </tr>\n",
       "    <tr>\n",
       "      <th>161</th>\n",
       "      <td>Arkansas</td>\n",
       "      <td>Missouri</td>\n",
       "      <td>-0.042045</td>\n",
       "      <td>Missouri</td>\n",
       "    </tr>\n",
       "    <tr>\n",
       "      <th>164</th>\n",
       "      <td>Oklahoma</td>\n",
       "      <td>Missouri</td>\n",
       "      <td>-0.021886</td>\n",
       "      <td>Missouri</td>\n",
       "    </tr>\n",
       "    <tr>\n",
       "      <th>167</th>\n",
       "      <td>Missouri</td>\n",
       "      <td>Iowa</td>\n",
       "      <td>-0.003180</td>\n",
       "      <td>Missouri</td>\n",
       "    </tr>\n",
       "    <tr>\n",
       "      <th>174</th>\n",
       "      <td>Missouri</td>\n",
       "      <td>Nebraska</td>\n",
       "      <td>0.084094</td>\n",
       "      <td>Missouri</td>\n",
       "    </tr>\n",
       "    <tr>\n",
       "      <th>176</th>\n",
       "      <td>Missouri</td>\n",
       "      <td>Kansas</td>\n",
       "      <td>0.097241</td>\n",
       "      <td>Missouri</td>\n",
       "    </tr>\n",
       "    <tr>\n",
       "      <th>177</th>\n",
       "      <td>Missouri</td>\n",
       "      <td>Kentucky</td>\n",
       "      <td>0.122405</td>\n",
       "      <td>Missouri</td>\n",
       "    </tr>\n",
       "    <tr>\n",
       "      <th>181</th>\n",
       "      <td>Illinois</td>\n",
       "      <td>Missouri</td>\n",
       "      <td>0.149952</td>\n",
       "      <td>Missouri</td>\n",
       "    </tr>\n",
       "    <tr>\n",
       "      <th>182</th>\n",
       "      <td>Missouri</td>\n",
       "      <td>Tennessee</td>\n",
       "      <td>0.167441</td>\n",
       "      <td>Missouri</td>\n",
       "    </tr>\n",
       "    <tr>\n",
       "      <th>297</th>\n",
       "      <td>Mississippi</td>\n",
       "      <td>Missouri</td>\n",
       "      <td>-0.234226</td>\n",
       "      <td>Tennessee</td>\n",
       "    </tr>\n",
       "    <tr>\n",
       "      <th>299</th>\n",
       "      <td>Kentucky</td>\n",
       "      <td>Missouri</td>\n",
       "      <td>-0.154091</td>\n",
       "      <td>Tennessee</td>\n",
       "    </tr>\n",
       "    <tr>\n",
       "      <th>301</th>\n",
       "      <td>Tennessee</td>\n",
       "      <td>Missouri</td>\n",
       "      <td>-0.124892</td>\n",
       "      <td>Tennessee</td>\n",
       "    </tr>\n",
       "    <tr>\n",
       "      <th>302</th>\n",
       "      <td>Alabama</td>\n",
       "      <td>Missouri</td>\n",
       "      <td>-0.091869</td>\n",
       "      <td>Tennessee</td>\n",
       "    </tr>\n",
       "    <tr>\n",
       "      <th>306</th>\n",
       "      <td>Virginia</td>\n",
       "      <td>Missouri</td>\n",
       "      <td>-0.043518</td>\n",
       "      <td>Tennessee</td>\n",
       "    </tr>\n",
       "    <tr>\n",
       "      <th>311</th>\n",
       "      <td>Georgia</td>\n",
       "      <td>Missouri</td>\n",
       "      <td>0.023843</td>\n",
       "      <td>Tennessee</td>\n",
       "    </tr>\n",
       "    <tr>\n",
       "      <th>314</th>\n",
       "      <td>North Carolina</td>\n",
       "      <td>Missouri</td>\n",
       "      <td>0.068615</td>\n",
       "      <td>Tennessee</td>\n",
       "    </tr>\n",
       "    <tr>\n",
       "      <th>316</th>\n",
       "      <td>Missouri</td>\n",
       "      <td>Arkansas</td>\n",
       "      <td>0.082038</td>\n",
       "      <td>Tennessee</td>\n",
       "    </tr>\n",
       "    <tr>\n",
       "      <th>371</th>\n",
       "      <td>Missouri</td>\n",
       "      <td>Minnesota</td>\n",
       "      <td>-0.084294</td>\n",
       "      <td>Iowa</td>\n",
       "    </tr>\n",
       "    <tr>\n",
       "      <th>373</th>\n",
       "      <td>Missouri</td>\n",
       "      <td>Iowa</td>\n",
       "      <td>0.001533</td>\n",
       "      <td>Iowa</td>\n",
       "    </tr>\n",
       "    <tr>\n",
       "      <th>374</th>\n",
       "      <td>Wisconsin</td>\n",
       "      <td>Missouri</td>\n",
       "      <td>0.043540</td>\n",
       "      <td>Iowa</td>\n",
       "    </tr>\n",
       "    <tr>\n",
       "      <th>378</th>\n",
       "      <td>Missouri</td>\n",
       "      <td>Nebraska</td>\n",
       "      <td>0.090577</td>\n",
       "      <td>Iowa</td>\n",
       "    </tr>\n",
       "    <tr>\n",
       "      <th>381</th>\n",
       "      <td>Illinois</td>\n",
       "      <td>Missouri</td>\n",
       "      <td>0.145042</td>\n",
       "      <td>Iowa</td>\n",
       "    </tr>\n",
       "    <tr>\n",
       "      <th>385</th>\n",
       "      <td>Missouri</td>\n",
       "      <td>South Dakota</td>\n",
       "      <td>0.232669</td>\n",
       "      <td>Iowa</td>\n",
       "    </tr>\n",
       "    <tr>\n",
       "      <th>410</th>\n",
       "      <td>Missouri</td>\n",
       "      <td>Illinois</td>\n",
       "      <td>-0.168096</td>\n",
       "      <td>Kentucky</td>\n",
       "    </tr>\n",
       "    <tr>\n",
       "      <th>412</th>\n",
       "      <td>Missouri</td>\n",
       "      <td>Indiana</td>\n",
       "      <td>-0.107323</td>\n",
       "      <td>Kentucky</td>\n",
       "    </tr>\n",
       "    <tr>\n",
       "      <th>416</th>\n",
       "      <td>West Virginia</td>\n",
       "      <td>Missouri</td>\n",
       "      <td>-0.070908</td>\n",
       "      <td>Kentucky</td>\n",
       "    </tr>\n",
       "    <tr>\n",
       "      <th>422</th>\n",
       "      <td>Missouri</td>\n",
       "      <td>Kentucky</td>\n",
       "      <td>0.035931</td>\n",
       "      <td>Kentucky</td>\n",
       "    </tr>\n",
       "    <tr>\n",
       "      <th>423</th>\n",
       "      <td>Missouri</td>\n",
       "      <td>Virginia</td>\n",
       "      <td>0.043744</td>\n",
       "      <td>Kentucky</td>\n",
       "    </tr>\n",
       "    <tr>\n",
       "      <th>425</th>\n",
       "      <td>Ohio</td>\n",
       "      <td>Missouri</td>\n",
       "      <td>0.085936</td>\n",
       "      <td>Kentucky</td>\n",
       "    </tr>\n",
       "    <tr>\n",
       "      <th>428</th>\n",
       "      <td>Missouri</td>\n",
       "      <td>Tennessee</td>\n",
       "      <td>0.136856</td>\n",
       "      <td>Kentucky</td>\n",
       "    </tr>\n",
       "    <tr>\n",
       "      <th>444</th>\n",
       "      <td>Kansas</td>\n",
       "      <td>Missouri</td>\n",
       "      <td>-0.083127</td>\n",
       "      <td>Nebraska</td>\n",
       "    </tr>\n",
       "    <tr>\n",
       "      <th>446</th>\n",
       "      <td>Iowa</td>\n",
       "      <td>Missouri</td>\n",
       "      <td>-0.020815</td>\n",
       "      <td>Nebraska</td>\n",
       "    </tr>\n",
       "    <tr>\n",
       "      <th>448</th>\n",
       "      <td>Colorado</td>\n",
       "      <td>Missouri</td>\n",
       "      <td>0.039930</td>\n",
       "      <td>Nebraska</td>\n",
       "    </tr>\n",
       "    <tr>\n",
       "      <th>453</th>\n",
       "      <td>Missouri</td>\n",
       "      <td>Nebraska</td>\n",
       "      <td>0.069710</td>\n",
       "      <td>Nebraska</td>\n",
       "    </tr>\n",
       "    <tr>\n",
       "      <th>456</th>\n",
       "      <td>Missouri</td>\n",
       "      <td>Wyoming</td>\n",
       "      <td>0.123497</td>\n",
       "      <td>Nebraska</td>\n",
       "    </tr>\n",
       "    <tr>\n",
       "      <th>462</th>\n",
       "      <td>Missouri</td>\n",
       "      <td>South Dakota</td>\n",
       "      <td>0.259899</td>\n",
       "      <td>Nebraska</td>\n",
       "    </tr>\n",
       "    <tr>\n",
       "      <th>512</th>\n",
       "      <td>Kansas</td>\n",
       "      <td>Missouri</td>\n",
       "      <td>-0.074397</td>\n",
       "      <td>Kansas</td>\n",
       "    </tr>\n",
       "    <tr>\n",
       "      <th>515</th>\n",
       "      <td>Missouri</td>\n",
       "      <td>Oklahoma</td>\n",
       "      <td>0.017933</td>\n",
       "      <td>Kansas</td>\n",
       "    </tr>\n",
       "    <tr>\n",
       "      <th>516</th>\n",
       "      <td>Colorado</td>\n",
       "      <td>Missouri</td>\n",
       "      <td>0.036865</td>\n",
       "      <td>Kansas</td>\n",
       "    </tr>\n",
       "    <tr>\n",
       "      <th>519</th>\n",
       "      <td>Missouri</td>\n",
       "      <td>Nebraska</td>\n",
       "      <td>0.072185</td>\n",
       "      <td>Kansas</td>\n",
       "    </tr>\n",
       "    <tr>\n",
       "      <th>624</th>\n",
       "      <td>Missouri</td>\n",
       "      <td>Indiana</td>\n",
       "      <td>-0.111348</td>\n",
       "      <td>Illinois</td>\n",
       "    </tr>\n",
       "    <tr>\n",
       "      <th>629</th>\n",
       "      <td>Missouri</td>\n",
       "      <td>Michigan</td>\n",
       "      <td>-0.014300</td>\n",
       "      <td>Illinois</td>\n",
       "    </tr>\n",
       "    <tr>\n",
       "      <th>630</th>\n",
       "      <td>Missouri</td>\n",
       "      <td>Iowa</td>\n",
       "      <td>-0.002945</td>\n",
       "      <td>Illinois</td>\n",
       "    </tr>\n",
       "    <tr>\n",
       "      <th>632</th>\n",
       "      <td>Missouri</td>\n",
       "      <td>Kentucky</td>\n",
       "      <td>0.013557</td>\n",
       "      <td>Illinois</td>\n",
       "    </tr>\n",
       "    <tr>\n",
       "      <th>638</th>\n",
       "      <td>Wisconsin</td>\n",
       "      <td>Missouri</td>\n",
       "      <td>0.033720</td>\n",
       "      <td>Illinois</td>\n",
       "    </tr>\n",
       "    <tr>\n",
       "      <th>643</th>\n",
       "      <td>Illinois</td>\n",
       "      <td>Missouri</td>\n",
       "      <td>0.137147</td>\n",
       "      <td>Illinois</td>\n",
       "    </tr>\n",
       "    <tr>\n",
       "      <th>654</th>\n",
       "      <td>Arkansas</td>\n",
       "      <td>Missouri</td>\n",
       "      <td>-0.055293</td>\n",
       "      <td>Oklahoma</td>\n",
       "    </tr>\n",
       "    <tr>\n",
       "      <th>656</th>\n",
       "      <td>Missouri</td>\n",
       "      <td>Colorado</td>\n",
       "      <td>-0.041811</td>\n",
       "      <td>Oklahoma</td>\n",
       "    </tr>\n",
       "    <tr>\n",
       "      <th>658</th>\n",
       "      <td>Oklahoma</td>\n",
       "      <td>Missouri</td>\n",
       "      <td>-0.033459</td>\n",
       "      <td>Oklahoma</td>\n",
       "    </tr>\n",
       "    <tr>\n",
       "      <th>660</th>\n",
       "      <td>Texas</td>\n",
       "      <td>Missouri</td>\n",
       "      <td>-0.025501</td>\n",
       "      <td>Oklahoma</td>\n",
       "    </tr>\n",
       "    <tr>\n",
       "      <th>662</th>\n",
       "      <td>Missouri</td>\n",
       "      <td>New Mexico</td>\n",
       "      <td>-0.010331</td>\n",
       "      <td>Oklahoma</td>\n",
       "    </tr>\n",
       "    <tr>\n",
       "      <th>668</th>\n",
       "      <td>Missouri</td>\n",
       "      <td>Kansas</td>\n",
       "      <td>0.075792</td>\n",
       "      <td>Oklahoma</td>\n",
       "    </tr>\n",
       "  </tbody>\n",
       "</table>\n",
       "</div>"
      ],
      "text/plain": [
       "             State1        State2   Cohen_d     Region\n",
       "28         Arkansas      Missouri -0.056528   Arkansas\n",
       "29            Texas      Missouri -0.046513   Arkansas\n",
       "30         Oklahoma      Missouri -0.046008   Arkansas\n",
       "37         Missouri     Louisiana  0.091351   Arkansas\n",
       "41         Missouri     Tennessee  0.189659   Arkansas\n",
       "45         Missouri   Mississippi  0.268916   Arkansas\n",
       "161        Arkansas      Missouri -0.042045   Missouri\n",
       "164        Oklahoma      Missouri -0.021886   Missouri\n",
       "167        Missouri          Iowa -0.003180   Missouri\n",
       "174        Missouri      Nebraska  0.084094   Missouri\n",
       "176        Missouri        Kansas  0.097241   Missouri\n",
       "177        Missouri      Kentucky  0.122405   Missouri\n",
       "181        Illinois      Missouri  0.149952   Missouri\n",
       "182        Missouri     Tennessee  0.167441   Missouri\n",
       "297     Mississippi      Missouri -0.234226  Tennessee\n",
       "299        Kentucky      Missouri -0.154091  Tennessee\n",
       "301       Tennessee      Missouri -0.124892  Tennessee\n",
       "302         Alabama      Missouri -0.091869  Tennessee\n",
       "306        Virginia      Missouri -0.043518  Tennessee\n",
       "311         Georgia      Missouri  0.023843  Tennessee\n",
       "314  North Carolina      Missouri  0.068615  Tennessee\n",
       "316        Missouri      Arkansas  0.082038  Tennessee\n",
       "371        Missouri     Minnesota -0.084294       Iowa\n",
       "373        Missouri          Iowa  0.001533       Iowa\n",
       "374       Wisconsin      Missouri  0.043540       Iowa\n",
       "378        Missouri      Nebraska  0.090577       Iowa\n",
       "381        Illinois      Missouri  0.145042       Iowa\n",
       "385        Missouri  South Dakota  0.232669       Iowa\n",
       "410        Missouri      Illinois -0.168096   Kentucky\n",
       "412        Missouri       Indiana -0.107323   Kentucky\n",
       "416   West Virginia      Missouri -0.070908   Kentucky\n",
       "422        Missouri      Kentucky  0.035931   Kentucky\n",
       "423        Missouri      Virginia  0.043744   Kentucky\n",
       "425            Ohio      Missouri  0.085936   Kentucky\n",
       "428        Missouri     Tennessee  0.136856   Kentucky\n",
       "444          Kansas      Missouri -0.083127   Nebraska\n",
       "446            Iowa      Missouri -0.020815   Nebraska\n",
       "448        Colorado      Missouri  0.039930   Nebraska\n",
       "453        Missouri      Nebraska  0.069710   Nebraska\n",
       "456        Missouri       Wyoming  0.123497   Nebraska\n",
       "462        Missouri  South Dakota  0.259899   Nebraska\n",
       "512          Kansas      Missouri -0.074397     Kansas\n",
       "515        Missouri      Oklahoma  0.017933     Kansas\n",
       "516        Colorado      Missouri  0.036865     Kansas\n",
       "519        Missouri      Nebraska  0.072185     Kansas\n",
       "624        Missouri       Indiana -0.111348   Illinois\n",
       "629        Missouri      Michigan -0.014300   Illinois\n",
       "630        Missouri          Iowa -0.002945   Illinois\n",
       "632        Missouri      Kentucky  0.013557   Illinois\n",
       "638       Wisconsin      Missouri  0.033720   Illinois\n",
       "643        Illinois      Missouri  0.137147   Illinois\n",
       "654        Arkansas      Missouri -0.055293   Oklahoma\n",
       "656        Missouri      Colorado -0.041811   Oklahoma\n",
       "658        Oklahoma      Missouri -0.033459   Oklahoma\n",
       "660           Texas      Missouri -0.025501   Oklahoma\n",
       "662        Missouri    New Mexico -0.010331   Oklahoma\n",
       "668        Missouri        Kansas  0.075792   Oklahoma"
      ]
     },
     "execution_count": 26,
     "metadata": {},
     "output_type": "execute_result"
    }
   ],
   "source": [
    "michigan_rows = final_cohen_df[(final_cohen_df['State1'] == 'Missouri') | (final_cohen_df['State2'] == 'Missouri')]\n",
    "michigan_rows"
   ]
  },
  {
   "cell_type": "code",
   "execution_count": 27,
   "metadata": {},
   "outputs": [
    {
     "name": "stdout",
     "output_type": "stream",
     "text": [
      "State Groups:\n",
      "--------------------------------------------------\n",
      "States: West Virginia, Ohio, Delaware, New York\n",
      "--------------------------------------------------\n",
      "States: Pennsylvania, Maryland, Virginia, Kentucky, New Jersey\n",
      "--------------------------------------------------\n",
      "States: South Dakota, Wyoming\n",
      "--------------------------------------------------\n",
      "States: Utah, Montana, Washington\n",
      "--------------------------------------------------\n",
      "States: Missouri, Iowa, Minnesota, New Mexico, Nevada, Idaho\n",
      "--------------------------------------------------\n",
      "States: Kansas, Nebraska\n",
      "--------------------------------------------------\n",
      "States: Texas, Oklahoma, Louisiana, Arizona, Oregon, Colorado, California\n",
      "--------------------------------------------------\n",
      "States: Illinois, Indiana\n",
      "--------------------------------------------------\n",
      "States: Wisconsin, Michigan, North Dakota\n",
      "--------------------------------------------------\n",
      "States: Alabama, Arkansas, South Carolina, Tennessee, Mississippi\n",
      "--------------------------------------------------\n",
      "States: New Hampshire, Rhode Island, Maine\n",
      "--------------------------------------------------\n",
      "States: Georgia, North Carolina, Florida\n",
      "--------------------------------------------------\n",
      "States: Massachusetts, Connecticut, Vermont\n",
      "--------------------------------------------------\n"
     ]
    }
   ],
   "source": [
    "# Sort the DataFrame by Cohen's d in ascending order\n",
    "sorted_cohen_df = final_cohen_df.sort_values(by='Cohen_d', key=abs)\n",
    "\n",
    "state_groups = []\n",
    "assigned_states = set()\n",
    "\n",
    "for _, row in sorted_cohen_df.iterrows():\n",
    "    if row['Cohen_d'] >= 2:\n",
    "        continue\n",
    "\n",
    "    state1 = row['State1']\n",
    "    state2 = row['State2']\n",
    "\n",
    "    # Skip if both states are already assigned\n",
    "    if state1 in assigned_states and state2 in assigned_states:\n",
    "        continue\n",
    "\n",
    "    group_found = False\n",
    "\n",
    "    # Check if either state is in any existing group\n",
    "    for group in state_groups:\n",
    "        if state1 in group['States'] or state2 in group['States']:\n",
    "            if state1 not in group['States']:\n",
    "                group['States'].append(state1)\n",
    "                assigned_states.add(state1)\n",
    "            if state2 not in group['States']:\n",
    "                group['States'].append(state2)\n",
    "                assigned_states.add(state2)\n",
    "            \n",
    "            group_found = True\n",
    "            break\n",
    "\n",
    "    # If no group was found, create a new one\n",
    "    if not group_found:\n",
    "        state_groups.append({'States': [state1, state2]})\n",
    "        assigned_states.update([state1, state2])\n",
    "\n",
    "print(\"State Groups:\")\n",
    "print(\"-\" * 50)\n",
    "for group in state_groups:\n",
    "    states = \", \".join(group['States'])\n",
    "    print(f\"States: {states}\")\n",
    "    print(\"-\" * 50)\n"
   ]
  },
  {
   "cell_type": "code",
   "execution_count": 28,
   "metadata": {},
   "outputs": [
    {
     "name": "stdout",
     "output_type": "stream",
     "text": [
      "[{'States': ['West Virginia', 'Ohio', 'Delaware', 'New York']},\n",
      " {'States': ['Pennsylvania', 'Maryland', 'Virginia', 'Kentucky', 'New Jersey']},\n",
      " {'States': ['South Dakota', 'Wyoming']},\n",
      " {'States': ['Utah', 'Montana', 'Washington']},\n",
      " {'States': ['Missouri', 'Iowa', 'Minnesota', 'New Mexico', 'Nevada', 'Idaho']},\n",
      " {'States': ['Kansas', 'Nebraska']},\n",
      " {'States': ['Texas',\n",
      "             'Oklahoma',\n",
      "             'Louisiana',\n",
      "             'Arizona',\n",
      "             'Oregon',\n",
      "             'Colorado',\n",
      "             'California']},\n",
      " {'States': ['Illinois', 'Indiana']},\n",
      " {'States': ['Wisconsin', 'Michigan', 'North Dakota']},\n",
      " {'States': ['Alabama',\n",
      "             'Arkansas',\n",
      "             'South Carolina',\n",
      "             'Tennessee',\n",
      "             'Mississippi']},\n",
      " {'States': ['New Hampshire', 'Rhode Island', 'Maine']},\n",
      " {'States': ['Georgia', 'North Carolina', 'Florida']},\n",
      " {'States': ['Massachusetts', 'Connecticut', 'Vermont']}]\n"
     ]
    }
   ],
   "source": [
    "import pprint\n",
    "\n",
    "# Pretty print the state groups\n",
    "pprint.pprint(state_groups)"
   ]
  },
  {
   "cell_type": "code",
   "execution_count": 30,
   "metadata": {},
   "outputs": [
    {
     "name": "stdout",
     "output_type": "stream",
     "text": [
      "Summary of State Groups Check:\n",
      "----------------------------------------\n",
      "Missing States (not included in state_groups):\n",
      " - Alaska\n",
      " - Hawaii\n",
      "\n",
      "----------------------------------------\n",
      "No extra states found in state_groups.\n",
      "\n",
      "----------------------------------------\n",
      "No states are present in multiple groups.\n",
      "----------------------------------------\n"
     ]
    }
   ],
   "source": [
    "from collections import defaultdict\n",
    "\n",
    "# List of all 50 U.S. states\n",
    "us_states_list = [\n",
    "    'Alabama', 'Alaska', 'Arizona', 'Arkansas', 'California', 'Colorado', \n",
    "    'Connecticut', 'Delaware', 'Florida', 'Georgia', 'Hawaii', 'Idaho', \n",
    "    'Illinois', 'Indiana', 'Iowa', 'Kansas', 'Kentucky', 'Louisiana', \n",
    "    'Maine', 'Maryland', 'Massachusetts', 'Michigan', 'Minnesota', \n",
    "    'Mississippi', 'Missouri', 'Montana', 'Nebraska', 'Nevada', 'New Hampshire', \n",
    "    'New Jersey', 'New Mexico', 'New York', 'North Carolina', 'North Dakota', \n",
    "    'Ohio', 'Oklahoma', 'Oregon', 'Pennsylvania', 'Rhode Island', \n",
    "    'South Carolina', 'South Dakota', 'Tennessee', 'Texas', 'Utah', 'Vermont', \n",
    "    'Virginia', 'Washington', 'West Virginia', 'Wisconsin', 'Wyoming'\n",
    "]\n",
    "\n",
    "# Flatten the list of states and count occurrences\n",
    "state_occurrences = defaultdict(int)\n",
    "for group in state_groups:\n",
    "    for state in group['States']:\n",
    "        state_occurrences[state] += 1\n",
    "\n",
    "# Identify states present in multiple groups\n",
    "states_in_multiple_groups = {state for state, count in state_occurrences.items() if count > 1}\n",
    "\n",
    "# Check for missing and extra states\n",
    "grouped_states = set(state_occurrences.keys())\n",
    "missing_states = set(us_states_list) - grouped_states\n",
    "extra_states = grouped_states - set(us_states_list)\n",
    "\n",
    "# Print results nicely\n",
    "print(\"Summary of State Groups Check:\")\n",
    "print(\"-\" * 40)\n",
    "\n",
    "if missing_states:\n",
    "    print(\"Missing States (not included in state_groups):\")\n",
    "    for state in sorted(missing_states):\n",
    "        print(f\" - {state}\")\n",
    "else:\n",
    "    print(\"All 50 states are included in state_groups.\")\n",
    "\n",
    "print(\"\\n\" + \"-\" * 40)\n",
    "\n",
    "if extra_states:\n",
    "    print(\"Extra States (invalid entries in state_groups):\")\n",
    "    for state in sorted(extra_states):\n",
    "        print(f\" - {state}\")\n",
    "else:\n",
    "    print(\"No extra states found in state_groups.\")\n",
    "\n",
    "print(\"\\n\" + \"-\" * 40)\n",
    "\n",
    "if states_in_multiple_groups:\n",
    "    print(\"States Present in Multiple Groups:\")\n",
    "    for state in sorted(states_in_multiple_groups):\n",
    "        print(f\" - {state}\")\n",
    "else:\n",
    "    print(\"No states are present in multiple groups.\")\n",
    "\n",
    "print(\"-\" * 40)\n"
   ]
  },
  {
   "cell_type": "code",
   "execution_count": 8,
   "metadata": {},
   "outputs": [
    {
     "ename": "NameError",
     "evalue": "name 'gpd' is not defined",
     "output_type": "error",
     "traceback": [
      "\u001b[1;31m---------------------------------------------------------------------------\u001b[0m",
      "\u001b[1;31mNameError\u001b[0m                                 Traceback (most recent call last)",
      "Cell \u001b[1;32mIn[8], line 2\u001b[0m\n\u001b[0;32m      1\u001b[0m us_map_path \u001b[38;5;241m=\u001b[39m \u001b[38;5;124m'\u001b[39m\u001b[38;5;124mdata/USData/map/us_states_modified.shp\u001b[39m\u001b[38;5;124m'\u001b[39m\n\u001b[1;32m----> 2\u001b[0m us_states_map \u001b[38;5;241m=\u001b[39m gpd\u001b[38;5;241m.\u001b[39mread_file(us_map_path)\n",
      "\u001b[1;31mNameError\u001b[0m: name 'gpd' is not defined"
     ]
    }
   ],
   "source": [
    "us_map_path = 'data/USData/map/us_states_modified.shp'\n",
    "us_states_map = gpd.read_file(us_map_path)\n",
    "# us_states_map = us_states_map.to_crs(epsg=4326)\n",
    "\n",
    "# # Save to GeoJSON\n",
    "# geojson_path = '../../USData/map/us_states_modified.geojson'\n",
    "# us_states_map.to_file(geojson_path, driver=\"GeoJSON\")\n"
   ]
  },
  {
   "cell_type": "code",
   "execution_count": 31,
   "metadata": {},
   "outputs": [],
   "source": [
    "# # Flatten state_groups into a DataFrame\n",
    "# grouped_states = []\n",
    "# for idx, States in enumerate(state_groups):\n",
    "#     for state in States['States']:\n",
    "#         grouped_states.append({'user_state': state, 'States': f'Group {idx + 1}'})\n",
    "\n",
    "# # Convert to DataFrame\n",
    "# top_style_per_state = pd.DataFrame(grouped_states)\n",
    "\n",
    "# # Identify all states from the GeoDataFrame\n",
    "# all_states = us_states_map['name'].unique()\n",
    "\n",
    "# # Identify matched states and missing states\n",
    "# matched_states = top_style_per_state['user_state'].unique()\n",
    "# missing_states = set(all_states) - set(matched_states)\n",
    "\n",
    "# # Add missing states with \"No Data\"\n",
    "# missing_states_df = pd.DataFrame({'user_state': list(missing_states), 'States': 'No Data'})\n",
    "# top_style_per_state = pd.concat([top_style_per_state, missing_states_df], ignore_index=True)\n",
    "\n",
    "# # Merge with the GeoDataFrame\n",
    "# us_states_map = us_states_map.merge(\n",
    "#     top_style_per_state,\n",
    "#     left_on=\"name\",\n",
    "#     right_on=\"user_state\",\n",
    "#     how=\"left\"\n",
    "# )\n",
    "\n",
    "# # Fill missing groups with \"No Data\"\n",
    "# us_states_map['States'] = us_states_map['States'].fillna(\"No Data\")\n",
    "\n",
    "# # Map groups to colors\n",
    "# unique_groups = us_states_map['States'].unique()\n",
    "# group_colors = {\n",
    "#     States: plt.cm.tab20(i / len(unique_groups)) if States != \"No Data\" else \"red\"\n",
    "#     for i, States in enumerate(unique_groups)\n",
    "# }\n",
    "\n",
    "# # Assign colors to each state\n",
    "# us_states_map['color'] = us_states_map['States'].map(group_colors)\n",
    "\n",
    "# # Plot the map\n",
    "# fig, ax = plt.subplots(1, 1, figsize=(15, 10))\n",
    "# us_states_map.plot(\n",
    "#     ax=ax,\n",
    "#     color=us_states_map['color'],\n",
    "#     edgecolor='black',\n",
    "#     linewidth=0.5\n",
    "# )\n",
    "\n",
    "# # Create a legend for groups\n",
    "# legend_patches = [mpatches.Patch(color=color, label=States) for States, color in group_colors.items()]\n",
    "# ax.legend(handles=legend_patches, title=\"State Groups by Cohen's d\", loc=\"lower left\", fontsize=10)\n",
    "# ax.set_title(\"State Groups by Cohen's d\", fontsize=16)\n",
    "\n",
    "# # Clean up the axes for better visuals\n",
    "# ax.axis(\"off\")\n",
    "# plt.tight_layout()\n",
    "# plt.show()\n"
   ]
  },
  {
   "cell_type": "code",
   "execution_count": 12,
   "metadata": {},
   "outputs": [],
   "source": [
    "state_to_abbr = {\n",
    "    'Alabama': 'AL', 'Alaska': 'AK', 'Arizona': 'AZ', 'Arkansas': 'AR', 'California': 'CA',\n",
    "    'Colorado': 'CO', 'Connecticut': 'CT', 'Delaware': 'DE', 'Florida': 'FL', 'Georgia': 'GA',\n",
    "    'Hawaii': 'HI', 'Idaho': 'ID', 'Illinois': 'IL', 'Indiana': 'IN', 'Iowa': 'IA',\n",
    "    'Kansas': 'KS', 'Kentucky': 'KY', 'Louisiana': 'LA', 'Maine': 'ME', 'Maryland': 'MD',\n",
    "    'Massachusetts': 'MA', 'Michigan': 'MI', 'Minnesota': 'MN', 'Mississippi': 'MS', 'Missouri': 'MO',\n",
    "    'Montana': 'MT', 'Nebraska': 'NE', 'Nevada': 'NV', 'New Hampshire': 'NH', 'New Jersey': 'NJ',\n",
    "    'New Mexico': 'NM', 'New York': 'NY', 'North Carolina': 'NC', 'North Dakota': 'ND', 'Ohio': 'OH',\n",
    "    'Oklahoma': 'OK', 'Oregon': 'OR', 'Pennsylvania': 'PA', 'Rhode Island': 'RI', 'South Carolina': 'SC',\n",
    "    'South Dakota': 'SD', 'Tennessee': 'TN', 'Texas': 'TX', 'Utah': 'UT', 'Vermont': 'VT',\n",
    "    'Virginia': 'VA', 'Washington': 'WA', 'West Virginia': 'WV', 'Wisconsin': 'WI', 'Wyoming': 'WY'\n",
    "}\n"
   ]
  },
  {
   "cell_type": "code",
   "execution_count": 32,
   "metadata": {},
   "outputs": [],
   "source": [
    "# Step 1: Map each state to a group number\n",
    "state_to_group = {}\n",
    "for idx, group in enumerate(state_groups):\n",
    "    for state in group['States']:\n",
    "        state_to_group[state] = f'Group {idx + 1}'\n",
    "\n",
    "all_states = set(state_to_abbr.keys())  # Get all states\n",
    "grouped_states = [{'state_name': state, 'group': state_to_group.get(state, 'No Group')} for state in all_states]\n",
    "\n",
    "grouped_states_df = pd.DataFrame(grouped_states)"
   ]
  },
  {
   "cell_type": "code",
   "execution_count": 33,
   "metadata": {},
   "outputs": [],
   "source": [
    "grouped_states_df['state_abbreviation'] = grouped_states_df['state_name'].map(state_to_abbr)"
   ]
  },
  {
   "cell_type": "code",
   "execution_count": 34,
   "metadata": {},
   "outputs": [],
   "source": [
    "def adjust_cohen_d(filtered_cohen_df):\n",
    "    mask = filtered_cohen_df['State2'] == filtered_cohen_df['Region']\n",
    "    \n",
    "    # Switch State1 and State2, and invert Cohen_d\n",
    "    filtered_cohen_df.loc[mask, ['State1', 'State2']] = filtered_cohen_df.loc[mask, ['State2', 'State1']].values\n",
    "    filtered_cohen_df.loc[mask, 'Cohen_d'] = -filtered_cohen_df.loc[mask, 'Cohen_d']\n",
    "    \n",
    "    return filtered_cohen_df\n",
    "\n",
    "\n",
    "def create_region_dict(adjusted_df):\n",
    "    region_dict = {}\n",
    "    for region, group in adjusted_df.groupby('Region'):\n",
    "        region_dict[region] = group[['State2', 'Cohen_d']].to_dict(orient='records')\n",
    "    return region_dict"
   ]
  },
  {
   "cell_type": "code",
   "execution_count": 35,
   "metadata": {},
   "outputs": [],
   "source": [
    "# Add state abbreviation column\n",
    "grouped_states_df['state_abbreviation'] = grouped_states_df['state_name'].map(state_to_abbr)\n",
    "\n",
    "# Filter Cohen's d data based on region and state\n",
    "filtered_cohen_df = final_cohen_df[\n",
    "    (final_cohen_df['Region'] == final_cohen_df['State1']) | (final_cohen_df['Region'] == final_cohen_df['State2'])\n",
    "]\n",
    "\n",
    "adjusted_df = adjust_cohen_d(filtered_cohen_df)\n",
    "\n",
    "region_dict = create_region_dict(adjusted_df)\n"
   ]
  },
  {
   "cell_type": "code",
   "execution_count": 36,
   "metadata": {},
   "outputs": [],
   "source": [
    "# Create hover text and state abbreviation mapping for visualization\n",
    "hover_data = []\n",
    "for region, cohen_d_values in region_dict.items():\n",
    "    for entry in cohen_d_values:\n",
    "        hover_data.append({\n",
    "            'state_name': region,\n",
    "            'State2': entry['State2'],\n",
    "            'Cohen_d': entry['Cohen_d'],\n",
    "            'Region': region\n",
    "        })\n",
    "\n"
   ]
  },
  {
   "cell_type": "code",
   "execution_count": 37,
   "metadata": {},
   "outputs": [],
   "source": [
    "hover_df = pd.DataFrame(hover_data)\n",
    "\n",
    "#hover_df"
   ]
  },
  {
   "cell_type": "code",
   "execution_count": 38,
   "metadata": {},
   "outputs": [],
   "source": [
    "hover_df['hover_text'] = hover_df.apply(\n",
    "    lambda row: \"Cohen's d values:<br>\" + \n",
    "                '<br>'.join([f\"{state}: {cohen_d:.4f}\" for state, cohen_d in zip(hover_df[hover_df['Region'] == row['Region']]['State2'], \n",
    "                                                                            hover_df[hover_df['Region'] == row['Region']]['Cohen_d']) ]),\n",
    "                                                                            axis=1\n",
    "                                                                            )\n",
    "\n"
   ]
  },
  {
   "cell_type": "code",
   "execution_count": 39,
   "metadata": {},
   "outputs": [],
   "source": [
    "hover_df = hover_df.drop(columns=['state_name','State2', 'Cohen_d'])\n",
    "\n",
    "# Drop duplicates, keeping only one row per region\n",
    "hover_df = hover_df.drop_duplicates(subset='Region').reset_index(drop=True)\n"
   ]
  },
  {
   "cell_type": "code",
   "execution_count": 40,
   "metadata": {},
   "outputs": [],
   "source": [
    "hover_df['state_abbreviation'] = hover_df['Region'].map(state_to_abbr)\n",
    "\n",
    "grouped_states_df = grouped_states_df.merge(hover_df[['state_abbreviation', 'hover_text']], on='state_abbreviation', how='left')\n",
    "\n",
    "grouped_states_df = grouped_states_df.sort_values('group')\n",
    "\n"
   ]
  },
  {
   "cell_type": "code",
   "execution_count": 41,
   "metadata": {},
   "outputs": [
    {
     "name": "stdout",
     "output_type": "stream",
     "text": [
      "<class 'pandas.core.frame.DataFrame'>\n",
      "Index: 50 entries, 25 to 31\n",
      "Data columns (total 4 columns):\n",
      " #   Column              Non-Null Count  Dtype \n",
      "---  ------              --------------  ----- \n",
      " 0   state_name          50 non-null     object\n",
      " 1   group               50 non-null     object\n",
      " 2   state_abbreviation  50 non-null     object\n",
      " 3   hover_text          48 non-null     object\n",
      "dtypes: object(4)\n",
      "memory usage: 2.0+ KB\n"
     ]
    }
   ],
   "source": [
    "grouped_states_df.info()"
   ]
  },
  {
   "cell_type": "code",
   "execution_count": 46,
   "metadata": {},
   "outputs": [
    {
     "data": {
      "application/vnd.plotly.v1+json": {
       "config": {
        "plotlyServerURL": "https://plot.ly"
       },
       "data": [
        {
         "colorscale": [
          [
           0,
           "#a6cee3"
          ],
          [
           1,
           "#a6cee3"
          ]
         ],
         "customdata": [
          [
           "West Virginia",
           "Group 1",
           "WV",
           "Cohen's d values:<br>Ohio: -0.0322<br>Kentucky: 0.1090<br>Virginia: 0.1245<br>Pennsylvania: 0.1269<br>Maryland: 0.1305"
          ],
          [
           "Ohio",
           "Group 1",
           "OH",
           "Cohen's d values:<br>Indiana: -0.0294<br>West Virginia: 0.0007<br>Kentucky: 0.0586<br>Michigan: 0.0900<br>Pennsylvania: 0.1367"
          ],
          [
           "Delaware",
           "Group 1",
           "DE",
           "Cohen's d values:<br>Pennsylvania: 0.1139<br>Maryland: 0.1000<br>New Jersey: 0.0607"
          ],
          [
           "New York",
           "Group 1",
           "NY",
           "Cohen's d values:<br>Vermont: -0.1832<br>Connecticut: -0.1031<br>Rhode Island: -0.0552<br>New Jersey: 0.0627<br>Massachusetts: -0.0897<br>Pennsylvania: 0.1215"
          ]
         ],
         "geo": "geo",
         "hovertemplate": "%{customdata[0]}<br><br>%{customdata[3]}",
         "hovertext": [
          "West Virginia",
          "Ohio",
          "Delaware",
          "New York"
         ],
         "locationmode": "USA-states",
         "locations": [
          "WV",
          "OH",
          "DE",
          "NY"
         ],
         "name": "Group 1",
         "showlegend": true,
         "showscale": false,
         "type": "choropleth",
         "z": [
          1,
          1,
          1,
          1
         ]
        },
        {
         "colorscale": [
          [
           0,
           "#6a3d9a"
          ],
          [
           1,
           "#6a3d9a"
          ]
         ],
         "customdata": [
          [
           "South Carolina",
           "Group 10",
           "SC",
           "Cohen's d values:<br>Georgia: -0.1091<br>North Carolina: -0.0916"
          ],
          [
           "Arkansas",
           "Group 10",
           "AR",
           "Cohen's d values:<br>Missouri: -0.0565<br>Texas: -0.0139<br>Oklahoma: -0.0097<br>Louisiana: 0.0347<br>Tennessee: 0.1350<br>Mississippi: 0.2207"
          ],
          [
           "Alabama",
           "Group 10",
           "AL",
           "Cohen's d values:<br>Tennessee: 0.1123<br>Georgia: -0.1004<br>Florida: -0.1829<br>Mississippi: 0.2166"
          ],
          [
           "Tennessee",
           "Group 10",
           "TN",
           "Cohen's d values:<br>Missouri: -0.1249<br>Arkansas: -0.0412<br>Kentucky: 0.0348<br>Alabama: -0.0311<br>Virginia: -0.0912<br>Mississippi: 0.1260<br>Georgia: -0.1553<br>North Carolina: -0.2139"
          ],
          [
           "Mississippi",
           "Group 10",
           "MS",
           "Cohen's d values:<br>Tennessee: -0.1046<br>Louisiana: -0.1359<br>Alabama: -0.2539"
          ]
         ],
         "geo": "geo",
         "hovertemplate": "%{customdata[0]}<br><br>%{customdata[3]}",
         "hovertext": [
          "South Carolina",
          "Arkansas",
          "Alabama",
          "Tennessee",
          "Mississippi"
         ],
         "locationmode": "USA-states",
         "locations": [
          "SC",
          "AR",
          "AL",
          "TN",
          "MS"
         ],
         "name": "Group 10",
         "showlegend": true,
         "showscale": false,
         "type": "choropleth",
         "z": [
          1,
          1,
          1,
          1,
          1
         ]
        },
        {
         "colorscale": [
          [
           0,
           "#ffff99"
          ],
          [
           1,
           "#ffff99"
          ]
         ],
         "customdata": [
          [
           "New Hampshire",
           "Group 11",
           "NH",
           "Cohen's d values:<br>Vermont: -0.1615<br>Maine: 0.1111<br>Massachusetts: -0.0587"
          ],
          [
           "Rhode Island",
           "Group 11",
           "RI",
           "Cohen's d values:<br>New York: 0.0608<br>Connecticut: -0.0511<br>Massachusetts: -0.0215"
          ],
          [
           "Maine",
           "Group 11",
           "ME",
           "Cohen's d values:<br>New Hampshire: 0.0233"
          ]
         ],
         "geo": "geo",
         "hovertemplate": "%{customdata[0]}<br><br>%{customdata[3]}",
         "hovertext": [
          "New Hampshire",
          "Rhode Island",
          "Maine"
         ],
         "locationmode": "USA-states",
         "locations": [
          "NH",
          "RI",
          "ME"
         ],
         "name": "Group 11",
         "showlegend": true,
         "showscale": false,
         "type": "choropleth",
         "z": [
          1,
          1,
          1
         ]
        },
        {
         "colorscale": [
          [
           0,
           "#b15928"
          ],
          [
           1,
           "#b15928"
          ]
         ],
         "customdata": [
          [
           "North Carolina",
           "Group 12",
           "NC",
           "Cohen's d values:<br>South Carolina: 0.1089<br>Georgia: -0.0118<br>Virginia: 0.1291<br>Tennessee: 0.2024"
          ],
          [
           "Florida",
           "Group 12",
           "FL",
           "Cohen's d values:<br>Georgia: 0.0818<br>Alabama: 0.1732"
          ],
          [
           "Georgia",
           "Group 12",
           "GA",
           "Cohen's d values:<br>South Carolina: 0.1125<br>Florida: -0.0747<br>North Carolina: 0.0152<br>Alabama: 0.0995<br>Tennessee: 0.1935"
          ]
         ],
         "geo": "geo",
         "hovertemplate": "%{customdata[0]}<br><br>%{customdata[3]}",
         "hovertext": [
          "North Carolina",
          "Florida",
          "Georgia"
         ],
         "locationmode": "USA-states",
         "locations": [
          "NC",
          "FL",
          "GA"
         ],
         "name": "Group 12",
         "showlegend": true,
         "showscale": false,
         "type": "choropleth",
         "z": [
          1,
          1,
          1
         ]
        },
        {
         "colorscale": [
          [
           0,
           "#f2a7c3"
          ],
          [
           1,
           "#f2a7c3"
          ]
         ],
         "customdata": [
          [
           "Massachusetts",
           "Group 13",
           "MA",
           "Cohen's d values:<br>Vermont: -0.0939<br>New York: 0.0815<br>New Hampshire: 0.0458<br>Connecticut: -0.0207<br>Rhode Island: 0.0368"
          ],
          [
           "Connecticut",
           "Group 13",
           "CT",
           "Cohen's d values:<br>New York: 0.1117<br>Rhode Island: 0.0511<br>Massachusetts: 0.0290"
          ],
          [
           "Vermont",
           "Group 13",
           "VT",
           "Cohen's d values:<br>New York: 0.1867<br>New Hampshire: 0.1468<br>Massachusetts: 0.0878"
          ]
         ],
         "geo": "geo",
         "hovertemplate": "%{customdata[0]}<br><br>%{customdata[3]}",
         "hovertext": [
          "Massachusetts",
          "Connecticut",
          "Vermont"
         ],
         "locationmode": "USA-states",
         "locations": [
          "MA",
          "CT",
          "VT"
         ],
         "name": "Group 13",
         "showlegend": true,
         "showscale": false,
         "type": "choropleth",
         "z": [
          1,
          1,
          1
         ]
        },
        {
         "colorscale": [
          [
           0,
           "#1f78b4"
          ],
          [
           1,
           "#1f78b4"
          ]
         ],
         "customdata": [
          [
           "Virginia",
           "Group 2",
           "VA",
           "Cohen's d values:<br>Tennessee: 0.0628<br>Kentucky: 0.0305<br>Maryland: 0.0036<br>West Virginia: -0.0416<br>North Carolina: -0.1463"
          ],
          [
           "New Jersey",
           "Group 2",
           "NJ",
           "Cohen's d values:<br>Delaware: -0.0546<br>New York: -0.0396<br>Pennsylvania: 0.0606"
          ],
          [
           "Maryland",
           "Group 2",
           "MD",
           "Cohen's d values:<br>Pennsylvania: 0.0210<br>Virginia: 0.0032<br>West Virginia: -0.0303<br>Delaware: -0.0902"
          ],
          [
           "Kentucky",
           "Group 2",
           "KY",
           "Cohen's d values:<br>Illinois: -0.2112<br>Tennessee: 0.1052<br>West Virginia: 0.0377<br>Virginia: 0.0069<br>Missouri: -0.0359<br>Ohio: -0.1249<br>Indiana: -0.1473"
          ],
          [
           "Pennsylvania",
           "Group 2",
           "PA",
           "Cohen's d values:<br>Delaware: -0.1073<br>New York: -0.0951<br>New Jersey: -0.0456<br>Maryland: -0.0165<br>West Virginia: -0.1061<br>Ohio: -0.1426"
          ]
         ],
         "geo": "geo",
         "hovertemplate": "%{customdata[0]}<br><br>%{customdata[3]}",
         "hovertext": [
          "Virginia",
          "New Jersey",
          "Maryland",
          "Kentucky",
          "Pennsylvania"
         ],
         "locationmode": "USA-states",
         "locations": [
          "VA",
          "NJ",
          "MD",
          "KY",
          "PA"
         ],
         "name": "Group 2",
         "showlegend": true,
         "showscale": false,
         "type": "choropleth",
         "z": [
          1,
          1,
          1,
          1,
          1
         ]
        },
        {
         "colorscale": [
          [
           0,
           "#b2df8a"
          ],
          [
           1,
           "#b2df8a"
          ]
         ],
         "customdata": [
          [
           "Wyoming",
           "Group 3",
           "WY",
           "Cohen's d values:<br>Nebraska: -0.0391<br>Montana: -0.0327<br>Utah: 0.0599<br>South Dakota: 0.0841<br>Colorado: -0.1283<br>Idaho: 0.1517"
          ],
          [
           "South Dakota",
           "Group 3",
           "SD",
           "Cohen's d values:<br>Minnesota: -0.2679<br>Iowa: -0.2637<br>North Dakota: -0.1386<br>Montana: -0.0915<br>Nebraska: -0.0759<br>Wyoming: -0.0127"
          ]
         ],
         "geo": "geo",
         "hovertemplate": "%{customdata[0]}<br><br>%{customdata[3]}",
         "hovertext": [
          "Wyoming",
          "South Dakota"
         ],
         "locationmode": "USA-states",
         "locations": [
          "WY",
          "SD"
         ],
         "name": "Group 3",
         "showlegend": true,
         "showscale": false,
         "type": "choropleth",
         "z": [
          1,
          1
         ]
        },
        {
         "colorscale": [
          [
           0,
           "#33a02c"
          ],
          [
           1,
           "#33a02c"
          ]
         ],
         "customdata": [
          [
           "Washington",
           "Group 4",
           "WA",
           "Cohen's d values:<br>Oregon: -0.1085<br>Idaho: 0.2146"
          ],
          [
           "Montana",
           "Group 4",
           "MT",
           "Cohen's d values:<br>South Dakota: 0.1071<br>North Dakota: 0.0576<br>Wyoming: 0.1005<br>Idaho: 0.2997"
          ],
          [
           "Utah",
           "Group 4",
           "UT",
           "Cohen's d values:<br>Nevada: 0.0643<br>Wyoming: -0.0724<br>Arizona: -0.1046<br>Idaho: 0.1067<br>New Mexico: -0.1354<br>Colorado: -0.1845"
          ]
         ],
         "geo": "geo",
         "hovertemplate": "%{customdata[0]}<br><br>%{customdata[3]}",
         "hovertext": [
          "Washington",
          "Montana",
          "Utah"
         ],
         "locationmode": "USA-states",
         "locations": [
          "WA",
          "MT",
          "UT"
         ],
         "name": "Group 4",
         "showlegend": true,
         "showscale": false,
         "type": "choropleth",
         "z": [
          1,
          1,
          1
         ]
        },
        {
         "colorscale": [
          [
           0,
           "#fb9a99"
          ],
          [
           1,
           "#fb9a99"
          ]
         ],
         "customdata": [
          [
           "New Mexico",
           "Group 5",
           "NM",
           "Cohen's d values:<br>Oklahoma: -0.0404<br>Texas: 0.0205<br>Colorado: -0.0279<br>Arizona: 0.0295<br>Utah: 0.1444"
          ],
          [
           "Iowa",
           "Group 5",
           "IA",
           "Cohen's d values:<br>Minnesota: -0.0860<br>Missouri: -0.0015<br>Wisconsin: -0.0451<br>Nebraska: 0.0861<br>Illinois: -0.1475<br>South Dakota: 0.2246"
          ],
          [
           "Nevada",
           "Group 5",
           "NV",
           "Cohen's d values:<br>Utah: 0.0232<br>Oregon: -0.0725<br>Arizona: -0.0832<br>California: -0.1330<br>Idaho: 0.1850"
          ],
          [
           "Minnesota",
           "Group 5",
           "MN",
           "Cohen's d values:<br>Wisconsin: 0.0717<br>Michigan: 0.0594<br>Iowa: 0.0251<br>North Dakota: 0.0993<br>South Dakota: 0.2552"
          ],
          [
           "Idaho",
           "Group 5",
           "ID",
           "Cohen's d values:<br>Montana: -0.1810<br>Utah: -0.1798<br>Wyoming: -0.1220<br>Nevada: -0.0820<br>Washington: -0.2121<br>Oregon: -0.3033"
          ],
          [
           "Missouri",
           "Group 5",
           "MO",
           "Cohen's d values:<br>Arkansas: 0.0420<br>Oklahoma: 0.0219<br>Iowa: -0.0032<br>Nebraska: 0.0841<br>Kansas: 0.0972<br>Kentucky: 0.1224<br>Illinois: -0.1500<br>Tennessee: 0.1674"
          ]
         ],
         "geo": "geo",
         "hovertemplate": "%{customdata[0]}<br><br>%{customdata[3]}",
         "hovertext": [
          "New Mexico",
          "Iowa",
          "Nevada",
          "Minnesota",
          "Idaho",
          "Missouri"
         ],
         "locationmode": "USA-states",
         "locations": [
          "NM",
          "IA",
          "NV",
          "MN",
          "ID",
          "MO"
         ],
         "name": "Group 5",
         "showlegend": true,
         "showscale": false,
         "type": "choropleth",
         "z": [
          1,
          1,
          1,
          1,
          1,
          1
         ]
        },
        {
         "colorscale": [
          [
           0,
           "#e31a1c"
          ],
          [
           1,
           "#e31a1c"
          ]
         ],
         "customdata": [
          [
           "Nebraska",
           "Group 6",
           "NE",
           "Cohen's d values:<br>South Dakota: 0.1838<br>Wyoming: 0.0514<br>Kansas: 0.0101<br>Iowa: -0.0455<br>Missouri: -0.0697<br>Colorado: -0.1191"
          ],
          [
           "Kansas",
           "Group 6",
           "KS",
           "Cohen's d values:<br>Missouri: -0.0744<br>Oklahoma: -0.0557<br>Nebraska: 0.0017<br>Colorado: -0.1203"
          ]
         ],
         "geo": "geo",
         "hovertemplate": "%{customdata[0]}<br><br>%{customdata[3]}",
         "hovertext": [
          "Nebraska",
          "Kansas"
         ],
         "locationmode": "USA-states",
         "locations": [
          "NE",
          "KS"
         ],
         "name": "Group 6",
         "showlegend": true,
         "showscale": false,
         "type": "choropleth",
         "z": [
          1,
          1
         ]
        },
        {
         "colorscale": [
          [
           0,
           "#fdbf6f"
          ],
          [
           1,
           "#fdbf6f"
          ]
         ],
         "customdata": [
          [
           "Arizona",
           "Group 7",
           "AZ",
           "Cohen's d values:<br>Colorado: 0.0572<br>California: -0.0688<br>Nevada: 0.0782<br>New Mexico: 0.1021<br>Utah: 0.1571"
          ],
          [
           "Oklahoma",
           "Group 7",
           "OK",
           "Cohen's d values:<br>Colorado: -0.0797<br>New Mexico: -0.0434<br>Missouri: -0.0335<br>Arkansas: 0.0204<br>Texas: -0.0097<br>Kansas: 0.0408"
          ],
          [
           "Louisiana",
           "Group 7",
           "LA",
           "Cohen's d values:<br>Mississippi: 0.1779<br>Texas: -0.0061<br>Arkansas: -0.0676"
          ],
          [
           "Colorado",
           "Group 7",
           "CO",
           "Cohen's d values:<br>Oklahoma: -0.0417<br>New Mexico: 0.0315<br>Arizona: 0.0547<br>Nebraska: 0.0673<br>Wyoming: 0.1238<br>Kansas: 0.1279<br>Utah: 0.1659"
          ],
          [
           "Texas",
           "Group 7",
           "TX",
           "Cohen's d values:<br>Oklahoma: -0.0887<br>New Mexico: -0.0706<br>Louisiana: -0.0126<br>Arkansas: -0.1096"
          ],
          [
           "California",
           "Group 7",
           "CA",
           "Cohen's d values:<br>Arizona: 0.0419<br>Oregon: 0.0568<br>Nevada: 0.1253"
          ],
          [
           "Oregon",
           "Group 7",
           "OR",
           "Cohen's d values:<br>Washington: 0.0687<br>Nevada: 0.0392<br>California: -0.0927<br>Idaho: 0.2374"
          ]
         ],
         "geo": "geo",
         "hovertemplate": "%{customdata[0]}<br><br>%{customdata[3]}",
         "hovertext": [
          "Arizona",
          "Oklahoma",
          "Louisiana",
          "Colorado",
          "Texas",
          "California",
          "Oregon"
         ],
         "locationmode": "USA-states",
         "locations": [
          "AZ",
          "OK",
          "LA",
          "CO",
          "TX",
          "CA",
          "OR"
         ],
         "name": "Group 7",
         "showlegend": true,
         "showscale": false,
         "type": "choropleth",
         "z": [
          1,
          1,
          1,
          1,
          1,
          1,
          1
         ]
        },
        {
         "colorscale": [
          [
           0,
           "#ff7f00"
          ],
          [
           1,
           "#ff7f00"
          ]
         ],
         "customdata": [
          [
           "Illinois",
           "Group 8",
           "IL",
           "Cohen's d values:<br>Wisconsin: 0.1016<br>Indiana: 0.0182<br>Michigan: 0.1228<br>Iowa: 0.1343<br>Missouri: 0.1371<br>Kentucky: 0.1535"
          ],
          [
           "Indiana",
           "Group 8",
           "IN",
           "Cohen's d values:<br>Illinois: -0.0182<br>Ohio: 0.0185<br>Kentucky: 0.0852<br>Michigan: 0.1246"
          ]
         ],
         "geo": "geo",
         "hovertemplate": "%{customdata[0]}<br><br>%{customdata[3]}",
         "hovertext": [
          "Illinois",
          "Indiana"
         ],
         "locationmode": "USA-states",
         "locations": [
          "IL",
          "IN"
         ],
         "name": "Group 8",
         "showlegend": true,
         "showscale": false,
         "type": "choropleth",
         "z": [
          1,
          1
         ]
        },
        {
         "colorscale": [
          [
           0,
           "#cab2d6"
          ],
          [
           1,
           "#cab2d6"
          ]
         ],
         "customdata": [
          [
           "Wisconsin",
           "Group 9",
           "WI",
           "Cohen's d values:<br>Illinois: -0.1095<br>Minnesota: -0.0616<br>Iowa: -0.0318<br>Michigan: -0.0050"
          ],
          [
           "Michigan",
           "Group 9",
           "MI",
           "Cohen's d values:<br>Indiana: -0.1141<br>Ohio: -0.0933<br>Minnesota: -0.0385<br>Wisconsin: 0.0161<br>Illinois: -0.1132"
          ],
          [
           "North Dakota",
           "Group 9",
           "ND",
           "Cohen's d values:<br>Minnesota: -0.1160<br>South Dakota: 0.1009<br>Montana: 0.0402"
          ]
         ],
         "geo": "geo",
         "hovertemplate": "%{customdata[0]}<br><br>%{customdata[3]}",
         "hovertext": [
          "Wisconsin",
          "Michigan",
          "North Dakota"
         ],
         "locationmode": "USA-states",
         "locations": [
          "WI",
          "MI",
          "ND"
         ],
         "name": "Group 9",
         "showlegend": true,
         "showscale": false,
         "type": "choropleth",
         "z": [
          1,
          1,
          1
         ]
        },
        {
         "colorscale": [
          [
           0,
           "grey"
          ],
          [
           1,
           "grey"
          ]
         ],
         "customdata": [
          [
           "Hawaii",
           "No Group",
           "HI",
           null
          ],
          [
           "Alaska",
           "No Group",
           "AK",
           null
          ]
         ],
         "geo": "geo",
         "hovertemplate": "%{customdata[0]}<br><br>%{customdata[3]}",
         "hovertext": [
          "Hawaii",
          "Alaska"
         ],
         "locationmode": "USA-states",
         "locations": [
          "HI",
          "AK"
         ],
         "name": "No Group",
         "showlegend": true,
         "showscale": false,
         "type": "choropleth",
         "z": [
          1,
          1
         ]
        }
       ],
       "layout": {
        "geo": {
         "center": {},
         "domain": {
          "x": [
           0,
           1
          ],
          "y": [
           0,
           1
          ]
         },
         "projection": {
          "type": "albers usa"
         },
         "scope": "usa"
        },
        "height": 500,
        "legend": {
         "title": {
          "text": "group"
         },
         "tracegroupgap": 0
        },
        "template": {
         "data": {
          "bar": [
           {
            "error_x": {
             "color": "#2a3f5f"
            },
            "error_y": {
             "color": "#2a3f5f"
            },
            "marker": {
             "line": {
              "color": "#E5ECF6",
              "width": 0.5
             },
             "pattern": {
              "fillmode": "overlay",
              "size": 10,
              "solidity": 0.2
             }
            },
            "type": "bar"
           }
          ],
          "barpolar": [
           {
            "marker": {
             "line": {
              "color": "#E5ECF6",
              "width": 0.5
             },
             "pattern": {
              "fillmode": "overlay",
              "size": 10,
              "solidity": 0.2
             }
            },
            "type": "barpolar"
           }
          ],
          "carpet": [
           {
            "aaxis": {
             "endlinecolor": "#2a3f5f",
             "gridcolor": "white",
             "linecolor": "white",
             "minorgridcolor": "white",
             "startlinecolor": "#2a3f5f"
            },
            "baxis": {
             "endlinecolor": "#2a3f5f",
             "gridcolor": "white",
             "linecolor": "white",
             "minorgridcolor": "white",
             "startlinecolor": "#2a3f5f"
            },
            "type": "carpet"
           }
          ],
          "choropleth": [
           {
            "colorbar": {
             "outlinewidth": 0,
             "ticks": ""
            },
            "type": "choropleth"
           }
          ],
          "contour": [
           {
            "colorbar": {
             "outlinewidth": 0,
             "ticks": ""
            },
            "colorscale": [
             [
              0,
              "#0d0887"
             ],
             [
              0.1111111111111111,
              "#46039f"
             ],
             [
              0.2222222222222222,
              "#7201a8"
             ],
             [
              0.3333333333333333,
              "#9c179e"
             ],
             [
              0.4444444444444444,
              "#bd3786"
             ],
             [
              0.5555555555555556,
              "#d8576b"
             ],
             [
              0.6666666666666666,
              "#ed7953"
             ],
             [
              0.7777777777777778,
              "#fb9f3a"
             ],
             [
              0.8888888888888888,
              "#fdca26"
             ],
             [
              1,
              "#f0f921"
             ]
            ],
            "type": "contour"
           }
          ],
          "contourcarpet": [
           {
            "colorbar": {
             "outlinewidth": 0,
             "ticks": ""
            },
            "type": "contourcarpet"
           }
          ],
          "heatmap": [
           {
            "colorbar": {
             "outlinewidth": 0,
             "ticks": ""
            },
            "colorscale": [
             [
              0,
              "#0d0887"
             ],
             [
              0.1111111111111111,
              "#46039f"
             ],
             [
              0.2222222222222222,
              "#7201a8"
             ],
             [
              0.3333333333333333,
              "#9c179e"
             ],
             [
              0.4444444444444444,
              "#bd3786"
             ],
             [
              0.5555555555555556,
              "#d8576b"
             ],
             [
              0.6666666666666666,
              "#ed7953"
             ],
             [
              0.7777777777777778,
              "#fb9f3a"
             ],
             [
              0.8888888888888888,
              "#fdca26"
             ],
             [
              1,
              "#f0f921"
             ]
            ],
            "type": "heatmap"
           }
          ],
          "heatmapgl": [
           {
            "colorbar": {
             "outlinewidth": 0,
             "ticks": ""
            },
            "colorscale": [
             [
              0,
              "#0d0887"
             ],
             [
              0.1111111111111111,
              "#46039f"
             ],
             [
              0.2222222222222222,
              "#7201a8"
             ],
             [
              0.3333333333333333,
              "#9c179e"
             ],
             [
              0.4444444444444444,
              "#bd3786"
             ],
             [
              0.5555555555555556,
              "#d8576b"
             ],
             [
              0.6666666666666666,
              "#ed7953"
             ],
             [
              0.7777777777777778,
              "#fb9f3a"
             ],
             [
              0.8888888888888888,
              "#fdca26"
             ],
             [
              1,
              "#f0f921"
             ]
            ],
            "type": "heatmapgl"
           }
          ],
          "histogram": [
           {
            "marker": {
             "pattern": {
              "fillmode": "overlay",
              "size": 10,
              "solidity": 0.2
             }
            },
            "type": "histogram"
           }
          ],
          "histogram2d": [
           {
            "colorbar": {
             "outlinewidth": 0,
             "ticks": ""
            },
            "colorscale": [
             [
              0,
              "#0d0887"
             ],
             [
              0.1111111111111111,
              "#46039f"
             ],
             [
              0.2222222222222222,
              "#7201a8"
             ],
             [
              0.3333333333333333,
              "#9c179e"
             ],
             [
              0.4444444444444444,
              "#bd3786"
             ],
             [
              0.5555555555555556,
              "#d8576b"
             ],
             [
              0.6666666666666666,
              "#ed7953"
             ],
             [
              0.7777777777777778,
              "#fb9f3a"
             ],
             [
              0.8888888888888888,
              "#fdca26"
             ],
             [
              1,
              "#f0f921"
             ]
            ],
            "type": "histogram2d"
           }
          ],
          "histogram2dcontour": [
           {
            "colorbar": {
             "outlinewidth": 0,
             "ticks": ""
            },
            "colorscale": [
             [
              0,
              "#0d0887"
             ],
             [
              0.1111111111111111,
              "#46039f"
             ],
             [
              0.2222222222222222,
              "#7201a8"
             ],
             [
              0.3333333333333333,
              "#9c179e"
             ],
             [
              0.4444444444444444,
              "#bd3786"
             ],
             [
              0.5555555555555556,
              "#d8576b"
             ],
             [
              0.6666666666666666,
              "#ed7953"
             ],
             [
              0.7777777777777778,
              "#fb9f3a"
             ],
             [
              0.8888888888888888,
              "#fdca26"
             ],
             [
              1,
              "#f0f921"
             ]
            ],
            "type": "histogram2dcontour"
           }
          ],
          "mesh3d": [
           {
            "colorbar": {
             "outlinewidth": 0,
             "ticks": ""
            },
            "type": "mesh3d"
           }
          ],
          "parcoords": [
           {
            "line": {
             "colorbar": {
              "outlinewidth": 0,
              "ticks": ""
             }
            },
            "type": "parcoords"
           }
          ],
          "pie": [
           {
            "automargin": true,
            "type": "pie"
           }
          ],
          "scatter": [
           {
            "fillpattern": {
             "fillmode": "overlay",
             "size": 10,
             "solidity": 0.2
            },
            "type": "scatter"
           }
          ],
          "scatter3d": [
           {
            "line": {
             "colorbar": {
              "outlinewidth": 0,
              "ticks": ""
             }
            },
            "marker": {
             "colorbar": {
              "outlinewidth": 0,
              "ticks": ""
             }
            },
            "type": "scatter3d"
           }
          ],
          "scattercarpet": [
           {
            "marker": {
             "colorbar": {
              "outlinewidth": 0,
              "ticks": ""
             }
            },
            "type": "scattercarpet"
           }
          ],
          "scattergeo": [
           {
            "marker": {
             "colorbar": {
              "outlinewidth": 0,
              "ticks": ""
             }
            },
            "type": "scattergeo"
           }
          ],
          "scattergl": [
           {
            "marker": {
             "colorbar": {
              "outlinewidth": 0,
              "ticks": ""
             }
            },
            "type": "scattergl"
           }
          ],
          "scattermapbox": [
           {
            "marker": {
             "colorbar": {
              "outlinewidth": 0,
              "ticks": ""
             }
            },
            "type": "scattermapbox"
           }
          ],
          "scatterpolar": [
           {
            "marker": {
             "colorbar": {
              "outlinewidth": 0,
              "ticks": ""
             }
            },
            "type": "scatterpolar"
           }
          ],
          "scatterpolargl": [
           {
            "marker": {
             "colorbar": {
              "outlinewidth": 0,
              "ticks": ""
             }
            },
            "type": "scatterpolargl"
           }
          ],
          "scatterternary": [
           {
            "marker": {
             "colorbar": {
              "outlinewidth": 0,
              "ticks": ""
             }
            },
            "type": "scatterternary"
           }
          ],
          "surface": [
           {
            "colorbar": {
             "outlinewidth": 0,
             "ticks": ""
            },
            "colorscale": [
             [
              0,
              "#0d0887"
             ],
             [
              0.1111111111111111,
              "#46039f"
             ],
             [
              0.2222222222222222,
              "#7201a8"
             ],
             [
              0.3333333333333333,
              "#9c179e"
             ],
             [
              0.4444444444444444,
              "#bd3786"
             ],
             [
              0.5555555555555556,
              "#d8576b"
             ],
             [
              0.6666666666666666,
              "#ed7953"
             ],
             [
              0.7777777777777778,
              "#fb9f3a"
             ],
             [
              0.8888888888888888,
              "#fdca26"
             ],
             [
              1,
              "#f0f921"
             ]
            ],
            "type": "surface"
           }
          ],
          "table": [
           {
            "cells": {
             "fill": {
              "color": "#EBF0F8"
             },
             "line": {
              "color": "white"
             }
            },
            "header": {
             "fill": {
              "color": "#C8D4E3"
             },
             "line": {
              "color": "white"
             }
            },
            "type": "table"
           }
          ]
         },
         "layout": {
          "annotationdefaults": {
           "arrowcolor": "#2a3f5f",
           "arrowhead": 0,
           "arrowwidth": 1
          },
          "autotypenumbers": "strict",
          "coloraxis": {
           "colorbar": {
            "outlinewidth": 0,
            "ticks": ""
           }
          },
          "colorscale": {
           "diverging": [
            [
             0,
             "#8e0152"
            ],
            [
             0.1,
             "#c51b7d"
            ],
            [
             0.2,
             "#de77ae"
            ],
            [
             0.3,
             "#f1b6da"
            ],
            [
             0.4,
             "#fde0ef"
            ],
            [
             0.5,
             "#f7f7f7"
            ],
            [
             0.6,
             "#e6f5d0"
            ],
            [
             0.7,
             "#b8e186"
            ],
            [
             0.8,
             "#7fbc41"
            ],
            [
             0.9,
             "#4d9221"
            ],
            [
             1,
             "#276419"
            ]
           ],
           "sequential": [
            [
             0,
             "#0d0887"
            ],
            [
             0.1111111111111111,
             "#46039f"
            ],
            [
             0.2222222222222222,
             "#7201a8"
            ],
            [
             0.3333333333333333,
             "#9c179e"
            ],
            [
             0.4444444444444444,
             "#bd3786"
            ],
            [
             0.5555555555555556,
             "#d8576b"
            ],
            [
             0.6666666666666666,
             "#ed7953"
            ],
            [
             0.7777777777777778,
             "#fb9f3a"
            ],
            [
             0.8888888888888888,
             "#fdca26"
            ],
            [
             1,
             "#f0f921"
            ]
           ],
           "sequentialminus": [
            [
             0,
             "#0d0887"
            ],
            [
             0.1111111111111111,
             "#46039f"
            ],
            [
             0.2222222222222222,
             "#7201a8"
            ],
            [
             0.3333333333333333,
             "#9c179e"
            ],
            [
             0.4444444444444444,
             "#bd3786"
            ],
            [
             0.5555555555555556,
             "#d8576b"
            ],
            [
             0.6666666666666666,
             "#ed7953"
            ],
            [
             0.7777777777777778,
             "#fb9f3a"
            ],
            [
             0.8888888888888888,
             "#fdca26"
            ],
            [
             1,
             "#f0f921"
            ]
           ]
          },
          "colorway": [
           "#636efa",
           "#EF553B",
           "#00cc96",
           "#ab63fa",
           "#FFA15A",
           "#19d3f3",
           "#FF6692",
           "#B6E880",
           "#FF97FF",
           "#FECB52"
          ],
          "font": {
           "color": "#2a3f5f"
          },
          "geo": {
           "bgcolor": "white",
           "lakecolor": "white",
           "landcolor": "#E5ECF6",
           "showlakes": true,
           "showland": true,
           "subunitcolor": "white"
          },
          "hoverlabel": {
           "align": "left"
          },
          "hovermode": "closest",
          "mapbox": {
           "style": "light"
          },
          "paper_bgcolor": "white",
          "plot_bgcolor": "#E5ECF6",
          "polar": {
           "angularaxis": {
            "gridcolor": "white",
            "linecolor": "white",
            "ticks": ""
           },
           "bgcolor": "#E5ECF6",
           "radialaxis": {
            "gridcolor": "white",
            "linecolor": "white",
            "ticks": ""
           }
          },
          "scene": {
           "xaxis": {
            "backgroundcolor": "#E5ECF6",
            "gridcolor": "white",
            "gridwidth": 2,
            "linecolor": "white",
            "showbackground": true,
            "ticks": "",
            "zerolinecolor": "white"
           },
           "yaxis": {
            "backgroundcolor": "#E5ECF6",
            "gridcolor": "white",
            "gridwidth": 2,
            "linecolor": "white",
            "showbackground": true,
            "ticks": "",
            "zerolinecolor": "white"
           },
           "zaxis": {
            "backgroundcolor": "#E5ECF6",
            "gridcolor": "white",
            "gridwidth": 2,
            "linecolor": "white",
            "showbackground": true,
            "ticks": "",
            "zerolinecolor": "white"
           }
          },
          "shapedefaults": {
           "line": {
            "color": "#2a3f5f"
           }
          },
          "ternary": {
           "aaxis": {
            "gridcolor": "white",
            "linecolor": "white",
            "ticks": ""
           },
           "baxis": {
            "gridcolor": "white",
            "linecolor": "white",
            "ticks": ""
           },
           "bgcolor": "#E5ECF6",
           "caxis": {
            "gridcolor": "white",
            "linecolor": "white",
            "ticks": ""
           }
          },
          "title": {
           "x": 0.05
          },
          "xaxis": {
           "automargin": true,
           "gridcolor": "white",
           "linecolor": "white",
           "ticks": "",
           "title": {
            "standoff": 15
           },
           "zerolinecolor": "white",
           "zerolinewidth": 2
          },
          "yaxis": {
           "automargin": true,
           "gridcolor": "white",
           "linecolor": "white",
           "ticks": "",
           "title": {
            "standoff": 15
           },
           "zerolinecolor": "white",
           "zerolinewidth": 2
          }
         }
        },
        "title": {
         "font": {
          "size": 20
         },
         "text": "State Groups by Cohen's d"
        },
        "width": 700
       }
      }
     },
     "metadata": {},
     "output_type": "display_data"
    }
   ],
   "source": [
    "# Step 10: Plot choropleth map\n",
    "custom_palette = [\n",
    "    \"#a6cee3\", \"#1f78b4\", \"#b2df8a\", \"#33a02c\", \"#fb9a99\", \"#e31a1c\", \"#fdbf6f\", \"#ff7f00\",\n",
    "    \"#cab2d6\", \"#6a3d9a\", \"#ffff99\", \"#b15928\", \"#f2a7c3\", \"#d1f2a5\", \"#ffb3b3\", \"#ffcc99\",\n",
    "    \"#ccebc5\", \"#ffb6e6\", \"#d0f0c0\", \"#f9c9b6\"\n",
    "]\n",
    "\n",
    "# Use the custom palette in your color map\n",
    "num_groups = len(grouped_states_df['group'].unique())\n",
    "color_map = {f'Group {idx + 1}': custom_palette[idx % len(custom_palette)] for idx in range(num_groups)}\n",
    "color_map['No Group'] = 'grey'\n",
    "\n",
    "fig = px.choropleth(\n",
    "    grouped_states_df, \n",
    "    locations='state_abbreviation', \n",
    "    color='group', \n",
    "    color_discrete_map=color_map,\n",
    "    title=\"USA State Groups\",\n",
    "    locationmode=\"USA-states\",\n",
    "    hover_name='state_name',\n",
    "    hover_data={'state_name': False, 'group': False, 'state_abbreviation': False, 'hover_text': True}  # Disable state abbreviation and hover text\n",
    ")\n",
    "\n",
    "fig.update_traces(hovertemplate='%{customdata[0]}<br><br>%{customdata[3]}')\n",
    "\n",
    "\n",
    "fig.update_layout(\n",
    "    title_text = 'State Groups by Cohen\\'s d',\n",
    "    geo_scope='usa',\n",
    "    width=700,  # Adjust width\n",
    "    height=500,  # Adjust height\n",
    "    title_font=dict(size=20),  # Optional: Increase title font size\n",
    "    geo=dict(\n",
    "        projection_type=\"albers usa\"  # Optional: Adjust projection style if necessary\n",
    "    )\n",
    ")\n",
    "\n",
    "fig.show()\n",
    "directory = \"img/question1/\"\n",
    "fig.write_html(os.path.join(directory, \"custom_region.html\"))"
   ]
  }
 ],
 "metadata": {
  "kernelspec": {
   "display_name": "ada",
   "language": "python",
   "name": "python3"
  },
  "language_info": {
   "codemirror_mode": {
    "name": "ipython",
    "version": 3
   },
   "file_extension": ".py",
   "mimetype": "text/x-python",
   "name": "python",
   "nbconvert_exporter": "python",
   "pygments_lexer": "ipython3",
   "version": "3.11.9"
  }
 },
 "nbformat": 4,
 "nbformat_minor": 2
}
