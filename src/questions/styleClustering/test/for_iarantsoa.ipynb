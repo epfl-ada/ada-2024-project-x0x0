{
 "cells": [
  {
   "cell_type": "code",
   "execution_count": 1,
   "metadata": {},
   "outputs": [],
   "source": [
    "import pandas as pd\n",
    "from sklearn.decomposition import PCA\n",
    "from sklearn.preprocessing import StandardScaler\n",
    "import matplotlib.pyplot as plt\n",
    "import numpy as np\n",
    "from sklearn.cluster import KMeans"
   ]
  },
  {
   "cell_type": "code",
   "execution_count": 2,
   "metadata": {},
   "outputs": [
    {
     "data": {
      "text/html": [
       "<div>\n",
       "<style scoped>\n",
       "    .dataframe tbody tr th:only-of-type {\n",
       "        vertical-align: middle;\n",
       "    }\n",
       "\n",
       "    .dataframe tbody tr th {\n",
       "        vertical-align: top;\n",
       "    }\n",
       "\n",
       "    .dataframe thead th {\n",
       "        text-align: right;\n",
       "    }\n",
       "</style>\n",
       "<table border=\"1\" class=\"dataframe\">\n",
       "  <thead>\n",
       "    <tr style=\"text-align: right;\">\n",
       "      <th></th>\n",
       "      <th>beer_name</th>\n",
       "      <th>beer_id</th>\n",
       "      <th>brewery_name</th>\n",
       "      <th>brewery_id</th>\n",
       "      <th>style</th>\n",
       "      <th>abv</th>\n",
       "      <th>user_id</th>\n",
       "      <th>appearance</th>\n",
       "      <th>aroma</th>\n",
       "      <th>palate</th>\n",
       "      <th>taste</th>\n",
       "      <th>overall</th>\n",
       "      <th>rating</th>\n",
       "      <th>text</th>\n",
       "      <th>avg</th>\n",
       "      <th>user_state</th>\n",
       "      <th>beer_state</th>\n",
       "    </tr>\n",
       "  </thead>\n",
       "  <tbody>\n",
       "    <tr>\n",
       "      <th>0</th>\n",
       "      <td>Kupfer Kolsch</td>\n",
       "      <td>289320.0</td>\n",
       "      <td>Copper State Brewing Company</td>\n",
       "      <td>49595.0</td>\n",
       "      <td>Kölsch</td>\n",
       "      <td>4.4</td>\n",
       "      <td>n2185.211743</td>\n",
       "      <td>2.5</td>\n",
       "      <td>4.00</td>\n",
       "      <td>4.0</td>\n",
       "      <td>3.75</td>\n",
       "      <td>3.75</td>\n",
       "      <td>3.76</td>\n",
       "      <td>NaN</td>\n",
       "      <td>3.76</td>\n",
       "      <td>North Carolina</td>\n",
       "      <td>Wisconsin</td>\n",
       "    </tr>\n",
       "    <tr>\n",
       "      <th>1</th>\n",
       "      <td>Northwestern Alt</td>\n",
       "      <td>289321.0</td>\n",
       "      <td>Copper State Brewing Company</td>\n",
       "      <td>49595.0</td>\n",
       "      <td>Altbier</td>\n",
       "      <td>4.6</td>\n",
       "      <td>n2185.211743</td>\n",
       "      <td>3.0</td>\n",
       "      <td>3.75</td>\n",
       "      <td>4.0</td>\n",
       "      <td>3.50</td>\n",
       "      <td>3.50</td>\n",
       "      <td>3.58</td>\n",
       "      <td>NaN</td>\n",
       "      <td>3.58</td>\n",
       "      <td>North Carolina</td>\n",
       "      <td>Wisconsin</td>\n",
       "    </tr>\n",
       "  </tbody>\n",
       "</table>\n",
       "</div>"
      ],
      "text/plain": [
       "          beer_name   beer_id                  brewery_name  brewery_id  \\\n",
       "0     Kupfer Kolsch  289320.0  Copper State Brewing Company     49595.0   \n",
       "1  Northwestern Alt  289321.0  Copper State Brewing Company     49595.0   \n",
       "\n",
       "     style  abv       user_id  appearance  aroma  palate  taste  overall  \\\n",
       "0   Kölsch  4.4  n2185.211743         2.5   4.00     4.0   3.75     3.75   \n",
       "1  Altbier  4.6  n2185.211743         3.0   3.75     4.0   3.50     3.50   \n",
       "\n",
       "   rating text   avg      user_state beer_state  \n",
       "0    3.76  NaN  3.76  North Carolina  Wisconsin  \n",
       "1    3.58  NaN  3.58  North Carolina  Wisconsin  "
      ]
     },
     "execution_count": 2,
     "metadata": {},
     "output_type": "execute_result"
    }
   ],
   "source": [
    "BA_US_knn_text = pd.read_csv('knnData/BA_US_knn_text.csv')\n",
    "BA_US_knn_text.head(2)"
   ]
  },
  {
   "cell_type": "code",
   "execution_count": 3,
   "metadata": {},
   "outputs": [
    {
     "name": "stdout",
     "output_type": "stream",
     "text": [
      "(6331638, 17)\n",
      "(1829363, 18)\n"
     ]
    }
   ],
   "source": [
    "print(BA_US_knn_text.shape)\n",
    "df_drop = BA_US_knn_text.dropna().reset_index()\n",
    "print(df_drop.shape)"
   ]
  },
  {
   "cell_type": "code",
   "execution_count": 4,
   "metadata": {},
   "outputs": [
    {
     "name": "stdout",
     "output_type": "stream",
     "text": [
      "(1829363, 8)\n"
     ]
    },
    {
     "data": {
      "text/html": [
       "<div>\n",
       "<style scoped>\n",
       "    .dataframe tbody tr th:only-of-type {\n",
       "        vertical-align: middle;\n",
       "    }\n",
       "\n",
       "    .dataframe tbody tr th {\n",
       "        vertical-align: top;\n",
       "    }\n",
       "\n",
       "    .dataframe thead th {\n",
       "        text-align: right;\n",
       "    }\n",
       "</style>\n",
       "<table border=\"1\" class=\"dataframe\">\n",
       "  <thead>\n",
       "    <tr style=\"text-align: right;\">\n",
       "      <th></th>\n",
       "      <th>style</th>\n",
       "      <th>appearance</th>\n",
       "      <th>aroma</th>\n",
       "      <th>palate</th>\n",
       "      <th>taste</th>\n",
       "      <th>overall</th>\n",
       "      <th>avg</th>\n",
       "      <th>user_state</th>\n",
       "    </tr>\n",
       "  </thead>\n",
       "  <tbody>\n",
       "    <tr>\n",
       "      <th>0</th>\n",
       "      <td>Munich Helles Lager</td>\n",
       "      <td>4.00</td>\n",
       "      <td>4.00</td>\n",
       "      <td>3.5</td>\n",
       "      <td>3.50</td>\n",
       "      <td>4.00</td>\n",
       "      <td>3.5</td>\n",
       "      <td>Wisconsin</td>\n",
       "    </tr>\n",
       "    <tr>\n",
       "      <th>1</th>\n",
       "      <td>Munich Helles Lager</td>\n",
       "      <td>3.25</td>\n",
       "      <td>3.25</td>\n",
       "      <td>3.5</td>\n",
       "      <td>3.25</td>\n",
       "      <td>3.25</td>\n",
       "      <td>3.5</td>\n",
       "      <td>Arizona</td>\n",
       "    </tr>\n",
       "  </tbody>\n",
       "</table>\n",
       "</div>"
      ],
      "text/plain": [
       "                 style  appearance  aroma  palate  taste  overall  avg  \\\n",
       "0  Munich Helles Lager        4.00   4.00     3.5   3.50     4.00  3.5   \n",
       "1  Munich Helles Lager        3.25   3.25     3.5   3.25     3.25  3.5   \n",
       "\n",
       "  user_state  \n",
       "0  Wisconsin  \n",
       "1    Arizona  "
      ]
     },
     "execution_count": 4,
     "metadata": {},
     "output_type": "execute_result"
    }
   ],
   "source": [
    "df_reduced = df_drop[['style', 'appearance', 'aroma', 'palate',\n",
    "                             'taste', 'overall', 'avg', 'user_state']]\n",
    "print(df_reduced.shape)\n",
    "df_reduced.head(2)"
   ]
  },
  {
   "cell_type": "code",
   "execution_count": 24,
   "metadata": {},
   "outputs": [
    {
     "data": {
      "text/plain": [
       "['Alabama',\n",
       " 'Alaska',\n",
       " 'Arizona',\n",
       " 'Arkansas',\n",
       " 'California',\n",
       " 'Colorado',\n",
       " 'Connecticut',\n",
       " 'Delaware',\n",
       " 'Florida',\n",
       " 'Georgia',\n",
       " 'Hawaii',\n",
       " 'Idaho',\n",
       " 'Illinois',\n",
       " 'Indiana',\n",
       " 'Iowa',\n",
       " 'Kansas',\n",
       " 'Kentucky',\n",
       " 'Louisiana',\n",
       " 'Maine',\n",
       " 'Maryland',\n",
       " 'Massachusetts',\n",
       " 'Michigan',\n",
       " 'Minnesota',\n",
       " 'Mississippi',\n",
       " 'Missouri',\n",
       " 'Montana',\n",
       " 'Nebraska',\n",
       " 'Nevada',\n",
       " 'New Hampshire',\n",
       " 'New Jersey',\n",
       " 'New Mexico',\n",
       " 'New York',\n",
       " 'North Carolina',\n",
       " 'North Dakota',\n",
       " 'Ohio',\n",
       " 'Oklahoma',\n",
       " 'Oregon',\n",
       " 'Pennsylvania',\n",
       " 'Rhode Island',\n",
       " 'South Carolina',\n",
       " 'South Dakota',\n",
       " 'Tennessee',\n",
       " 'Texas',\n",
       " 'Utah',\n",
       " 'Vermont',\n",
       " 'Virginia',\n",
       " 'Washington',\n",
       " 'West Virginia',\n",
       " 'Wisconsin',\n",
       " 'Wyoming']"
      ]
     },
     "execution_count": 24,
     "metadata": {},
     "output_type": "execute_result"
    }
   ],
   "source": [
    "states = df_reduced['user_state'].unique().tolist()\n",
    "states.sort()\n",
    "states"
   ]
  },
  {
   "cell_type": "code",
   "execution_count": 6,
   "metadata": {},
   "outputs": [],
   "source": [
    "#states = ['Hawaii', 'Colorado','Maryland','Massachusetts','Michigan']"
   ]
  },
  {
   "cell_type": "code",
   "execution_count": 26,
   "metadata": {},
   "outputs": [
    {
     "data": {
      "text/plain": [
       "['Alabama',\n",
       " 'Alaska',\n",
       " 'Arizona',\n",
       " 'Arkansas',\n",
       " 'California',\n",
       " 'Colorado',\n",
       " 'Connecticut',\n",
       " 'Delaware',\n",
       " 'Florida',\n",
       " 'Georgia',\n",
       " 'Hawaii',\n",
       " 'Idaho',\n",
       " 'Illinois',\n",
       " 'Indiana',\n",
       " 'Iowa',\n",
       " 'Kansas',\n",
       " 'Kentucky',\n",
       " 'Louisiana',\n",
       " 'Maine',\n",
       " 'Maryland',\n",
       " 'Massachusetts',\n",
       " 'Michigan',\n",
       " 'Minnesota',\n",
       " 'Mississippi',\n",
       " 'Missouri',\n",
       " 'Montana',\n",
       " 'Nebraska',\n",
       " 'Nevada',\n",
       " 'New Hampshire',\n",
       " 'New Jersey',\n",
       " 'New Mexico',\n",
       " 'New York',\n",
       " 'North Carolina',\n",
       " 'North Dakota',\n",
       " 'Ohio',\n",
       " 'Oklahoma',\n",
       " 'Oregon',\n",
       " 'Pennsylvania',\n",
       " 'Rhode Island',\n",
       " 'South Carolina',\n",
       " 'South Dakota',\n",
       " 'Tennessee',\n",
       " 'Texas',\n",
       " 'Utah',\n",
       " 'Vermont',\n",
       " 'Virginia',\n",
       " 'Washington',\n",
       " 'West Virginia',\n",
       " 'Wisconsin',\n",
       " 'Wyoming']"
      ]
     },
     "execution_count": 26,
     "metadata": {},
     "output_type": "execute_result"
    }
   ],
   "source": [
    "states = df_reduced['user_state'].unique().tolist() #50 states\n",
    "states.sort()\n",
    "states"
   ]
  },
  {
   "cell_type": "code",
   "execution_count": 7,
   "metadata": {},
   "outputs": [
    {
     "data": {
      "text/plain": [
       "['Altbier',\n",
       " 'American Adjunct Lager',\n",
       " 'American Amber / Red Ale',\n",
       " 'American Amber / Red Lager',\n",
       " 'American Barleywine',\n",
       " 'American Black Ale',\n",
       " 'American Blonde Ale',\n",
       " 'American Brown Ale',\n",
       " 'American Dark Wheat Ale',\n",
       " 'American Double / Imperial IPA',\n",
       " 'American Double / Imperial Pilsner',\n",
       " 'American Double / Imperial Stout',\n",
       " 'American IPA',\n",
       " 'American Malt Liquor',\n",
       " 'American Pale Ale (APA)',\n",
       " 'American Pale Lager',\n",
       " 'American Pale Wheat Ale',\n",
       " 'American Porter',\n",
       " 'American Stout',\n",
       " 'American Strong Ale',\n",
       " 'American Wild Ale',\n",
       " 'Baltic Porter',\n",
       " 'Belgian Dark Ale',\n",
       " 'Belgian IPA',\n",
       " 'Belgian Pale Ale',\n",
       " 'Belgian Strong Dark Ale',\n",
       " 'Belgian Strong Pale Ale',\n",
       " 'Berliner Weissbier',\n",
       " 'Bière de Champagne / Bière Brut',\n",
       " 'Bière de Garde',\n",
       " 'Black & Tan',\n",
       " 'Bock',\n",
       " 'Braggot',\n",
       " 'California Common / Steam Beer',\n",
       " 'Chile Beer',\n",
       " 'Cream Ale',\n",
       " 'Czech Pilsener',\n",
       " 'Doppelbock',\n",
       " 'Dortmunder / Export Lager',\n",
       " 'Dubbel',\n",
       " 'Dunkelweizen',\n",
       " 'Eisbock',\n",
       " 'English Barleywine',\n",
       " 'English Bitter',\n",
       " 'English Brown Ale',\n",
       " 'English Dark Mild Ale',\n",
       " 'English India Pale Ale (IPA)',\n",
       " 'English Pale Ale',\n",
       " 'English Pale Mild Ale',\n",
       " 'English Porter',\n",
       " 'English Stout',\n",
       " 'English Strong Ale',\n",
       " 'Euro Dark Lager',\n",
       " 'Euro Pale Lager',\n",
       " 'Euro Strong Lager',\n",
       " 'Extra Special / Strong Bitter (ESB)',\n",
       " 'Faro',\n",
       " 'Flanders Oud Bruin',\n",
       " 'Flanders Red Ale',\n",
       " 'Foreign / Export Stout',\n",
       " 'Fruit / Vegetable Beer',\n",
       " 'German Pilsener',\n",
       " 'Gose',\n",
       " 'Gueuze',\n",
       " 'Hefeweizen',\n",
       " 'Herbed / Spiced Beer',\n",
       " 'Irish Dry Stout',\n",
       " 'Irish Red Ale',\n",
       " 'Japanese Rice Lager',\n",
       " 'Kellerbier / Zwickelbier',\n",
       " 'Kristalweizen',\n",
       " 'Kvass',\n",
       " 'Kölsch',\n",
       " 'Lambic - Fruit',\n",
       " 'Lambic - Unblended',\n",
       " 'Light Lager',\n",
       " 'Low Alcohol Beer',\n",
       " 'Maibock / Helles Bock',\n",
       " 'Milk / Sweet Stout',\n",
       " 'Munich Dunkel Lager',\n",
       " 'Munich Helles Lager',\n",
       " 'Märzen / Oktoberfest',\n",
       " 'Oatmeal Stout',\n",
       " 'Old Ale',\n",
       " 'Pumpkin Ale',\n",
       " 'Quadrupel (Quad)',\n",
       " 'Rauchbier',\n",
       " 'Roggenbier',\n",
       " 'Russian Imperial Stout',\n",
       " 'Rye Beer',\n",
       " 'Sahti',\n",
       " 'Saison / Farmhouse Ale',\n",
       " 'Schwarzbier',\n",
       " 'Scotch Ale / Wee Heavy',\n",
       " 'Scottish Ale',\n",
       " 'Scottish Gruit / Ancient Herbed Ale',\n",
       " 'Smoked Beer',\n",
       " 'Tripel',\n",
       " 'Vienna Lager',\n",
       " 'Weizenbock',\n",
       " 'Wheatwine',\n",
       " 'Winter Warmer',\n",
       " 'Witbier']"
      ]
     },
     "execution_count": 7,
     "metadata": {},
     "output_type": "execute_result"
    }
   ],
   "source": [
    "styles = df_reduced['style'].unique().tolist()\n",
    "styles.sort()\n",
    "styles   #103 styles"
   ]
  },
  {
   "cell_type": "code",
   "execution_count": 9,
   "metadata": {},
   "outputs": [],
   "source": [
    "def calc_features(style, df, tot_number_reviews):\n",
    "    \n",
    "    avg_appearance = df['appearance'].mean()\n",
    "    avg_aroma = df['aroma'].mean()\n",
    "    avg_palate = df['palate'].mean()\n",
    "    avg_taste = df['taste'].mean()\n",
    "    avg_overall = df['overall'].mean()\n",
    "    avg_rating = df['avg'].mean()\n",
    "    std_rating = df['avg'].std()\n",
    "    review_count = df.shape[0]  #normalize gives us percentage wise, which could be a good feature for style preference\n",
    "    normalized_review_count = review_count / tot_number_reviews\n",
    "    \n",
    "    \n",
    "    df = pd.DataFrame(columns=['avg_appearance', 'avg_aroma', 'avg_palate', \n",
    "                                        'avg_taste', 'avg_overall','avg_rating_per_style',\n",
    "                                        'std_per_style', 'normalised_review_count'])\n",
    "    \n",
    "    df.loc[0] = [avg_appearance,avg_aroma,avg_palate,avg_taste,\n",
    "                 avg_overall,avg_rating,std_rating,normalized_review_count]\n",
    "    \n",
    "    df = df.rename(columns=lambda col: style+'_'+col)\n",
    "    \n",
    "    return df\n",
    "    "
   ]
  },
  {
   "cell_type": "code",
   "execution_count": 10,
   "metadata": {},
   "outputs": [
    {
     "name": "stdout",
     "output_type": "stream",
     "text": [
      "state:  Alabama\n",
      "0 for:  Euro Strong Lager\n",
      "state:  Alabama\n",
      "0 for:  Faro\n",
      "state:  Alabama\n",
      "0 for:  Gueuze\n",
      "state:  Alabama\n",
      "0 for:  Japanese Rice Lager\n",
      "state:  Alabama\n",
      "0 for:  Kvass\n",
      "state:  Alabama\n",
      "0 for:  Lambic - Unblended\n",
      "state:  Alaska\n",
      "0 for:  Euro Strong Lager\n",
      "state:  Alaska\n",
      "0 for:  Faro\n",
      "state:  Alaska\n",
      "0 for:  Japanese Rice Lager\n",
      "state:  Arizona\n",
      "0 for:  Euro Strong Lager\n",
      "state:  Arizona\n",
      "0 for:  Faro\n",
      "state:  Arizona\n",
      "0 for:  Japanese Rice Lager\n",
      "state:  Arizona\n",
      "0 for:  Kvass\n",
      "state:  Arkansas\n",
      "0 for:  Bière de Champagne / Bière Brut\n",
      "state:  Arkansas\n",
      "0 for:  Euro Strong Lager\n",
      "state:  Arkansas\n",
      "0 for:  Faro\n",
      "state:  Arkansas\n",
      "0 for:  Gueuze\n",
      "state:  Arkansas\n",
      "0 for:  Japanese Rice Lager\n",
      "state:  Arkansas\n",
      "0 for:  Kvass\n",
      "state:  California\n",
      "0 for:  Kvass\n",
      "state:  Colorado\n",
      "0 for:  Euro Strong Lager\n",
      "state:  Colorado\n",
      "0 for:  Faro\n",
      "state:  Connecticut\n",
      "0 for:  Faro\n",
      "state:  Connecticut\n",
      "0 for:  Japanese Rice Lager\n",
      "state:  Delaware\n",
      "0 for:  Euro Pale Lager\n",
      "state:  Delaware\n",
      "0 for:  Euro Strong Lager\n",
      "state:  Delaware\n",
      "0 for:  Faro\n",
      "state:  Delaware\n",
      "0 for:  Japanese Rice Lager\n",
      "state:  Delaware\n",
      "0 for:  Low Alcohol Beer\n",
      "state:  Florida\n",
      "0 for:  Faro\n",
      "state:  Georgia\n",
      "0 for:  Faro\n",
      "state:  Georgia\n",
      "0 for:  Kvass\n",
      "state:  Hawaii\n",
      "0 for:  Bière de Champagne / Bière Brut\n",
      "state:  Hawaii\n",
      "0 for:  Eisbock\n",
      "state:  Hawaii\n",
      "0 for:  English Stout\n",
      "state:  Hawaii\n",
      "0 for:  Euro Strong Lager\n",
      "state:  Hawaii\n",
      "0 for:  Faro\n",
      "state:  Hawaii\n",
      "0 for:  Gueuze\n",
      "state:  Hawaii\n",
      "0 for:  Japanese Rice Lager\n",
      "state:  Hawaii\n",
      "0 for:  Kellerbier / Zwickelbier\n",
      "state:  Hawaii\n",
      "0 for:  Kristalweizen\n",
      "state:  Hawaii\n",
      "0 for:  Kvass\n",
      "state:  Hawaii\n",
      "0 for:  Lambic - Fruit\n",
      "state:  Hawaii\n",
      "0 for:  Lambic - Unblended\n",
      "state:  Hawaii\n",
      "0 for:  Roggenbier\n",
      "state:  Hawaii\n",
      "0 for:  Scottish Gruit / Ancient Herbed Ale\n",
      "state:  Idaho\n",
      "0 for:  Bière de Champagne / Bière Brut\n",
      "state:  Idaho\n",
      "0 for:  Faro\n",
      "state:  Idaho\n",
      "0 for:  Japanese Rice Lager\n",
      "state:  Idaho\n",
      "0 for:  Kvass\n",
      "state:  Idaho\n",
      "0 for:  Lambic - Unblended\n",
      "state:  Idaho\n",
      "0 for:  Low Alcohol Beer\n",
      "state:  Illinois\n",
      "0 for:  Faro\n",
      "state:  Indiana\n",
      "0 for:  Faro\n",
      "state:  Iowa\n",
      "0 for:  Faro\n",
      "state:  Iowa\n",
      "0 for:  Japanese Rice Lager\n",
      "state:  Iowa\n",
      "0 for:  Kvass\n",
      "state:  Kansas\n",
      "0 for:  Euro Strong Lager\n",
      "state:  Kansas\n",
      "0 for:  Faro\n",
      "state:  Kansas\n",
      "0 for:  Flanders Red Ale\n",
      "state:  Kansas\n",
      "0 for:  Gueuze\n",
      "state:  Kansas\n",
      "0 for:  Japanese Rice Lager\n",
      "state:  Kansas\n",
      "0 for:  Kvass\n",
      "state:  Kansas\n",
      "0 for:  Lambic - Fruit\n",
      "state:  Kansas\n",
      "0 for:  Lambic - Unblended\n",
      "state:  Kentucky\n",
      "0 for:  Faro\n",
      "state:  Louisiana\n",
      "0 for:  Euro Strong Lager\n",
      "state:  Louisiana\n",
      "0 for:  Faro\n",
      "state:  Louisiana\n",
      "0 for:  Japanese Rice Lager\n",
      "state:  Louisiana\n",
      "0 for:  Kvass\n",
      "state:  Maine\n",
      "0 for:  Euro Strong Lager\n",
      "state:  Maine\n",
      "0 for:  Faro\n",
      "state:  Maine\n",
      "0 for:  Japanese Rice Lager\n",
      "state:  Maine\n",
      "0 for:  Kvass\n",
      "state:  Maryland\n",
      "0 for:  Faro\n",
      "state:  Michigan\n",
      "0 for:  Faro\n",
      "state:  Michigan\n",
      "0 for:  Japanese Rice Lager\n",
      "state:  Michigan\n",
      "0 for:  Kvass\n",
      "state:  Minnesota\n",
      "0 for:  Faro\n",
      "state:  Minnesota\n",
      "0 for:  Japanese Rice Lager\n",
      "state:  Mississippi\n",
      "0 for:  Euro Strong Lager\n",
      "state:  Mississippi\n",
      "0 for:  Faro\n",
      "state:  Mississippi\n",
      "0 for:  Japanese Rice Lager\n",
      "state:  Mississippi\n",
      "0 for:  Kvass\n",
      "state:  Mississippi\n",
      "0 for:  Roggenbier\n",
      "state:  Mississippi\n",
      "0 for:  Scottish Gruit / Ancient Herbed Ale\n",
      "state:  Missouri\n",
      "0 for:  Faro\n",
      "state:  Montana\n",
      "0 for:  Belgian Dark Ale\n",
      "state:  Montana\n",
      "0 for:  Bière de Champagne / Bière Brut\n",
      "state:  Montana\n",
      "0 for:  English Stout\n",
      "state:  Montana\n",
      "0 for:  Euro Strong Lager\n",
      "state:  Montana\n",
      "0 for:  Faro\n",
      "state:  Montana\n",
      "0 for:  Japanese Rice Lager\n",
      "state:  Montana\n",
      "0 for:  Kellerbier / Zwickelbier\n",
      "state:  Montana\n",
      "0 for:  Kvass\n",
      "state:  Montana\n",
      "0 for:  Low Alcohol Beer\n",
      "state:  Montana\n",
      "0 for:  Sahti\n",
      "state:  Nebraska\n",
      "0 for:  Faro\n",
      "state:  Nebraska\n",
      "0 for:  Japanese Rice Lager\n",
      "state:  Nebraska\n",
      "0 for:  Kvass\n",
      "state:  Nebraska\n",
      "0 for:  Lambic - Unblended\n",
      "state:  Nevada\n",
      "0 for:  Eisbock\n",
      "state:  Nevada\n",
      "0 for:  Euro Strong Lager\n",
      "state:  Nevada\n",
      "0 for:  Faro\n",
      "state:  Nevada\n",
      "0 for:  Japanese Rice Lager\n",
      "state:  Nevada\n",
      "0 for:  Kvass\n",
      "state:  New Hampshire\n",
      "0 for:  Euro Strong Lager\n",
      "state:  New Hampshire\n",
      "0 for:  Faro\n",
      "state:  New Hampshire\n",
      "0 for:  Japanese Rice Lager\n",
      "state:  New Jersey\n",
      "0 for:  Euro Strong Lager\n",
      "state:  New Jersey\n",
      "0 for:  Faro\n",
      "state:  New Mexico\n",
      "0 for:  Eisbock\n",
      "state:  New Mexico\n",
      "0 for:  Euro Strong Lager\n",
      "state:  New Mexico\n",
      "0 for:  Faro\n",
      "state:  New Mexico\n",
      "0 for:  Japanese Rice Lager\n",
      "state:  New Mexico\n",
      "0 for:  Kvass\n",
      "state:  New Mexico\n",
      "0 for:  Lambic - Unblended\n",
      "state:  New Mexico\n",
      "0 for:  Low Alcohol Beer\n",
      "state:  New Mexico\n",
      "0 for:  Roggenbier\n",
      "state:  New York\n",
      "0 for:  Faro\n",
      "state:  North Carolina\n",
      "0 for:  Faro\n",
      "state:  North Carolina\n",
      "0 for:  Japanese Rice Lager\n",
      "state:  North Dakota\n",
      "0 for:  Bière de Champagne / Bière Brut\n",
      "state:  North Dakota\n",
      "0 for:  Bière de Garde\n",
      "state:  North Dakota\n",
      "0 for:  Dortmunder / Export Lager\n",
      "state:  North Dakota\n",
      "0 for:  Eisbock\n",
      "state:  North Dakota\n",
      "0 for:  English Dark Mild Ale\n",
      "state:  North Dakota\n",
      "0 for:  English Pale Mild Ale\n",
      "state:  North Dakota\n",
      "0 for:  Euro Pale Lager\n",
      "state:  North Dakota\n",
      "0 for:  Euro Strong Lager\n",
      "state:  North Dakota\n",
      "0 for:  Faro\n",
      "state:  North Dakota\n",
      "0 for:  Flanders Oud Bruin\n",
      "state:  North Dakota\n",
      "0 for:  Flanders Red Ale\n",
      "state:  North Dakota\n",
      "0 for:  Foreign / Export Stout\n",
      "state:  North Dakota\n",
      "0 for:  Gose\n",
      "state:  North Dakota\n",
      "0 for:  Gueuze\n",
      "state:  North Dakota\n",
      "0 for:  Japanese Rice Lager\n",
      "state:  North Dakota\n",
      "0 for:  Kellerbier / Zwickelbier\n",
      "state:  North Dakota\n",
      "0 for:  Kvass\n",
      "state:  North Dakota\n",
      "0 for:  Lambic - Fruit\n",
      "state:  North Dakota\n",
      "0 for:  Lambic - Unblended\n",
      "state:  North Dakota\n",
      "0 for:  Low Alcohol Beer\n",
      "state:  North Dakota\n",
      "0 for:  Munich Dunkel Lager\n",
      "state:  North Dakota\n",
      "0 for:  Rauchbier\n",
      "state:  North Dakota\n",
      "0 for:  Roggenbier\n",
      "state:  North Dakota\n",
      "0 for:  Scottish Gruit / Ancient Herbed Ale\n",
      "state:  Oklahoma\n",
      "0 for:  English Pale Mild Ale\n",
      "state:  Oklahoma\n",
      "0 for:  Faro\n",
      "state:  Oklahoma\n",
      "0 for:  Gueuze\n",
      "state:  Oklahoma\n",
      "0 for:  Japanese Rice Lager\n",
      "state:  Oklahoma\n",
      "0 for:  Kvass\n",
      "state:  Oklahoma\n",
      "0 for:  Lambic - Unblended\n",
      "state:  Oklahoma\n",
      "0 for:  Roggenbier\n",
      "state:  Oklahoma\n",
      "0 for:  Scottish Gruit / Ancient Herbed Ale\n",
      "state:  Oregon\n",
      "0 for:  Faro\n",
      "state:  Oregon\n",
      "0 for:  Japanese Rice Lager\n",
      "state:  Rhode Island\n",
      "0 for:  Faro\n",
      "state:  South Carolina\n",
      "0 for:  Faro\n",
      "state:  South Dakota\n",
      "0 for:  American Malt Liquor\n",
      "state:  South Dakota\n",
      "0 for:  Bière de Champagne / Bière Brut\n",
      "state:  South Dakota\n",
      "0 for:  Eisbock\n",
      "state:  South Dakota\n",
      "0 for:  English Pale Mild Ale\n",
      "state:  South Dakota\n",
      "0 for:  Euro Pale Lager\n",
      "state:  South Dakota\n",
      "0 for:  Euro Strong Lager\n",
      "state:  South Dakota\n",
      "0 for:  Faro\n",
      "state:  South Dakota\n",
      "0 for:  Flanders Red Ale\n",
      "state:  South Dakota\n",
      "0 for:  Gueuze\n",
      "state:  South Dakota\n",
      "0 for:  Irish Red Ale\n",
      "state:  South Dakota\n",
      "0 for:  Japanese Rice Lager\n",
      "state:  South Dakota\n",
      "0 for:  Kristalweizen\n",
      "state:  South Dakota\n",
      "0 for:  Kvass\n",
      "state:  South Dakota\n",
      "0 for:  Lambic - Unblended\n",
      "state:  South Dakota\n",
      "0 for:  Low Alcohol Beer\n",
      "state:  South Dakota\n",
      "0 for:  Rauchbier\n",
      "state:  South Dakota\n",
      "0 for:  Roggenbier\n",
      "state:  South Dakota\n",
      "0 for:  Sahti\n",
      "state:  South Dakota\n",
      "0 for:  Wheatwine\n",
      "state:  Tennessee\n",
      "0 for:  Faro\n",
      "state:  Tennessee\n",
      "0 for:  Japanese Rice Lager\n",
      "state:  Tennessee\n",
      "0 for:  Low Alcohol Beer\n",
      "state:  Texas\n",
      "0 for:  Euro Strong Lager\n",
      "state:  Texas\n",
      "0 for:  Faro\n",
      "state:  Texas\n",
      "0 for:  Japanese Rice Lager\n",
      "state:  Utah\n",
      "0 for:  Bière de Champagne / Bière Brut\n",
      "state:  Utah\n",
      "0 for:  Eisbock\n",
      "state:  Utah\n",
      "0 for:  English Dark Mild Ale\n",
      "state:  Utah\n",
      "0 for:  English India Pale Ale (IPA)\n",
      "state:  Utah\n",
      "0 for:  English Strong Ale\n",
      "state:  Utah\n",
      "0 for:  Euro Pale Lager\n",
      "state:  Utah\n",
      "0 for:  Euro Strong Lager\n",
      "state:  Utah\n",
      "0 for:  Faro\n",
      "state:  Utah\n",
      "0 for:  Gueuze\n",
      "state:  Utah\n",
      "0 for:  Japanese Rice Lager\n",
      "state:  Utah\n",
      "0 for:  Kvass\n",
      "state:  Utah\n",
      "0 for:  Lambic - Unblended\n",
      "state:  Utah\n",
      "0 for:  Low Alcohol Beer\n",
      "state:  Utah\n",
      "0 for:  Roggenbier\n",
      "state:  Utah\n",
      "0 for:  Sahti\n",
      "state:  Utah\n",
      "0 for:  Scottish Gruit / Ancient Herbed Ale\n",
      "state:  Vermont\n",
      "0 for:  Euro Strong Lager\n",
      "state:  Vermont\n",
      "0 for:  Faro\n",
      "state:  Virginia\n",
      "0 for:  Faro\n",
      "state:  Virginia\n",
      "0 for:  Japanese Rice Lager\n",
      "state:  Washington\n",
      "0 for:  Euro Strong Lager\n",
      "state:  West Virginia\n",
      "0 for:  Euro Strong Lager\n",
      "state:  West Virginia\n",
      "0 for:  Faro\n",
      "state:  West Virginia\n",
      "0 for:  Japanese Rice Lager\n",
      "state:  Wisconsin\n",
      "0 for:  Faro\n",
      "state:  Wisconsin\n",
      "0 for:  Japanese Rice Lager\n",
      "state:  Wisconsin\n",
      "0 for:  Kvass\n",
      "state:  Wyoming\n",
      "0 for:  Euro Strong Lager\n",
      "state:  Wyoming\n",
      "0 for:  Faro\n",
      "state:  Wyoming\n",
      "0 for:  Japanese Rice Lager\n",
      "state:  Wyoming\n",
      "0 for:  Kvass\n",
      "state:  Wyoming\n",
      "0 for:  Roggenbier\n"
     ]
    },
    {
     "data": {
      "text/html": [
       "<div>\n",
       "<style scoped>\n",
       "    .dataframe tbody tr th:only-of-type {\n",
       "        vertical-align: middle;\n",
       "    }\n",
       "\n",
       "    .dataframe tbody tr th {\n",
       "        vertical-align: top;\n",
       "    }\n",
       "\n",
       "    .dataframe thead th {\n",
       "        text-align: right;\n",
       "    }\n",
       "</style>\n",
       "<table border=\"1\" class=\"dataframe\">\n",
       "  <thead>\n",
       "    <tr style=\"text-align: right;\">\n",
       "      <th></th>\n",
       "      <th>user_state</th>\n",
       "      <th>Altbier_avg_appearance</th>\n",
       "      <th>Altbier_avg_aroma</th>\n",
       "      <th>Altbier_avg_palate</th>\n",
       "      <th>Altbier_avg_taste</th>\n",
       "      <th>Altbier_avg_overall</th>\n",
       "      <th>Altbier_avg_rating_per_style</th>\n",
       "      <th>Altbier_std_per_style</th>\n",
       "      <th>Altbier_normalised_review_count</th>\n",
       "      <th>American Adjunct Lager_avg_appearance</th>\n",
       "      <th>...</th>\n",
       "      <th>Winter Warmer_std_per_style</th>\n",
       "      <th>Winter Warmer_normalised_review_count</th>\n",
       "      <th>Witbier_avg_appearance</th>\n",
       "      <th>Witbier_avg_aroma</th>\n",
       "      <th>Witbier_avg_palate</th>\n",
       "      <th>Witbier_avg_taste</th>\n",
       "      <th>Witbier_avg_overall</th>\n",
       "      <th>Witbier_avg_rating_per_style</th>\n",
       "      <th>Witbier_std_per_style</th>\n",
       "      <th>Witbier_normalised_review_count</th>\n",
       "    </tr>\n",
       "  </thead>\n",
       "  <tbody>\n",
       "    <tr>\n",
       "      <th>0</th>\n",
       "      <td>Alabama</td>\n",
       "      <td>4.058824</td>\n",
       "      <td>3.735294</td>\n",
       "      <td>3.764706</td>\n",
       "      <td>3.911765</td>\n",
       "      <td>3.955882</td>\n",
       "      <td>3.745882</td>\n",
       "      <td>0.252365</td>\n",
       "      <td>0.001860</td>\n",
       "      <td>2.879412</td>\n",
       "      <td>...</td>\n",
       "      <td>0.276159</td>\n",
       "      <td>0.007441</td>\n",
       "      <td>3.597561</td>\n",
       "      <td>3.573171</td>\n",
       "      <td>3.474085</td>\n",
       "      <td>3.429878</td>\n",
       "      <td>3.568598</td>\n",
       "      <td>3.557256</td>\n",
       "      <td>0.282003</td>\n",
       "      <td>0.017947</td>\n",
       "    </tr>\n",
       "    <tr>\n",
       "      <th>1</th>\n",
       "      <td>Alaska</td>\n",
       "      <td>3.869048</td>\n",
       "      <td>3.559524</td>\n",
       "      <td>3.583333</td>\n",
       "      <td>3.642857</td>\n",
       "      <td>3.738095</td>\n",
       "      <td>3.695714</td>\n",
       "      <td>0.217499</td>\n",
       "      <td>0.004418</td>\n",
       "      <td>2.973404</td>\n",
       "      <td>...</td>\n",
       "      <td>0.237782</td>\n",
       "      <td>0.010520</td>\n",
       "      <td>3.891791</td>\n",
       "      <td>3.723881</td>\n",
       "      <td>3.817164</td>\n",
       "      <td>3.798507</td>\n",
       "      <td>3.902985</td>\n",
       "      <td>3.763881</td>\n",
       "      <td>0.251342</td>\n",
       "      <td>0.014096</td>\n",
       "    </tr>\n",
       "    <tr>\n",
       "      <th>2</th>\n",
       "      <td>Arizona</td>\n",
       "      <td>3.677326</td>\n",
       "      <td>3.500000</td>\n",
       "      <td>3.546512</td>\n",
       "      <td>3.587209</td>\n",
       "      <td>3.622093</td>\n",
       "      <td>3.671395</td>\n",
       "      <td>0.213167</td>\n",
       "      <td>0.004316</td>\n",
       "      <td>3.019345</td>\n",
       "      <td>...</td>\n",
       "      <td>0.216654</td>\n",
       "      <td>0.014051</td>\n",
       "      <td>3.576284</td>\n",
       "      <td>3.574773</td>\n",
       "      <td>3.552870</td>\n",
       "      <td>3.559668</td>\n",
       "      <td>3.577795</td>\n",
       "      <td>3.568489</td>\n",
       "      <td>0.329566</td>\n",
       "      <td>0.016610</td>\n",
       "    </tr>\n",
       "  </tbody>\n",
       "</table>\n",
       "<p>3 rows × 825 columns</p>\n",
       "</div>"
      ],
      "text/plain": [
       "  user_state  Altbier_avg_appearance  Altbier_avg_aroma  Altbier_avg_palate  \\\n",
       "0    Alabama                4.058824           3.735294            3.764706   \n",
       "1     Alaska                3.869048           3.559524            3.583333   \n",
       "2    Arizona                3.677326           3.500000            3.546512   \n",
       "\n",
       "   Altbier_avg_taste  Altbier_avg_overall  Altbier_avg_rating_per_style  \\\n",
       "0           3.911765             3.955882                      3.745882   \n",
       "1           3.642857             3.738095                      3.695714   \n",
       "2           3.587209             3.622093                      3.671395   \n",
       "\n",
       "   Altbier_std_per_style  Altbier_normalised_review_count  \\\n",
       "0               0.252365                         0.001860   \n",
       "1               0.217499                         0.004418   \n",
       "2               0.213167                         0.004316   \n",
       "\n",
       "   American Adjunct Lager_avg_appearance  ...  Winter Warmer_std_per_style  \\\n",
       "0                               2.879412  ...                     0.276159   \n",
       "1                               2.973404  ...                     0.237782   \n",
       "2                               3.019345  ...                     0.216654   \n",
       "\n",
       "   Winter Warmer_normalised_review_count  Witbier_avg_appearance  \\\n",
       "0                               0.007441                3.597561   \n",
       "1                               0.010520                3.891791   \n",
       "2                               0.014051                3.576284   \n",
       "\n",
       "   Witbier_avg_aroma  Witbier_avg_palate  Witbier_avg_taste  \\\n",
       "0           3.573171            3.474085           3.429878   \n",
       "1           3.723881            3.817164           3.798507   \n",
       "2           3.574773            3.552870           3.559668   \n",
       "\n",
       "   Witbier_avg_overall  Witbier_avg_rating_per_style  Witbier_std_per_style  \\\n",
       "0             3.568598                      3.557256               0.282003   \n",
       "1             3.902985                      3.763881               0.251342   \n",
       "2             3.577795                      3.568489               0.329566   \n",
       "\n",
       "   Witbier_normalised_review_count  \n",
       "0                         0.017947  \n",
       "1                         0.014096  \n",
       "2                         0.016610  \n",
       "\n",
       "[3 rows x 825 columns]"
      ]
     },
     "execution_count": 10,
     "metadata": {},
     "output_type": "execute_result"
    }
   ],
   "source": [
    "df_total_clustering = pd.DataFrame()\n",
    "\n",
    "for state in states:\n",
    "    df_state = df_reduced[df_reduced['user_state'] == state]\n",
    "    \n",
    "    df_clustering = pd.DataFrame(columns=['user_state'])\n",
    "    df_clustering.loc[0, 'user_state'] = state\n",
    "    \n",
    "    # Add the population for the current state\n",
    "    #state_population = state_population_df[state_population_df['State'] == state]['Population'].values[0]\n",
    "\n",
    "    tot_number_reviews = df_state.shape[0]\n",
    "\n",
    "    for style in styles:\n",
    "        df_style = df_state[df_state['style'] == style]\n",
    "        \n",
    "        if df_style.shape[0] == 0: \n",
    "            print(\"state: \",state)\n",
    "            print(\"0 for: \",style)\n",
    "        \n",
    "        df_features = calc_features(style, df_style, tot_number_reviews)\n",
    "        \n",
    "        df_clustering = pd.concat([df_clustering, df_features], axis=1)\n",
    "    \n",
    "    df_total_clustering = pd.concat([df_total_clustering, df_clustering], ignore_index=True)\n",
    "\n",
    "\n",
    "df_total_clustering.head(3)"
   ]
  },
  {
   "cell_type": "code",
   "execution_count": 11,
   "metadata": {},
   "outputs": [
    {
     "data": {
      "text/plain": [
       "1.0"
      ]
     },
     "execution_count": 11,
     "metadata": {},
     "output_type": "execute_result"
    }
   ],
   "source": [
    "review_count_sum_first_row = df_total_clustering.loc[0, df_total_clustering.columns.str.endswith('review_count')].sum()\n",
    "review_count_sum_first_row"
   ]
  },
  {
   "cell_type": "code",
   "execution_count": 12,
   "metadata": {},
   "outputs": [
    {
     "name": "stdout",
     "output_type": "stream",
     "text": [
      "Eisbock_avg_appearance                  4.0\n",
      "Eisbock_avg_aroma                       3.5\n",
      "Eisbock_avg_palate                      3.0\n",
      "Eisbock_avg_taste                       3.5\n",
      "Eisbock_avg_overall                     3.5\n",
      "Eisbock_avg_rating_per_style           3.66\n",
      "Eisbock_std_per_style                   NaN\n",
      "Eisbock_normalised_review_count    0.000109\n",
      "Name: 0, dtype: object\n"
     ]
    }
   ],
   "source": [
    "print(df_total_clustering.loc[0, df_total_clustering.columns.str.startswith('Eisbock')])"
   ]
  },
  {
   "cell_type": "code",
   "execution_count": 13,
   "metadata": {},
   "outputs": [
    {
     "data": {
      "text/html": [
       "<div>\n",
       "<style scoped>\n",
       "    .dataframe tbody tr th:only-of-type {\n",
       "        vertical-align: middle;\n",
       "    }\n",
       "\n",
       "    .dataframe tbody tr th {\n",
       "        vertical-align: top;\n",
       "    }\n",
       "\n",
       "    .dataframe thead th {\n",
       "        text-align: right;\n",
       "    }\n",
       "</style>\n",
       "<table border=\"1\" class=\"dataframe\">\n",
       "  <thead>\n",
       "    <tr style=\"text-align: right;\">\n",
       "      <th></th>\n",
       "      <th>Altbier_avg_appearance</th>\n",
       "      <th>Altbier_avg_aroma</th>\n",
       "      <th>Altbier_avg_palate</th>\n",
       "      <th>Altbier_avg_taste</th>\n",
       "      <th>Altbier_avg_overall</th>\n",
       "      <th>Altbier_avg_rating_per_style</th>\n",
       "      <th>Altbier_std_per_style</th>\n",
       "      <th>Altbier_normalised_review_count</th>\n",
       "      <th>American Adjunct Lager_avg_appearance</th>\n",
       "      <th>American Adjunct Lager_avg_aroma</th>\n",
       "      <th>...</th>\n",
       "      <th>Winter Warmer_std_per_style</th>\n",
       "      <th>Winter Warmer_normalised_review_count</th>\n",
       "      <th>Witbier_avg_appearance</th>\n",
       "      <th>Witbier_avg_aroma</th>\n",
       "      <th>Witbier_avg_palate</th>\n",
       "      <th>Witbier_avg_taste</th>\n",
       "      <th>Witbier_avg_overall</th>\n",
       "      <th>Witbier_avg_rating_per_style</th>\n",
       "      <th>Witbier_std_per_style</th>\n",
       "      <th>Witbier_normalised_review_count</th>\n",
       "    </tr>\n",
       "  </thead>\n",
       "  <tbody>\n",
       "    <tr>\n",
       "      <th>0</th>\n",
       "      <td>4.058824</td>\n",
       "      <td>3.735294</td>\n",
       "      <td>3.764706</td>\n",
       "      <td>3.911765</td>\n",
       "      <td>3.955882</td>\n",
       "      <td>3.745882</td>\n",
       "      <td>0.252365</td>\n",
       "      <td>0.001860</td>\n",
       "      <td>2.879412</td>\n",
       "      <td>2.608824</td>\n",
       "      <td>...</td>\n",
       "      <td>0.276159</td>\n",
       "      <td>0.007441</td>\n",
       "      <td>3.597561</td>\n",
       "      <td>3.573171</td>\n",
       "      <td>3.474085</td>\n",
       "      <td>3.429878</td>\n",
       "      <td>3.568598</td>\n",
       "      <td>3.557256</td>\n",
       "      <td>0.282003</td>\n",
       "      <td>0.017947</td>\n",
       "    </tr>\n",
       "    <tr>\n",
       "      <th>1</th>\n",
       "      <td>3.869048</td>\n",
       "      <td>3.559524</td>\n",
       "      <td>3.583333</td>\n",
       "      <td>3.642857</td>\n",
       "      <td>3.738095</td>\n",
       "      <td>3.695714</td>\n",
       "      <td>0.217499</td>\n",
       "      <td>0.004418</td>\n",
       "      <td>2.973404</td>\n",
       "      <td>2.707447</td>\n",
       "      <td>...</td>\n",
       "      <td>0.237782</td>\n",
       "      <td>0.010520</td>\n",
       "      <td>3.891791</td>\n",
       "      <td>3.723881</td>\n",
       "      <td>3.817164</td>\n",
       "      <td>3.798507</td>\n",
       "      <td>3.902985</td>\n",
       "      <td>3.763881</td>\n",
       "      <td>0.251342</td>\n",
       "      <td>0.014096</td>\n",
       "    </tr>\n",
       "  </tbody>\n",
       "</table>\n",
       "<p>2 rows × 824 columns</p>\n",
       "</div>"
      ],
      "text/plain": [
       "   Altbier_avg_appearance  Altbier_avg_aroma  Altbier_avg_palate  \\\n",
       "0                4.058824           3.735294            3.764706   \n",
       "1                3.869048           3.559524            3.583333   \n",
       "\n",
       "   Altbier_avg_taste  Altbier_avg_overall  Altbier_avg_rating_per_style  \\\n",
       "0           3.911765             3.955882                      3.745882   \n",
       "1           3.642857             3.738095                      3.695714   \n",
       "\n",
       "   Altbier_std_per_style  Altbier_normalised_review_count  \\\n",
       "0               0.252365                         0.001860   \n",
       "1               0.217499                         0.004418   \n",
       "\n",
       "   American Adjunct Lager_avg_appearance  American Adjunct Lager_avg_aroma  \\\n",
       "0                               2.879412                          2.608824   \n",
       "1                               2.973404                          2.707447   \n",
       "\n",
       "   ...  Winter Warmer_std_per_style  Winter Warmer_normalised_review_count  \\\n",
       "0  ...                     0.276159                               0.007441   \n",
       "1  ...                     0.237782                               0.010520   \n",
       "\n",
       "   Witbier_avg_appearance  Witbier_avg_aroma  Witbier_avg_palate  \\\n",
       "0                3.597561           3.573171            3.474085   \n",
       "1                3.891791           3.723881            3.817164   \n",
       "\n",
       "   Witbier_avg_taste  Witbier_avg_overall  Witbier_avg_rating_per_style  \\\n",
       "0           3.429878             3.568598                      3.557256   \n",
       "1           3.798507             3.902985                      3.763881   \n",
       "\n",
       "   Witbier_std_per_style  Witbier_normalised_review_count  \n",
       "0               0.282003                         0.017947  \n",
       "1               0.251342                         0.014096  \n",
       "\n",
       "[2 rows x 824 columns]"
      ]
     },
     "execution_count": 13,
     "metadata": {},
     "output_type": "execute_result"
    }
   ],
   "source": [
    "#prep for PCA\n",
    "user_state = df_total_clustering['user_state']\n",
    "df_cleaned_drop = df_total_clustering.drop(columns='user_state', axis=1)\n",
    "#sometimes we get NaN values when we have 0 reviews for a style\n",
    "#we don't want to fill with 0s because that can mess up the analysis\n",
    "#so the best we can do is fill with the mean to preserve the size of the df\n",
    "\n",
    "df_cleaned = df_cleaned_drop.fillna(df_cleaned_drop.mean())\n",
    "\n",
    "df_cleaned.head(2)"
   ]
  },
  {
   "cell_type": "code",
   "execution_count": 14,
   "metadata": {},
   "outputs": [
    {
     "name": "stdout",
     "output_type": "stream",
     "text": [
      "Eisbock_avg_appearance             4.000000\n",
      "Eisbock_avg_aroma                  3.500000\n",
      "Eisbock_avg_palate                 3.000000\n",
      "Eisbock_avg_taste                  3.500000\n",
      "Eisbock_avg_overall                3.500000\n",
      "Eisbock_avg_rating_per_style       3.660000\n",
      "Eisbock_std_per_style              0.255609\n",
      "Eisbock_normalised_review_count    0.000109\n",
      "Name: 0, dtype: float64\n"
     ]
    }
   ],
   "source": [
    "print(df_cleaned.loc[0, df_cleaned.columns.str.startswith('Eisbock')])"
   ]
  },
  {
   "cell_type": "code",
   "execution_count": 17,
   "metadata": {},
   "outputs": [
    {
     "data": {
      "image/png": "[encoded data removed]",
      "text/plain": [
       "<Figure size 1000x600 with 2 Axes>"
      ]
     },
     "metadata": {},
     "output_type": "display_data"
    }
   ],
   "source": [
    "scaler = StandardScaler()\n",
    "df_scaled = scaler.fit_transform(df_cleaned)\n",
    "pca = PCA()\n",
    "pca.fit(df_scaled)\n",
    "explained_variance = pca.explained_variance_ratio_\n",
    "cumulative_variance = explained_variance.cumsum()\n",
    "\n",
    "plt.figure(figsize=(10, 6))\n",
    "\n",
    "plt.subplot(1, 2, 1)\n",
    "plt.plot(range(1, len(explained_variance) + 1), explained_variance, marker='o', linestyle='-', color='b')\n",
    "plt.title('Explained Variance of Each Principal Component')\n",
    "plt.xlabel('Principal Component')\n",
    "plt.ylabel('Explained Variance')\n",
    "plt.grid(True)\n",
    "\n",
    "plt.subplot(1, 2, 2)\n",
    "plt.plot(range(1, len(cumulative_variance) + 1), cumulative_variance, marker='o', linestyle='-', color='g')\n",
    "plt.title('Cumulative Explained Variance')\n",
    "plt.xlabel('Number of Principal Components')\n",
    "plt.ylabel('Cumulative Variance Explained')\n",
    "plt.grid(True)\n",
    "\n",
    "plt.tight_layout()\n",
    "plt.show()\n"
   ]
  },
  {
   "cell_type": "code",
   "execution_count": 18,
   "metadata": {},
   "outputs": [
    {
     "name": "stdout",
     "output_type": "stream",
     "text": [
      "29\n",
      "36\n",
      "46\n"
     ]
    }
   ],
   "source": [
    "#90% variance explained\n",
    "n_components_90 = next(i for i, cum_var in enumerate(cumulative_variance) if cum_var >= 0.9) + 1\n",
    "print(n_components_90)\n",
    "n_components_95 = next(i for i, cum_var in enumerate(cumulative_variance) if cum_var >= 0.95) + 1\n",
    "print(n_components_95)\n",
    "n_components_99 = next(i for i, cum_var in enumerate(cumulative_variance) if cum_var >= 0.99) + 1\n",
    "print(n_components_99)\n",
    "\n",
    "pca = PCA(n_components=n_components_90)\n",
    "df_pca = pca.fit_transform(df_scaled)\n"
   ]
  },
  {
   "cell_type": "code",
   "execution_count": 19,
   "metadata": {},
   "outputs": [
    {
     "name": "stderr",
     "output_type": "stream",
     "text": [
      "c:\\Users\\Enzo\\anaconda3\\envs\\ada\\Lib\\site-packages\\sklearn\\cluster\\_kmeans.py:1429: UserWarning: KMeans is known to have a memory leak on Windows with MKL, when there are less chunks than available threads. You can avoid it by setting the environment variable OMP_NUM_THREADS=1.\n",
      "  warnings.warn(\n"
     ]
    }
   ],
   "source": [
    "\n",
    "#we cluster on the reduced set, choosing how many clusters we expect to get\n",
    "kmeans = KMeans(n_clusters=10, random_state=42)\n",
    "df_pca_clusters = kmeans.fit_predict(df_pca)"
   ]
  },
  {
   "cell_type": "code",
   "execution_count": 20,
   "metadata": {},
   "outputs": [
    {
     "name": "stdout",
     "output_type": "stream",
     "text": [
      "Cluster 0:\n",
      "['Alaska', 'Connecticut', 'Maine', 'Massachusetts', 'New Hampshire', 'Vermont']\n",
      "\n",
      "Cluster 1:\n",
      "['Alabama', 'Arkansas', 'Georgia', 'Maryland', 'Michigan', 'Minnesota', 'New Jersey', 'New York', 'North Carolina', 'Ohio', 'Oklahoma', 'Pennsylvania', 'Rhode Island', 'South Carolina', 'Tennessee', 'Virginia', 'West Virginia']\n",
      "\n",
      "Cluster 2:\n",
      "['Utah']\n",
      "\n",
      "Cluster 3:\n",
      "['South Dakota']\n",
      "\n",
      "Cluster 4:\n",
      "['Arizona', 'California', 'Colorado', 'Florida', 'Hawaii', 'Illinois', 'Indiana', 'Iowa', 'Kansas', 'Kentucky', 'Louisiana', 'Mississippi', 'Missouri', 'Nebraska', 'Nevada', 'New Mexico', 'Oregon', 'Texas', 'Washington', 'Wisconsin']\n",
      "\n",
      "Cluster 5:\n",
      "['Idaho']\n",
      "\n",
      "Cluster 6:\n",
      "['Montana']\n",
      "\n",
      "Cluster 7:\n",
      "['Delaware']\n",
      "\n",
      "Cluster 8:\n",
      "['North Dakota']\n",
      "\n",
      "Cluster 9:\n",
      "['Wyoming']\n",
      "\n"
     ]
    }
   ],
   "source": [
    "\n",
    "\n",
    "# Create a DataFrame for clusters with state information\n",
    "df_clustered = pd.DataFrame({\n",
    "    'state': df_total_clustering['user_state'],  # Assuming 'user_state' column holds the state names\n",
    "    'cluster': df_pca_clusters\n",
    "})\n",
    "\n",
    "# Group by cluster and list states in each\n",
    "clusters_to_states = df_clustered.groupby('cluster')['state'].apply(list)\n",
    "\n",
    "# Optionally, convert it to a dictionary\n",
    "clusters_dict = clusters_to_states.to_dict()\n",
    "\n",
    "# Print clusters and their states\n",
    "for cluster, states in clusters_dict.items():\n",
    "    print(f\"Cluster {cluster}:\")\n",
    "    print(states)\n",
    "    print()"
   ]
  },
  {
   "cell_type": "code",
   "execution_count": 21,
   "metadata": {},
   "outputs": [
    {
     "data": {
      "application/vnd.plotly.v1+json": {
       "config": {
        "plotlyServerURL": "https://plot.ly"
       },
       "data": [
        {
         "customdata": [
          [
           "Alabama",
           1
          ],
          [
           "Alaska",
           0
          ],
          [
           "Arizona",
           4
          ],
          [
           "Arkansas",
           1
          ],
          [
           "California",
           4
          ],
          [
           "Colorado",
           4
          ],
          [
           "Connecticut",
           0
          ],
          [
           "Delaware",
           7
          ],
          [
           "Florida",
           4
          ],
          [
           "Georgia",
           1
          ],
          [
           "Hawaii",
           4
          ],
          [
           "Idaho",
           5
          ],
          [
           "Illinois",
           4
          ],
          [
           "Indiana",
           4
          ],
          [
           "Iowa",
           4
          ],
          [
           "Kansas",
           4
          ],
          [
           "Kentucky",
           4
          ],
          [
           "Louisiana",
           4
          ],
          [
           "Maine",
           0
          ],
          [
           "Maryland",
           1
          ],
          [
           "Massachusetts",
           0
          ],
          [
           "Michigan",
           1
          ],
          [
           "Minnesota",
           1
          ],
          [
           "Mississippi",
           4
          ],
          [
           "Missouri",
           4
          ],
          [
           "Montana",
           6
          ],
          [
           "Nebraska",
           4
          ],
          [
           "Nevada",
           4
          ],
          [
           "New Hampshire",
           0
          ],
          [
           "New Jersey",
           1
          ],
          [
           "New Mexico",
           4
          ],
          [
           "New York",
           1
          ],
          [
           "North Carolina",
           1
          ],
          [
           "North Dakota",
           8
          ],
          [
           "Ohio",
           1
          ],
          [
           "Oklahoma",
           1
          ],
          [
           "Oregon",
           4
          ],
          [
           "Pennsylvania",
           1
          ],
          [
           "Rhode Island",
           1
          ],
          [
           "South Carolina",
           1
          ],
          [
           "South Dakota",
           3
          ],
          [
           "Tennessee",
           1
          ],
          [
           "Texas",
           4
          ],
          [
           "Utah",
           2
          ],
          [
           "Vermont",
           0
          ],
          [
           "Virginia",
           1
          ],
          [
           "Washington",
           4
          ],
          [
           "West Virginia",
           1
          ],
          [
           "Wisconsin",
           4
          ],
          [
           "Wyoming",
           9
          ]
         ],
         "hovertemplate": "State=%{customdata[0]}<extra></extra>",
         "legendgroup": "",
         "marker": {
          "color": [
           1,
           0,
           4,
           1,
           4,
           4,
           0,
           7,
           4,
           1,
           4,
           5,
           4,
           4,
           4,
           4,
           4,
           4,
           0,
           1,
           0,
           1,
           1,
           4,
           4,
           6,
           4,
           4,
           0,
           1,
           4,
           1,
           1,
           8,
           1,
           1,
           4,
           1,
           1,
           1,
           3,
           1,
           4,
           2,
           0,
           1,
           4,
           1,
           4,
           9
          ],
          "coloraxis": "coloraxis",
          "symbol": "circle"
         },
         "mode": "markers",
         "name": "",
         "scene": "scene",
         "showlegend": false,
         "type": "scatter3d",
         "x": [
          4.043890149772553,
          22.9574492826464,
          -5.562233446062559,
          -0.7501289980038954,
          -2.76851049384599,
          -5.120059157549876,
          5.374791754345288,
          9.056427498301224,
          -3.115427372118381,
          -0.9354102990869851,
          -7.192274989609202,
          -31.2049197756515,
          0.9594249021734501,
          -0.21137879165195145,
          -2.3177389664832537,
          0.8446271055716505,
          -2.3822507325865043,
          1.9712691606202966,
          6.146440790558987,
          -1.2197020393574942,
          7.405206255406226,
          -0.7088469909914853,
          8.038992758237294,
          -6.620760117289293,
          -2.036615546335972,
          0.3283064262711421,
          4.047016380947682,
          -21.641604637698247,
          0.12751301441648258,
          -1.041031648118505,
          6.371607484771376,
          1.3855727750921538,
          3.415695059123124,
          -22.915161291977007,
          -1.3509789476957568,
          2.4098778806110426,
          -5.284927965060327,
          -2.0233347213255364,
          1.3533776718894266,
          -3.556951823081563,
          45.758953206510355,
          0.22500995615219685,
          -2.0260152434426493,
          2.401179453358614,
          4.42705463646009,
          -2.3086898151510797,
          -10.570657547241785,
          2.080500228987904,
          1.9537954571385026,
          1.7816320680533277
         ],
         "y": [
          3.4409503102252064,
          -8.560951103773109,
          0.3012973922536925,
          -3.731593025242409,
          -3.1679652408142784,
          -3.830228516487553,
          -5.597193804648806,
          -9.572003392193285,
          -2.0172077160133686,
          -3.002721406633506,
          6.422665348706853,
          1.0093689028919923,
          -3.994189035682857,
          -1.8216907983221946,
          0.7907506218138681,
          2.1542762160600777,
          -1.8468338010228733,
          -0.21081734719258796,
          -7.281582925458486,
          -5.301574870548038,
          -6.754956087170434,
          -1.3312875980932413,
          -2.3468481893410584,
          -1.3719236073267278,
          1.4462195168556233,
          6.542523083598553,
          4.318023627475216,
          1.7130539299602383,
          -5.156437540679492,
          -4.032164139544754,
          1.9474863015176986,
          -4.204009510651398,
          -3.342807210658645,
          32.2426257032047,
          -1.8918988138560715,
          0.9234938436447148,
          -4.639034735470208,
          -4.487157632978888,
          -4.054888830251545,
          -3.777936248807798,
          23.018745100320395,
          1.3813403794870533,
          0.4974125239013259,
          34.733554519790815,
          -8.744238121433636,
          -2.978951603252797,
          -4.208681374759086,
          0.43006212257232385,
          -0.8698100824716086,
          0.8157348665004035
         ],
         "z": [
          1.3390320490092884,
          -1.387037354465838,
          -0.013730664932202605,
          3.5766904660641115,
          0.40455158390545476,
          -0.13970171841179646,
          2.1618661519194298,
          -0.09486825749921389,
          -2.1280869836644216,
          -0.6184997352595903,
          -2.9934612037809085,
          -2.7592521756583612,
          -1.0387914728122396,
          -0.9584902785054924,
          -1.1976296807629252,
          1.835004618573722,
          -2.122071688796728,
          2.912646026230891,
          2.5610954763237084,
          0.6412983449007634,
          1.9252760989543956,
          -0.2305685927291251,
          -0.26018052319952856,
          0.18367714659820258,
          -1.0054786522865262,
          6.696350259947787,
          -2.328029114649996,
          -4.0834439327605665,
          2.048398757207939,
          -0.3712881700545749,
          2.3320784576952973,
          0.5470663559358588,
          0.21636996752495324,
          -28.647774065296485,
          -0.16194759725373914,
          1.5850303975769116,
          0.3527706042635504,
          0.018206188390332525,
          1.348223591221219,
          0.1915402811809696,
          -22.25829845097512,
          0.8359079194237363,
          -0.05317741093520574,
          43.0865426801159,
          3.632054499202796,
          -0.316412253259337,
          -0.9383513378766604,
          -1.4119514216572082,
          -2.040246922754533,
          -0.8729082619288973
         ]
        }
       ],
       "layout": {
        "coloraxis": {
         "colorbar": {
          "title": {
           "text": "Cluster"
          }
         },
         "colorscale": [
          [
           0,
           "#0d0887"
          ],
          [
           0.1111111111111111,
           "#46039f"
          ],
          [
           0.2222222222222222,
           "#7201a8"
          ],
          [
           0.3333333333333333,
           "#9c179e"
          ],
          [
           0.4444444444444444,
           "#bd3786"
          ],
          [
           0.5555555555555556,
           "#d8576b"
          ],
          [
           0.6666666666666666,
           "#ed7953"
          ],
          [
           0.7777777777777778,
           "#fb9f3a"
          ],
          [
           0.8888888888888888,
           "#fdca26"
          ],
          [
           1,
           "#f0f921"
          ]
         ]
        },
        "legend": {
         "tracegroupgap": 0
        },
        "scene": {
         "domain": {
          "x": [
           0,
           1
          ],
          "y": [
           0,
           1
          ]
         },
         "xaxis": {
          "title": {
           "text": "PC1"
          }
         },
         "yaxis": {
          "title": {
           "text": "PC2"
          }
         },
         "zaxis": {
          "title": {
           "text": "PC3"
          }
         }
        },
        "template": {
         "data": {
          "bar": [
           {
            "error_x": {
             "color": "#2a3f5f"
            },
            "error_y": {
             "color": "#2a3f5f"
            },
            "marker": {
             "line": {
              "color": "#E5ECF6",
              "width": 0.5
             },
             "pattern": {
              "fillmode": "overlay",
              "size": 10,
              "solidity": 0.2
             }
            },
            "type": "bar"
           }
          ],
          "barpolar": [
           {
            "marker": {
             "line": {
              "color": "#E5ECF6",
              "width": 0.5
             },
             "pattern": {
              "fillmode": "overlay",
              "size": 10,
              "solidity": 0.2
             }
            },
            "type": "barpolar"
           }
          ],
          "carpet": [
           {
            "aaxis": {
             "endlinecolor": "#2a3f5f",
             "gridcolor": "white",
             "linecolor": "white",
             "minorgridcolor": "white",
             "startlinecolor": "#2a3f5f"
            },
            "baxis": {
             "endlinecolor": "#2a3f5f",
             "gridcolor": "white",
             "linecolor": "white",
             "minorgridcolor": "white",
             "startlinecolor": "#2a3f5f"
            },
            "type": "carpet"
           }
          ],
          "choropleth": [
           {
            "colorbar": {
             "outlinewidth": 0,
             "ticks": ""
            },
            "type": "choropleth"
           }
          ],
          "contour": [
           {
            "colorbar": {
             "outlinewidth": 0,
             "ticks": ""
            },
            "colorscale": [
             [
              0,
              "#0d0887"
             ],
             [
              0.1111111111111111,
              "#46039f"
             ],
             [
              0.2222222222222222,
              "#7201a8"
             ],
             [
              0.3333333333333333,
              "#9c179e"
             ],
             [
              0.4444444444444444,
              "#bd3786"
             ],
             [
              0.5555555555555556,
              "#d8576b"
             ],
             [
              0.6666666666666666,
              "#ed7953"
             ],
             [
              0.7777777777777778,
              "#fb9f3a"
             ],
             [
              0.8888888888888888,
              "#fdca26"
             ],
             [
              1,
              "#f0f921"
             ]
            ],
            "type": "contour"
           }
          ],
          "contourcarpet": [
           {
            "colorbar": {
             "outlinewidth": 0,
             "ticks": ""
            },
            "type": "contourcarpet"
           }
          ],
          "heatmap": [
           {
            "colorbar": {
             "outlinewidth": 0,
             "ticks": ""
            },
            "colorscale": [
             [
              0,
              "#0d0887"
             ],
             [
              0.1111111111111111,
              "#46039f"
             ],
             [
              0.2222222222222222,
              "#7201a8"
             ],
             [
              0.3333333333333333,
              "#9c179e"
             ],
             [
              0.4444444444444444,
              "#bd3786"
             ],
             [
              0.5555555555555556,
              "#d8576b"
             ],
             [
              0.6666666666666666,
              "#ed7953"
             ],
             [
              0.7777777777777778,
              "#fb9f3a"
             ],
             [
              0.8888888888888888,
              "#fdca26"
             ],
             [
              1,
              "#f0f921"
             ]
            ],
            "type": "heatmap"
           }
          ],
          "heatmapgl": [
           {
            "colorbar": {
             "outlinewidth": 0,
             "ticks": ""
            },
            "colorscale": [
             [
              0,
              "#0d0887"
             ],
             [
              0.1111111111111111,
              "#46039f"
             ],
             [
              0.2222222222222222,
              "#7201a8"
             ],
             [
              0.3333333333333333,
              "#9c179e"
             ],
             [
              0.4444444444444444,
              "#bd3786"
             ],
             [
              0.5555555555555556,
              "#d8576b"
             ],
             [
              0.6666666666666666,
              "#ed7953"
             ],
             [
              0.7777777777777778,
              "#fb9f3a"
             ],
             [
              0.8888888888888888,
              "#fdca26"
             ],
             [
              1,
              "#f0f921"
             ]
            ],
            "type": "heatmapgl"
           }
          ],
          "histogram": [
           {
            "marker": {
             "pattern": {
              "fillmode": "overlay",
              "size": 10,
              "solidity": 0.2
             }
            },
            "type": "histogram"
           }
          ],
          "histogram2d": [
           {
            "colorbar": {
             "outlinewidth": 0,
             "ticks": ""
            },
            "colorscale": [
             [
              0,
              "#0d0887"
             ],
             [
              0.1111111111111111,
              "#46039f"
             ],
             [
              0.2222222222222222,
              "#7201a8"
             ],
             [
              0.3333333333333333,
              "#9c179e"
             ],
             [
              0.4444444444444444,
              "#bd3786"
             ],
             [
              0.5555555555555556,
              "#d8576b"
             ],
             [
              0.6666666666666666,
              "#ed7953"
             ],
             [
              0.7777777777777778,
              "#fb9f3a"
             ],
             [
              0.8888888888888888,
              "#fdca26"
             ],
             [
              1,
              "#f0f921"
             ]
            ],
            "type": "histogram2d"
           }
          ],
          "histogram2dcontour": [
           {
            "colorbar": {
             "outlinewidth": 0,
             "ticks": ""
            },
            "colorscale": [
             [
              0,
              "#0d0887"
             ],
             [
              0.1111111111111111,
              "#46039f"
             ],
             [
              0.2222222222222222,
              "#7201a8"
             ],
             [
              0.3333333333333333,
              "#9c179e"
             ],
             [
              0.4444444444444444,
              "#bd3786"
             ],
             [
              0.5555555555555556,
              "#d8576b"
             ],
             [
              0.6666666666666666,
              "#ed7953"
             ],
             [
              0.7777777777777778,
              "#fb9f3a"
             ],
             [
              0.8888888888888888,
              "#fdca26"
             ],
             [
              1,
              "#f0f921"
             ]
            ],
            "type": "histogram2dcontour"
           }
          ],
          "mesh3d": [
           {
            "colorbar": {
             "outlinewidth": 0,
             "ticks": ""
            },
            "type": "mesh3d"
           }
          ],
          "parcoords": [
           {
            "line": {
             "colorbar": {
              "outlinewidth": 0,
              "ticks": ""
             }
            },
            "type": "parcoords"
           }
          ],
          "pie": [
           {
            "automargin": true,
            "type": "pie"
           }
          ],
          "scatter": [
           {
            "fillpattern": {
             "fillmode": "overlay",
             "size": 10,
             "solidity": 0.2
            },
            "type": "scatter"
           }
          ],
          "scatter3d": [
           {
            "line": {
             "colorbar": {
              "outlinewidth": 0,
              "ticks": ""
             }
            },
            "marker": {
             "colorbar": {
              "outlinewidth": 0,
              "ticks": ""
             }
            },
            "type": "scatter3d"
           }
          ],
          "scattercarpet": [
           {
            "marker": {
             "colorbar": {
              "outlinewidth": 0,
              "ticks": ""
             }
            },
            "type": "scattercarpet"
           }
          ],
          "scattergeo": [
           {
            "marker": {
             "colorbar": {
              "outlinewidth": 0,
              "ticks": ""
             }
            },
            "type": "scattergeo"
           }
          ],
          "scattergl": [
           {
            "marker": {
             "colorbar": {
              "outlinewidth": 0,
              "ticks": ""
             }
            },
            "type": "scattergl"
           }
          ],
          "scattermapbox": [
           {
            "marker": {
             "colorbar": {
              "outlinewidth": 0,
              "ticks": ""
             }
            },
            "type": "scattermapbox"
           }
          ],
          "scatterpolar": [
           {
            "marker": {
             "colorbar": {
              "outlinewidth": 0,
              "ticks": ""
             }
            },
            "type": "scatterpolar"
           }
          ],
          "scatterpolargl": [
           {
            "marker": {
             "colorbar": {
              "outlinewidth": 0,
              "ticks": ""
             }
            },
            "type": "scatterpolargl"
           }
          ],
          "scatterternary": [
           {
            "marker": {
             "colorbar": {
              "outlinewidth": 0,
              "ticks": ""
             }
            },
            "type": "scatterternary"
           }
          ],
          "surface": [
           {
            "colorbar": {
             "outlinewidth": 0,
             "ticks": ""
            },
            "colorscale": [
             [
              0,
              "#0d0887"
             ],
             [
              0.1111111111111111,
              "#46039f"
             ],
             [
              0.2222222222222222,
              "#7201a8"
             ],
             [
              0.3333333333333333,
              "#9c179e"
             ],
             [
              0.4444444444444444,
              "#bd3786"
             ],
             [
              0.5555555555555556,
              "#d8576b"
             ],
             [
              0.6666666666666666,
              "#ed7953"
             ],
             [
              0.7777777777777778,
              "#fb9f3a"
             ],
             [
              0.8888888888888888,
              "#fdca26"
             ],
             [
              1,
              "#f0f921"
             ]
            ],
            "type": "surface"
           }
          ],
          "table": [
           {
            "cells": {
             "fill": {
              "color": "#EBF0F8"
             },
             "line": {
              "color": "white"
             }
            },
            "header": {
             "fill": {
              "color": "#C8D4E3"
             },
             "line": {
              "color": "white"
             }
            },
            "type": "table"
           }
          ]
         },
         "layout": {
          "annotationdefaults": {
           "arrowcolor": "#2a3f5f",
           "arrowhead": 0,
           "arrowwidth": 1
          },
          "autotypenumbers": "strict",
          "coloraxis": {
           "colorbar": {
            "outlinewidth": 0,
            "ticks": ""
           }
          },
          "colorscale": {
           "diverging": [
            [
             0,
             "#8e0152"
            ],
            [
             0.1,
             "#c51b7d"
            ],
            [
             0.2,
             "#de77ae"
            ],
            [
             0.3,
             "#f1b6da"
            ],
            [
             0.4,
             "#fde0ef"
            ],
            [
             0.5,
             "#f7f7f7"
            ],
            [
             0.6,
             "#e6f5d0"
            ],
            [
             0.7,
             "#b8e186"
            ],
            [
             0.8,
             "#7fbc41"
            ],
            [
             0.9,
             "#4d9221"
            ],
            [
             1,
             "#276419"
            ]
           ],
           "sequential": [
            [
             0,
             "#0d0887"
            ],
            [
             0.1111111111111111,
             "#46039f"
            ],
            [
             0.2222222222222222,
             "#7201a8"
            ],
            [
             0.3333333333333333,
             "#9c179e"
            ],
            [
             0.4444444444444444,
             "#bd3786"
            ],
            [
             0.5555555555555556,
             "#d8576b"
            ],
            [
             0.6666666666666666,
             "#ed7953"
            ],
            [
             0.7777777777777778,
             "#fb9f3a"
            ],
            [
             0.8888888888888888,
             "#fdca26"
            ],
            [
             1,
             "#f0f921"
            ]
           ],
           "sequentialminus": [
            [
             0,
             "#0d0887"
            ],
            [
             0.1111111111111111,
             "#46039f"
            ],
            [
             0.2222222222222222,
             "#7201a8"
            ],
            [
             0.3333333333333333,
             "#9c179e"
            ],
            [
             0.4444444444444444,
             "#bd3786"
            ],
            [
             0.5555555555555556,
             "#d8576b"
            ],
            [
             0.6666666666666666,
             "#ed7953"
            ],
            [
             0.7777777777777778,
             "#fb9f3a"
            ],
            [
             0.8888888888888888,
             "#fdca26"
            ],
            [
             1,
             "#f0f921"
            ]
           ]
          },
          "colorway": [
           "#636efa",
           "#EF553B",
           "#00cc96",
           "#ab63fa",
           "#FFA15A",
           "#19d3f3",
           "#FF6692",
           "#B6E880",
           "#FF97FF",
           "#FECB52"
          ],
          "font": {
           "color": "#2a3f5f"
          },
          "geo": {
           "bgcolor": "white",
           "lakecolor": "white",
           "landcolor": "#E5ECF6",
           "showlakes": true,
           "showland": true,
           "subunitcolor": "white"
          },
          "hoverlabel": {
           "align": "left"
          },
          "hovermode": "closest",
          "mapbox": {
           "style": "light"
          },
          "paper_bgcolor": "white",
          "plot_bgcolor": "#E5ECF6",
          "polar": {
           "angularaxis": {
            "gridcolor": "white",
            "linecolor": "white",
            "ticks": ""
           },
           "bgcolor": "#E5ECF6",
           "radialaxis": {
            "gridcolor": "white",
            "linecolor": "white",
            "ticks": ""
           }
          },
          "scene": {
           "xaxis": {
            "backgroundcolor": "#E5ECF6",
            "gridcolor": "white",
            "gridwidth": 2,
            "linecolor": "white",
            "showbackground": true,
            "ticks": "",
            "zerolinecolor": "white"
           },
           "yaxis": {
            "backgroundcolor": "#E5ECF6",
            "gridcolor": "white",
            "gridwidth": 2,
            "linecolor": "white",
            "showbackground": true,
            "ticks": "",
            "zerolinecolor": "white"
           },
           "zaxis": {
            "backgroundcolor": "#E5ECF6",
            "gridcolor": "white",
            "gridwidth": 2,
            "linecolor": "white",
            "showbackground": true,
            "ticks": "",
            "zerolinecolor": "white"
           }
          },
          "shapedefaults": {
           "line": {
            "color": "#2a3f5f"
           }
          },
          "ternary": {
           "aaxis": {
            "gridcolor": "white",
            "linecolor": "white",
            "ticks": ""
           },
           "baxis": {
            "gridcolor": "white",
            "linecolor": "white",
            "ticks": ""
           },
           "bgcolor": "#E5ECF6",
           "caxis": {
            "gridcolor": "white",
            "linecolor": "white",
            "ticks": ""
           }
          },
          "title": {
           "x": 0.05
          },
          "xaxis": {
           "automargin": true,
           "gridcolor": "white",
           "linecolor": "white",
           "ticks": "",
           "title": {
            "standoff": 15
           },
           "zerolinecolor": "white",
           "zerolinewidth": 2
          },
          "yaxis": {
           "automargin": true,
           "gridcolor": "white",
           "linecolor": "white",
           "ticks": "",
           "title": {
            "standoff": 15
           },
           "zerolinecolor": "white",
           "zerolinewidth": 2
          }
         }
        },
        "title": {
         "text": "3D PCA with Clusters"
        }
       }
      }
     },
     "metadata": {},
     "output_type": "display_data"
    }
   ],
   "source": [
    "import plotly.express as px\n",
    "import pandas as pd\n",
    "\n",
    "# Step 1: Perform PCA to reduce the data to 3 dimensions\n",
    "pca_3d = PCA(n_components=3)\n",
    "df_pca_3d = pca_3d.fit_transform(df_pca)  # Assuming df_pca is already the reduced data\n",
    "\n",
    "# Step 2: Create a DataFrame with the PCA components, clusters, and state labels\n",
    "df_pca_3d_df = pd.DataFrame(df_pca_3d, columns=['PC1', 'PC2', 'PC3'])\n",
    "df_pca_3d_df['Cluster'] = df_pca_clusters  # Add the cluster labels to the DataFrame\n",
    "df_pca_3d_df['State'] = df_total_clustering['user_state'].values  # Assuming 'user_state' is the column with state labels\n",
    "\n",
    "# Step 3: Create an interactive 3D scatter plot using Plotly\n",
    "fig = px.scatter_3d(df_pca_3d_df, x='PC1', y='PC2', z='PC3', color='Cluster', \n",
    "                    title=\"3D PCA with Clusters\", \n",
    "                    labels={'State': 'State'},\n",
    "                    hover_data={'State': True, 'PC1': False, 'PC2': False, 'PC3': False, 'Cluster': False}) \n",
    "\n",
    "# Show the plot\n",
    "fig.show()\n"
   ]
  }
 ],
 "metadata": {
  "kernelspec": {
   "display_name": "ada",
   "language": "python",
   "name": "python3"
  },
  "language_info": {
   "codemirror_mode": {
    "name": "ipython",
    "version": 3
   },
   "file_extension": ".py",
   "mimetype": "text/x-python",
   "name": "python",
   "nbconvert_exporter": "python",
   "pygments_lexer": "ipython3",
   "version": "3.11.9"
  }
 },
 "nbformat": 4,
 "nbformat_minor": 2
}
