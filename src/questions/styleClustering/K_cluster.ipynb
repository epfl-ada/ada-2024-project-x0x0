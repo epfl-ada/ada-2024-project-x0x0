{
 "cells": [
  {
   "cell_type": "code",
   "execution_count": 27,
   "metadata": {},
   "outputs": [],
   "source": [
    "import os\n",
    "import subprocess\n",
    "from pathlib import Path\n",
    "\n",
    "\"\"\"\n",
    "Dynamically find the project root (where .git exists) and set it as the current working directory.\n",
    "\"\"\"\n",
    "project_root = Path(subprocess.check_output(['git', 'rev-parse', '--show-toplevel'], text=True).strip())\n",
    "os.chdir(project_root)"
   ]
  },
  {
   "cell_type": "code",
   "execution_count": 28,
   "metadata": {},
   "outputs": [],
   "source": [
    "import pandas as pd\n",
    "\n",
    "from src.questions.styleClustering.K_mean_cluster import run_clustering\n",
    "\n",
    "\n"
   ]
  },
  {
   "cell_type": "code",
   "execution_count": 29,
   "metadata": {},
   "outputs": [],
   "source": [
    "#BA_US_knn_text = pd.read_csv('data/knnData/BA_US_knn_text.csv')\n",
    "\n",
    "#run_clustering(BA_US_knn_text)"
   ]
  },
  {
   "cell_type": "code",
   "execution_count": 30,
   "metadata": {},
   "outputs": [],
   "source": [
    "#RB_US_knn_text = pd.read_csv('data/knnData/RB_US_knn_text.csv')\n",
    "\n",
    "#run_clustering(RB_US_knn_text)"
   ]
  },
  {
   "cell_type": "code",
   "execution_count": 31,
   "metadata": {},
   "outputs": [],
   "source": [
    "#UMAP clustering\n",
    "from src.questions.styleClustering.utils.prepData import prep_data\n",
    "BA_US_knn_text = pd.read_csv('data/knnData/BA_US_knn_text.csv')\n",
    "df_total_clustering, states = prep_data(BA_US_knn_text)\n"
   ]
  },
  {
   "cell_type": "code",
   "execution_count": 42,
   "metadata": {},
   "outputs": [
    {
     "data": {
      "text/html": [
       "<div>\n",
       "<style scoped>\n",
       "    .dataframe tbody tr th:only-of-type {\n",
       "        vertical-align: middle;\n",
       "    }\n",
       "\n",
       "    .dataframe tbody tr th {\n",
       "        vertical-align: top;\n",
       "    }\n",
       "\n",
       "    .dataframe thead th {\n",
       "        text-align: right;\n",
       "    }\n",
       "</style>\n",
       "<table border=\"1\" class=\"dataframe\">\n",
       "  <thead>\n",
       "    <tr style=\"text-align: right;\">\n",
       "      <th></th>\n",
       "      <th>beer_name</th>\n",
       "      <th>beer_id</th>\n",
       "      <th>brewery_name</th>\n",
       "      <th>brewery_id</th>\n",
       "      <th>style</th>\n",
       "      <th>abv</th>\n",
       "      <th>user_id</th>\n",
       "      <th>appearance</th>\n",
       "      <th>aroma</th>\n",
       "      <th>palate</th>\n",
       "      <th>taste</th>\n",
       "      <th>overall</th>\n",
       "      <th>rating</th>\n",
       "      <th>text</th>\n",
       "      <th>avg</th>\n",
       "      <th>user_state</th>\n",
       "      <th>beer_state</th>\n",
       "    </tr>\n",
       "  </thead>\n",
       "  <tbody>\n",
       "    <tr>\n",
       "      <th>0</th>\n",
       "      <td>Kupfer Kolsch</td>\n",
       "      <td>289320.0</td>\n",
       "      <td>Copper State Brewing Company</td>\n",
       "      <td>49595.0</td>\n",
       "      <td>Kölsch</td>\n",
       "      <td>4.4</td>\n",
       "      <td>n2185.211743</td>\n",
       "      <td>2.50</td>\n",
       "      <td>4.00</td>\n",
       "      <td>4.00</td>\n",
       "      <td>3.75</td>\n",
       "      <td>3.75</td>\n",
       "      <td>3.76</td>\n",
       "      <td>NaN</td>\n",
       "      <td>3.76</td>\n",
       "      <td>North Carolina</td>\n",
       "      <td>Wisconsin</td>\n",
       "    </tr>\n",
       "    <tr>\n",
       "      <th>1</th>\n",
       "      <td>Northwestern Alt</td>\n",
       "      <td>289321.0</td>\n",
       "      <td>Copper State Brewing Company</td>\n",
       "      <td>49595.0</td>\n",
       "      <td>Altbier</td>\n",
       "      <td>4.6</td>\n",
       "      <td>n2185.211743</td>\n",
       "      <td>3.00</td>\n",
       "      <td>3.75</td>\n",
       "      <td>4.00</td>\n",
       "      <td>3.50</td>\n",
       "      <td>3.50</td>\n",
       "      <td>3.58</td>\n",
       "      <td>NaN</td>\n",
       "      <td>3.58</td>\n",
       "      <td>North Carolina</td>\n",
       "      <td>Wisconsin</td>\n",
       "    </tr>\n",
       "    <tr>\n",
       "      <th>2</th>\n",
       "      <td>One Cent Wheat</td>\n",
       "      <td>289319.0</td>\n",
       "      <td>Copper State Brewing Company</td>\n",
       "      <td>49595.0</td>\n",
       "      <td>Witbier</td>\n",
       "      <td>5.4</td>\n",
       "      <td>n2185.211743</td>\n",
       "      <td>3.75</td>\n",
       "      <td>3.25</td>\n",
       "      <td>3.75</td>\n",
       "      <td>3.50</td>\n",
       "      <td>3.50</td>\n",
       "      <td>3.48</td>\n",
       "      <td>NaN</td>\n",
       "      <td>3.48</td>\n",
       "      <td>North Carolina</td>\n",
       "      <td>Wisconsin</td>\n",
       "    </tr>\n",
       "    <tr>\n",
       "      <th>3</th>\n",
       "      <td>Platinum Coffee Blonde</td>\n",
       "      <td>289324.0</td>\n",
       "      <td>Copper State Brewing Company</td>\n",
       "      <td>49595.0</td>\n",
       "      <td>American Blonde Ale</td>\n",
       "      <td>7.3</td>\n",
       "      <td>n2185.211743</td>\n",
       "      <td>3.25</td>\n",
       "      <td>3.75</td>\n",
       "      <td>3.50</td>\n",
       "      <td>4.25</td>\n",
       "      <td>4.25</td>\n",
       "      <td>4.00</td>\n",
       "      <td>NaN</td>\n",
       "      <td>4.02</td>\n",
       "      <td>North Carolina</td>\n",
       "      <td>Wisconsin</td>\n",
       "    </tr>\n",
       "    <tr>\n",
       "      <th>4</th>\n",
       "      <td>Platinum Coffee Blonde</td>\n",
       "      <td>289324.0</td>\n",
       "      <td>Copper State Brewing Company</td>\n",
       "      <td>49595.0</td>\n",
       "      <td>American Blonde Ale</td>\n",
       "      <td>7.3</td>\n",
       "      <td>angerhaus.1049226</td>\n",
       "      <td>4.00</td>\n",
       "      <td>4.25</td>\n",
       "      <td>3.75</td>\n",
       "      <td>4.00</td>\n",
       "      <td>4.00</td>\n",
       "      <td>4.04</td>\n",
       "      <td>NaN</td>\n",
       "      <td>4.02</td>\n",
       "      <td>Wisconsin</td>\n",
       "      <td>Wisconsin</td>\n",
       "    </tr>\n",
       "  </tbody>\n",
       "</table>\n",
       "</div>"
      ],
      "text/plain": [
       "                beer_name   beer_id                  brewery_name  brewery_id  \\\n",
       "0           Kupfer Kolsch  289320.0  Copper State Brewing Company     49595.0   \n",
       "1        Northwestern Alt  289321.0  Copper State Brewing Company     49595.0   \n",
       "2          One Cent Wheat  289319.0  Copper State Brewing Company     49595.0   \n",
       "3  Platinum Coffee Blonde  289324.0  Copper State Brewing Company     49595.0   \n",
       "4  Platinum Coffee Blonde  289324.0  Copper State Brewing Company     49595.0   \n",
       "\n",
       "                 style  abv            user_id  appearance  aroma  palate  \\\n",
       "0               Kölsch  4.4       n2185.211743        2.50   4.00    4.00   \n",
       "1              Altbier  4.6       n2185.211743        3.00   3.75    4.00   \n",
       "2              Witbier  5.4       n2185.211743        3.75   3.25    3.75   \n",
       "3  American Blonde Ale  7.3       n2185.211743        3.25   3.75    3.50   \n",
       "4  American Blonde Ale  7.3  angerhaus.1049226        4.00   4.25    3.75   \n",
       "\n",
       "   taste  overall  rating text   avg      user_state beer_state  \n",
       "0   3.75     3.75    3.76  NaN  3.76  North Carolina  Wisconsin  \n",
       "1   3.50     3.50    3.58  NaN  3.58  North Carolina  Wisconsin  \n",
       "2   3.50     3.50    3.48  NaN  3.48  North Carolina  Wisconsin  \n",
       "3   4.25     4.25    4.00  NaN  4.02  North Carolina  Wisconsin  \n",
       "4   4.00     4.00    4.04  NaN  4.02       Wisconsin  Wisconsin  "
      ]
     },
     "execution_count": 42,
     "metadata": {},
     "output_type": "execute_result"
    }
   ],
   "source": [
    "BA_US_knn_text.head(5)"
   ]
  },
  {
   "cell_type": "code",
   "execution_count": 32,
   "metadata": {},
   "outputs": [
    {
     "name": "stdout",
     "output_type": "stream",
     "text": [
      "(50, 824)\n"
     ]
    },
    {
     "name": "stderr",
     "output_type": "stream",
     "text": [
      "c:\\Users\\iaran\\miniconda3\\envs\\ada\\Lib\\site-packages\\umap\\umap_.py:1952: UserWarning: n_jobs value 1 overridden to 1 by setting random_state. Use no seed for parallelism.\n",
      "  warn(\n"
     ]
    },
    {
     "data": {
      "application/vnd.plotly.v1+json": {
       "config": {
        "plotlyServerURL": "https://plot.ly"
       },
       "data": [
        {
         "customdata": [
          [
           "Alabama",
           "0"
          ],
          [
           "Arizona",
           "0"
          ],
          [
           "Arkansas",
           "0"
          ],
          [
           "Georgia",
           "0"
          ],
          [
           "Hawaii",
           "0"
          ],
          [
           "Idaho",
           "0"
          ],
          [
           "Iowa",
           "0"
          ],
          [
           "Kansas",
           "0"
          ],
          [
           "Louisiana",
           "0"
          ],
          [
           "Maine",
           "0"
          ],
          [
           "Michigan",
           "0"
          ],
          [
           "Mississippi",
           "0"
          ],
          [
           "Montana",
           "0"
          ],
          [
           "Nebraska",
           "0"
          ],
          [
           "Nevada",
           "0"
          ],
          [
           "New Mexico",
           "0"
          ],
          [
           "North Dakota",
           "0"
          ],
          [
           "Oklahoma",
           "0"
          ],
          [
           "South Dakota",
           "0"
          ],
          [
           "Utah",
           "0"
          ],
          [
           "Wisconsin",
           "0"
          ],
          [
           "Wyoming",
           "0"
          ]
         ],
         "hovertemplate": "x=%{x}<br>y=%{y}<br>z=%{z}<br>user_state=%{customdata[0]}<extra></extra>",
         "legendgroup": "0",
         "marker": {
          "color": "#3498DB",
          "symbol": "circle"
         },
         "mode": "markers",
         "name": "0",
         "scene": "scene",
         "showlegend": true,
         "type": "scatter3d",
         "x": [
          6.6405839920043945,
          7.147250175476074,
          7.111294269561768,
          6.531479835510254,
          6.8502936363220215,
          6.5990753173828125,
          6.651269912719727,
          6.716540336608887,
          7.539096355438232,
          7.433548450469971,
          6.033186912536621,
          7.0110297203063965,
          6.975183486938477,
          6.2090325355529785,
          7.74483585357666,
          7.628605365753174,
          7.036209583282471,
          6.367396354675293,
          7.1722002029418945,
          7.436161041259766,
          6.33951997756958,
          7.268682956695557
         ],
         "y": [
          1.9462077617645264,
          2.188427686691284,
          2.237318992614746,
          3.215961217880249,
          1.277685284614563,
          2.3287622928619385,
          2.7542293071746826,
          1.7406549453735352,
          2.3201181888580322,
          2.6269264221191406,
          2.6734790802001953,
          1.5719002485275269,
          2.3699862957000732,
          2.2244110107421875,
          1.7965424060821533,
          1.6821297407150269,
          1.180498719215393,
          1.5376299619674683,
          1.7962628602981567,
          1.2574070692062378,
          3.011970281600952,
          1.9492888450622559
         ],
         "z": [
          4.323930263519287,
          3.7891831398010254,
          4.374092102050781,
          4.512800693511963,
          3.9350318908691406,
          4.71572732925415,
          4.175548553466797,
          4.515610218048096,
          3.911193609237671,
          3.615119218826294,
          4.371096134185791,
          3.425713062286377,
          3.677976608276367,
          4.476456642150879,
          4.00952672958374,
          4.301814556121826,
          4.288351058959961,
          3.9631619453430176,
          4.709361553192139,
          4.395587921142578,
          4.510929107666016,
          3.427649974822998
         ]
        },
        {
         "customdata": [
          [
           "Alaska",
           "1"
          ],
          [
           "Delaware",
           "1"
          ],
          [
           "New Hampshire",
           "1"
          ],
          [
           "Texas",
           "1"
          ],
          [
           "West Virginia",
           "1"
          ]
         ],
         "hovertemplate": "x=%{x}<br>y=%{y}<br>z=%{z}<br>user_state=%{customdata[0]}<extra></extra>",
         "legendgroup": "1",
         "marker": {
          "color": "#F1C40F",
          "symbol": "circle"
         },
         "mode": "markers",
         "name": "1",
         "scene": "scene",
         "showlegend": true,
         "type": "scatter3d",
         "x": [
          7.162477970123291,
          7.287134170532227,
          7.332827091217041,
          7.3481669425964355,
          7.019888877868652
         ],
         "y": [
          3.1444060802459717,
          3.430501937866211,
          2.967632532119751,
          3.500779867172241,
          3.6045820713043213
         ],
         "z": [
          2.9065189361572266,
          2.6711435317993164,
          2.9116461277008057,
          3.1807432174682617,
          2.9959542751312256
         ]
        },
        {
         "customdata": [
          [
           "California",
           "2"
          ],
          [
           "Massachusetts",
           "2"
          ],
          [
           "Ohio",
           "2"
          ],
          [
           "Pennsylvania",
           "2"
          ],
          [
           "Washington",
           "2"
          ]
         ],
         "hovertemplate": "x=%{x}<br>y=%{y}<br>z=%{z}<br>user_state=%{customdata[0]}<extra></extra>",
         "legendgroup": "2",
         "marker": {
          "color": "#E74C3C",
          "symbol": "circle"
         },
         "mode": "markers",
         "name": "2",
         "scene": "scene",
         "showlegend": true,
         "type": "scatter3d",
         "x": [
          9.247819900512695,
          8.957996368408203,
          9.121665954589844,
          8.785906791687012,
          8.628719329833984
         ],
         "y": [
          5.4317755699157715,
          5.606068134307861,
          5.740405082702637,
          5.382823467254639,
          5.14676570892334
         ],
         "z": [
          2.983487129211426,
          2.8767426013946533,
          3.162362575531006,
          3.0103952884674072,
          2.840120553970337
         ]
        },
        {
         "customdata": [
          [
           "Colorado",
           "3"
          ],
          [
           "New Jersey",
           "3"
          ],
          [
           "Vermont",
           "3"
          ]
         ],
         "hovertemplate": "x=%{x}<br>y=%{y}<br>z=%{z}<br>user_state=%{customdata[0]}<extra></extra>",
         "legendgroup": "3",
         "marker": {
          "color": "#2ECC71",
          "symbol": "circle"
         },
         "mode": "markers",
         "name": "3",
         "scene": "scene",
         "showlegend": true,
         "type": "scatter3d",
         "x": [
          7.8284807205200195,
          7.925326824188232,
          7.925079822540283
         ],
         "y": [
          5.039789199829102,
          4.857631206512451,
          5.055538654327393
         ],
         "z": [
          2.8190367221832275,
          2.8273751735687256,
          2.6628355979919434
         ]
        },
        {
         "customdata": [
          [
           "Connecticut",
           "4"
          ],
          [
           "Minnesota",
           "4"
          ],
          [
           "North Carolina",
           "4"
          ],
          [
           "Oregon",
           "4"
          ],
          [
           "Tennessee",
           "4"
          ],
          [
           "Virginia",
           "4"
          ]
         ],
         "hovertemplate": "x=%{x}<br>y=%{y}<br>z=%{z}<br>user_state=%{customdata[0]}<extra></extra>",
         "legendgroup": "4",
         "marker": {
          "color": "#9B59B6",
          "symbol": "circle"
         },
         "mode": "markers",
         "name": "4",
         "scene": "scene",
         "showlegend": true,
         "type": "scatter3d",
         "x": [
          5.726592540740967,
          5.978989124298096,
          5.941464900970459,
          5.513739585876465,
          5.707402229309082,
          5.59979772567749
         ],
         "y": [
          3.3398661613464355,
          3.4226529598236084,
          3.701923131942749,
          3.33471941947937,
          3.564385175704956,
          3.7925639152526855
         ],
         "z": [
          3.119873523712158,
          3.2644765377044678,
          2.957940101623535,
          3.322408437728882,
          2.8166608810424805,
          3.1818835735321045
         ]
        },
        {
         "customdata": [
          [
           "Florida",
           "5"
          ],
          [
           "Illinois",
           "5"
          ],
          [
           "Indiana",
           "5"
          ],
          [
           "Kentucky",
           "5"
          ],
          [
           "Maryland",
           "5"
          ],
          [
           "Missouri",
           "5"
          ],
          [
           "New York",
           "5"
          ],
          [
           "Rhode Island",
           "5"
          ],
          [
           "South Carolina",
           "5"
          ]
         ],
         "hovertemplate": "x=%{x}<br>y=%{y}<br>z=%{z}<br>user_state=%{customdata[0]}<extra></extra>",
         "legendgroup": "5",
         "marker": {
          "color": "#1F618D",
          "symbol": "circle"
         },
         "mode": "markers",
         "name": "5",
         "scene": "scene",
         "showlegend": true,
         "type": "scatter3d",
         "x": [
          8.237586975097656,
          8.061773300170898,
          8.451401710510254,
          8.481285095214844,
          8.472933769226074,
          8.315001487731934,
          8.164628028869629,
          7.948061466217041,
          8.47325325012207
         ],
         "y": [
          6.477835655212402,
          6.137242794036865,
          6.046934604644775,
          6.255305767059326,
          6.022010803222656,
          6.562767028808594,
          6.0455451011657715,
          6.370063304901123,
          6.7539963722229
         ],
         "z": [
          3.056220054626465,
          3.0708167552948,
          2.965153932571411,
          3.5480940341949463,
          3.3474926948547363,
          3.39890456199646,
          3.660045862197876,
          3.40149188041687,
          3.071138858795166
         ]
        }
       ],
       "layout": {
        "legend": {
         "title": {
          "text": "Cluster Label"
         },
         "tracegroupgap": 0
        },
        "scene": {
         "domain": {
          "x": [
           0,
           1
          ],
          "y": [
           0,
           1
          ]
         },
         "xaxis": {
          "title": {
           "text": "x"
          }
         },
         "yaxis": {
          "title": {
           "text": "y"
          }
         },
         "zaxis": {
          "title": {
           "text": "z"
          }
         }
        },
        "template": {
         "data": {
          "bar": [
           {
            "error_x": {
             "color": "#2a3f5f"
            },
            "error_y": {
             "color": "#2a3f5f"
            },
            "marker": {
             "line": {
              "color": "#E5ECF6",
              "width": 0.5
             },
             "pattern": {
              "fillmode": "overlay",
              "size": 10,
              "solidity": 0.2
             }
            },
            "type": "bar"
           }
          ],
          "barpolar": [
           {
            "marker": {
             "line": {
              "color": "#E5ECF6",
              "width": 0.5
             },
             "pattern": {
              "fillmode": "overlay",
              "size": 10,
              "solidity": 0.2
             }
            },
            "type": "barpolar"
           }
          ],
          "carpet": [
           {
            "aaxis": {
             "endlinecolor": "#2a3f5f",
             "gridcolor": "white",
             "linecolor": "white",
             "minorgridcolor": "white",
             "startlinecolor": "#2a3f5f"
            },
            "baxis": {
             "endlinecolor": "#2a3f5f",
             "gridcolor": "white",
             "linecolor": "white",
             "minorgridcolor": "white",
             "startlinecolor": "#2a3f5f"
            },
            "type": "carpet"
           }
          ],
          "choropleth": [
           {
            "colorbar": {
             "outlinewidth": 0,
             "ticks": ""
            },
            "type": "choropleth"
           }
          ],
          "contour": [
           {
            "colorbar": {
             "outlinewidth": 0,
             "ticks": ""
            },
            "colorscale": [
             [
              0,
              "#0d0887"
             ],
             [
              0.1111111111111111,
              "#46039f"
             ],
             [
              0.2222222222222222,
              "#7201a8"
             ],
             [
              0.3333333333333333,
              "#9c179e"
             ],
             [
              0.4444444444444444,
              "#bd3786"
             ],
             [
              0.5555555555555556,
              "#d8576b"
             ],
             [
              0.6666666666666666,
              "#ed7953"
             ],
             [
              0.7777777777777778,
              "#fb9f3a"
             ],
             [
              0.8888888888888888,
              "#fdca26"
             ],
             [
              1,
              "#f0f921"
             ]
            ],
            "type": "contour"
           }
          ],
          "contourcarpet": [
           {
            "colorbar": {
             "outlinewidth": 0,
             "ticks": ""
            },
            "type": "contourcarpet"
           }
          ],
          "heatmap": [
           {
            "colorbar": {
             "outlinewidth": 0,
             "ticks": ""
            },
            "colorscale": [
             [
              0,
              "#0d0887"
             ],
             [
              0.1111111111111111,
              "#46039f"
             ],
             [
              0.2222222222222222,
              "#7201a8"
             ],
             [
              0.3333333333333333,
              "#9c179e"
             ],
             [
              0.4444444444444444,
              "#bd3786"
             ],
             [
              0.5555555555555556,
              "#d8576b"
             ],
             [
              0.6666666666666666,
              "#ed7953"
             ],
             [
              0.7777777777777778,
              "#fb9f3a"
             ],
             [
              0.8888888888888888,
              "#fdca26"
             ],
             [
              1,
              "#f0f921"
             ]
            ],
            "type": "heatmap"
           }
          ],
          "heatmapgl": [
           {
            "colorbar": {
             "outlinewidth": 0,
             "ticks": ""
            },
            "colorscale": [
             [
              0,
              "#0d0887"
             ],
             [
              0.1111111111111111,
              "#46039f"
             ],
             [
              0.2222222222222222,
              "#7201a8"
             ],
             [
              0.3333333333333333,
              "#9c179e"
             ],
             [
              0.4444444444444444,
              "#bd3786"
             ],
             [
              0.5555555555555556,
              "#d8576b"
             ],
             [
              0.6666666666666666,
              "#ed7953"
             ],
             [
              0.7777777777777778,
              "#fb9f3a"
             ],
             [
              0.8888888888888888,
              "#fdca26"
             ],
             [
              1,
              "#f0f921"
             ]
            ],
            "type": "heatmapgl"
           }
          ],
          "histogram": [
           {
            "marker": {
             "pattern": {
              "fillmode": "overlay",
              "size": 10,
              "solidity": 0.2
             }
            },
            "type": "histogram"
           }
          ],
          "histogram2d": [
           {
            "colorbar": {
             "outlinewidth": 0,
             "ticks": ""
            },
            "colorscale": [
             [
              0,
              "#0d0887"
             ],
             [
              0.1111111111111111,
              "#46039f"
             ],
             [
              0.2222222222222222,
              "#7201a8"
             ],
             [
              0.3333333333333333,
              "#9c179e"
             ],
             [
              0.4444444444444444,
              "#bd3786"
             ],
             [
              0.5555555555555556,
              "#d8576b"
             ],
             [
              0.6666666666666666,
              "#ed7953"
             ],
             [
              0.7777777777777778,
              "#fb9f3a"
             ],
             [
              0.8888888888888888,
              "#fdca26"
             ],
             [
              1,
              "#f0f921"
             ]
            ],
            "type": "histogram2d"
           }
          ],
          "histogram2dcontour": [
           {
            "colorbar": {
             "outlinewidth": 0,
             "ticks": ""
            },
            "colorscale": [
             [
              0,
              "#0d0887"
             ],
             [
              0.1111111111111111,
              "#46039f"
             ],
             [
              0.2222222222222222,
              "#7201a8"
             ],
             [
              0.3333333333333333,
              "#9c179e"
             ],
             [
              0.4444444444444444,
              "#bd3786"
             ],
             [
              0.5555555555555556,
              "#d8576b"
             ],
             [
              0.6666666666666666,
              "#ed7953"
             ],
             [
              0.7777777777777778,
              "#fb9f3a"
             ],
             [
              0.8888888888888888,
              "#fdca26"
             ],
             [
              1,
              "#f0f921"
             ]
            ],
            "type": "histogram2dcontour"
           }
          ],
          "mesh3d": [
           {
            "colorbar": {
             "outlinewidth": 0,
             "ticks": ""
            },
            "type": "mesh3d"
           }
          ],
          "parcoords": [
           {
            "line": {
             "colorbar": {
              "outlinewidth": 0,
              "ticks": ""
             }
            },
            "type": "parcoords"
           }
          ],
          "pie": [
           {
            "automargin": true,
            "type": "pie"
           }
          ],
          "scatter": [
           {
            "fillpattern": {
             "fillmode": "overlay",
             "size": 10,
             "solidity": 0.2
            },
            "type": "scatter"
           }
          ],
          "scatter3d": [
           {
            "line": {
             "colorbar": {
              "outlinewidth": 0,
              "ticks": ""
             }
            },
            "marker": {
             "colorbar": {
              "outlinewidth": 0,
              "ticks": ""
             }
            },
            "type": "scatter3d"
           }
          ],
          "scattercarpet": [
           {
            "marker": {
             "colorbar": {
              "outlinewidth": 0,
              "ticks": ""
             }
            },
            "type": "scattercarpet"
           }
          ],
          "scattergeo": [
           {
            "marker": {
             "colorbar": {
              "outlinewidth": 0,
              "ticks": ""
             }
            },
            "type": "scattergeo"
           }
          ],
          "scattergl": [
           {
            "marker": {
             "colorbar": {
              "outlinewidth": 0,
              "ticks": ""
             }
            },
            "type": "scattergl"
           }
          ],
          "scattermapbox": [
           {
            "marker": {
             "colorbar": {
              "outlinewidth": 0,
              "ticks": ""
             }
            },
            "type": "scattermapbox"
           }
          ],
          "scatterpolar": [
           {
            "marker": {
             "colorbar": {
              "outlinewidth": 0,
              "ticks": ""
             }
            },
            "type": "scatterpolar"
           }
          ],
          "scatterpolargl": [
           {
            "marker": {
             "colorbar": {
              "outlinewidth": 0,
              "ticks": ""
             }
            },
            "type": "scatterpolargl"
           }
          ],
          "scatterternary": [
           {
            "marker": {
             "colorbar": {
              "outlinewidth": 0,
              "ticks": ""
             }
            },
            "type": "scatterternary"
           }
          ],
          "surface": [
           {
            "colorbar": {
             "outlinewidth": 0,
             "ticks": ""
            },
            "colorscale": [
             [
              0,
              "#0d0887"
             ],
             [
              0.1111111111111111,
              "#46039f"
             ],
             [
              0.2222222222222222,
              "#7201a8"
             ],
             [
              0.3333333333333333,
              "#9c179e"
             ],
             [
              0.4444444444444444,
              "#bd3786"
             ],
             [
              0.5555555555555556,
              "#d8576b"
             ],
             [
              0.6666666666666666,
              "#ed7953"
             ],
             [
              0.7777777777777778,
              "#fb9f3a"
             ],
             [
              0.8888888888888888,
              "#fdca26"
             ],
             [
              1,
              "#f0f921"
             ]
            ],
            "type": "surface"
           }
          ],
          "table": [
           {
            "cells": {
             "fill": {
              "color": "#EBF0F8"
             },
             "line": {
              "color": "white"
             }
            },
            "header": {
             "fill": {
              "color": "#C8D4E3"
             },
             "line": {
              "color": "white"
             }
            },
            "type": "table"
           }
          ]
         },
         "layout": {
          "annotationdefaults": {
           "arrowcolor": "#2a3f5f",
           "arrowhead": 0,
           "arrowwidth": 1
          },
          "autotypenumbers": "strict",
          "coloraxis": {
           "colorbar": {
            "outlinewidth": 0,
            "ticks": ""
           }
          },
          "colorscale": {
           "diverging": [
            [
             0,
             "#8e0152"
            ],
            [
             0.1,
             "#c51b7d"
            ],
            [
             0.2,
             "#de77ae"
            ],
            [
             0.3,
             "#f1b6da"
            ],
            [
             0.4,
             "#fde0ef"
            ],
            [
             0.5,
             "#f7f7f7"
            ],
            [
             0.6,
             "#e6f5d0"
            ],
            [
             0.7,
             "#b8e186"
            ],
            [
             0.8,
             "#7fbc41"
            ],
            [
             0.9,
             "#4d9221"
            ],
            [
             1,
             "#276419"
            ]
           ],
           "sequential": [
            [
             0,
             "#0d0887"
            ],
            [
             0.1111111111111111,
             "#46039f"
            ],
            [
             0.2222222222222222,
             "#7201a8"
            ],
            [
             0.3333333333333333,
             "#9c179e"
            ],
            [
             0.4444444444444444,
             "#bd3786"
            ],
            [
             0.5555555555555556,
             "#d8576b"
            ],
            [
             0.6666666666666666,
             "#ed7953"
            ],
            [
             0.7777777777777778,
             "#fb9f3a"
            ],
            [
             0.8888888888888888,
             "#fdca26"
            ],
            [
             1,
             "#f0f921"
            ]
           ],
           "sequentialminus": [
            [
             0,
             "#0d0887"
            ],
            [
             0.1111111111111111,
             "#46039f"
            ],
            [
             0.2222222222222222,
             "#7201a8"
            ],
            [
             0.3333333333333333,
             "#9c179e"
            ],
            [
             0.4444444444444444,
             "#bd3786"
            ],
            [
             0.5555555555555556,
             "#d8576b"
            ],
            [
             0.6666666666666666,
             "#ed7953"
            ],
            [
             0.7777777777777778,
             "#fb9f3a"
            ],
            [
             0.8888888888888888,
             "#fdca26"
            ],
            [
             1,
             "#f0f921"
            ]
           ]
          },
          "colorway": [
           "#636efa",
           "#EF553B",
           "#00cc96",
           "#ab63fa",
           "#FFA15A",
           "#19d3f3",
           "#FF6692",
           "#B6E880",
           "#FF97FF",
           "#FECB52"
          ],
          "font": {
           "color": "#2a3f5f"
          },
          "geo": {
           "bgcolor": "white",
           "lakecolor": "white",
           "landcolor": "#E5ECF6",
           "showlakes": true,
           "showland": true,
           "subunitcolor": "white"
          },
          "hoverlabel": {
           "align": "left"
          },
          "hovermode": "closest",
          "mapbox": {
           "style": "light"
          },
          "paper_bgcolor": "white",
          "plot_bgcolor": "#E5ECF6",
          "polar": {
           "angularaxis": {
            "gridcolor": "white",
            "linecolor": "white",
            "ticks": ""
           },
           "bgcolor": "#E5ECF6",
           "radialaxis": {
            "gridcolor": "white",
            "linecolor": "white",
            "ticks": ""
           }
          },
          "scene": {
           "xaxis": {
            "backgroundcolor": "#E5ECF6",
            "gridcolor": "white",
            "gridwidth": 2,
            "linecolor": "white",
            "showbackground": true,
            "ticks": "",
            "zerolinecolor": "white"
           },
           "yaxis": {
            "backgroundcolor": "#E5ECF6",
            "gridcolor": "white",
            "gridwidth": 2,
            "linecolor": "white",
            "showbackground": true,
            "ticks": "",
            "zerolinecolor": "white"
           },
           "zaxis": {
            "backgroundcolor": "#E5ECF6",
            "gridcolor": "white",
            "gridwidth": 2,
            "linecolor": "white",
            "showbackground": true,
            "ticks": "",
            "zerolinecolor": "white"
           }
          },
          "shapedefaults": {
           "line": {
            "color": "#2a3f5f"
           }
          },
          "ternary": {
           "aaxis": {
            "gridcolor": "white",
            "linecolor": "white",
            "ticks": ""
           },
           "baxis": {
            "gridcolor": "white",
            "linecolor": "white",
            "ticks": ""
           },
           "bgcolor": "#E5ECF6",
           "caxis": {
            "gridcolor": "white",
            "linecolor": "white",
            "ticks": ""
           }
          },
          "title": {
           "x": 0.05
          },
          "xaxis": {
           "automargin": true,
           "gridcolor": "white",
           "linecolor": "white",
           "ticks": "",
           "title": {
            "standoff": 15
           },
           "zerolinecolor": "white",
           "zerolinewidth": 2
          },
          "yaxis": {
           "automargin": true,
           "gridcolor": "white",
           "linecolor": "white",
           "ticks": "",
           "title": {
            "standoff": 15
           },
           "zerolinecolor": "white",
           "zerolinewidth": 2
          }
         }
        },
        "title": {
         "text": "DBSCAN Clustering on UMAP"
        }
       }
      }
     },
     "metadata": {},
     "output_type": "display_data"
    }
   ],
   "source": [
    "import umap\n",
    "import pandas as pd\n",
    "import plotly.express as px\n",
    "from sklearn.cluster import DBSCAN\n",
    "import geopandas as gpd\n",
    "\n",
    "# Step 1: Drop the 'user_state' column as it's just an identifier and not used for UMAP\n",
    "df_total_clustering_cleaned = df_total_clustering.drop(columns=['user_state'])\n",
    "\n",
    "print(df_total_clustering_cleaned.shape)\n",
    "# Fill NaN values with 0\n",
    "df_cleaned = df_total_clustering_cleaned.fillna(0)\n",
    "\n",
    "# Apply UMAP to reduce dimensions to 3\n",
    "umap_3d = umap.UMAP(n_components=3, random_state=42)\n",
    "embedding_3d = umap_3d.fit_transform(df_cleaned)\n",
    "\n",
    "# Perform DBSCAN clustering\n",
    "dbscan = DBSCAN(eps=0.65, min_samples=3)  # Tune eps and min_samples for better clustering\n",
    "dbscan_labels = dbscan.fit_predict(embedding_3d)\n",
    "\n",
    "# Add the cluster labels back to the dataframe\n",
    "df_cleaned['Cluster'] = dbscan_labels\n",
    "df_cleaned['user_state'] = df_total_clustering['user_state']  # Assuming original_df has 'user_state'\n",
    "\n",
    "# Define a consistent color map for clusters\n",
    "cluster_color_map = {\n",
    "    '0': \"#3498DB\",  # Sky Blue\n",
    "    '1': \"#F1C40F\",  # Gold\n",
    "    '2': \"#E74C3C\",  # Tomato Red\n",
    "    '3': \"#2ECC71\",  # Emerald Green\n",
    "    '4': \"#9B59B6\",  # Amethyst Purple\n",
    "    '5': \"#1F618D\"   # Deep Blue\n",
    "}\n",
    "\n",
    "# Convert DBSCAN labels to a string format for Plotly (optional for cleaner hover info)\n",
    "df_cleaned['Cluster'] = df_cleaned['Cluster'].astype(str)\n",
    "\n",
    "# Plot the 3D UMAP with Plotly\n",
    "fig = px.scatter_3d(\n",
    "    df_cleaned,\n",
    "    x=embedding_3d[:, 0],\n",
    "    y=embedding_3d[:, 1],\n",
    "    z=embedding_3d[:, 2],\n",
    "    title=\"DBSCAN Clustering on UMAP\",\n",
    "    labels={'Cluster': 'Cluster Label'},\n",
    "    hover_data={'user_state': True, 'Cluster': False},  # Only show user_state on hover, hide Cluster\n",
    "    color = 'Cluster',\n",
    "    color_discrete_map=cluster_color_map  # Apply custom colors\n",
    ")\n",
    "\n",
    "fig.show()\n",
    "\n",
    "\n",
    "\n",
    "# Draw the map with consistent colors\n"
   ]
  },
  {
   "cell_type": "code",
   "execution_count": 33,
   "metadata": {},
   "outputs": [
    {
     "data": {
      "application/vnd.plotly.v1+json": {
       "config": {
        "plotlyServerURL": "https://plot.ly"
       },
       "data": [
        {
         "colorscale": [
          [
           0,
           "#3498DB"
          ],
          [
           1,
           "#3498DB"
          ]
         ],
         "customdata": [
          [
           "Alabama",
           "0",
           "AL"
          ],
          [
           "Arizona",
           "0",
           "AZ"
          ],
          [
           "Arkansas",
           "0",
           "AR"
          ],
          [
           "Georgia",
           "0",
           "GA"
          ],
          [
           "Hawaii",
           "0",
           "HI"
          ],
          [
           "Idaho",
           "0",
           "ID"
          ],
          [
           "Iowa",
           "0",
           "IA"
          ],
          [
           "Kansas",
           "0",
           "KS"
          ],
          [
           "Louisiana",
           "0",
           "LA"
          ],
          [
           "Maine",
           "0",
           "ME"
          ],
          [
           "Michigan",
           "0",
           "MI"
          ],
          [
           "Mississippi",
           "0",
           "MS"
          ],
          [
           "Montana",
           "0",
           "MT"
          ],
          [
           "Nebraska",
           "0",
           "NE"
          ],
          [
           "Nevada",
           "0",
           "NV"
          ],
          [
           "New Mexico",
           "0",
           "NM"
          ],
          [
           "North Dakota",
           "0",
           "ND"
          ],
          [
           "Oklahoma",
           "0",
           "OK"
          ],
          [
           "South Dakota",
           "0",
           "SD"
          ],
          [
           "Utah",
           "0",
           "UT"
          ],
          [
           "Wisconsin",
           "0",
           "WI"
          ],
          [
           "Wyoming",
           "0",
           "WY"
          ]
         ],
         "geo": "geo",
         "hovertemplate": "<b>%{hovertext}</b><br><br><extra></extra>",
         "hovertext": [
          "Alabama",
          "Arizona",
          "Arkansas",
          "Georgia",
          "Hawaii",
          "Idaho",
          "Iowa",
          "Kansas",
          "Louisiana",
          "Maine",
          "Michigan",
          "Mississippi",
          "Montana",
          "Nebraska",
          "Nevada",
          "New Mexico",
          "North Dakota",
          "Oklahoma",
          "South Dakota",
          "Utah",
          "Wisconsin",
          "Wyoming"
         ],
         "locationmode": "USA-states",
         "locations": [
          "AL",
          "AZ",
          "AR",
          "GA",
          "HI",
          "ID",
          "IA",
          "KS",
          "LA",
          "ME",
          "MI",
          "MS",
          "MT",
          "NE",
          "NV",
          "NM",
          "ND",
          "OK",
          "SD",
          "UT",
          "WI",
          "WY"
         ],
         "name": "0",
         "showlegend": true,
         "showscale": false,
         "type": "choropleth",
         "z": [
          1,
          1,
          1,
          1,
          1,
          1,
          1,
          1,
          1,
          1,
          1,
          1,
          1,
          1,
          1,
          1,
          1,
          1,
          1,
          1,
          1,
          1
         ]
        },
        {
         "colorscale": [
          [
           0,
           "#F1C40F"
          ],
          [
           1,
           "#F1C40F"
          ]
         ],
         "customdata": [
          [
           "Alaska",
           "1",
           "AK"
          ],
          [
           "Delaware",
           "1",
           "DE"
          ],
          [
           "New Hampshire",
           "1",
           "NH"
          ],
          [
           "Texas",
           "1",
           "TX"
          ],
          [
           "West Virginia",
           "1",
           "WV"
          ]
         ],
         "geo": "geo",
         "hovertemplate": "<b>%{hovertext}</b><br><br><extra></extra>",
         "hovertext": [
          "Alaska",
          "Delaware",
          "New Hampshire",
          "Texas",
          "West Virginia"
         ],
         "locationmode": "USA-states",
         "locations": [
          "AK",
          "DE",
          "NH",
          "TX",
          "WV"
         ],
         "name": "1",
         "showlegend": true,
         "showscale": false,
         "type": "choropleth",
         "z": [
          1,
          1,
          1,
          1,
          1
         ]
        },
        {
         "colorscale": [
          [
           0,
           "#E74C3C"
          ],
          [
           1,
           "#E74C3C"
          ]
         ],
         "customdata": [
          [
           "California",
           "2",
           "CA"
          ],
          [
           "Massachusetts",
           "2",
           "MA"
          ],
          [
           "Ohio",
           "2",
           "OH"
          ],
          [
           "Pennsylvania",
           "2",
           "PA"
          ],
          [
           "Washington",
           "2",
           "WA"
          ]
         ],
         "geo": "geo",
         "hovertemplate": "<b>%{hovertext}</b><br><br><extra></extra>",
         "hovertext": [
          "California",
          "Massachusetts",
          "Ohio",
          "Pennsylvania",
          "Washington"
         ],
         "locationmode": "USA-states",
         "locations": [
          "CA",
          "MA",
          "OH",
          "PA",
          "WA"
         ],
         "name": "2",
         "showlegend": true,
         "showscale": false,
         "type": "choropleth",
         "z": [
          1,
          1,
          1,
          1,
          1
         ]
        },
        {
         "colorscale": [
          [
           0,
           "#2ECC71"
          ],
          [
           1,
           "#2ECC71"
          ]
         ],
         "customdata": [
          [
           "Colorado",
           "3",
           "CO"
          ],
          [
           "New Jersey",
           "3",
           "NJ"
          ],
          [
           "Vermont",
           "3",
           "VT"
          ]
         ],
         "geo": "geo",
         "hovertemplate": "<b>%{hovertext}</b><br><br><extra></extra>",
         "hovertext": [
          "Colorado",
          "New Jersey",
          "Vermont"
         ],
         "locationmode": "USA-states",
         "locations": [
          "CO",
          "NJ",
          "VT"
         ],
         "name": "3",
         "showlegend": true,
         "showscale": false,
         "type": "choropleth",
         "z": [
          1,
          1,
          1
         ]
        },
        {
         "colorscale": [
          [
           0,
           "#9B59B6"
          ],
          [
           1,
           "#9B59B6"
          ]
         ],
         "customdata": [
          [
           "Connecticut",
           "4",
           "CT"
          ],
          [
           "Minnesota",
           "4",
           "MN"
          ],
          [
           "North Carolina",
           "4",
           "NC"
          ],
          [
           "Oregon",
           "4",
           "OR"
          ],
          [
           "Tennessee",
           "4",
           "TN"
          ],
          [
           "Virginia",
           "4",
           "VA"
          ]
         ],
         "geo": "geo",
         "hovertemplate": "<b>%{hovertext}</b><br><br><extra></extra>",
         "hovertext": [
          "Connecticut",
          "Minnesota",
          "North Carolina",
          "Oregon",
          "Tennessee",
          "Virginia"
         ],
         "locationmode": "USA-states",
         "locations": [
          "CT",
          "MN",
          "NC",
          "OR",
          "TN",
          "VA"
         ],
         "name": "4",
         "showlegend": true,
         "showscale": false,
         "type": "choropleth",
         "z": [
          1,
          1,
          1,
          1,
          1,
          1
         ]
        },
        {
         "colorscale": [
          [
           0,
           "#1F618D"
          ],
          [
           1,
           "#1F618D"
          ]
         ],
         "customdata": [
          [
           "Florida",
           "5",
           "FL"
          ],
          [
           "Illinois",
           "5",
           "IL"
          ],
          [
           "Indiana",
           "5",
           "IN"
          ],
          [
           "Kentucky",
           "5",
           "KY"
          ],
          [
           "Maryland",
           "5",
           "MD"
          ],
          [
           "Missouri",
           "5",
           "MO"
          ],
          [
           "New York",
           "5",
           "NY"
          ],
          [
           "Rhode Island",
           "5",
           "RI"
          ],
          [
           "South Carolina",
           "5",
           "SC"
          ]
         ],
         "geo": "geo",
         "hovertemplate": "<b>%{hovertext}</b><br><br><extra></extra>",
         "hovertext": [
          "Florida",
          "Illinois",
          "Indiana",
          "Kentucky",
          "Maryland",
          "Missouri",
          "New York",
          "Rhode Island",
          "South Carolina"
         ],
         "locationmode": "USA-states",
         "locations": [
          "FL",
          "IL",
          "IN",
          "KY",
          "MD",
          "MO",
          "NY",
          "RI",
          "SC"
         ],
         "name": "5",
         "showlegend": true,
         "showscale": false,
         "type": "choropleth",
         "z": [
          1,
          1,
          1,
          1,
          1,
          1,
          1,
          1,
          1
         ]
        }
       ],
       "layout": {
        "geo": {
         "center": {},
         "domain": {
          "x": [
           0,
           1
          ],
          "y": [
           0,
           1
          ]
         },
         "projection": {
          "type": "albers usa"
         },
         "scope": "usa"
        },
        "height": 600,
        "legend": {
         "title": {
          "text": "Cluster"
         },
         "tracegroupgap": 0
        },
        "template": {
         "data": {
          "bar": [
           {
            "error_x": {
             "color": "#2a3f5f"
            },
            "error_y": {
             "color": "#2a3f5f"
            },
            "marker": {
             "line": {
              "color": "#E5ECF6",
              "width": 0.5
             },
             "pattern": {
              "fillmode": "overlay",
              "size": 10,
              "solidity": 0.2
             }
            },
            "type": "bar"
           }
          ],
          "barpolar": [
           {
            "marker": {
             "line": {
              "color": "#E5ECF6",
              "width": 0.5
             },
             "pattern": {
              "fillmode": "overlay",
              "size": 10,
              "solidity": 0.2
             }
            },
            "type": "barpolar"
           }
          ],
          "carpet": [
           {
            "aaxis": {
             "endlinecolor": "#2a3f5f",
             "gridcolor": "white",
             "linecolor": "white",
             "minorgridcolor": "white",
             "startlinecolor": "#2a3f5f"
            },
            "baxis": {
             "endlinecolor": "#2a3f5f",
             "gridcolor": "white",
             "linecolor": "white",
             "minorgridcolor": "white",
             "startlinecolor": "#2a3f5f"
            },
            "type": "carpet"
           }
          ],
          "choropleth": [
           {
            "colorbar": {
             "outlinewidth": 0,
             "ticks": ""
            },
            "type": "choropleth"
           }
          ],
          "contour": [
           {
            "colorbar": {
             "outlinewidth": 0,
             "ticks": ""
            },
            "colorscale": [
             [
              0,
              "#0d0887"
             ],
             [
              0.1111111111111111,
              "#46039f"
             ],
             [
              0.2222222222222222,
              "#7201a8"
             ],
             [
              0.3333333333333333,
              "#9c179e"
             ],
             [
              0.4444444444444444,
              "#bd3786"
             ],
             [
              0.5555555555555556,
              "#d8576b"
             ],
             [
              0.6666666666666666,
              "#ed7953"
             ],
             [
              0.7777777777777778,
              "#fb9f3a"
             ],
             [
              0.8888888888888888,
              "#fdca26"
             ],
             [
              1,
              "#f0f921"
             ]
            ],
            "type": "contour"
           }
          ],
          "contourcarpet": [
           {
            "colorbar": {
             "outlinewidth": 0,
             "ticks": ""
            },
            "type": "contourcarpet"
           }
          ],
          "heatmap": [
           {
            "colorbar": {
             "outlinewidth": 0,
             "ticks": ""
            },
            "colorscale": [
             [
              0,
              "#0d0887"
             ],
             [
              0.1111111111111111,
              "#46039f"
             ],
             [
              0.2222222222222222,
              "#7201a8"
             ],
             [
              0.3333333333333333,
              "#9c179e"
             ],
             [
              0.4444444444444444,
              "#bd3786"
             ],
             [
              0.5555555555555556,
              "#d8576b"
             ],
             [
              0.6666666666666666,
              "#ed7953"
             ],
             [
              0.7777777777777778,
              "#fb9f3a"
             ],
             [
              0.8888888888888888,
              "#fdca26"
             ],
             [
              1,
              "#f0f921"
             ]
            ],
            "type": "heatmap"
           }
          ],
          "heatmapgl": [
           {
            "colorbar": {
             "outlinewidth": 0,
             "ticks": ""
            },
            "colorscale": [
             [
              0,
              "#0d0887"
             ],
             [
              0.1111111111111111,
              "#46039f"
             ],
             [
              0.2222222222222222,
              "#7201a8"
             ],
             [
              0.3333333333333333,
              "#9c179e"
             ],
             [
              0.4444444444444444,
              "#bd3786"
             ],
             [
              0.5555555555555556,
              "#d8576b"
             ],
             [
              0.6666666666666666,
              "#ed7953"
             ],
             [
              0.7777777777777778,
              "#fb9f3a"
             ],
             [
              0.8888888888888888,
              "#fdca26"
             ],
             [
              1,
              "#f0f921"
             ]
            ],
            "type": "heatmapgl"
           }
          ],
          "histogram": [
           {
            "marker": {
             "pattern": {
              "fillmode": "overlay",
              "size": 10,
              "solidity": 0.2
             }
            },
            "type": "histogram"
           }
          ],
          "histogram2d": [
           {
            "colorbar": {
             "outlinewidth": 0,
             "ticks": ""
            },
            "colorscale": [
             [
              0,
              "#0d0887"
             ],
             [
              0.1111111111111111,
              "#46039f"
             ],
             [
              0.2222222222222222,
              "#7201a8"
             ],
             [
              0.3333333333333333,
              "#9c179e"
             ],
             [
              0.4444444444444444,
              "#bd3786"
             ],
             [
              0.5555555555555556,
              "#d8576b"
             ],
             [
              0.6666666666666666,
              "#ed7953"
             ],
             [
              0.7777777777777778,
              "#fb9f3a"
             ],
             [
              0.8888888888888888,
              "#fdca26"
             ],
             [
              1,
              "#f0f921"
             ]
            ],
            "type": "histogram2d"
           }
          ],
          "histogram2dcontour": [
           {
            "colorbar": {
             "outlinewidth": 0,
             "ticks": ""
            },
            "colorscale": [
             [
              0,
              "#0d0887"
             ],
             [
              0.1111111111111111,
              "#46039f"
             ],
             [
              0.2222222222222222,
              "#7201a8"
             ],
             [
              0.3333333333333333,
              "#9c179e"
             ],
             [
              0.4444444444444444,
              "#bd3786"
             ],
             [
              0.5555555555555556,
              "#d8576b"
             ],
             [
              0.6666666666666666,
              "#ed7953"
             ],
             [
              0.7777777777777778,
              "#fb9f3a"
             ],
             [
              0.8888888888888888,
              "#fdca26"
             ],
             [
              1,
              "#f0f921"
             ]
            ],
            "type": "histogram2dcontour"
           }
          ],
          "mesh3d": [
           {
            "colorbar": {
             "outlinewidth": 0,
             "ticks": ""
            },
            "type": "mesh3d"
           }
          ],
          "parcoords": [
           {
            "line": {
             "colorbar": {
              "outlinewidth": 0,
              "ticks": ""
             }
            },
            "type": "parcoords"
           }
          ],
          "pie": [
           {
            "automargin": true,
            "type": "pie"
           }
          ],
          "scatter": [
           {
            "fillpattern": {
             "fillmode": "overlay",
             "size": 10,
             "solidity": 0.2
            },
            "type": "scatter"
           }
          ],
          "scatter3d": [
           {
            "line": {
             "colorbar": {
              "outlinewidth": 0,
              "ticks": ""
             }
            },
            "marker": {
             "colorbar": {
              "outlinewidth": 0,
              "ticks": ""
             }
            },
            "type": "scatter3d"
           }
          ],
          "scattercarpet": [
           {
            "marker": {
             "colorbar": {
              "outlinewidth": 0,
              "ticks": ""
             }
            },
            "type": "scattercarpet"
           }
          ],
          "scattergeo": [
           {
            "marker": {
             "colorbar": {
              "outlinewidth": 0,
              "ticks": ""
             }
            },
            "type": "scattergeo"
           }
          ],
          "scattergl": [
           {
            "marker": {
             "colorbar": {
              "outlinewidth": 0,
              "ticks": ""
             }
            },
            "type": "scattergl"
           }
          ],
          "scattermapbox": [
           {
            "marker": {
             "colorbar": {
              "outlinewidth": 0,
              "ticks": ""
             }
            },
            "type": "scattermapbox"
           }
          ],
          "scatterpolar": [
           {
            "marker": {
             "colorbar": {
              "outlinewidth": 0,
              "ticks": ""
             }
            },
            "type": "scatterpolar"
           }
          ],
          "scatterpolargl": [
           {
            "marker": {
             "colorbar": {
              "outlinewidth": 0,
              "ticks": ""
             }
            },
            "type": "scatterpolargl"
           }
          ],
          "scatterternary": [
           {
            "marker": {
             "colorbar": {
              "outlinewidth": 0,
              "ticks": ""
             }
            },
            "type": "scatterternary"
           }
          ],
          "surface": [
           {
            "colorbar": {
             "outlinewidth": 0,
             "ticks": ""
            },
            "colorscale": [
             [
              0,
              "#0d0887"
             ],
             [
              0.1111111111111111,
              "#46039f"
             ],
             [
              0.2222222222222222,
              "#7201a8"
             ],
             [
              0.3333333333333333,
              "#9c179e"
             ],
             [
              0.4444444444444444,
              "#bd3786"
             ],
             [
              0.5555555555555556,
              "#d8576b"
             ],
             [
              0.6666666666666666,
              "#ed7953"
             ],
             [
              0.7777777777777778,
              "#fb9f3a"
             ],
             [
              0.8888888888888888,
              "#fdca26"
             ],
             [
              1,
              "#f0f921"
             ]
            ],
            "type": "surface"
           }
          ],
          "table": [
           {
            "cells": {
             "fill": {
              "color": "#EBF0F8"
             },
             "line": {
              "color": "white"
             }
            },
            "header": {
             "fill": {
              "color": "#C8D4E3"
             },
             "line": {
              "color": "white"
             }
            },
            "type": "table"
           }
          ]
         },
         "layout": {
          "annotationdefaults": {
           "arrowcolor": "#2a3f5f",
           "arrowhead": 0,
           "arrowwidth": 1
          },
          "autotypenumbers": "strict",
          "coloraxis": {
           "colorbar": {
            "outlinewidth": 0,
            "ticks": ""
           }
          },
          "colorscale": {
           "diverging": [
            [
             0,
             "#8e0152"
            ],
            [
             0.1,
             "#c51b7d"
            ],
            [
             0.2,
             "#de77ae"
            ],
            [
             0.3,
             "#f1b6da"
            ],
            [
             0.4,
             "#fde0ef"
            ],
            [
             0.5,
             "#f7f7f7"
            ],
            [
             0.6,
             "#e6f5d0"
            ],
            [
             0.7,
             "#b8e186"
            ],
            [
             0.8,
             "#7fbc41"
            ],
            [
             0.9,
             "#4d9221"
            ],
            [
             1,
             "#276419"
            ]
           ],
           "sequential": [
            [
             0,
             "#0d0887"
            ],
            [
             0.1111111111111111,
             "#46039f"
            ],
            [
             0.2222222222222222,
             "#7201a8"
            ],
            [
             0.3333333333333333,
             "#9c179e"
            ],
            [
             0.4444444444444444,
             "#bd3786"
            ],
            [
             0.5555555555555556,
             "#d8576b"
            ],
            [
             0.6666666666666666,
             "#ed7953"
            ],
            [
             0.7777777777777778,
             "#fb9f3a"
            ],
            [
             0.8888888888888888,
             "#fdca26"
            ],
            [
             1,
             "#f0f921"
            ]
           ],
           "sequentialminus": [
            [
             0,
             "#0d0887"
            ],
            [
             0.1111111111111111,
             "#46039f"
            ],
            [
             0.2222222222222222,
             "#7201a8"
            ],
            [
             0.3333333333333333,
             "#9c179e"
            ],
            [
             0.4444444444444444,
             "#bd3786"
            ],
            [
             0.5555555555555556,
             "#d8576b"
            ],
            [
             0.6666666666666666,
             "#ed7953"
            ],
            [
             0.7777777777777778,
             "#fb9f3a"
            ],
            [
             0.8888888888888888,
             "#fdca26"
            ],
            [
             1,
             "#f0f921"
            ]
           ]
          },
          "colorway": [
           "#636efa",
           "#EF553B",
           "#00cc96",
           "#ab63fa",
           "#FFA15A",
           "#19d3f3",
           "#FF6692",
           "#B6E880",
           "#FF97FF",
           "#FECB52"
          ],
          "font": {
           "color": "#2a3f5f"
          },
          "geo": {
           "bgcolor": "white",
           "lakecolor": "white",
           "landcolor": "#E5ECF6",
           "showlakes": true,
           "showland": true,
           "subunitcolor": "white"
          },
          "hoverlabel": {
           "align": "left"
          },
          "hovermode": "closest",
          "mapbox": {
           "style": "light"
          },
          "paper_bgcolor": "white",
          "plot_bgcolor": "#E5ECF6",
          "polar": {
           "angularaxis": {
            "gridcolor": "white",
            "linecolor": "white",
            "ticks": ""
           },
           "bgcolor": "#E5ECF6",
           "radialaxis": {
            "gridcolor": "white",
            "linecolor": "white",
            "ticks": ""
           }
          },
          "scene": {
           "xaxis": {
            "backgroundcolor": "#E5ECF6",
            "gridcolor": "white",
            "gridwidth": 2,
            "linecolor": "white",
            "showbackground": true,
            "ticks": "",
            "zerolinecolor": "white"
           },
           "yaxis": {
            "backgroundcolor": "#E5ECF6",
            "gridcolor": "white",
            "gridwidth": 2,
            "linecolor": "white",
            "showbackground": true,
            "ticks": "",
            "zerolinecolor": "white"
           },
           "zaxis": {
            "backgroundcolor": "#E5ECF6",
            "gridcolor": "white",
            "gridwidth": 2,
            "linecolor": "white",
            "showbackground": true,
            "ticks": "",
            "zerolinecolor": "white"
           }
          },
          "shapedefaults": {
           "line": {
            "color": "#2a3f5f"
           }
          },
          "ternary": {
           "aaxis": {
            "gridcolor": "white",
            "linecolor": "white",
            "ticks": ""
           },
           "baxis": {
            "gridcolor": "white",
            "linecolor": "white",
            "ticks": ""
           },
           "bgcolor": "#E5ECF6",
           "caxis": {
            "gridcolor": "white",
            "linecolor": "white",
            "ticks": ""
           }
          },
          "title": {
           "x": 0.05
          },
          "xaxis": {
           "automargin": true,
           "gridcolor": "white",
           "linecolor": "white",
           "ticks": "",
           "title": {
            "standoff": 15
           },
           "zerolinecolor": "white",
           "zerolinewidth": 2
          },
          "yaxis": {
           "automargin": true,
           "gridcolor": "white",
           "linecolor": "white",
           "ticks": "",
           "title": {
            "standoff": 15
           },
           "zerolinecolor": "white",
           "zerolinewidth": 2
          }
         }
        },
        "title": {
         "font": {
          "size": 20
         },
         "text": "USA State Clusters Based on DBSCAN"
        },
        "width": 900
       }
      }
     },
     "metadata": {},
     "output_type": "display_data"
    }
   ],
   "source": [
    "import pandas as pd\n",
    "import plotly.express as px\n",
    "\n",
    "\n",
    "def draw_map(df_cleaned):\n",
    "    # Step 1: Define a mapping for state abbreviations\n",
    "    state_to_abbr = {\n",
    "        'Alabama': 'AL', 'Alaska': 'AK', 'Arizona': 'AZ', 'Arkansas': 'AR', 'California': 'CA',\n",
    "        'Colorado': 'CO', 'Connecticut': 'CT', 'Delaware': 'DE', 'Florida': 'FL', 'Georgia': 'GA',\n",
    "        'Hawaii': 'HI', 'Idaho': 'ID', 'Illinois': 'IL', 'Indiana': 'IN', 'Iowa': 'IA',\n",
    "        'Kansas': 'KS', 'Kentucky': 'KY', 'Louisiana': 'LA', 'Maine': 'ME', 'Maryland': 'MD',\n",
    "        'Massachusetts': 'MA', 'Michigan': 'MI', 'Minnesota': 'MN', 'Mississippi': 'MS', 'Missouri': 'MO',\n",
    "        'Montana': 'MT', 'Nebraska': 'NE', 'Nevada': 'NV', 'New Hampshire': 'NH', 'New Jersey': 'NJ',\n",
    "        'New Mexico': 'NM', 'New York': 'NY', 'North Carolina': 'NC', 'North Dakota': 'ND', 'Ohio': 'OH',\n",
    "        'Oklahoma': 'OK', 'Oregon': 'OR', 'Pennsylvania': 'PA', 'Rhode Island': 'RI', 'South Carolina': 'SC',\n",
    "        'South Dakota': 'SD', 'Tennessee': 'TN', 'Texas': 'TX', 'Utah': 'UT', 'Vermont': 'VT',\n",
    "        'Virginia': 'VA', 'Washington': 'WA', 'West Virginia': 'WV', 'Wisconsin': 'WI', 'Wyoming': 'WY'\n",
    "    }\n",
    "\n",
    "    # Step 2: Merge df_cleaned with state abbreviations\n",
    "    df_cleaned['state_abbreviation'] = df_cleaned['user_state'].map(state_to_abbr)\n",
    "\n",
    "    # Step 3: Convert Cluster to string to match keys in cluster_color_map\n",
    "    df_cleaned['Cluster'] = df_cleaned['Cluster'].astype(str)\n",
    "\n",
    "    # Step 4: Plot the choropleth map\n",
    "    fig = px.choropleth(\n",
    "        df_cleaned, \n",
    "        locations='state_abbreviation', \n",
    "        color='Cluster', \n",
    "        color_discrete_map=cluster_color_map,  # Apply the custom color map\n",
    "        title=\"USA State Clusters Based on DBSCAN\",\n",
    "        locationmode=\"USA-states\",\n",
    "        hover_name='user_state',  # Hover shows the state name\n",
    "        hover_data={'user_state': False, 'Cluster': False, 'state_abbreviation': False}  # Optional: Hide some data on hover\n",
    "    )\n",
    "\n",
    "    fig.update_layout(\n",
    "        geo_scope='usa',\n",
    "        width=900,  # Adjust width\n",
    "        height=600,  # Adjust height\n",
    "        title_font=dict(size=20),\n",
    "        geo=dict(projection_type=\"albers usa\")\n",
    "    )\n",
    "\n",
    "    fig.show()\n",
    "\n",
    "# Call the function to draw the map\n",
    "draw_map(df_cleaned)\n"
   ]
  },
  {
   "cell_type": "markdown",
   "metadata": {},
   "source": [
    "Analysis on the clusters- feature analysis"
   ]
  },
  {
   "cell_type": "code",
   "execution_count": 36,
   "metadata": {},
   "outputs": [
    {
     "data": {
      "text/html": [
       "<div>\n",
       "<style scoped>\n",
       "    .dataframe tbody tr th:only-of-type {\n",
       "        vertical-align: middle;\n",
       "    }\n",
       "\n",
       "    .dataframe tbody tr th {\n",
       "        vertical-align: top;\n",
       "    }\n",
       "\n",
       "    .dataframe thead th {\n",
       "        text-align: right;\n",
       "    }\n",
       "</style>\n",
       "<table border=\"1\" class=\"dataframe\">\n",
       "  <thead>\n",
       "    <tr style=\"text-align: right;\">\n",
       "      <th></th>\n",
       "      <th>Altbier_avg_appearance</th>\n",
       "      <th>Altbier_avg_aroma</th>\n",
       "      <th>Altbier_avg_palate</th>\n",
       "      <th>Altbier_avg_taste</th>\n",
       "      <th>Altbier_avg_overall</th>\n",
       "      <th>Altbier_avg_rating_per_style</th>\n",
       "      <th>Altbier_std_per_style</th>\n",
       "      <th>Altbier_normalised_review_count</th>\n",
       "      <th>American Adjunct Lager_avg_appearance</th>\n",
       "      <th>American Adjunct Lager_avg_aroma</th>\n",
       "      <th>...</th>\n",
       "      <th>Witbier_avg_aroma</th>\n",
       "      <th>Witbier_avg_palate</th>\n",
       "      <th>Witbier_avg_taste</th>\n",
       "      <th>Witbier_avg_overall</th>\n",
       "      <th>Witbier_avg_rating_per_style</th>\n",
       "      <th>Witbier_std_per_style</th>\n",
       "      <th>Witbier_normalised_review_count</th>\n",
       "      <th>Cluster</th>\n",
       "      <th>user_state</th>\n",
       "      <th>state_abbreviation</th>\n",
       "    </tr>\n",
       "  </thead>\n",
       "  <tbody>\n",
       "    <tr>\n",
       "      <th>0</th>\n",
       "      <td>4.058824</td>\n",
       "      <td>3.735294</td>\n",
       "      <td>3.764706</td>\n",
       "      <td>3.911765</td>\n",
       "      <td>3.955882</td>\n",
       "      <td>3.745882</td>\n",
       "      <td>0.252365</td>\n",
       "      <td>0.001860</td>\n",
       "      <td>2.879412</td>\n",
       "      <td>2.608824</td>\n",
       "      <td>...</td>\n",
       "      <td>3.573171</td>\n",
       "      <td>3.474085</td>\n",
       "      <td>3.429878</td>\n",
       "      <td>3.568598</td>\n",
       "      <td>3.557256</td>\n",
       "      <td>0.282003</td>\n",
       "      <td>0.017947</td>\n",
       "      <td>0</td>\n",
       "      <td>Alabama</td>\n",
       "      <td>AL</td>\n",
       "    </tr>\n",
       "    <tr>\n",
       "      <th>1</th>\n",
       "      <td>3.869048</td>\n",
       "      <td>3.559524</td>\n",
       "      <td>3.583333</td>\n",
       "      <td>3.642857</td>\n",
       "      <td>3.738095</td>\n",
       "      <td>3.695714</td>\n",
       "      <td>0.217499</td>\n",
       "      <td>0.004418</td>\n",
       "      <td>2.973404</td>\n",
       "      <td>2.707447</td>\n",
       "      <td>...</td>\n",
       "      <td>3.723881</td>\n",
       "      <td>3.817164</td>\n",
       "      <td>3.798507</td>\n",
       "      <td>3.902985</td>\n",
       "      <td>3.763881</td>\n",
       "      <td>0.251342</td>\n",
       "      <td>0.014096</td>\n",
       "      <td>1</td>\n",
       "      <td>Alaska</td>\n",
       "      <td>AK</td>\n",
       "    </tr>\n",
       "    <tr>\n",
       "      <th>2</th>\n",
       "      <td>3.677326</td>\n",
       "      <td>3.500000</td>\n",
       "      <td>3.546512</td>\n",
       "      <td>3.587209</td>\n",
       "      <td>3.622093</td>\n",
       "      <td>3.671395</td>\n",
       "      <td>0.213167</td>\n",
       "      <td>0.004316</td>\n",
       "      <td>3.019345</td>\n",
       "      <td>2.586310</td>\n",
       "      <td>...</td>\n",
       "      <td>3.574773</td>\n",
       "      <td>3.552870</td>\n",
       "      <td>3.559668</td>\n",
       "      <td>3.577795</td>\n",
       "      <td>3.568489</td>\n",
       "      <td>0.329566</td>\n",
       "      <td>0.016610</td>\n",
       "      <td>0</td>\n",
       "      <td>Arizona</td>\n",
       "      <td>AZ</td>\n",
       "    </tr>\n",
       "  </tbody>\n",
       "</table>\n",
       "<p>3 rows × 827 columns</p>\n",
       "</div>"
      ],
      "text/plain": [
       "   Altbier_avg_appearance  Altbier_avg_aroma  Altbier_avg_palate  \\\n",
       "0                4.058824           3.735294            3.764706   \n",
       "1                3.869048           3.559524            3.583333   \n",
       "2                3.677326           3.500000            3.546512   \n",
       "\n",
       "   Altbier_avg_taste  Altbier_avg_overall  Altbier_avg_rating_per_style  \\\n",
       "0           3.911765             3.955882                      3.745882   \n",
       "1           3.642857             3.738095                      3.695714   \n",
       "2           3.587209             3.622093                      3.671395   \n",
       "\n",
       "   Altbier_std_per_style  Altbier_normalised_review_count  \\\n",
       "0               0.252365                         0.001860   \n",
       "1               0.217499                         0.004418   \n",
       "2               0.213167                         0.004316   \n",
       "\n",
       "   American Adjunct Lager_avg_appearance  American Adjunct Lager_avg_aroma  \\\n",
       "0                               2.879412                          2.608824   \n",
       "1                               2.973404                          2.707447   \n",
       "2                               3.019345                          2.586310   \n",
       "\n",
       "   ...  Witbier_avg_aroma  Witbier_avg_palate  Witbier_avg_taste  \\\n",
       "0  ...           3.573171            3.474085           3.429878   \n",
       "1  ...           3.723881            3.817164           3.798507   \n",
       "2  ...           3.574773            3.552870           3.559668   \n",
       "\n",
       "   Witbier_avg_overall  Witbier_avg_rating_per_style  Witbier_std_per_style  \\\n",
       "0             3.568598                      3.557256               0.282003   \n",
       "1             3.902985                      3.763881               0.251342   \n",
       "2             3.577795                      3.568489               0.329566   \n",
       "\n",
       "   Witbier_normalised_review_count  Cluster  user_state  state_abbreviation  \n",
       "0                         0.017947        0     Alabama                  AL  \n",
       "1                         0.014096        1      Alaska                  AK  \n",
       "2                         0.016610        0     Arizona                  AZ  \n",
       "\n",
       "[3 rows x 827 columns]"
      ]
     },
     "execution_count": 36,
     "metadata": {},
     "output_type": "execute_result"
    }
   ],
   "source": [
    "df_cleaned.head(3)"
   ]
  },
  {
   "cell_type": "code",
   "execution_count": 38,
   "metadata": {},
   "outputs": [
    {
     "data": {
      "image/png": "[encoded data removed]",
      "text/plain": [
       "<Figure size 1200x1000 with 2 Axes>"
      ]
     },
     "metadata": {},
     "output_type": "display_data"
    }
   ],
   "source": [
    "import pandas as pd\n",
    "import numpy as np\n",
    "import seaborn as sns\n",
    "import matplotlib.pyplot as plt\n",
    "from sklearn.feature_selection import VarianceThreshold\n",
    "from sklearn.ensemble import RandomForestClassifier\n",
    "\n",
    "# 1. Feature Selection: Variance Filtering\n",
    "# -----------------------------------------------------\n",
    "# Assuming your DataFrame is named 'df' with a 'cluster' column\n",
    "X = df_cleaned.drop(columns=['Cluster', 'user_state', 'state_abbreviation'])  # Features\n",
    "y = df_cleaned['Cluster']  # Target (clusters)\n",
    "\n",
    "# Step 1: Remove low-variance features\n",
    "selector = VarianceThreshold(threshold=0.01)  # Threshold can be adjusted\n",
    "X_filtered = pd.DataFrame(selector.fit_transform(X), columns=X.columns[selector.get_support()])\n",
    "\n",
    "# Step 2: Remove highly correlated features\n",
    "corr_matrix = X_filtered.corr().abs()\n",
    "upper = corr_matrix.where(np.triu(np.ones(corr_matrix.shape), k=1).astype(bool))\n",
    "to_drop = [column for column in upper.columns if any(upper[column] > 0.9)]\n",
    "X_filtered = X_filtered.drop(columns=to_drop)\n",
    "\n",
    "# Step 3: Feature Importance using Random Forest\n",
    "model = RandomForestClassifier(n_estimators=100, random_state=42)\n",
    "model.fit(X_filtered, y)\n",
    "\n",
    "# Get top N important features\n",
    "feature_importances = pd.Series(model.feature_importances_, index=X_filtered.columns)\n",
    "top_features = feature_importances.nlargest(20).index  # Adjust '20' for desired number of features\n",
    "\n",
    "# 2. Plot the Heatmap with Top Features\n",
    "# -----------------------------------------------------\n",
    "# Combine top features with cluster labels\n",
    "top_features_df = pd.concat([X_filtered[top_features], y], axis=1)\n",
    "\n",
    "# Group by cluster and calculate the mean for each feature\n",
    "cluster_means = top_features_df.groupby('Cluster').mean()\n",
    "\n",
    "# Normalize for better visualization\n",
    "cluster_means_normalized = (cluster_means - cluster_means.min()) / (cluster_means.max() - cluster_means.min())\n",
    "\n",
    "# Plot the heatmap\n",
    "plt.figure(figsize=(12, 10))\n",
    "sns.heatmap(cluster_means_normalized.T, cmap=\"YlGnBu\", annot=False)\n",
    "\n",
    "plt.title(\"Top Features Across Clusters\")\n",
    "plt.xlabel(\"Clusters\")\n",
    "plt.ylabel(\"Top Features\")\n",
    "plt.show()\n"
   ]
  },
  {
   "cell_type": "code",
   "execution_count": 54,
   "metadata": {},
   "outputs": [
    {
     "name": "stdout",
     "output_type": "stream",
     "text": [
      "Top 20 Most Variant Features with at least 5000 Reviews Total:\n",
      "Series([], dtype: float64)\n"
     ]
    },
    {
     "ename": "IndexError",
     "evalue": "index 0 is out of bounds for axis 0 with size 0",
     "output_type": "error",
     "traceback": [
      "\u001b[1;31m---------------------------------------------------------------------------\u001b[0m",
      "\u001b[1;31mIndexError\u001b[0m                                Traceback (most recent call last)",
      "Cell \u001b[1;32mIn[54], line 21\u001b[0m\n\u001b[0;32m     18\u001b[0m \u001b[38;5;28mprint\u001b[39m(top_20_variance_features)\n\u001b[0;32m     20\u001b[0m \u001b[38;5;66;03m# Step 6: Visualize the results\u001b[39;00m\n\u001b[1;32m---> 21\u001b[0m \u001b[43mtop_20_variance_features\u001b[49m\u001b[38;5;241;43m.\u001b[39;49m\u001b[43mplot\u001b[49m\u001b[43m(\u001b[49m\u001b[43mkind\u001b[49m\u001b[38;5;241;43m=\u001b[39;49m\u001b[38;5;124;43m'\u001b[39;49m\u001b[38;5;124;43mbarh\u001b[39;49m\u001b[38;5;124;43m'\u001b[39;49m\u001b[43m,\u001b[49m\u001b[43m \u001b[49m\u001b[43mfigsize\u001b[49m\u001b[38;5;241;43m=\u001b[39;49m\u001b[43m(\u001b[49m\u001b[38;5;241;43m10\u001b[39;49m\u001b[43m,\u001b[49m\u001b[43m \u001b[49m\u001b[38;5;241;43m6\u001b[39;49m\u001b[43m)\u001b[49m\u001b[43m,\u001b[49m\u001b[43m \u001b[49m\u001b[43mcolor\u001b[49m\u001b[38;5;241;43m=\u001b[39;49m\u001b[38;5;124;43m'\u001b[39;49m\u001b[38;5;124;43mteal\u001b[39;49m\u001b[38;5;124;43m'\u001b[39;49m\u001b[43m)\u001b[49m\n\u001b[0;32m     22\u001b[0m plt\u001b[38;5;241m.\u001b[39mtitle(\u001b[38;5;124m\"\u001b[39m\u001b[38;5;124mTop 20 Most Variant Features (At Least 5000 Reviews Total)\u001b[39m\u001b[38;5;124m\"\u001b[39m)\n\u001b[0;32m     23\u001b[0m plt\u001b[38;5;241m.\u001b[39mxlabel(\u001b[38;5;124m\"\u001b[39m\u001b[38;5;124mVariance\u001b[39m\u001b[38;5;124m\"\u001b[39m)\n",
      "File \u001b[1;32mc:\\Users\\iaran\\miniconda3\\envs\\ada\\Lib\\site-packages\\pandas\\plotting\\_core.py:1030\u001b[0m, in \u001b[0;36mPlotAccessor.__call__\u001b[1;34m(self, *args, **kwargs)\u001b[0m\n\u001b[0;32m   1027\u001b[0m             label_name \u001b[38;5;241m=\u001b[39m label_kw \u001b[38;5;129;01mor\u001b[39;00m data\u001b[38;5;241m.\u001b[39mcolumns\n\u001b[0;32m   1028\u001b[0m             data\u001b[38;5;241m.\u001b[39mcolumns \u001b[38;5;241m=\u001b[39m label_name\n\u001b[1;32m-> 1030\u001b[0m \u001b[38;5;28;01mreturn\u001b[39;00m \u001b[43mplot_backend\u001b[49m\u001b[38;5;241;43m.\u001b[39;49m\u001b[43mplot\u001b[49m\u001b[43m(\u001b[49m\u001b[43mdata\u001b[49m\u001b[43m,\u001b[49m\u001b[43m \u001b[49m\u001b[43mkind\u001b[49m\u001b[38;5;241;43m=\u001b[39;49m\u001b[43mkind\u001b[49m\u001b[43m,\u001b[49m\u001b[43m \u001b[49m\u001b[38;5;241;43m*\u001b[39;49m\u001b[38;5;241;43m*\u001b[39;49m\u001b[43mkwargs\u001b[49m\u001b[43m)\u001b[49m\n",
      "File \u001b[1;32mc:\\Users\\iaran\\miniconda3\\envs\\ada\\Lib\\site-packages\\pandas\\plotting\\_matplotlib\\__init__.py:71\u001b[0m, in \u001b[0;36mplot\u001b[1;34m(data, kind, **kwargs)\u001b[0m\n\u001b[0;32m     69\u001b[0m         kwargs[\u001b[38;5;124m\"\u001b[39m\u001b[38;5;124max\u001b[39m\u001b[38;5;124m\"\u001b[39m] \u001b[38;5;241m=\u001b[39m \u001b[38;5;28mgetattr\u001b[39m(ax, \u001b[38;5;124m\"\u001b[39m\u001b[38;5;124mleft_ax\u001b[39m\u001b[38;5;124m\"\u001b[39m, ax)\n\u001b[0;32m     70\u001b[0m plot_obj \u001b[38;5;241m=\u001b[39m PLOT_CLASSES[kind](data, \u001b[38;5;241m*\u001b[39m\u001b[38;5;241m*\u001b[39mkwargs)\n\u001b[1;32m---> 71\u001b[0m \u001b[43mplot_obj\u001b[49m\u001b[38;5;241;43m.\u001b[39;49m\u001b[43mgenerate\u001b[49m\u001b[43m(\u001b[49m\u001b[43m)\u001b[49m\n\u001b[0;32m     72\u001b[0m plot_obj\u001b[38;5;241m.\u001b[39mdraw()\n\u001b[0;32m     73\u001b[0m \u001b[38;5;28;01mreturn\u001b[39;00m plot_obj\u001b[38;5;241m.\u001b[39mresult\n",
      "File \u001b[1;32mc:\\Users\\iaran\\miniconda3\\envs\\ada\\Lib\\site-packages\\pandas\\plotting\\_matplotlib\\core.py:508\u001b[0m, in \u001b[0;36mMPLPlot.generate\u001b[1;34m(self)\u001b[0m\n\u001b[0;32m    506\u001b[0m \u001b[38;5;28;01mfor\u001b[39;00m ax \u001b[38;5;129;01min\u001b[39;00m \u001b[38;5;28mself\u001b[39m\u001b[38;5;241m.\u001b[39maxes:\n\u001b[0;32m    507\u001b[0m     \u001b[38;5;28mself\u001b[39m\u001b[38;5;241m.\u001b[39m_post_plot_logic_common(ax)\n\u001b[1;32m--> 508\u001b[0m     \u001b[38;5;28;43mself\u001b[39;49m\u001b[38;5;241;43m.\u001b[39;49m\u001b[43m_post_plot_logic\u001b[49m\u001b[43m(\u001b[49m\u001b[43max\u001b[49m\u001b[43m,\u001b[49m\u001b[43m \u001b[49m\u001b[38;5;28;43mself\u001b[39;49m\u001b[38;5;241;43m.\u001b[39;49m\u001b[43mdata\u001b[49m\u001b[43m)\u001b[49m\n",
      "File \u001b[1;32mc:\\Users\\iaran\\miniconda3\\envs\\ada\\Lib\\site-packages\\pandas\\plotting\\_matplotlib\\core.py:1966\u001b[0m, in \u001b[0;36mBarPlot._post_plot_logic\u001b[1;34m(self, ax, data)\u001b[0m\n\u001b[0;32m   1963\u001b[0m \u001b[38;5;28;01melse\u001b[39;00m:\n\u001b[0;32m   1964\u001b[0m     str_index \u001b[38;5;241m=\u001b[39m [pprint_thing(key) \u001b[38;5;28;01mfor\u001b[39;00m key \u001b[38;5;129;01min\u001b[39;00m \u001b[38;5;28mrange\u001b[39m(data\u001b[38;5;241m.\u001b[39mshape[\u001b[38;5;241m0\u001b[39m])]\n\u001b[1;32m-> 1966\u001b[0m s_edge \u001b[38;5;241m=\u001b[39m \u001b[38;5;28;43mself\u001b[39;49m\u001b[38;5;241;43m.\u001b[39;49m\u001b[43max_pos\u001b[49m\u001b[43m[\u001b[49m\u001b[38;5;241;43m0\u001b[39;49m\u001b[43m]\u001b[49m \u001b[38;5;241m-\u001b[39m \u001b[38;5;241m0.25\u001b[39m \u001b[38;5;241m+\u001b[39m \u001b[38;5;28mself\u001b[39m\u001b[38;5;241m.\u001b[39mlim_offset\n\u001b[0;32m   1967\u001b[0m e_edge \u001b[38;5;241m=\u001b[39m \u001b[38;5;28mself\u001b[39m\u001b[38;5;241m.\u001b[39max_pos[\u001b[38;5;241m-\u001b[39m\u001b[38;5;241m1\u001b[39m] \u001b[38;5;241m+\u001b[39m \u001b[38;5;241m0.25\u001b[39m \u001b[38;5;241m+\u001b[39m \u001b[38;5;28mself\u001b[39m\u001b[38;5;241m.\u001b[39mbar_width \u001b[38;5;241m+\u001b[39m \u001b[38;5;28mself\u001b[39m\u001b[38;5;241m.\u001b[39mlim_offset\n\u001b[0;32m   1969\u001b[0m \u001b[38;5;28mself\u001b[39m\u001b[38;5;241m.\u001b[39m_decorate_ticks(ax, \u001b[38;5;28mself\u001b[39m\u001b[38;5;241m.\u001b[39m_get_index_name(), str_index, s_edge, e_edge)\n",
      "\u001b[1;31mIndexError\u001b[0m: index 0 is out of bounds for axis 0 with size 0"
     ]
    },
    {
     "data": {
      "image/png": "[encoded data removed]",
      "text/plain": [
       "<Figure size 1000x600 with 1 Axes>"
      ]
     },
     "metadata": {},
     "output_type": "display_data"
    }
   ],
   "source": [
    "# Step 1: Count the number of reviews for each style in BA_US_knn_text\n",
    "style_review_counts = BA_US_knn_text['style'].value_counts()\n",
    "\n",
    "# Step 2: Filter styles with at least 5000 reviews\n",
    "valid_styles = style_review_counts[style_review_counts >= 10].index\n",
    "\n",
    "# Step 3: Retain only valid styles in df_cleaned\n",
    "filtered_features = df_cleaned[valid_styles.intersection(df_cleaned.columns)]\n",
    "\n",
    "# Step 4: Calculate variance for these features\n",
    "variances = filtered_features.var()\n",
    "\n",
    "# Step 5: Select the top 20 features with the highest variance\n",
    "top_20_variance_features = variances.nlargest(20)\n",
    "\n",
    "# Output the results\n",
    "print(\"Top 20 Most Variant Features with at least 5000 Reviews Total:\")\n",
    "print(top_20_variance_features)\n",
    "\n",
    "# Step 6: Visualize the results\n",
    "top_20_variance_features.plot(kind='barh', figsize=(10, 6), color='teal')\n",
    "plt.title(\"Top 20 Most Variant Features (At Least 5000 Reviews Total)\")\n",
    "plt.xlabel(\"Variance\")\n",
    "plt.ylabel(\"Feature\")\n",
    "plt.show()\n"
   ]
  },
  {
   "cell_type": "code",
   "execution_count": null,
   "metadata": {},
   "outputs": [],
   "source": []
  }
 ],
 "metadata": {
  "kernelspec": {
   "display_name": "ada",
   "language": "python",
   "name": "python3"
  },
  "language_info": {
   "codemirror_mode": {
    "name": "ipython",
    "version": 3
   },
   "file_extension": ".py",
   "mimetype": "text/x-python",
   "name": "python",
   "nbconvert_exporter": "python",
   "pygments_lexer": "ipython3",
   "version": "3.11.9"
  }
 },
 "nbformat": 4,
 "nbformat_minor": 2
}
