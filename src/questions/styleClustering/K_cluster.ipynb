{
 "cells": [
  {
   "cell_type": "code",
   "execution_count": 1,
   "metadata": {},
   "outputs": [],
   "source": [
    "import os\n",
    "import subprocess\n",
    "from pathlib import Path\n",
    "\n",
    "\"\"\"\n",
    "Dynamically find the project root (where .git exists) and set it as the current working directory.\n",
    "\"\"\"\n",
    "project_root = Path(subprocess.check_output(['git', 'rev-parse', '--show-toplevel'], text=True).strip())\n",
    "os.chdir(project_root)"
   ]
  },
  {
   "cell_type": "code",
   "execution_count": 6,
   "metadata": {},
   "outputs": [],
   "source": [
    "import pandas as pd\n",
    "\n",
    "from K_mean_cluster import run_clustering\n",
    "\n",
    "\n"
   ]
  },
  {
   "cell_type": "code",
   "execution_count": null,
   "metadata": {},
   "outputs": [],
   "source": [
    "#BA_US_knn_text = pd.read_csv('data/knnData/BA_US_knn_text.csv')\n",
    "\n",
    "#run_clustering(BA_US_knn_text)"
   ]
  },
  {
   "cell_type": "code",
   "execution_count": null,
   "metadata": {},
   "outputs": [],
   "source": [
    "#RB_US_knn_text = pd.read_csv('data/knnData/RB_US_knn_text.csv')\n",
    "\n",
    "#run_clustering(RB_US_knn_text)"
   ]
  },
  {
   "cell_type": "code",
   "execution_count": null,
   "metadata": {},
   "outputs": [],
   "source": [
    "#UMAP clustering\n",
    "from utils.prepData import prep_data\n",
    "BA_US_knn_text = pd.read_csv('data/knnData/BA_US_knn_text.csv')\n",
    "df_total_clustering, states = prep_data(BA_US_knn_text)\n"
   ]
  },
  {
   "cell_type": "code",
   "execution_count": 63,
   "metadata": {},
   "outputs": [
    {
     "name": "stdout",
     "output_type": "stream",
     "text": [
      "(50, 824)\n"
     ]
    },
    {
     "name": "stderr",
     "output_type": "stream",
     "text": [
      "c:\\Users\\iaran\\miniconda3\\envs\\ada\\Lib\\site-packages\\umap\\umap_.py:1952: UserWarning:\n",
      "\n",
      "n_jobs value 1 overridden to 1 by setting random_state. Use no seed for parallelism.\n",
      "\n"
     ]
    },
    {
     "data": {
      "application/vnd.plotly.v1+json": {
       "config": {
        "plotlyServerURL": "https://plot.ly"
       },
       "data": [
        {
         "customdata": [
          [
           "Alabama",
           "0"
          ],
          [
           "Arizona",
           "0"
          ],
          [
           "Arkansas",
           "0"
          ],
          [
           "Georgia",
           "0"
          ],
          [
           "Hawaii",
           "0"
          ],
          [
           "Idaho",
           "0"
          ],
          [
           "Iowa",
           "0"
          ],
          [
           "Kansas",
           "0"
          ],
          [
           "Louisiana",
           "0"
          ],
          [
           "Maine",
           "0"
          ],
          [
           "Michigan",
           "0"
          ],
          [
           "Mississippi",
           "0"
          ],
          [
           "Montana",
           "0"
          ],
          [
           "Nebraska",
           "0"
          ],
          [
           "Nevada",
           "0"
          ],
          [
           "New Mexico",
           "0"
          ],
          [
           "North Dakota",
           "0"
          ],
          [
           "Oklahoma",
           "0"
          ],
          [
           "South Dakota",
           "0"
          ],
          [
           "Utah",
           "0"
          ],
          [
           "Wisconsin",
           "0"
          ],
          [
           "Wyoming",
           "0"
          ]
         ],
         "hovertemplate": "x=%{x}<br>y=%{y}<br>z=%{z}<br>user_state=%{customdata[0]}<extra></extra>",
         "legendgroup": "0",
         "marker": {
          "color": "#3498DB",
          "symbol": "circle"
         },
         "mode": "markers",
         "name": "0",
         "scene": "scene",
         "showlegend": true,
         "type": "scatter3d",
         "x": [
          6.6405839920043945,
          7.147250175476074,
          7.111294269561768,
          6.531479835510254,
          6.8502936363220215,
          6.5990753173828125,
          6.651269912719727,
          6.716540336608887,
          7.539096355438232,
          7.433548450469971,
          6.033186912536621,
          7.0110297203063965,
          6.975183486938477,
          6.2090325355529785,
          7.74483585357666,
          7.628605365753174,
          7.036209583282471,
          6.367396354675293,
          7.1722002029418945,
          7.436161041259766,
          6.33951997756958,
          7.268682956695557
         ],
         "y": [
          1.9462077617645264,
          2.188427686691284,
          2.237318992614746,
          3.215961217880249,
          1.277685284614563,
          2.3287622928619385,
          2.7542293071746826,
          1.7406549453735352,
          2.3201181888580322,
          2.6269264221191406,
          2.6734790802001953,
          1.5719002485275269,
          2.3699862957000732,
          2.2244110107421875,
          1.7965424060821533,
          1.6821297407150269,
          1.180498719215393,
          1.5376299619674683,
          1.7962628602981567,
          1.2574070692062378,
          3.011970281600952,
          1.9492888450622559
         ],
         "z": [
          4.323930263519287,
          3.7891831398010254,
          4.374092102050781,
          4.512800693511963,
          3.9350318908691406,
          4.71572732925415,
          4.175548553466797,
          4.515610218048096,
          3.911193609237671,
          3.615119218826294,
          4.371096134185791,
          3.425713062286377,
          3.677976608276367,
          4.476456642150879,
          4.00952672958374,
          4.301814556121826,
          4.288351058959961,
          3.9631619453430176,
          4.709361553192139,
          4.395587921142578,
          4.510929107666016,
          3.427649974822998
         ]
        },
        {
         "customdata": [
          [
           "Alaska",
           "1"
          ],
          [
           "Delaware",
           "1"
          ],
          [
           "New Hampshire",
           "1"
          ],
          [
           "Texas",
           "1"
          ],
          [
           "West Virginia",
           "1"
          ]
         ],
         "hovertemplate": "x=%{x}<br>y=%{y}<br>z=%{z}<br>user_state=%{customdata[0]}<extra></extra>",
         "legendgroup": "1",
         "marker": {
          "color": "#F1C40F",
          "symbol": "circle"
         },
         "mode": "markers",
         "name": "1",
         "scene": "scene",
         "showlegend": true,
         "type": "scatter3d",
         "x": [
          7.162477970123291,
          7.287134170532227,
          7.332827091217041,
          7.3481669425964355,
          7.019888877868652
         ],
         "y": [
          3.1444060802459717,
          3.430501937866211,
          2.967632532119751,
          3.500779867172241,
          3.6045820713043213
         ],
         "z": [
          2.9065189361572266,
          2.6711435317993164,
          2.9116461277008057,
          3.1807432174682617,
          2.9959542751312256
         ]
        },
        {
         "customdata": [
          [
           "California",
           "2"
          ],
          [
           "Massachusetts",
           "2"
          ],
          [
           "Ohio",
           "2"
          ],
          [
           "Pennsylvania",
           "2"
          ],
          [
           "Washington",
           "2"
          ]
         ],
         "hovertemplate": "x=%{x}<br>y=%{y}<br>z=%{z}<br>user_state=%{customdata[0]}<extra></extra>",
         "legendgroup": "2",
         "marker": {
          "color": "#E74C3C",
          "symbol": "circle"
         },
         "mode": "markers",
         "name": "2",
         "scene": "scene",
         "showlegend": true,
         "type": "scatter3d",
         "x": [
          9.247819900512695,
          8.957996368408203,
          9.121665954589844,
          8.785906791687012,
          8.628719329833984
         ],
         "y": [
          5.4317755699157715,
          5.606068134307861,
          5.740405082702637,
          5.382823467254639,
          5.14676570892334
         ],
         "z": [
          2.983487129211426,
          2.8767426013946533,
          3.162362575531006,
          3.0103952884674072,
          2.840120553970337
         ]
        },
        {
         "customdata": [
          [
           "Colorado",
           "3"
          ],
          [
           "New Jersey",
           "3"
          ],
          [
           "Vermont",
           "3"
          ]
         ],
         "hovertemplate": "x=%{x}<br>y=%{y}<br>z=%{z}<br>user_state=%{customdata[0]}<extra></extra>",
         "legendgroup": "3",
         "marker": {
          "color": "#2ECC71",
          "symbol": "circle"
         },
         "mode": "markers",
         "name": "3",
         "scene": "scene",
         "showlegend": true,
         "type": "scatter3d",
         "x": [
          7.8284807205200195,
          7.925326824188232,
          7.925079822540283
         ],
         "y": [
          5.039789199829102,
          4.857631206512451,
          5.055538654327393
         ],
         "z": [
          2.8190367221832275,
          2.8273751735687256,
          2.6628355979919434
         ]
        },
        {
         "customdata": [
          [
           "Connecticut",
           "4"
          ],
          [
           "Minnesota",
           "4"
          ],
          [
           "North Carolina",
           "4"
          ],
          [
           "Oregon",
           "4"
          ],
          [
           "Tennessee",
           "4"
          ],
          [
           "Virginia",
           "4"
          ]
         ],
         "hovertemplate": "x=%{x}<br>y=%{y}<br>z=%{z}<br>user_state=%{customdata[0]}<extra></extra>",
         "legendgroup": "4",
         "marker": {
          "color": "#9B59B6",
          "symbol": "circle"
         },
         "mode": "markers",
         "name": "4",
         "scene": "scene",
         "showlegend": true,
         "type": "scatter3d",
         "x": [
          5.726592540740967,
          5.978989124298096,
          5.941464900970459,
          5.513739585876465,
          5.707402229309082,
          5.59979772567749
         ],
         "y": [
          3.3398661613464355,
          3.4226529598236084,
          3.701923131942749,
          3.33471941947937,
          3.564385175704956,
          3.7925639152526855
         ],
         "z": [
          3.119873523712158,
          3.2644765377044678,
          2.957940101623535,
          3.322408437728882,
          2.8166608810424805,
          3.1818835735321045
         ]
        },
        {
         "customdata": [
          [
           "Florida",
           "5"
          ],
          [
           "Illinois",
           "5"
          ],
          [
           "Indiana",
           "5"
          ],
          [
           "Kentucky",
           "5"
          ],
          [
           "Maryland",
           "5"
          ],
          [
           "Missouri",
           "5"
          ],
          [
           "New York",
           "5"
          ],
          [
           "Rhode Island",
           "5"
          ],
          [
           "South Carolina",
           "5"
          ]
         ],
         "hovertemplate": "x=%{x}<br>y=%{y}<br>z=%{z}<br>user_state=%{customdata[0]}<extra></extra>",
         "legendgroup": "5",
         "marker": {
          "color": "#1F618D",
          "symbol": "circle"
         },
         "mode": "markers",
         "name": "5",
         "scene": "scene",
         "showlegend": true,
         "type": "scatter3d",
         "x": [
          8.237586975097656,
          8.061773300170898,
          8.451401710510254,
          8.481285095214844,
          8.472933769226074,
          8.315001487731934,
          8.164628028869629,
          7.948061466217041,
          8.47325325012207
         ],
         "y": [
          6.477835655212402,
          6.137242794036865,
          6.046934604644775,
          6.255305767059326,
          6.022010803222656,
          6.562767028808594,
          6.0455451011657715,
          6.370063304901123,
          6.7539963722229
         ],
         "z": [
          3.056220054626465,
          3.0708167552948,
          2.965153932571411,
          3.5480940341949463,
          3.3474926948547363,
          3.39890456199646,
          3.660045862197876,
          3.40149188041687,
          3.071138858795166
         ]
        }
       ],
       "layout": {
        "legend": {
         "title": {
          "text": "Cluster Label"
         },
         "tracegroupgap": 0
        },
        "scene": {
         "domain": {
          "x": [
           0,
           1
          ],
          "y": [
           0,
           1
          ]
         },
         "xaxis": {
          "title": {
           "text": "x"
          }
         },
         "yaxis": {
          "title": {
           "text": "y"
          }
         },
         "zaxis": {
          "title": {
           "text": "z"
          }
         }
        },
        "template": {
         "data": {
          "bar": [
           {
            "error_x": {
             "color": "#2a3f5f"
            },
            "error_y": {
             "color": "#2a3f5f"
            },
            "marker": {
             "line": {
              "color": "#E5ECF6",
              "width": 0.5
             },
             "pattern": {
              "fillmode": "overlay",
              "size": 10,
              "solidity": 0.2
             }
            },
            "type": "bar"
           }
          ],
          "barpolar": [
           {
            "marker": {
             "line": {
              "color": "#E5ECF6",
              "width": 0.5
             },
             "pattern": {
              "fillmode": "overlay",
              "size": 10,
              "solidity": 0.2
             }
            },
            "type": "barpolar"
           }
          ],
          "carpet": [
           {
            "aaxis": {
             "endlinecolor": "#2a3f5f",
             "gridcolor": "white",
             "linecolor": "white",
             "minorgridcolor": "white",
             "startlinecolor": "#2a3f5f"
            },
            "baxis": {
             "endlinecolor": "#2a3f5f",
             "gridcolor": "white",
             "linecolor": "white",
             "minorgridcolor": "white",
             "startlinecolor": "#2a3f5f"
            },
            "type": "carpet"
           }
          ],
          "choropleth": [
           {
            "colorbar": {
             "outlinewidth": 0,
             "ticks": ""
            },
            "type": "choropleth"
           }
          ],
          "contour": [
           {
            "colorbar": {
             "outlinewidth": 0,
             "ticks": ""
            },
            "colorscale": [
             [
              0,
              "#0d0887"
             ],
             [
              0.1111111111111111,
              "#46039f"
             ],
             [
              0.2222222222222222,
              "#7201a8"
             ],
             [
              0.3333333333333333,
              "#9c179e"
             ],
             [
              0.4444444444444444,
              "#bd3786"
             ],
             [
              0.5555555555555556,
              "#d8576b"
             ],
             [
              0.6666666666666666,
              "#ed7953"
             ],
             [
              0.7777777777777778,
              "#fb9f3a"
             ],
             [
              0.8888888888888888,
              "#fdca26"
             ],
             [
              1,
              "#f0f921"
             ]
            ],
            "type": "contour"
           }
          ],
          "contourcarpet": [
           {
            "colorbar": {
             "outlinewidth": 0,
             "ticks": ""
            },
            "type": "contourcarpet"
           }
          ],
          "heatmap": [
           {
            "colorbar": {
             "outlinewidth": 0,
             "ticks": ""
            },
            "colorscale": [
             [
              0,
              "#0d0887"
             ],
             [
              0.1111111111111111,
              "#46039f"
             ],
             [
              0.2222222222222222,
              "#7201a8"
             ],
             [
              0.3333333333333333,
              "#9c179e"
             ],
             [
              0.4444444444444444,
              "#bd3786"
             ],
             [
              0.5555555555555556,
              "#d8576b"
             ],
             [
              0.6666666666666666,
              "#ed7953"
             ],
             [
              0.7777777777777778,
              "#fb9f3a"
             ],
             [
              0.8888888888888888,
              "#fdca26"
             ],
             [
              1,
              "#f0f921"
             ]
            ],
            "type": "heatmap"
           }
          ],
          "heatmapgl": [
           {
            "colorbar": {
             "outlinewidth": 0,
             "ticks": ""
            },
            "colorscale": [
             [
              0,
              "#0d0887"
             ],
             [
              0.1111111111111111,
              "#46039f"
             ],
             [
              0.2222222222222222,
              "#7201a8"
             ],
             [
              0.3333333333333333,
              "#9c179e"
             ],
             [
              0.4444444444444444,
              "#bd3786"
             ],
             [
              0.5555555555555556,
              "#d8576b"
             ],
             [
              0.6666666666666666,
              "#ed7953"
             ],
             [
              0.7777777777777778,
              "#fb9f3a"
             ],
             [
              0.8888888888888888,
              "#fdca26"
             ],
             [
              1,
              "#f0f921"
             ]
            ],
            "type": "heatmapgl"
           }
          ],
          "histogram": [
           {
            "marker": {
             "pattern": {
              "fillmode": "overlay",
              "size": 10,
              "solidity": 0.2
             }
            },
            "type": "histogram"
           }
          ],
          "histogram2d": [
           {
            "colorbar": {
             "outlinewidth": 0,
             "ticks": ""
            },
            "colorscale": [
             [
              0,
              "#0d0887"
             ],
             [
              0.1111111111111111,
              "#46039f"
             ],
             [
              0.2222222222222222,
              "#7201a8"
             ],
             [
              0.3333333333333333,
              "#9c179e"
             ],
             [
              0.4444444444444444,
              "#bd3786"
             ],
             [
              0.5555555555555556,
              "#d8576b"
             ],
             [
              0.6666666666666666,
              "#ed7953"
             ],
             [
              0.7777777777777778,
              "#fb9f3a"
             ],
             [
              0.8888888888888888,
              "#fdca26"
             ],
             [
              1,
              "#f0f921"
             ]
            ],
            "type": "histogram2d"
           }
          ],
          "histogram2dcontour": [
           {
            "colorbar": {
             "outlinewidth": 0,
             "ticks": ""
            },
            "colorscale": [
             [
              0,
              "#0d0887"
             ],
             [
              0.1111111111111111,
              "#46039f"
             ],
             [
              0.2222222222222222,
              "#7201a8"
             ],
             [
              0.3333333333333333,
              "#9c179e"
             ],
             [
              0.4444444444444444,
              "#bd3786"
             ],
             [
              0.5555555555555556,
              "#d8576b"
             ],
             [
              0.6666666666666666,
              "#ed7953"
             ],
             [
              0.7777777777777778,
              "#fb9f3a"
             ],
             [
              0.8888888888888888,
              "#fdca26"
             ],
             [
              1,
              "#f0f921"
             ]
            ],
            "type": "histogram2dcontour"
           }
          ],
          "mesh3d": [
           {
            "colorbar": {
             "outlinewidth": 0,
             "ticks": ""
            },
            "type": "mesh3d"
           }
          ],
          "parcoords": [
           {
            "line": {
             "colorbar": {
              "outlinewidth": 0,
              "ticks": ""
             }
            },
            "type": "parcoords"
           }
          ],
          "pie": [
           {
            "automargin": true,
            "type": "pie"
           }
          ],
          "scatter": [
           {
            "fillpattern": {
             "fillmode": "overlay",
             "size": 10,
             "solidity": 0.2
            },
            "type": "scatter"
           }
          ],
          "scatter3d": [
           {
            "line": {
             "colorbar": {
              "outlinewidth": 0,
              "ticks": ""
             }
            },
            "marker": {
             "colorbar": {
              "outlinewidth": 0,
              "ticks": ""
             }
            },
            "type": "scatter3d"
           }
          ],
          "scattercarpet": [
           {
            "marker": {
             "colorbar": {
              "outlinewidth": 0,
              "ticks": ""
             }
            },
            "type": "scattercarpet"
           }
          ],
          "scattergeo": [
           {
            "marker": {
             "colorbar": {
              "outlinewidth": 0,
              "ticks": ""
             }
            },
            "type": "scattergeo"
           }
          ],
          "scattergl": [
           {
            "marker": {
             "colorbar": {
              "outlinewidth": 0,
              "ticks": ""
             }
            },
            "type": "scattergl"
           }
          ],
          "scattermapbox": [
           {
            "marker": {
             "colorbar": {
              "outlinewidth": 0,
              "ticks": ""
             }
            },
            "type": "scattermapbox"
           }
          ],
          "scatterpolar": [
           {
            "marker": {
             "colorbar": {
              "outlinewidth": 0,
              "ticks": ""
             }
            },
            "type": "scatterpolar"
           }
          ],
          "scatterpolargl": [
           {
            "marker": {
             "colorbar": {
              "outlinewidth": 0,
              "ticks": ""
             }
            },
            "type": "scatterpolargl"
           }
          ],
          "scatterternary": [
           {
            "marker": {
             "colorbar": {
              "outlinewidth": 0,
              "ticks": ""
             }
            },
            "type": "scatterternary"
           }
          ],
          "surface": [
           {
            "colorbar": {
             "outlinewidth": 0,
             "ticks": ""
            },
            "colorscale": [
             [
              0,
              "#0d0887"
             ],
             [
              0.1111111111111111,
              "#46039f"
             ],
             [
              0.2222222222222222,
              "#7201a8"
             ],
             [
              0.3333333333333333,
              "#9c179e"
             ],
             [
              0.4444444444444444,
              "#bd3786"
             ],
             [
              0.5555555555555556,
              "#d8576b"
             ],
             [
              0.6666666666666666,
              "#ed7953"
             ],
             [
              0.7777777777777778,
              "#fb9f3a"
             ],
             [
              0.8888888888888888,
              "#fdca26"
             ],
             [
              1,
              "#f0f921"
             ]
            ],
            "type": "surface"
           }
          ],
          "table": [
           {
            "cells": {
             "fill": {
              "color": "#EBF0F8"
             },
             "line": {
              "color": "white"
             }
            },
            "header": {
             "fill": {
              "color": "#C8D4E3"
             },
             "line": {
              "color": "white"
             }
            },
            "type": "table"
           }
          ]
         },
         "layout": {
          "annotationdefaults": {
           "arrowcolor": "#2a3f5f",
           "arrowhead": 0,
           "arrowwidth": 1
          },
          "autotypenumbers": "strict",
          "coloraxis": {
           "colorbar": {
            "outlinewidth": 0,
            "ticks": ""
           }
          },
          "colorscale": {
           "diverging": [
            [
             0,
             "#8e0152"
            ],
            [
             0.1,
             "#c51b7d"
            ],
            [
             0.2,
             "#de77ae"
            ],
            [
             0.3,
             "#f1b6da"
            ],
            [
             0.4,
             "#fde0ef"
            ],
            [
             0.5,
             "#f7f7f7"
            ],
            [
             0.6,
             "#e6f5d0"
            ],
            [
             0.7,
             "#b8e186"
            ],
            [
             0.8,
             "#7fbc41"
            ],
            [
             0.9,
             "#4d9221"
            ],
            [
             1,
             "#276419"
            ]
           ],
           "sequential": [
            [
             0,
             "#0d0887"
            ],
            [
             0.1111111111111111,
             "#46039f"
            ],
            [
             0.2222222222222222,
             "#7201a8"
            ],
            [
             0.3333333333333333,
             "#9c179e"
            ],
            [
             0.4444444444444444,
             "#bd3786"
            ],
            [
             0.5555555555555556,
             "#d8576b"
            ],
            [
             0.6666666666666666,
             "#ed7953"
            ],
            [
             0.7777777777777778,
             "#fb9f3a"
            ],
            [
             0.8888888888888888,
             "#fdca26"
            ],
            [
             1,
             "#f0f921"
            ]
           ],
           "sequentialminus": [
            [
             0,
             "#0d0887"
            ],
            [
             0.1111111111111111,
             "#46039f"
            ],
            [
             0.2222222222222222,
             "#7201a8"
            ],
            [
             0.3333333333333333,
             "#9c179e"
            ],
            [
             0.4444444444444444,
             "#bd3786"
            ],
            [
             0.5555555555555556,
             "#d8576b"
            ],
            [
             0.6666666666666666,
             "#ed7953"
            ],
            [
             0.7777777777777778,
             "#fb9f3a"
            ],
            [
             0.8888888888888888,
             "#fdca26"
            ],
            [
             1,
             "#f0f921"
            ]
           ]
          },
          "colorway": [
           "#636efa",
           "#EF553B",
           "#00cc96",
           "#ab63fa",
           "#FFA15A",
           "#19d3f3",
           "#FF6692",
           "#B6E880",
           "#FF97FF",
           "#FECB52"
          ],
          "font": {
           "color": "#2a3f5f"
          },
          "geo": {
           "bgcolor": "white",
           "lakecolor": "white",
           "landcolor": "#E5ECF6",
           "showlakes": true,
           "showland": true,
           "subunitcolor": "white"
          },
          "hoverlabel": {
           "align": "left"
          },
          "hovermode": "closest",
          "mapbox": {
           "style": "light"
          },
          "paper_bgcolor": "white",
          "plot_bgcolor": "#E5ECF6",
          "polar": {
           "angularaxis": {
            "gridcolor": "white",
            "linecolor": "white",
            "ticks": ""
           },
           "bgcolor": "#E5ECF6",
           "radialaxis": {
            "gridcolor": "white",
            "linecolor": "white",
            "ticks": ""
           }
          },
          "scene": {
           "xaxis": {
            "backgroundcolor": "#E5ECF6",
            "gridcolor": "white",
            "gridwidth": 2,
            "linecolor": "white",
            "showbackground": true,
            "ticks": "",
            "zerolinecolor": "white"
           },
           "yaxis": {
            "backgroundcolor": "#E5ECF6",
            "gridcolor": "white",
            "gridwidth": 2,
            "linecolor": "white",
            "showbackground": true,
            "ticks": "",
            "zerolinecolor": "white"
           },
           "zaxis": {
            "backgroundcolor": "#E5ECF6",
            "gridcolor": "white",
            "gridwidth": 2,
            "linecolor": "white",
            "showbackground": true,
            "ticks": "",
            "zerolinecolor": "white"
           }
          },
          "shapedefaults": {
           "line": {
            "color": "#2a3f5f"
           }
          },
          "ternary": {
           "aaxis": {
            "gridcolor": "white",
            "linecolor": "white",
            "ticks": ""
           },
           "baxis": {
            "gridcolor": "white",
            "linecolor": "white",
            "ticks": ""
           },
           "bgcolor": "#E5ECF6",
           "caxis": {
            "gridcolor": "white",
            "linecolor": "white",
            "ticks": ""
           }
          },
          "title": {
           "x": 0.05
          },
          "xaxis": {
           "automargin": true,
           "gridcolor": "white",
           "linecolor": "white",
           "ticks": "",
           "title": {
            "standoff": 15
           },
           "zerolinecolor": "white",
           "zerolinewidth": 2
          },
          "yaxis": {
           "automargin": true,
           "gridcolor": "white",
           "linecolor": "white",
           "ticks": "",
           "title": {
            "standoff": 15
           },
           "zerolinecolor": "white",
           "zerolinewidth": 2
          }
         }
        },
        "title": {
         "text": "DBSCAN Clustering on UMAP"
        }
       }
      }
     },
     "metadata": {},
     "output_type": "display_data"
    }
   ],
   "source": [
    "import umap\n",
    "import pandas as pd\n",
    "import plotly.express as px\n",
    "from sklearn.cluster import DBSCAN\n",
    "import geopandas as gpd\n",
    "\n",
    "# Step 1: Drop the 'user_state' column as it's just an identifier and not used for UMAP\n",
    "df_total_clustering_cleaned = df_total_clustering.drop(columns=['user_state'])\n",
    "\n",
    "print(df_total_clustering_cleaned.shape)\n",
    "# Fill NaN values with 0\n",
    "df_cleaned = df_total_clustering_cleaned.fillna(0)\n",
    "\n",
    "# Apply UMAP to reduce dimensions to 3\n",
    "umap_3d = umap.UMAP(n_components=3, random_state=42)\n",
    "embedding_3d = umap_3d.fit_transform(df_cleaned)\n",
    "\n",
    "# Perform DBSCAN clustering\n",
    "dbscan = DBSCAN(eps=0.65, min_samples=3)  # Tune eps and min_samples for better clustering\n",
    "dbscan_labels = dbscan.fit_predict(embedding_3d)\n",
    "\n",
    "# Add the cluster labels back to the dataframe\n",
    "df_cleaned['Cluster'] = dbscan_labels\n",
    "df_cleaned['user_state'] = df_total_clustering['user_state']  # Assuming original_df has 'user_state'\n",
    "\n",
    "# Define a consistent color map for clusters\n",
    "cluster_color_map = {\n",
    "    '0': \"#3498DB\",  # Sky Blue\n",
    "    '1': \"#F1C40F\",  # Gold\n",
    "    '2': \"#E74C3C\",  # Tomato Red\n",
    "    '3': \"#2ECC71\",  # Emerald Green\n",
    "    '4': \"#9B59B6\",  # Amethyst Purple\n",
    "    '5': \"#1F618D\"   # Deep Blue\n",
    "}\n",
    "\n",
    "# Convert DBSCAN labels to a string format for Plotly (optional for cleaner hover info)\n",
    "df_cleaned['Cluster'] = df_cleaned['Cluster'].astype(str)\n",
    "\n",
    "# Plot the 3D UMAP with Plotly\n",
    "fig = px.scatter_3d(\n",
    "    df_cleaned,\n",
    "    x=embedding_3d[:, 0],\n",
    "    y=embedding_3d[:, 1],\n",
    "    z=embedding_3d[:, 2],\n",
    "    title=\"DBSCAN Clustering on UMAP\",\n",
    "    labels={'Cluster': 'Cluster Label'},\n",
    "    hover_data={'user_state': True, 'Cluster': False},  # Only show user_state on hover, hide Cluster\n",
    "    color = 'Cluster',\n",
    "    color_discrete_map=cluster_color_map  # Apply custom colors\n",
    ")\n",
    "\n",
    "fig.show()\n",
    "\n",
    "\n",
    "\n",
    "# Draw the map with consistent colors\n"
   ]
  },
  {
   "cell_type": "code",
   "execution_count": 64,
   "metadata": {},
   "outputs": [
    {
     "data": {
      "application/vnd.plotly.v1+json": {
       "config": {
        "plotlyServerURL": "https://plot.ly"
       },
       "data": [
        {
         "colorscale": [
          [
           0,
           "#3498DB"
          ],
          [
           1,
           "#3498DB"
          ]
         ],
         "customdata": [
          [
           "Alabama",
           "0",
           "AL"
          ],
          [
           "Arizona",
           "0",
           "AZ"
          ],
          [
           "Arkansas",
           "0",
           "AR"
          ],
          [
           "Georgia",
           "0",
           "GA"
          ],
          [
           "Hawaii",
           "0",
           "HI"
          ],
          [
           "Idaho",
           "0",
           "ID"
          ],
          [
           "Iowa",
           "0",
           "IA"
          ],
          [
           "Kansas",
           "0",
           "KS"
          ],
          [
           "Louisiana",
           "0",
           "LA"
          ],
          [
           "Maine",
           "0",
           "ME"
          ],
          [
           "Michigan",
           "0",
           "MI"
          ],
          [
           "Mississippi",
           "0",
           "MS"
          ],
          [
           "Montana",
           "0",
           "MT"
          ],
          [
           "Nebraska",
           "0",
           "NE"
          ],
          [
           "Nevada",
           "0",
           "NV"
          ],
          [
           "New Mexico",
           "0",
           "NM"
          ],
          [
           "North Dakota",
           "0",
           "ND"
          ],
          [
           "Oklahoma",
           "0",
           "OK"
          ],
          [
           "South Dakota",
           "0",
           "SD"
          ],
          [
           "Utah",
           "0",
           "UT"
          ],
          [
           "Wisconsin",
           "0",
           "WI"
          ],
          [
           "Wyoming",
           "0",
           "WY"
          ]
         ],
         "geo": "geo",
         "hovertemplate": "<b>%{hovertext}</b><br><br><extra></extra>",
         "hovertext": [
          "Alabama",
          "Arizona",
          "Arkansas",
          "Georgia",
          "Hawaii",
          "Idaho",
          "Iowa",
          "Kansas",
          "Louisiana",
          "Maine",
          "Michigan",
          "Mississippi",
          "Montana",
          "Nebraska",
          "Nevada",
          "New Mexico",
          "North Dakota",
          "Oklahoma",
          "South Dakota",
          "Utah",
          "Wisconsin",
          "Wyoming"
         ],
         "locationmode": "USA-states",
         "locations": [
          "AL",
          "AZ",
          "AR",
          "GA",
          "HI",
          "ID",
          "IA",
          "KS",
          "LA",
          "ME",
          "MI",
          "MS",
          "MT",
          "NE",
          "NV",
          "NM",
          "ND",
          "OK",
          "SD",
          "UT",
          "WI",
          "WY"
         ],
         "name": "0",
         "showlegend": true,
         "showscale": false,
         "type": "choropleth",
         "z": [
          1,
          1,
          1,
          1,
          1,
          1,
          1,
          1,
          1,
          1,
          1,
          1,
          1,
          1,
          1,
          1,
          1,
          1,
          1,
          1,
          1,
          1
         ]
        },
        {
         "colorscale": [
          [
           0,
           "#F1C40F"
          ],
          [
           1,
           "#F1C40F"
          ]
         ],
         "customdata": [
          [
           "Alaska",
           "1",
           "AK"
          ],
          [
           "Delaware",
           "1",
           "DE"
          ],
          [
           "New Hampshire",
           "1",
           "NH"
          ],
          [
           "Texas",
           "1",
           "TX"
          ],
          [
           "West Virginia",
           "1",
           "WV"
          ]
         ],
         "geo": "geo",
         "hovertemplate": "<b>%{hovertext}</b><br><br><extra></extra>",
         "hovertext": [
          "Alaska",
          "Delaware",
          "New Hampshire",
          "Texas",
          "West Virginia"
         ],
         "locationmode": "USA-states",
         "locations": [
          "AK",
          "DE",
          "NH",
          "TX",
          "WV"
         ],
         "name": "1",
         "showlegend": true,
         "showscale": false,
         "type": "choropleth",
         "z": [
          1,
          1,
          1,
          1,
          1
         ]
        },
        {
         "colorscale": [
          [
           0,
           "#E74C3C"
          ],
          [
           1,
           "#E74C3C"
          ]
         ],
         "customdata": [
          [
           "California",
           "2",
           "CA"
          ],
          [
           "Massachusetts",
           "2",
           "MA"
          ],
          [
           "Ohio",
           "2",
           "OH"
          ],
          [
           "Pennsylvania",
           "2",
           "PA"
          ],
          [
           "Washington",
           "2",
           "WA"
          ]
         ],
         "geo": "geo",
         "hovertemplate": "<b>%{hovertext}</b><br><br><extra></extra>",
         "hovertext": [
          "California",
          "Massachusetts",
          "Ohio",
          "Pennsylvania",
          "Washington"
         ],
         "locationmode": "USA-states",
         "locations": [
          "CA",
          "MA",
          "OH",
          "PA",
          "WA"
         ],
         "name": "2",
         "showlegend": true,
         "showscale": false,
         "type": "choropleth",
         "z": [
          1,
          1,
          1,
          1,
          1
         ]
        },
        {
         "colorscale": [
          [
           0,
           "#2ECC71"
          ],
          [
           1,
           "#2ECC71"
          ]
         ],
         "customdata": [
          [
           "Colorado",
           "3",
           "CO"
          ],
          [
           "New Jersey",
           "3",
           "NJ"
          ],
          [
           "Vermont",
           "3",
           "VT"
          ]
         ],
         "geo": "geo",
         "hovertemplate": "<b>%{hovertext}</b><br><br><extra></extra>",
         "hovertext": [
          "Colorado",
          "New Jersey",
          "Vermont"
         ],
         "locationmode": "USA-states",
         "locations": [
          "CO",
          "NJ",
          "VT"
         ],
         "name": "3",
         "showlegend": true,
         "showscale": false,
         "type": "choropleth",
         "z": [
          1,
          1,
          1
         ]
        },
        {
         "colorscale": [
          [
           0,
           "#9B59B6"
          ],
          [
           1,
           "#9B59B6"
          ]
         ],
         "customdata": [
          [
           "Connecticut",
           "4",
           "CT"
          ],
          [
           "Minnesota",
           "4",
           "MN"
          ],
          [
           "North Carolina",
           "4",
           "NC"
          ],
          [
           "Oregon",
           "4",
           "OR"
          ],
          [
           "Tennessee",
           "4",
           "TN"
          ],
          [
           "Virginia",
           "4",
           "VA"
          ]
         ],
         "geo": "geo",
         "hovertemplate": "<b>%{hovertext}</b><br><br><extra></extra>",
         "hovertext": [
          "Connecticut",
          "Minnesota",
          "North Carolina",
          "Oregon",
          "Tennessee",
          "Virginia"
         ],
         "locationmode": "USA-states",
         "locations": [
          "CT",
          "MN",
          "NC",
          "OR",
          "TN",
          "VA"
         ],
         "name": "4",
         "showlegend": true,
         "showscale": false,
         "type": "choropleth",
         "z": [
          1,
          1,
          1,
          1,
          1,
          1
         ]
        },
        {
         "colorscale": [
          [
           0,
           "#1F618D"
          ],
          [
           1,
           "#1F618D"
          ]
         ],
         "customdata": [
          [
           "Florida",
           "5",
           "FL"
          ],
          [
           "Illinois",
           "5",
           "IL"
          ],
          [
           "Indiana",
           "5",
           "IN"
          ],
          [
           "Kentucky",
           "5",
           "KY"
          ],
          [
           "Maryland",
           "5",
           "MD"
          ],
          [
           "Missouri",
           "5",
           "MO"
          ],
          [
           "New York",
           "5",
           "NY"
          ],
          [
           "Rhode Island",
           "5",
           "RI"
          ],
          [
           "South Carolina",
           "5",
           "SC"
          ]
         ],
         "geo": "geo",
         "hovertemplate": "<b>%{hovertext}</b><br><br><extra></extra>",
         "hovertext": [
          "Florida",
          "Illinois",
          "Indiana",
          "Kentucky",
          "Maryland",
          "Missouri",
          "New York",
          "Rhode Island",
          "South Carolina"
         ],
         "locationmode": "USA-states",
         "locations": [
          "FL",
          "IL",
          "IN",
          "KY",
          "MD",
          "MO",
          "NY",
          "RI",
          "SC"
         ],
         "name": "5",
         "showlegend": true,
         "showscale": false,
         "type": "choropleth",
         "z": [
          1,
          1,
          1,
          1,
          1,
          1,
          1,
          1,
          1
         ]
        }
       ],
       "layout": {
        "geo": {
         "center": {},
         "domain": {
          "x": [
           0,
           1
          ],
          "y": [
           0,
           1
          ]
         },
         "projection": {
          "type": "albers usa"
         },
         "scope": "usa"
        },
        "height": 600,
        "legend": {
         "title": {
          "text": "Cluster"
         },
         "tracegroupgap": 0
        },
        "template": {
         "data": {
          "bar": [
           {
            "error_x": {
             "color": "#2a3f5f"
            },
            "error_y": {
             "color": "#2a3f5f"
            },
            "marker": {
             "line": {
              "color": "#E5ECF6",
              "width": 0.5
             },
             "pattern": {
              "fillmode": "overlay",
              "size": 10,
              "solidity": 0.2
             }
            },
            "type": "bar"
           }
          ],
          "barpolar": [
           {
            "marker": {
             "line": {
              "color": "#E5ECF6",
              "width": 0.5
             },
             "pattern": {
              "fillmode": "overlay",
              "size": 10,
              "solidity": 0.2
             }
            },
            "type": "barpolar"
           }
          ],
          "carpet": [
           {
            "aaxis": {
             "endlinecolor": "#2a3f5f",
             "gridcolor": "white",
             "linecolor": "white",
             "minorgridcolor": "white",
             "startlinecolor": "#2a3f5f"
            },
            "baxis": {
             "endlinecolor": "#2a3f5f",
             "gridcolor": "white",
             "linecolor": "white",
             "minorgridcolor": "white",
             "startlinecolor": "#2a3f5f"
            },
            "type": "carpet"
           }
          ],
          "choropleth": [
           {
            "colorbar": {
             "outlinewidth": 0,
             "ticks": ""
            },
            "type": "choropleth"
           }
          ],
          "contour": [
           {
            "colorbar": {
             "outlinewidth": 0,
             "ticks": ""
            },
            "colorscale": [
             [
              0,
              "#0d0887"
             ],
             [
              0.1111111111111111,
              "#46039f"
             ],
             [
              0.2222222222222222,
              "#7201a8"
             ],
             [
              0.3333333333333333,
              "#9c179e"
             ],
             [
              0.4444444444444444,
              "#bd3786"
             ],
             [
              0.5555555555555556,
              "#d8576b"
             ],
             [
              0.6666666666666666,
              "#ed7953"
             ],
             [
              0.7777777777777778,
              "#fb9f3a"
             ],
             [
              0.8888888888888888,
              "#fdca26"
             ],
             [
              1,
              "#f0f921"
             ]
            ],
            "type": "contour"
           }
          ],
          "contourcarpet": [
           {
            "colorbar": {
             "outlinewidth": 0,
             "ticks": ""
            },
            "type": "contourcarpet"
           }
          ],
          "heatmap": [
           {
            "colorbar": {
             "outlinewidth": 0,
             "ticks": ""
            },
            "colorscale": [
             [
              0,
              "#0d0887"
             ],
             [
              0.1111111111111111,
              "#46039f"
             ],
             [
              0.2222222222222222,
              "#7201a8"
             ],
             [
              0.3333333333333333,
              "#9c179e"
             ],
             [
              0.4444444444444444,
              "#bd3786"
             ],
             [
              0.5555555555555556,
              "#d8576b"
             ],
             [
              0.6666666666666666,
              "#ed7953"
             ],
             [
              0.7777777777777778,
              "#fb9f3a"
             ],
             [
              0.8888888888888888,
              "#fdca26"
             ],
             [
              1,
              "#f0f921"
             ]
            ],
            "type": "heatmap"
           }
          ],
          "heatmapgl": [
           {
            "colorbar": {
             "outlinewidth": 0,
             "ticks": ""
            },
            "colorscale": [
             [
              0,
              "#0d0887"
             ],
             [
              0.1111111111111111,
              "#46039f"
             ],
             [
              0.2222222222222222,
              "#7201a8"
             ],
             [
              0.3333333333333333,
              "#9c179e"
             ],
             [
              0.4444444444444444,
              "#bd3786"
             ],
             [
              0.5555555555555556,
              "#d8576b"
             ],
             [
              0.6666666666666666,
              "#ed7953"
             ],
             [
              0.7777777777777778,
              "#fb9f3a"
             ],
             [
              0.8888888888888888,
              "#fdca26"
             ],
             [
              1,
              "#f0f921"
             ]
            ],
            "type": "heatmapgl"
           }
          ],
          "histogram": [
           {
            "marker": {
             "pattern": {
              "fillmode": "overlay",
              "size": 10,
              "solidity": 0.2
             }
            },
            "type": "histogram"
           }
          ],
          "histogram2d": [
           {
            "colorbar": {
             "outlinewidth": 0,
             "ticks": ""
            },
            "colorscale": [
             [
              0,
              "#0d0887"
             ],
             [
              0.1111111111111111,
              "#46039f"
             ],
             [
              0.2222222222222222,
              "#7201a8"
             ],
             [
              0.3333333333333333,
              "#9c179e"
             ],
             [
              0.4444444444444444,
              "#bd3786"
             ],
             [
              0.5555555555555556,
              "#d8576b"
             ],
             [
              0.6666666666666666,
              "#ed7953"
             ],
             [
              0.7777777777777778,
              "#fb9f3a"
             ],
             [
              0.8888888888888888,
              "#fdca26"
             ],
             [
              1,
              "#f0f921"
             ]
            ],
            "type": "histogram2d"
           }
          ],
          "histogram2dcontour": [
           {
            "colorbar": {
             "outlinewidth": 0,
             "ticks": ""
            },
            "colorscale": [
             [
              0,
              "#0d0887"
             ],
             [
              0.1111111111111111,
              "#46039f"
             ],
             [
              0.2222222222222222,
              "#7201a8"
             ],
             [
              0.3333333333333333,
              "#9c179e"
             ],
             [
              0.4444444444444444,
              "#bd3786"
             ],
             [
              0.5555555555555556,
              "#d8576b"
             ],
             [
              0.6666666666666666,
              "#ed7953"
             ],
             [
              0.7777777777777778,
              "#fb9f3a"
             ],
             [
              0.8888888888888888,
              "#fdca26"
             ],
             [
              1,
              "#f0f921"
             ]
            ],
            "type": "histogram2dcontour"
           }
          ],
          "mesh3d": [
           {
            "colorbar": {
             "outlinewidth": 0,
             "ticks": ""
            },
            "type": "mesh3d"
           }
          ],
          "parcoords": [
           {
            "line": {
             "colorbar": {
              "outlinewidth": 0,
              "ticks": ""
             }
            },
            "type": "parcoords"
           }
          ],
          "pie": [
           {
            "automargin": true,
            "type": "pie"
           }
          ],
          "scatter": [
           {
            "fillpattern": {
             "fillmode": "overlay",
             "size": 10,
             "solidity": 0.2
            },
            "type": "scatter"
           }
          ],
          "scatter3d": [
           {
            "line": {
             "colorbar": {
              "outlinewidth": 0,
              "ticks": ""
             }
            },
            "marker": {
             "colorbar": {
              "outlinewidth": 0,
              "ticks": ""
             }
            },
            "type": "scatter3d"
           }
          ],
          "scattercarpet": [
           {
            "marker": {
             "colorbar": {
              "outlinewidth": 0,
              "ticks": ""
             }
            },
            "type": "scattercarpet"
           }
          ],
          "scattergeo": [
           {
            "marker": {
             "colorbar": {
              "outlinewidth": 0,
              "ticks": ""
             }
            },
            "type": "scattergeo"
           }
          ],
          "scattergl": [
           {
            "marker": {
             "colorbar": {
              "outlinewidth": 0,
              "ticks": ""
             }
            },
            "type": "scattergl"
           }
          ],
          "scattermapbox": [
           {
            "marker": {
             "colorbar": {
              "outlinewidth": 0,
              "ticks": ""
             }
            },
            "type": "scattermapbox"
           }
          ],
          "scatterpolar": [
           {
            "marker": {
             "colorbar": {
              "outlinewidth": 0,
              "ticks": ""
             }
            },
            "type": "scatterpolar"
           }
          ],
          "scatterpolargl": [
           {
            "marker": {
             "colorbar": {
              "outlinewidth": 0,
              "ticks": ""
             }
            },
            "type": "scatterpolargl"
           }
          ],
          "scatterternary": [
           {
            "marker": {
             "colorbar": {
              "outlinewidth": 0,
              "ticks": ""
             }
            },
            "type": "scatterternary"
           }
          ],
          "surface": [
           {
            "colorbar": {
             "outlinewidth": 0,
             "ticks": ""
            },
            "colorscale": [
             [
              0,
              "#0d0887"
             ],
             [
              0.1111111111111111,
              "#46039f"
             ],
             [
              0.2222222222222222,
              "#7201a8"
             ],
             [
              0.3333333333333333,
              "#9c179e"
             ],
             [
              0.4444444444444444,
              "#bd3786"
             ],
             [
              0.5555555555555556,
              "#d8576b"
             ],
             [
              0.6666666666666666,
              "#ed7953"
             ],
             [
              0.7777777777777778,
              "#fb9f3a"
             ],
             [
              0.8888888888888888,
              "#fdca26"
             ],
             [
              1,
              "#f0f921"
             ]
            ],
            "type": "surface"
           }
          ],
          "table": [
           {
            "cells": {
             "fill": {
              "color": "#EBF0F8"
             },
             "line": {
              "color": "white"
             }
            },
            "header": {
             "fill": {
              "color": "#C8D4E3"
             },
             "line": {
              "color": "white"
             }
            },
            "type": "table"
           }
          ]
         },
         "layout": {
          "annotationdefaults": {
           "arrowcolor": "#2a3f5f",
           "arrowhead": 0,
           "arrowwidth": 1
          },
          "autotypenumbers": "strict",
          "coloraxis": {
           "colorbar": {
            "outlinewidth": 0,
            "ticks": ""
           }
          },
          "colorscale": {
           "diverging": [
            [
             0,
             "#8e0152"
            ],
            [
             0.1,
             "#c51b7d"
            ],
            [
             0.2,
             "#de77ae"
            ],
            [
             0.3,
             "#f1b6da"
            ],
            [
             0.4,
             "#fde0ef"
            ],
            [
             0.5,
             "#f7f7f7"
            ],
            [
             0.6,
             "#e6f5d0"
            ],
            [
             0.7,
             "#b8e186"
            ],
            [
             0.8,
             "#7fbc41"
            ],
            [
             0.9,
             "#4d9221"
            ],
            [
             1,
             "#276419"
            ]
           ],
           "sequential": [
            [
             0,
             "#0d0887"
            ],
            [
             0.1111111111111111,
             "#46039f"
            ],
            [
             0.2222222222222222,
             "#7201a8"
            ],
            [
             0.3333333333333333,
             "#9c179e"
            ],
            [
             0.4444444444444444,
             "#bd3786"
            ],
            [
             0.5555555555555556,
             "#d8576b"
            ],
            [
             0.6666666666666666,
             "#ed7953"
            ],
            [
             0.7777777777777778,
             "#fb9f3a"
            ],
            [
             0.8888888888888888,
             "#fdca26"
            ],
            [
             1,
             "#f0f921"
            ]
           ],
           "sequentialminus": [
            [
             0,
             "#0d0887"
            ],
            [
             0.1111111111111111,
             "#46039f"
            ],
            [
             0.2222222222222222,
             "#7201a8"
            ],
            [
             0.3333333333333333,
             "#9c179e"
            ],
            [
             0.4444444444444444,
             "#bd3786"
            ],
            [
             0.5555555555555556,
             "#d8576b"
            ],
            [
             0.6666666666666666,
             "#ed7953"
            ],
            [
             0.7777777777777778,
             "#fb9f3a"
            ],
            [
             0.8888888888888888,
             "#fdca26"
            ],
            [
             1,
             "#f0f921"
            ]
           ]
          },
          "colorway": [
           "#636efa",
           "#EF553B",
           "#00cc96",
           "#ab63fa",
           "#FFA15A",
           "#19d3f3",
           "#FF6692",
           "#B6E880",
           "#FF97FF",
           "#FECB52"
          ],
          "font": {
           "color": "#2a3f5f"
          },
          "geo": {
           "bgcolor": "white",
           "lakecolor": "white",
           "landcolor": "#E5ECF6",
           "showlakes": true,
           "showland": true,
           "subunitcolor": "white"
          },
          "hoverlabel": {
           "align": "left"
          },
          "hovermode": "closest",
          "mapbox": {
           "style": "light"
          },
          "paper_bgcolor": "white",
          "plot_bgcolor": "#E5ECF6",
          "polar": {
           "angularaxis": {
            "gridcolor": "white",
            "linecolor": "white",
            "ticks": ""
           },
           "bgcolor": "#E5ECF6",
           "radialaxis": {
            "gridcolor": "white",
            "linecolor": "white",
            "ticks": ""
           }
          },
          "scene": {
           "xaxis": {
            "backgroundcolor": "#E5ECF6",
            "gridcolor": "white",
            "gridwidth": 2,
            "linecolor": "white",
            "showbackground": true,
            "ticks": "",
            "zerolinecolor": "white"
           },
           "yaxis": {
            "backgroundcolor": "#E5ECF6",
            "gridcolor": "white",
            "gridwidth": 2,
            "linecolor": "white",
            "showbackground": true,
            "ticks": "",
            "zerolinecolor": "white"
           },
           "zaxis": {
            "backgroundcolor": "#E5ECF6",
            "gridcolor": "white",
            "gridwidth": 2,
            "linecolor": "white",
            "showbackground": true,
            "ticks": "",
            "zerolinecolor": "white"
           }
          },
          "shapedefaults": {
           "line": {
            "color": "#2a3f5f"
           }
          },
          "ternary": {
           "aaxis": {
            "gridcolor": "white",
            "linecolor": "white",
            "ticks": ""
           },
           "baxis": {
            "gridcolor": "white",
            "linecolor": "white",
            "ticks": ""
           },
           "bgcolor": "#E5ECF6",
           "caxis": {
            "gridcolor": "white",
            "linecolor": "white",
            "ticks": ""
           }
          },
          "title": {
           "x": 0.05
          },
          "xaxis": {
           "automargin": true,
           "gridcolor": "white",
           "linecolor": "white",
           "ticks": "",
           "title": {
            "standoff": 15
           },
           "zerolinecolor": "white",
           "zerolinewidth": 2
          },
          "yaxis": {
           "automargin": true,
           "gridcolor": "white",
           "linecolor": "white",
           "ticks": "",
           "title": {
            "standoff": 15
           },
           "zerolinecolor": "white",
           "zerolinewidth": 2
          }
         }
        },
        "title": {
         "font": {
          "size": 20
         },
         "text": "USA State Clusters Based on DBSCAN"
        },
        "width": 900
       }
      }
     },
     "metadata": {},
     "output_type": "display_data"
    }
   ],
   "source": [
    "import pandas as pd\n",
    "import plotly.express as px\n",
    "\n",
    "\n",
    "def draw_map(df_cleaned):\n",
    "    # Step 1: Define a mapping for state abbreviations\n",
    "    state_to_abbr = {\n",
    "        'Alabama': 'AL', 'Alaska': 'AK', 'Arizona': 'AZ', 'Arkansas': 'AR', 'California': 'CA',\n",
    "        'Colorado': 'CO', 'Connecticut': 'CT', 'Delaware': 'DE', 'Florida': 'FL', 'Georgia': 'GA',\n",
    "        'Hawaii': 'HI', 'Idaho': 'ID', 'Illinois': 'IL', 'Indiana': 'IN', 'Iowa': 'IA',\n",
    "        'Kansas': 'KS', 'Kentucky': 'KY', 'Louisiana': 'LA', 'Maine': 'ME', 'Maryland': 'MD',\n",
    "        'Massachusetts': 'MA', 'Michigan': 'MI', 'Minnesota': 'MN', 'Mississippi': 'MS', 'Missouri': 'MO',\n",
    "        'Montana': 'MT', 'Nebraska': 'NE', 'Nevada': 'NV', 'New Hampshire': 'NH', 'New Jersey': 'NJ',\n",
    "        'New Mexico': 'NM', 'New York': 'NY', 'North Carolina': 'NC', 'North Dakota': 'ND', 'Ohio': 'OH',\n",
    "        'Oklahoma': 'OK', 'Oregon': 'OR', 'Pennsylvania': 'PA', 'Rhode Island': 'RI', 'South Carolina': 'SC',\n",
    "        'South Dakota': 'SD', 'Tennessee': 'TN', 'Texas': 'TX', 'Utah': 'UT', 'Vermont': 'VT',\n",
    "        'Virginia': 'VA', 'Washington': 'WA', 'West Virginia': 'WV', 'Wisconsin': 'WI', 'Wyoming': 'WY'\n",
    "    }\n",
    "\n",
    "    # Step 2: Merge df_cleaned with state abbreviations\n",
    "    df_cleaned['state_abbreviation'] = df_cleaned['user_state'].map(state_to_abbr)\n",
    "\n",
    "    # Step 3: Convert Cluster to string to match keys in cluster_color_map\n",
    "    df_cleaned['Cluster'] = df_cleaned['Cluster'].astype(str)\n",
    "\n",
    "    # Step 4: Plot the choropleth map\n",
    "    fig = px.choropleth(\n",
    "        df_cleaned, \n",
    "        locations='state_abbreviation', \n",
    "        color='Cluster', \n",
    "        color_discrete_map=cluster_color_map,  # Apply the custom color map\n",
    "        title=\"USA State Clusters Based on DBSCAN\",\n",
    "        locationmode=\"USA-states\",\n",
    "        hover_name='user_state',  # Hover shows the state name\n",
    "        hover_data={'user_state': False, 'Cluster': False, 'state_abbreviation': False}  # Optional: Hide some data on hover\n",
    "    )\n",
    "\n",
    "    fig.update_layout(\n",
    "        geo_scope='usa',\n",
    "        width=900,  # Adjust width\n",
    "        height=600,  # Adjust height\n",
    "        title_font=dict(size=20),\n",
    "        geo=dict(projection_type=\"albers usa\")\n",
    "    )\n",
    "\n",
    "    fig.show()\n",
    "\n",
    "# Call the function to draw the map\n",
    "draw_map(df_cleaned)\n"
   ]
  },
  {
   "cell_type": "code",
   "execution_count": null,
   "metadata": {},
   "outputs": [],
   "source": []
  }
 ],
 "metadata": {
  "kernelspec": {
   "display_name": "ada",
   "language": "python",
   "name": "python3"
  },
  "language_info": {
   "codemirror_mode": {
    "name": "ipython",
    "version": 3
   },
   "file_extension": ".py",
   "mimetype": "text/x-python",
   "name": "python",
   "nbconvert_exporter": "python",
   "pygments_lexer": "ipython3",
   "version": "3.11.10"
  }
 },
 "nbformat": 4,
 "nbformat_minor": 2
}
