{
 "cells": [
  {
   "cell_type": "markdown",
   "metadata": {},
   "source": [
    "Do neighbouring states rate the beers more favourably or not compared to non neighbouring states?\n",
    "Mapping the beer appreciation of geographically maybe? Eg for Californian beer, there is a concentration of enjoyment in California compared to other states.\n"
   ]
  },
  {
   "cell_type": "code",
   "execution_count": null,
   "metadata": {},
   "outputs": [],
   "source": [
    "import pandas as pd\n",
    "import matplotlib.pyplot as plt\n",
    "import seaborn as sns\n",
    "import numpy as np"
   ]
  },
  {
   "cell_type": "code",
   "execution_count": null,
   "metadata": {},
   "outputs": [],
   "source": []
  },
  {
   "cell_type": "code",
   "execution_count": null,
   "metadata": {},
   "outputs": [],
   "source": [
    "\n",
    "\n",
    "# Assuming 'ratings' is your DataFrame with user_state, beer_state, and rating\n",
    "# And 'neighbours_df' is your DataFrame containing the list of neighbouring states\n",
    "\n",
    "#Calculate and return the average ratings for in state, its neighbours, and non-neighbors\n",
    "def calculate_state_ratings(state, ratings, neighbours_df):\n",
    "    #Get the neighbours for the given state\n",
    "    neighbours = neighbours_df.loc[neighbours_df['state'] == state, 'neighbours'].values[0]\n",
    "    # Get ratings for the state, its neighbors, and non-neighbors\n",
    "    state_ratings = ratings[ratings['beer_state'] == state]\n",
    "    \n",
    "    #ratings for in state, neighbours and non neighbours\n",
    "    in_state_ratings = state_ratings[state_ratings['user_state'] == state]['rating']\n",
    "    neighbours_ratings = state_ratings[state_ratings['user_state'].isin(neighbours)]['rating']\n",
    "    non_neighbours_ratings = state_ratings[~state_ratings['user_state'].isin(neighbours) & (state_ratings['user_state'] != state)]['rating']\n",
    "    \n",
    "    # Calculate the average ratings while considering the fact there may not by any states present and average is None\n",
    "    in_state_avg = in_state_ratings.mean() if not in_state_ratings.empty else None\n",
    "    neighbours_avg = neighbours_ratings.mean() if not neighbours_ratings.empty else None\n",
    "    non_neighbours_avg = non_neighbours_ratings.mean() if not non_neighbours_ratings.empty else None\n",
    "    \n",
    "    return state_avg, neighbours_avg, non_neighbours_avg\n",
    "\n",
    "# List of all 50 states\n",
    "states = US_ratings['user_state'].unique()\n",
    "\n",
    "# Store results\n",
    "ratings_results = []\n",
    "\n",
    "# Loop through all states and calculate average ratings using function above\n",
    "#creating dictionary with all averages\n",
    "for state in states:\n",
    "    state_avg, neighbours_avg, non_neighbours_avg = calculate_state_ratings(state, US_ratings, neighbours_df)\n",
    "    ratings_results.append({\n",
    "        'state': state,\n",
    "        'state_avg': state_avg,\n",
    "        'neighbours_avg': neighbours_avg,\n",
    "        'non_neighbours_avg': non_neighbours_avg\n",
    "    })\n",
    "\n",
    "ratings_df = pd.DataFrame(ratings_results)\n",
    "\n",
    "print(ratings_df.head(3))\n",
    "\n",
    "plt.figure(figsize=(12, 8))\n",
    "\n",
    "bar = 0.25\n",
    "index = np.arange(len(ratings_df))\n",
    "\n",
    "#placing bars for each location of ratings next to each other\n",
    "plt.bar(index, ratings_df['state_avg'], bar, label='In state Ratings', color='blue')\n",
    "plt.bar(index + bar, ratings_df['neighbours_avg'], bar, label='Neighbour Ratings', color='red')\n",
    "plt.bar(index + 2 * bar, ratings_df['non_neighbours_avg'], bar, label='Non-Neighbour Ratings', color='green')\n",
    "plt.xticks(index + bar, ratings_df['state'], rotation=90)\n",
    "plt.xlabel('State')\n",
    "plt.ylabel('Average Rating')\n",
    "plt.title('Average ratings of beers originating from given state: In state, Neighbours, Non-Neighbours')\n",
    "plt.legend()\n",
    "plt.tight_layout()\n",
    "plt.show()\n"
   ]
  },
  {
   "cell_type": "code",
   "execution_count": null,
   "metadata": {},
   "outputs": [],
   "source": []
  }
 ],
 "metadata": {
  "kernelspec": {
   "display_name": "ada",
   "language": "python",
   "name": "python3"
  },
  "language_info": {
   "name": "python",
   "version": "3.11.9"
  }
 },
 "nbformat": 4,
 "nbformat_minor": 2
}
