{
 "cells": [
  {
   "cell_type": "code",
   "execution_count": 1,
   "metadata": {},
   "outputs": [],
   "source": [
    "import os\n",
    "import subprocess\n",
    "from pathlib import Path\n",
    "\n",
    "\"\"\"\n",
    "Dynamically find the project root (where .git exists) and set it as the current working directory.\n",
    "\"\"\"\n",
    "project_root = Path(subprocess.check_output(['git', 'rev-parse', '--show-toplevel'], text=True).strip())\n",
    "os.chdir(project_root)"
   ]
  },
  {
   "cell_type": "code",
   "execution_count": 4,
   "metadata": {},
   "outputs": [],
   "source": [
    "import pandas as pd\n",
    "from src.questions.question2.utils.cohenD import cohen_d\n",
    "import numpy as np\n",
    "import matplotlib.pyplot as plt\n",
    "import seaborn as sns\n",
    "\n",
    "from src.questions.question1.utils.prepData import prep_data\n",
    "from src.questions.question1.utils.basicPlots import plot_cohenD\n",
    "from src.questions.question1.utils.buildGroups import build_groups"
   ]
  },
  {
   "cell_type": "code",
   "execution_count": null,
   "metadata": {},
   "outputs": [
    {
     "name": "stdout",
     "output_type": "stream",
     "text": [
      "      region  rating user_state rating_type\n",
      "0  Wisconsin    4.04  Wisconsin    In-State\n",
      "1  Wisconsin    4.00  Wisconsin    In-State\n",
      "State Groups:\n",
      "--------------------------------------------------\n",
      "States: West Virginia, Ohio, Delaware, New York\n",
      "--------------------------------------------------\n",
      "States: Pennsylvania, Maryland, Virginia, Kentucky, New Jersey\n",
      "--------------------------------------------------\n",
      "States: South Dakota, Wyoming\n",
      "--------------------------------------------------\n",
      "States: Utah, Montana, Washington\n",
      "--------------------------------------------------\n",
      "States: Missouri, Iowa, Minnesota, New Mexico, Nevada, Idaho\n",
      "--------------------------------------------------\n",
      "States: Kansas, Nebraska\n",
      "--------------------------------------------------\n",
      "States: Texas, Oklahoma, Louisiana, Arizona, Oregon, Colorado, California\n",
      "--------------------------------------------------\n",
      "States: Illinois, Indiana\n",
      "--------------------------------------------------\n",
      "States: Wisconsin, Michigan, North Dakota\n",
      "--------------------------------------------------\n",
      "States: Alabama, Arkansas, South Carolina, Tennessee, Mississippi\n",
      "--------------------------------------------------\n",
      "States: New Hampshire, Rhode Island, Maine\n",
      "--------------------------------------------------\n",
      "States: Georgia, North Carolina, Florida\n",
      "--------------------------------------------------\n",
      "States: Massachusetts, Connecticut, Vermont\n",
      "--------------------------------------------------\n",
      "Summary of State Groups Check:\n",
      "----------------------------------------\n",
      "Missing States (not included in state_groups):\n",
      " - Alaska\n",
      " - Hawaii\n",
      "\n",
      "----------------------------------------\n",
      "No extra states found in state_groups.\n",
      "\n",
      "----------------------------------------\n",
      "No states are present in multiple groups.\n",
      "----------------------------------------\n"
     ]
    },
    {
     "name": "stderr",
     "output_type": "stream",
     "text": [
      "c:\\Users\\Enzo\\Desktop\\ada-2024-project-x0x0\\src\\questions\\question1\\utils\\basicPlots.py:119: FutureWarning: The behavior of DataFrame concatenation with empty or all-NA entries is deprecated. In a future version, this will no longer exclude empty or all-NA columns when determining the result dtypes. To retain the old behavior, exclude the relevant entries before the concat operation.\n",
      "  final_cohen_df = pd.concat(all_cohen_results, ignore_index=True)\n"
     ]
    }
   ],
   "source": [
    "US_ratings = pd.read_csv('data/USData/BA_US_states_all.csv')\n",
    "\n",
    "#csv file containing all the states and their neighbouring states\n",
    "#empty list for states that have no neighbours (e.g Alazka, Hawaii)\n",
    "neighbours_df = pd.read_csv('data/additionalData/bordering_states.csv', dtype={'state':'string', \n",
    "                                                                          'neighbours': 'string'})\n",
    "\n",
    "\n",
    "ratings_df = prep_data(US_ratings, neighbours_df)\n",
    "\n",
    "final_cohen_df = plot_cohenD(ratings_df, plot=False)\n",
    "    \n",
    "state_groups = build_groups(final_cohen_df)\n",
    "    \n",
    "state_groups_df = pd.DataFrame(state_groups)\n",
    "\n"
   ]
  },
  {
   "cell_type": "code",
   "execution_count": 8,
   "metadata": {},
   "outputs": [],
   "source": [
    "def regions_cohenD_Q1(US_ratings, state_groups_df, plot=True):\n",
    "    cohen_results_by_region = {}\n",
    "    \n",
    "    for index, row in state_groups_df.iterrows():\n",
    "        \n",
    "        group = row['States']\n",
    "\n",
    "        in_region_ratings = US_ratings[US_ratings['user_state'].isin(group)]['rating'] #take only the ratings of states inside the region\n",
    "        out_of_region_ratings = US_ratings[~US_ratings['user_state'].isin(group)]['rating'] #take only the ratings of states outside the region #~ is not\n",
    "\n",
    "        if len(in_region_ratings) < 2 or len(out_of_region_ratings) < 2: #in order to do correctly the cohen test\n",
    "            print(\"Warning nan\")\n",
    "            cohen_results_by_region[index] = np.nan\n",
    "            continue\n",
    "\n",
    "        d_value = cohen_d(in_region_ratings, out_of_region_ratings)\n",
    "        cohen_results_by_region[index] = d_value\n",
    "\n",
    "    #table to see the Cohen factor for each region\n",
    "    cohen_by_region_df = pd.DataFrame.from_dict(cohen_results_by_region, orient='index', columns=['Cohen_d'])\n",
    "    cohen_by_region_df.index.name = 'Group name'\n",
    "    cohen_by_region_df = cohen_by_region_df.reset_index()\n",
    "    cohen_by_region_df = cohen_by_region_df.sort_values(by='Cohen_d', ascending=False)\n",
    "\n",
    "    if plot:\n",
    "        plt.figure(figsize=(14, 8))\n",
    "        sns.barplot(data=cohen_by_region_df, x='Group name', y='Cohen_d', palette='viridis')\n",
    "        plt.title(\"Cohen's D for in-region ratings compared to out-of-region ratings for the region's users\")\n",
    "        plt.xlabel(\"Center State of each Region\")\n",
    "        plt.ylabel(\"Cohen's D value\")\n",
    "        plt.xticks(rotation=90)\n",
    "        \n",
    "        plt.axhline(y=0, color='black', linewidth=1)\n",
    "\n",
    "        plt.axhline(y=0.2, color='#FFA07A', linestyle=':', linewidth=2, label='Small effect (d=0.2)')\n",
    "        plt.axhline(y=-0.2, color='#FFA07A', linestyle=':', linewidth=2)\n",
    "        plt.axhline(y=0.5, color='#FF8C00', linestyle=':', linewidth=2, label='Medium effect (d=0.5)')\n",
    "        plt.axhline(y=-0.5, color='#FF8C00', linestyle=':', linewidth=2)\n",
    "\n",
    "        plt.tight_layout()\n",
    "        plt.show()\n",
    "    \n",
    "    print(state_groups_df.head())\n",
    "    return cohen_by_region_df\n",
    "\n"
   ]
  },
  {
   "cell_type": "code",
   "execution_count": 89,
   "metadata": {},
   "outputs": [],
   "source": [
    "import plotly.express as px\n",
    "import pandas as pd\n",
    "\n",
    "def regions_cohenD_Q1_plotly(US_ratings, state_groups_df, plot=True):\n",
    "    cohen_results_by_region = {}\n",
    "    group_states = {}\n",
    "\n",
    "    for index, row in state_groups_df.iterrows():\n",
    "        group = row['States']\n",
    "        \n",
    "        # Store states in the group for hover info\n",
    "        group_states[index] = \", \".join(group)\n",
    "\n",
    "        # Get in-region and out-of-region ratings\n",
    "        in_region_ratings = US_ratings[US_ratings['user_state'].isin(group)]['rating']\n",
    "        out_of_region_ratings = US_ratings[~US_ratings['user_state'].isin(group)]['rating']\n",
    "\n",
    "        if len(in_region_ratings) < 2 or len(out_of_region_ratings) < 2:\n",
    "            print(\"Warning: Insufficient data, setting Cohen's d to NaN for group\", index)\n",
    "            cohen_results_by_region[index] = np.nan\n",
    "            continue\n",
    "\n",
    "        # Compute Cohen's d\n",
    "        d_value = cohen_d(in_region_ratings, out_of_region_ratings)\n",
    "        cohen_results_by_region[index] = d_value\n",
    "\n",
    "    # Create a DataFrame with Cohen's d results\n",
    "    cohen_by_region_df = pd.DataFrame.from_dict(cohen_results_by_region, orient='index', columns=['Cohen_d'])\n",
    "    cohen_by_region_df.index.name = 'Group name'\n",
    "    cohen_by_region_df = cohen_by_region_df.reset_index()\n",
    "\n",
    "    # Add hover text with states in each group\n",
    "    cohen_by_region_df['Group States'] = cohen_by_region_df['Group name'].map(group_states)\n",
    "    \n",
    "    cohen_by_region_df_sorted = cohen_by_region_df.sort_values(by='Cohen_d', ascending=True).reset_index(drop=True)\n",
    "    print(cohen_by_region_df_sorted.head())\n",
    "    \n",
    "    if plot:\n",
    "        # Plot the bar chart with Plotly\n",
    "        fig = px.bar(\n",
    "            cohen_by_region_df_sorted,\n",
    "            x=cohen_by_region_df_sorted.index,\n",
    "            y=\"Cohen_d\",\n",
    "            custom_data=[\"Group States\"],\n",
    "            title=\"Cohen's D for in-region ratings compared to out-of-region ratings\",\n",
    "        )\n",
    "        \n",
    "        # Add reference lines for small and medium effects\n",
    "        fig.add_hline(y=0, line_dash=\"solid\", line_color=\"black\")\n",
    "        fig.add_hline(y=0.2, line_dash=\"dot\", line_color=\"#FFA07A\", annotation_text=\"Small effect (d=0.2)\", annotation_position=\"top left\")\n",
    "        fig.add_hline(y=-0.2, line_dash=\"dot\", line_color=\"#FFA07A\")\n",
    "        fig.add_hline(y=0.5, line_dash=\"dot\", line_color=\"#FF8C00\", annotation_text=\"Medium effect (d=0.5)\", annotation_position=\"top left\")\n",
    "        fig.add_hline(y=-0.5, line_dash=\"dot\", line_color=\"#FF8C00\")\n",
    "        \n",
    "        \n",
    "        fig.update_traces(\n",
    "            hovertemplate=\"<b>States:</b> %{customdata[0]}<extra></extra>\"\n",
    "        )\n",
    "        \n",
    "        fig.update_traces(\n",
    "            marker=dict(\n",
    "                color=cohen_by_region_df_sorted['Cohen_d'],  # Use Cohen_d values for coloring\n",
    "                colorscale='Viridis',  # Viridis color scale\n",
    "                cmin=-0.2,  # Set minimum color scale value\n",
    "                cmax=0.2,   # Set maximum color scale value\n",
    "                colorbar=dict(\n",
    "                    title=\"Cohen's D\",\n",
    "                    tickvals=[-0.2, 0, 0.2],  # Set the ticks on the color bar\n",
    "                    ticktext=[\"-0.2\", \"0\", \"0.2\"]  # Set the corresponding text for each tick\n",
    "                )  \n",
    "            )\n",
    "        )\n",
    "\n",
    "        # Customize layout\n",
    "        fig.update_layout(\n",
    "            xaxis_title=\"Region Group\",\n",
    "            yaxis_title=\"Cohen's D Value\",\n",
    "            title_font=dict(size=20),\n",
    "            width=900,\n",
    "            height=600,\n",
    "            xaxis=dict(showticklabels=False),\n",
    "            yaxis=dict(range=[-0.6, 0.6])\n",
    "        )\n",
    "\n",
    "        fig.show()\n",
    "\n",
    "    return cohen_by_region_df\n"
   ]
  },
  {
   "cell_type": "code",
   "execution_count": 90,
   "metadata": {},
   "outputs": [
    {
     "name": "stdout",
     "output_type": "stream",
     "text": [
      "   Group name   Cohen_d                                       Group States\n",
      "0           2 -0.195341                              South Dakota, Wyoming\n",
      "1           9 -0.108604  Alabama, Arkansas, South Carolina, Tennessee, ...\n",
      "2           5 -0.095658                                   Kansas, Nebraska\n",
      "3           3 -0.070777                          Utah, Montana, Washington\n",
      "4           1 -0.063232  Pennsylvania, Maryland, Virginia, Kentucky, Ne...\n"
     ]
    },
    {
     "data": {
      "application/vnd.plotly.v1+json": {
       "config": {
        "plotlyServerURL": "https://plot.ly"
       },
       "data": [
        {
         "alignmentgroup": "True",
         "customdata": [
          [
           "South Dakota, Wyoming"
          ],
          [
           "Alabama, Arkansas, South Carolina, Tennessee, Mississippi"
          ],
          [
           "Kansas, Nebraska"
          ],
          [
           "Utah, Montana, Washington"
          ],
          [
           "Pennsylvania, Maryland, Virginia, Kentucky, New Jersey"
          ],
          [
           "Wisconsin, Michigan, North Dakota"
          ],
          [
           "Missouri, Iowa, Minnesota, New Mexico, Nevada, Idaho"
          ],
          [
           "West Virginia, Ohio, Delaware, New York"
          ],
          [
           "Georgia, North Carolina, Florida"
          ],
          [
           "Texas, Oklahoma, Louisiana, Arizona, Oregon, Colorado, California"
          ],
          [
           "New Hampshire, Rhode Island, Maine"
          ],
          [
           "Illinois, Indiana"
          ],
          [
           "Massachusetts, Connecticut, Vermont"
          ]
         ],
         "hovertemplate": "<b>States:</b> %{customdata[0]}<extra></extra>",
         "legendgroup": "",
         "marker": {
          "cmax": 0.2,
          "cmin": -0.2,
          "color": [
           -0.19534064003288737,
           -0.10860386594645621,
           -0.09565831212800764,
           -0.07077679367968777,
           -0.06323204739543746,
           -0.01848370098138856,
           -0.015584730303911635,
           0.010696293871665293,
           0.012681396414472601,
           0.020842815158744827,
           0.036515854062577874,
           0.05915452047996886,
           0.09027714830813716
          ],
          "colorbar": {
           "ticktext": [
            "-0.2",
            "0",
            "0.2"
           ],
           "tickvals": [
            -0.2,
            0,
            0.2
           ],
           "title": {
            "text": "Cohen's D"
           }
          },
          "colorscale": [
           [
            0,
            "#440154"
           ],
           [
            0.1111111111111111,
            "#482878"
           ],
           [
            0.2222222222222222,
            "#3e4989"
           ],
           [
            0.3333333333333333,
            "#31688e"
           ],
           [
            0.4444444444444444,
            "#26828e"
           ],
           [
            0.5555555555555556,
            "#1f9e89"
           ],
           [
            0.6666666666666666,
            "#35b779"
           ],
           [
            0.7777777777777778,
            "#6ece58"
           ],
           [
            0.8888888888888888,
            "#b5de2b"
           ],
           [
            1,
            "#fde725"
           ]
          ],
          "pattern": {
           "shape": ""
          }
         },
         "name": "",
         "offsetgroup": "",
         "orientation": "v",
         "showlegend": false,
         "textposition": "auto",
         "type": "bar",
         "x": [
          0,
          1,
          2,
          3,
          4,
          5,
          6,
          7,
          8,
          9,
          10,
          11,
          12
         ],
         "xaxis": "x",
         "y": [
          -0.19534064003288737,
          -0.10860386594645621,
          -0.09565831212800764,
          -0.07077679367968777,
          -0.06323204739543746,
          -0.01848370098138856,
          -0.015584730303911635,
          0.010696293871665293,
          0.012681396414472601,
          0.020842815158744827,
          0.036515854062577874,
          0.05915452047996886,
          0.09027714830813716
         ],
         "yaxis": "y"
        }
       ],
       "layout": {
        "annotations": [
         {
          "showarrow": false,
          "text": "Small effect (d=0.2)",
          "x": 0,
          "xanchor": "left",
          "xref": "x domain",
          "y": 0.2,
          "yanchor": "bottom",
          "yref": "y"
         },
         {
          "showarrow": false,
          "text": "Medium effect (d=0.5)",
          "x": 0,
          "xanchor": "left",
          "xref": "x domain",
          "y": 0.5,
          "yanchor": "bottom",
          "yref": "y"
         }
        ],
        "barmode": "relative",
        "height": 600,
        "legend": {
         "tracegroupgap": 0
        },
        "shapes": [
         {
          "line": {
           "color": "black",
           "dash": "solid"
          },
          "type": "line",
          "x0": 0,
          "x1": 1,
          "xref": "x domain",
          "y0": 0,
          "y1": 0,
          "yref": "y"
         },
         {
          "line": {
           "color": "#FFA07A",
           "dash": "dot"
          },
          "type": "line",
          "x0": 0,
          "x1": 1,
          "xref": "x domain",
          "y0": 0.2,
          "y1": 0.2,
          "yref": "y"
         },
         {
          "line": {
           "color": "#FFA07A",
           "dash": "dot"
          },
          "type": "line",
          "x0": 0,
          "x1": 1,
          "xref": "x domain",
          "y0": -0.2,
          "y1": -0.2,
          "yref": "y"
         },
         {
          "line": {
           "color": "#FF8C00",
           "dash": "dot"
          },
          "type": "line",
          "x0": 0,
          "x1": 1,
          "xref": "x domain",
          "y0": 0.5,
          "y1": 0.5,
          "yref": "y"
         },
         {
          "line": {
           "color": "#FF8C00",
           "dash": "dot"
          },
          "type": "line",
          "x0": 0,
          "x1": 1,
          "xref": "x domain",
          "y0": -0.5,
          "y1": -0.5,
          "yref": "y"
         }
        ],
        "template": {
         "data": {
          "bar": [
           {
            "error_x": {
             "color": "#2a3f5f"
            },
            "error_y": {
             "color": "#2a3f5f"
            },
            "marker": {
             "line": {
              "color": "#E5ECF6",
              "width": 0.5
             },
             "pattern": {
              "fillmode": "overlay",
              "size": 10,
              "solidity": 0.2
             }
            },
            "type": "bar"
           }
          ],
          "barpolar": [
           {
            "marker": {
             "line": {
              "color": "#E5ECF6",
              "width": 0.5
             },
             "pattern": {
              "fillmode": "overlay",
              "size": 10,
              "solidity": 0.2
             }
            },
            "type": "barpolar"
           }
          ],
          "carpet": [
           {
            "aaxis": {
             "endlinecolor": "#2a3f5f",
             "gridcolor": "white",
             "linecolor": "white",
             "minorgridcolor": "white",
             "startlinecolor": "#2a3f5f"
            },
            "baxis": {
             "endlinecolor": "#2a3f5f",
             "gridcolor": "white",
             "linecolor": "white",
             "minorgridcolor": "white",
             "startlinecolor": "#2a3f5f"
            },
            "type": "carpet"
           }
          ],
          "choropleth": [
           {
            "colorbar": {
             "outlinewidth": 0,
             "ticks": ""
            },
            "type": "choropleth"
           }
          ],
          "contour": [
           {
            "colorbar": {
             "outlinewidth": 0,
             "ticks": ""
            },
            "colorscale": [
             [
              0,
              "#0d0887"
             ],
             [
              0.1111111111111111,
              "#46039f"
             ],
             [
              0.2222222222222222,
              "#7201a8"
             ],
             [
              0.3333333333333333,
              "#9c179e"
             ],
             [
              0.4444444444444444,
              "#bd3786"
             ],
             [
              0.5555555555555556,
              "#d8576b"
             ],
             [
              0.6666666666666666,
              "#ed7953"
             ],
             [
              0.7777777777777778,
              "#fb9f3a"
             ],
             [
              0.8888888888888888,
              "#fdca26"
             ],
             [
              1,
              "#f0f921"
             ]
            ],
            "type": "contour"
           }
          ],
          "contourcarpet": [
           {
            "colorbar": {
             "outlinewidth": 0,
             "ticks": ""
            },
            "type": "contourcarpet"
           }
          ],
          "heatmap": [
           {
            "colorbar": {
             "outlinewidth": 0,
             "ticks": ""
            },
            "colorscale": [
             [
              0,
              "#0d0887"
             ],
             [
              0.1111111111111111,
              "#46039f"
             ],
             [
              0.2222222222222222,
              "#7201a8"
             ],
             [
              0.3333333333333333,
              "#9c179e"
             ],
             [
              0.4444444444444444,
              "#bd3786"
             ],
             [
              0.5555555555555556,
              "#d8576b"
             ],
             [
              0.6666666666666666,
              "#ed7953"
             ],
             [
              0.7777777777777778,
              "#fb9f3a"
             ],
             [
              0.8888888888888888,
              "#fdca26"
             ],
             [
              1,
              "#f0f921"
             ]
            ],
            "type": "heatmap"
           }
          ],
          "heatmapgl": [
           {
            "colorbar": {
             "outlinewidth": 0,
             "ticks": ""
            },
            "colorscale": [
             [
              0,
              "#0d0887"
             ],
             [
              0.1111111111111111,
              "#46039f"
             ],
             [
              0.2222222222222222,
              "#7201a8"
             ],
             [
              0.3333333333333333,
              "#9c179e"
             ],
             [
              0.4444444444444444,
              "#bd3786"
             ],
             [
              0.5555555555555556,
              "#d8576b"
             ],
             [
              0.6666666666666666,
              "#ed7953"
             ],
             [
              0.7777777777777778,
              "#fb9f3a"
             ],
             [
              0.8888888888888888,
              "#fdca26"
             ],
             [
              1,
              "#f0f921"
             ]
            ],
            "type": "heatmapgl"
           }
          ],
          "histogram": [
           {
            "marker": {
             "pattern": {
              "fillmode": "overlay",
              "size": 10,
              "solidity": 0.2
             }
            },
            "type": "histogram"
           }
          ],
          "histogram2d": [
           {
            "colorbar": {
             "outlinewidth": 0,
             "ticks": ""
            },
            "colorscale": [
             [
              0,
              "#0d0887"
             ],
             [
              0.1111111111111111,
              "#46039f"
             ],
             [
              0.2222222222222222,
              "#7201a8"
             ],
             [
              0.3333333333333333,
              "#9c179e"
             ],
             [
              0.4444444444444444,
              "#bd3786"
             ],
             [
              0.5555555555555556,
              "#d8576b"
             ],
             [
              0.6666666666666666,
              "#ed7953"
             ],
             [
              0.7777777777777778,
              "#fb9f3a"
             ],
             [
              0.8888888888888888,
              "#fdca26"
             ],
             [
              1,
              "#f0f921"
             ]
            ],
            "type": "histogram2d"
           }
          ],
          "histogram2dcontour": [
           {
            "colorbar": {
             "outlinewidth": 0,
             "ticks": ""
            },
            "colorscale": [
             [
              0,
              "#0d0887"
             ],
             [
              0.1111111111111111,
              "#46039f"
             ],
             [
              0.2222222222222222,
              "#7201a8"
             ],
             [
              0.3333333333333333,
              "#9c179e"
             ],
             [
              0.4444444444444444,
              "#bd3786"
             ],
             [
              0.5555555555555556,
              "#d8576b"
             ],
             [
              0.6666666666666666,
              "#ed7953"
             ],
             [
              0.7777777777777778,
              "#fb9f3a"
             ],
             [
              0.8888888888888888,
              "#fdca26"
             ],
             [
              1,
              "#f0f921"
             ]
            ],
            "type": "histogram2dcontour"
           }
          ],
          "mesh3d": [
           {
            "colorbar": {
             "outlinewidth": 0,
             "ticks": ""
            },
            "type": "mesh3d"
           }
          ],
          "parcoords": [
           {
            "line": {
             "colorbar": {
              "outlinewidth": 0,
              "ticks": ""
             }
            },
            "type": "parcoords"
           }
          ],
          "pie": [
           {
            "automargin": true,
            "type": "pie"
           }
          ],
          "scatter": [
           {
            "fillpattern": {
             "fillmode": "overlay",
             "size": 10,
             "solidity": 0.2
            },
            "type": "scatter"
           }
          ],
          "scatter3d": [
           {
            "line": {
             "colorbar": {
              "outlinewidth": 0,
              "ticks": ""
             }
            },
            "marker": {
             "colorbar": {
              "outlinewidth": 0,
              "ticks": ""
             }
            },
            "type": "scatter3d"
           }
          ],
          "scattercarpet": [
           {
            "marker": {
             "colorbar": {
              "outlinewidth": 0,
              "ticks": ""
             }
            },
            "type": "scattercarpet"
           }
          ],
          "scattergeo": [
           {
            "marker": {
             "colorbar": {
              "outlinewidth": 0,
              "ticks": ""
             }
            },
            "type": "scattergeo"
           }
          ],
          "scattergl": [
           {
            "marker": {
             "colorbar": {
              "outlinewidth": 0,
              "ticks": ""
             }
            },
            "type": "scattergl"
           }
          ],
          "scattermapbox": [
           {
            "marker": {
             "colorbar": {
              "outlinewidth": 0,
              "ticks": ""
             }
            },
            "type": "scattermapbox"
           }
          ],
          "scatterpolar": [
           {
            "marker": {
             "colorbar": {
              "outlinewidth": 0,
              "ticks": ""
             }
            },
            "type": "scatterpolar"
           }
          ],
          "scatterpolargl": [
           {
            "marker": {
             "colorbar": {
              "outlinewidth": 0,
              "ticks": ""
             }
            },
            "type": "scatterpolargl"
           }
          ],
          "scatterternary": [
           {
            "marker": {
             "colorbar": {
              "outlinewidth": 0,
              "ticks": ""
             }
            },
            "type": "scatterternary"
           }
          ],
          "surface": [
           {
            "colorbar": {
             "outlinewidth": 0,
             "ticks": ""
            },
            "colorscale": [
             [
              0,
              "#0d0887"
             ],
             [
              0.1111111111111111,
              "#46039f"
             ],
             [
              0.2222222222222222,
              "#7201a8"
             ],
             [
              0.3333333333333333,
              "#9c179e"
             ],
             [
              0.4444444444444444,
              "#bd3786"
             ],
             [
              0.5555555555555556,
              "#d8576b"
             ],
             [
              0.6666666666666666,
              "#ed7953"
             ],
             [
              0.7777777777777778,
              "#fb9f3a"
             ],
             [
              0.8888888888888888,
              "#fdca26"
             ],
             [
              1,
              "#f0f921"
             ]
            ],
            "type": "surface"
           }
          ],
          "table": [
           {
            "cells": {
             "fill": {
              "color": "#EBF0F8"
             },
             "line": {
              "color": "white"
             }
            },
            "header": {
             "fill": {
              "color": "#C8D4E3"
             },
             "line": {
              "color": "white"
             }
            },
            "type": "table"
           }
          ]
         },
         "layout": {
          "annotationdefaults": {
           "arrowcolor": "#2a3f5f",
           "arrowhead": 0,
           "arrowwidth": 1
          },
          "autotypenumbers": "strict",
          "coloraxis": {
           "colorbar": {
            "outlinewidth": 0,
            "ticks": ""
           }
          },
          "colorscale": {
           "diverging": [
            [
             0,
             "#8e0152"
            ],
            [
             0.1,
             "#c51b7d"
            ],
            [
             0.2,
             "#de77ae"
            ],
            [
             0.3,
             "#f1b6da"
            ],
            [
             0.4,
             "#fde0ef"
            ],
            [
             0.5,
             "#f7f7f7"
            ],
            [
             0.6,
             "#e6f5d0"
            ],
            [
             0.7,
             "#b8e186"
            ],
            [
             0.8,
             "#7fbc41"
            ],
            [
             0.9,
             "#4d9221"
            ],
            [
             1,
             "#276419"
            ]
           ],
           "sequential": [
            [
             0,
             "#0d0887"
            ],
            [
             0.1111111111111111,
             "#46039f"
            ],
            [
             0.2222222222222222,
             "#7201a8"
            ],
            [
             0.3333333333333333,
             "#9c179e"
            ],
            [
             0.4444444444444444,
             "#bd3786"
            ],
            [
             0.5555555555555556,
             "#d8576b"
            ],
            [
             0.6666666666666666,
             "#ed7953"
            ],
            [
             0.7777777777777778,
             "#fb9f3a"
            ],
            [
             0.8888888888888888,
             "#fdca26"
            ],
            [
             1,
             "#f0f921"
            ]
           ],
           "sequentialminus": [
            [
             0,
             "#0d0887"
            ],
            [
             0.1111111111111111,
             "#46039f"
            ],
            [
             0.2222222222222222,
             "#7201a8"
            ],
            [
             0.3333333333333333,
             "#9c179e"
            ],
            [
             0.4444444444444444,
             "#bd3786"
            ],
            [
             0.5555555555555556,
             "#d8576b"
            ],
            [
             0.6666666666666666,
             "#ed7953"
            ],
            [
             0.7777777777777778,
             "#fb9f3a"
            ],
            [
             0.8888888888888888,
             "#fdca26"
            ],
            [
             1,
             "#f0f921"
            ]
           ]
          },
          "colorway": [
           "#636efa",
           "#EF553B",
           "#00cc96",
           "#ab63fa",
           "#FFA15A",
           "#19d3f3",
           "#FF6692",
           "#B6E880",
           "#FF97FF",
           "#FECB52"
          ],
          "font": {
           "color": "#2a3f5f"
          },
          "geo": {
           "bgcolor": "white",
           "lakecolor": "white",
           "landcolor": "#E5ECF6",
           "showlakes": true,
           "showland": true,
           "subunitcolor": "white"
          },
          "hoverlabel": {
           "align": "left"
          },
          "hovermode": "closest",
          "mapbox": {
           "style": "light"
          },
          "paper_bgcolor": "white",
          "plot_bgcolor": "#E5ECF6",
          "polar": {
           "angularaxis": {
            "gridcolor": "white",
            "linecolor": "white",
            "ticks": ""
           },
           "bgcolor": "#E5ECF6",
           "radialaxis": {
            "gridcolor": "white",
            "linecolor": "white",
            "ticks": ""
           }
          },
          "scene": {
           "xaxis": {
            "backgroundcolor": "#E5ECF6",
            "gridcolor": "white",
            "gridwidth": 2,
            "linecolor": "white",
            "showbackground": true,
            "ticks": "",
            "zerolinecolor": "white"
           },
           "yaxis": {
            "backgroundcolor": "#E5ECF6",
            "gridcolor": "white",
            "gridwidth": 2,
            "linecolor": "white",
            "showbackground": true,
            "ticks": "",
            "zerolinecolor": "white"
           },
           "zaxis": {
            "backgroundcolor": "#E5ECF6",
            "gridcolor": "white",
            "gridwidth": 2,
            "linecolor": "white",
            "showbackground": true,
            "ticks": "",
            "zerolinecolor": "white"
           }
          },
          "shapedefaults": {
           "line": {
            "color": "#2a3f5f"
           }
          },
          "ternary": {
           "aaxis": {
            "gridcolor": "white",
            "linecolor": "white",
            "ticks": ""
           },
           "baxis": {
            "gridcolor": "white",
            "linecolor": "white",
            "ticks": ""
           },
           "bgcolor": "#E5ECF6",
           "caxis": {
            "gridcolor": "white",
            "linecolor": "white",
            "ticks": ""
           }
          },
          "title": {
           "x": 0.05
          },
          "xaxis": {
           "automargin": true,
           "gridcolor": "white",
           "linecolor": "white",
           "ticks": "",
           "title": {
            "standoff": 15
           },
           "zerolinecolor": "white",
           "zerolinewidth": 2
          },
          "yaxis": {
           "automargin": true,
           "gridcolor": "white",
           "linecolor": "white",
           "ticks": "",
           "title": {
            "standoff": 15
           },
           "zerolinecolor": "white",
           "zerolinewidth": 2
          }
         }
        },
        "title": {
         "font": {
          "size": 20
         },
         "text": "Cohen's D for in-region ratings compared to out-of-region ratings"
        },
        "width": 900,
        "xaxis": {
         "anchor": "y",
         "domain": [
          0,
          1
         ],
         "showticklabels": false,
         "title": {
          "text": "Region Group"
         }
        },
        "yaxis": {
         "anchor": "x",
         "domain": [
          0,
          1
         ],
         "range": [
          -0.6,
          0.6
         ],
         "title": {
          "text": "Cohen's D Value"
         }
        }
       }
      }
     },
     "metadata": {},
     "output_type": "display_data"
    },
    {
     "data": {
      "text/html": [
       "<div>\n",
       "<style scoped>\n",
       "    .dataframe tbody tr th:only-of-type {\n",
       "        vertical-align: middle;\n",
       "    }\n",
       "\n",
       "    .dataframe tbody tr th {\n",
       "        vertical-align: top;\n",
       "    }\n",
       "\n",
       "    .dataframe thead th {\n",
       "        text-align: right;\n",
       "    }\n",
       "</style>\n",
       "<table border=\"1\" class=\"dataframe\">\n",
       "  <thead>\n",
       "    <tr style=\"text-align: right;\">\n",
       "      <th></th>\n",
       "      <th>States</th>\n",
       "    </tr>\n",
       "  </thead>\n",
       "  <tbody>\n",
       "    <tr>\n",
       "      <th>0</th>\n",
       "      <td>[West Virginia, Ohio, Delaware, New York]</td>\n",
       "    </tr>\n",
       "    <tr>\n",
       "      <th>1</th>\n",
       "      <td>[Pennsylvania, Maryland, Virginia, Kentucky, N...</td>\n",
       "    </tr>\n",
       "    <tr>\n",
       "      <th>2</th>\n",
       "      <td>[South Dakota, Wyoming]</td>\n",
       "    </tr>\n",
       "    <tr>\n",
       "      <th>3</th>\n",
       "      <td>[Utah, Montana, Washington]</td>\n",
       "    </tr>\n",
       "    <tr>\n",
       "      <th>4</th>\n",
       "      <td>[Missouri, Iowa, Minnesota, New Mexico, Nevada...</td>\n",
       "    </tr>\n",
       "    <tr>\n",
       "      <th>5</th>\n",
       "      <td>[Kansas, Nebraska]</td>\n",
       "    </tr>\n",
       "    <tr>\n",
       "      <th>6</th>\n",
       "      <td>[Texas, Oklahoma, Louisiana, Arizona, Oregon, ...</td>\n",
       "    </tr>\n",
       "    <tr>\n",
       "      <th>7</th>\n",
       "      <td>[Illinois, Indiana]</td>\n",
       "    </tr>\n",
       "    <tr>\n",
       "      <th>8</th>\n",
       "      <td>[Wisconsin, Michigan, North Dakota]</td>\n",
       "    </tr>\n",
       "    <tr>\n",
       "      <th>9</th>\n",
       "      <td>[Alabama, Arkansas, South Carolina, Tennessee,...</td>\n",
       "    </tr>\n",
       "    <tr>\n",
       "      <th>10</th>\n",
       "      <td>[New Hampshire, Rhode Island, Maine]</td>\n",
       "    </tr>\n",
       "    <tr>\n",
       "      <th>11</th>\n",
       "      <td>[Georgia, North Carolina, Florida]</td>\n",
       "    </tr>\n",
       "    <tr>\n",
       "      <th>12</th>\n",
       "      <td>[Massachusetts, Connecticut, Vermont]</td>\n",
       "    </tr>\n",
       "  </tbody>\n",
       "</table>\n",
       "</div>"
      ],
      "text/plain": [
       "                                               States\n",
       "0           [West Virginia, Ohio, Delaware, New York]\n",
       "1   [Pennsylvania, Maryland, Virginia, Kentucky, N...\n",
       "2                             [South Dakota, Wyoming]\n",
       "3                         [Utah, Montana, Washington]\n",
       "4   [Missouri, Iowa, Minnesota, New Mexico, Nevada...\n",
       "5                                  [Kansas, Nebraska]\n",
       "6   [Texas, Oklahoma, Louisiana, Arizona, Oregon, ...\n",
       "7                                 [Illinois, Indiana]\n",
       "8                 [Wisconsin, Michigan, North Dakota]\n",
       "9   [Alabama, Arkansas, South Carolina, Tennessee,...\n",
       "10               [New Hampshire, Rhode Island, Maine]\n",
       "11                 [Georgia, North Carolina, Florida]\n",
       "12              [Massachusetts, Connecticut, Vermont]"
      ]
     },
     "execution_count": 90,
     "metadata": {},
     "output_type": "execute_result"
    }
   ],
   "source": [
    "regions_cohenD_Q1_plotly(US_ratings, state_groups_df, plot=True)\n",
    "state_groups_df"
   ]
  }
 ],
 "metadata": {
  "kernelspec": {
   "display_name": "ada",
   "language": "python",
   "name": "python3"
  },
  "language_info": {
   "codemirror_mode": {
    "name": "ipython",
    "version": 3
   },
   "file_extension": ".py",
   "mimetype": "text/x-python",
   "name": "python",
   "nbconvert_exporter": "python",
   "pygments_lexer": "ipython3",
   "version": "3.11.10"
  }
 },
 "nbformat": 4,
 "nbformat_minor": 2
}
