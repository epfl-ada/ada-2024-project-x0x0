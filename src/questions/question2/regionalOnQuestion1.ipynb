{
 "cells": [
  {
   "cell_type": "code",
   "execution_count": null,
   "metadata": {
    "vscode": {
     "languageId": "plaintext"
    }
   },
   "outputs": [],
   "source": [
    "import sys\n",
    "import os\n",
    "\n",
    "#otherwise our imports get all messed up\n",
    "project_root = os.path.abspath(os.path.join(os.getcwd(), \"../../..\"))\n",
    "if project_root not in sys.path:\n",
    "    sys.path.append(project_root)"
   ]
  },
  {
   "cell_type": "code",
   "execution_count": null,
   "metadata": {
    "vscode": {
     "languageId": "plaintext"
    }
   },
   "outputs": [],
   "source": [
    "import pandas as pd\n",
    "from utils.regions_cohenD import regions_cohenD"
   ]
  },
  {
   "cell_type": "code",
   "execution_count": null,
   "metadata": {
    "vscode": {
     "languageId": "plaintext"
    }
   },
   "outputs": [],
   "source": [
    "US_ratings = pd.read_csv('../../../USData/BA_US_states_all.csv')\n",
    "\n",
    "neighbours_df = pd.read_csv('../../../additionalData/bordering_states.csv', dtype={'state': 'string', 'neighbours': 'string'})\n",
    "neighbours_df[\"neighbours\"] = neighbours_df[\"neighbours\"].fillna(\"\").apply(lambda x: x.split(\";\") if x else [])\n",
    "\n",
    "cohen_by_region_df = regions_cohenD(neighbours_df, US_ratings)"
   ]
  }
 ],
 "metadata": {
  "language_info": {
   "name": "python"
  }
 },
 "nbformat": 4,
 "nbformat_minor": 2
}
