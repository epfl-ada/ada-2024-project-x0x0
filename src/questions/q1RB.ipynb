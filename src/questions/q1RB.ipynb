{
 "cells": [
  {
   "cell_type": "code",
   "execution_count": 1,
   "metadata": {},
   "outputs": [],
   "source": [
    "import pandas as pd\n",
    "import numpy as np\n",
    "import matplotlib.pyplot as plt\n",
    "%matplotlib inline\n",
    "import seaborn as sns\n",
    "import scipy.stats as stats\n",
    "from scipy.stats import mannwhitneyu"
   ]
  },
  {
   "cell_type": "code",
   "execution_count": 2,
   "metadata": {},
   "outputs": [],
   "source": [
    "#rankings data with beer_location and user_location added as extra columns\n",
    "RB_merged = pd.read_csv('../../minimizedData/RB_ratings_small_plus.csv')"
   ]
  },
  {
   "cell_type": "code",
   "execution_count": 16,
   "metadata": {},
   "outputs": [
    {
     "name": "stdout",
     "output_type": "stream",
     "text": [
      "(7123806, 15)\n",
      "(6920087, 15)\n",
      "(2396446, 15)\n"
     ]
    },
    {
     "data": {
      "text/html": [
       "<div>\n",
       "<style scoped>\n",
       "    .dataframe tbody tr th:only-of-type {\n",
       "        vertical-align: middle;\n",
       "    }\n",
       "\n",
       "    .dataframe tbody tr th {\n",
       "        vertical-align: top;\n",
       "    }\n",
       "\n",
       "    .dataframe thead th {\n",
       "        text-align: right;\n",
       "    }\n",
       "</style>\n",
       "<table border=\"1\" class=\"dataframe\">\n",
       "  <thead>\n",
       "    <tr style=\"text-align: right;\">\n",
       "      <th></th>\n",
       "      <th>beer_name</th>\n",
       "      <th>beer_id</th>\n",
       "      <th>brewery_name</th>\n",
       "      <th>brewery_id</th>\n",
       "      <th>style</th>\n",
       "      <th>user_id</th>\n",
       "      <th>appearance</th>\n",
       "      <th>aroma</th>\n",
       "      <th>palate</th>\n",
       "      <th>taste</th>\n",
       "      <th>overall</th>\n",
       "      <th>rating</th>\n",
       "      <th>user_location</th>\n",
       "      <th>avg</th>\n",
       "      <th>beer_location</th>\n",
       "    </tr>\n",
       "  </thead>\n",
       "  <tbody>\n",
       "    <tr>\n",
       "      <th>5595392</th>\n",
       "      <td>Tracks Light Rail Lager</td>\n",
       "      <td>34920.0</td>\n",
       "      <td>Tracks Brewing Company &amp;#40;USA&amp;#41;</td>\n",
       "      <td>4800.0</td>\n",
       "      <td>Pale Lager</td>\n",
       "      <td>58936.0</td>\n",
       "      <td>3.0</td>\n",
       "      <td>5.0</td>\n",
       "      <td>3.0</td>\n",
       "      <td>6.0</td>\n",
       "      <td>13.0</td>\n",
       "      <td>3.0</td>\n",
       "      <td>United States, Oregon</td>\n",
       "      <td>2.84</td>\n",
       "      <td>United States, Utah</td>\n",
       "    </tr>\n",
       "    <tr>\n",
       "      <th>5595393</th>\n",
       "      <td>Tracks Skull Valley Stout</td>\n",
       "      <td>34921.0</td>\n",
       "      <td>Tracks Brewing Company &amp;#40;USA&amp;#41;</td>\n",
       "      <td>4800.0</td>\n",
       "      <td>Stout</td>\n",
       "      <td>58936.0</td>\n",
       "      <td>4.0</td>\n",
       "      <td>6.0</td>\n",
       "      <td>4.0</td>\n",
       "      <td>6.0</td>\n",
       "      <td>13.0</td>\n",
       "      <td>3.3</td>\n",
       "      <td>United States, Oregon</td>\n",
       "      <td>2.96</td>\n",
       "      <td>United States, Utah</td>\n",
       "    </tr>\n",
       "  </tbody>\n",
       "</table>\n",
       "</div>"
      ],
      "text/plain": [
       "                         beer_name  beer_id  \\\n",
       "5595392    Tracks Light Rail Lager  34920.0   \n",
       "5595393  Tracks Skull Valley Stout  34921.0   \n",
       "\n",
       "                                 brewery_name  brewery_id       style  \\\n",
       "5595392  Tracks Brewing Company &#40;USA&#41;      4800.0  Pale Lager   \n",
       "5595393  Tracks Brewing Company &#40;USA&#41;      4800.0       Stout   \n",
       "\n",
       "         user_id  appearance  aroma  palate  taste  overall  rating  \\\n",
       "5595392  58936.0         3.0    5.0     3.0    6.0     13.0     3.0   \n",
       "5595393  58936.0         4.0    6.0     4.0    6.0     13.0     3.3   \n",
       "\n",
       "                 user_location   avg        beer_location  \n",
       "5595392  United States, Oregon  2.84  United States, Utah  \n",
       "5595393  United States, Oregon  2.96  United States, Utah  "
      ]
     },
     "execution_count": 16,
     "metadata": {},
     "output_type": "execute_result"
    }
   ],
   "source": [
    "print(RB_merged.shape)\n",
    "RB_merged_clean = RB_merged.dropna(subset=['beer_location','user_location','rating'])\n",
    "print(RB_merged_clean.shape)\n",
    "#we are only interested in focusing on the ratings that originate from US users AND are for US beers\n",
    "US_ratings = RB_merged_clean[RB_merged_clean['user_location'].str.startswith('United States,')]\n",
    "US_ratings = US_ratings[US_ratings['beer_location'].str.startswith('United States,')]\n",
    "print(US_ratings.shape)\n",
    "US_ratings.tail(2)"
   ]
  },
  {
   "cell_type": "code",
   "execution_count": 17,
   "metadata": {},
   "outputs": [
    {
     "name": "stdout",
     "output_type": "stream",
     "text": [
      "(2396446, 15)\n"
     ]
    },
    {
     "data": {
      "text/plain": [
       "(2396446, 15)"
      ]
     },
     "execution_count": 17,
     "metadata": {},
     "output_type": "execute_result"
    }
   ],
   "source": [
    "#removing the United States part from the location for both beer and user for clarity\n",
    "US_ratings['user_state'] = US_ratings['user_location'].apply(lambda x: x.split(',')[1].strip())\n",
    "US_ratings['beer_state'] = US_ratings['beer_location'].apply(lambda x: x.split(',')[1].strip())\n",
    "US_ratings = US_ratings.drop(['user_location','beer_location'], axis=1)\n",
    "print(US_ratings.shape)\n",
    "US_ratings = US_ratings[(US_ratings['user_state'] != 'United States') & (US_ratings['beer_state'] != 'United States')]\n",
    "US_ratings.shape"
   ]
  }
 ],
 "metadata": {
  "kernelspec": {
   "display_name": "ada",
   "language": "python",
   "name": "python3"
  },
  "language_info": {
   "codemirror_mode": {
    "name": "ipython",
    "version": 3
   },
   "file_extension": ".py",
   "mimetype": "text/x-python",
   "name": "python",
   "nbconvert_exporter": "python",
   "pygments_lexer": "ipython3",
   "version": "3.11.9"
  }
 },
 "nbformat": 4,
 "nbformat_minor": 2
}
