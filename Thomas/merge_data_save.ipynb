{
 "cells": [
  {
   "cell_type": "code",
   "execution_count": 2,
   "metadata": {},
   "outputs": [],
   "source": [
    "from create_working_df import merged_rating_beer\n",
    "import os\n",
    "import pandas as pd"
   ]
  },
  {
   "cell_type": "code",
   "execution_count": 3,
   "metadata": {},
   "outputs": [],
   "source": [
    "path = 'baseData/minimizedData/'"
   ]
  },
  {
   "cell_type": "code",
   "execution_count": 4,
   "metadata": {},
   "outputs": [],
   "source": [
    "BA_beer_loc, BA_rating_loc, RB_beer_loc, RB_rating_loc, BA_ratbeer, RB_ratbeer = merged_rating_beer(path)"
   ]
  },
  {
   "cell_type": "code",
   "execution_count": 5,
   "metadata": {},
   "outputs": [],
   "source": [
    "def get_var_name(var):\n",
    "    for name, value in globals().items():\n",
    "        if value is var:\n",
    "            return name"
   ]
  },
  {
   "cell_type": "code",
   "execution_count": 6,
   "metadata": {},
   "outputs": [],
   "source": [
    "def save_csv_with_directory_check(df, file_path, idx=True):\n",
    "    directory = os.path.dirname(file_path)\n",
    "    \n",
    "    if not os.path.exists(directory):\n",
    "        os.makedirs(directory)\n",
    "    \n",
    "    df.to_csv(file_path, index=idx)\n",
    "    print(f\"CSV saved to {file_path}\")"
   ]
  },
  {
   "cell_type": "code",
   "execution_count": 8,
   "metadata": {},
   "outputs": [
    {
     "name": "stdout",
     "output_type": "stream",
     "text": [
      "CSV saved to baseData/Modified/BA_beer_loc.csv\n",
      "CSV saved to baseData/Modified/BA_rating_loc.csv\n",
      "CSV saved to baseData/Modified/RB_beer_loc.csv\n",
      "CSV saved to baseData/Modified/RB_rating_loc.csv\n",
      "CSV saved to baseData/Modified/BA_ratbeer.csv\n",
      "CSV saved to baseData/Modified/RB_ratbeer.csv\n"
     ]
    }
   ],
   "source": [
    "save_csv_with_directory_check(BA_beer_loc, 'baseData/Modified/' + get_var_name(BA_beer_loc) + '.csv', idx=False)\n",
    "save_csv_with_directory_check(BA_rating_loc, 'baseData/Modified/' + get_var_name(BA_rating_loc) + '.csv', idx=False)\n",
    "save_csv_with_directory_check(RB_beer_loc, 'baseData/Modified/' + get_var_name(RB_beer_loc) + '.csv', idx=False)\n",
    "save_csv_with_directory_check(RB_rating_loc, 'baseData/Modified/' + get_var_name(RB_rating_loc) + '.csv', idx=False)\n",
    "save_csv_with_directory_check(BA_ratbeer, 'baseData/Modified/' + get_var_name(BA_ratbeer) + '.csv', idx=False)\n",
    "save_csv_with_directory_check(RB_ratbeer, 'baseData/Modified/' + get_var_name(RB_ratbeer) + '.csv', idx=False)"
   ]
  },
  {
   "cell_type": "code",
   "execution_count": 11,
   "metadata": {},
   "outputs": [
    {
     "name": "stdout",
     "output_type": "stream",
     "text": [
      "<class 'pandas.core.frame.DataFrame'>\n",
      "RangeIndex: 8393032 entries, 0 to 8393031\n",
      "Data columns (total 16 columns):\n",
      " #   Column         Dtype  \n",
      "---  ------         -----  \n",
      " 0   Unnamed: 0     int64  \n",
      " 1   beer_name      string \n",
      " 2   beer_id        int64  \n",
      " 3   brewery_name   string \n",
      " 4   brewery_id     int64  \n",
      " 5   style          string \n",
      " 6   user_id        string \n",
      " 7   appearance     float64\n",
      " 8   aroma          float64\n",
      " 9   palate         float64\n",
      " 10  taste          float64\n",
      " 11  overall        float64\n",
      " 12  rating         float64\n",
      " 13  user_location  string \n",
      " 14  avg            float64\n",
      " 15  beer_location  string \n",
      "dtypes: float64(7), int64(3), string(6)\n",
      "memory usage: 1.0 GB\n"
     ]
    }
   ],
   "source": [
    "BA_ratbeer.info()"
   ]
  },
  {
   "cell_type": "code",
   "execution_count": 10,
   "metadata": {},
   "outputs": [
    {
     "data": {
      "text/html": [
       "<div>\n",
       "<style scoped>\n",
       "    .dataframe tbody tr th:only-of-type {\n",
       "        vertical-align: middle;\n",
       "    }\n",
       "\n",
       "    .dataframe tbody tr th {\n",
       "        vertical-align: top;\n",
       "    }\n",
       "\n",
       "    .dataframe thead th {\n",
       "        text-align: right;\n",
       "    }\n",
       "</style>\n",
       "<table border=\"1\" class=\"dataframe\">\n",
       "  <thead>\n",
       "    <tr style=\"text-align: right;\">\n",
       "      <th></th>\n",
       "      <th>Unnamed: 0</th>\n",
       "      <th>beer_name</th>\n",
       "      <th>beer_id</th>\n",
       "      <th>brewery_name</th>\n",
       "      <th>brewery_id</th>\n",
       "      <th>style</th>\n",
       "      <th>user_id</th>\n",
       "      <th>appearance</th>\n",
       "      <th>aroma</th>\n",
       "      <th>palate</th>\n",
       "      <th>taste</th>\n",
       "      <th>overall</th>\n",
       "      <th>rating</th>\n",
       "      <th>user_location</th>\n",
       "      <th>avg</th>\n",
       "      <th>beer_location</th>\n",
       "    </tr>\n",
       "  </thead>\n",
       "  <tbody>\n",
       "    <tr>\n",
       "      <th>0</th>\n",
       "      <td>0</td>\n",
       "      <td>Régab</td>\n",
       "      <td>142544</td>\n",
       "      <td>Societe des Brasseries du Gabon (SOBRAGA)</td>\n",
       "      <td>37262</td>\n",
       "      <td>Euro Pale Lager</td>\n",
       "      <td>nmann08.184925</td>\n",
       "      <td>3.25</td>\n",
       "      <td>2.75</td>\n",
       "      <td>3.25</td>\n",
       "      <td>2.75</td>\n",
       "      <td>3.0</td>\n",
       "      <td>2.88</td>\n",
       "      <td>United States, Washington</td>\n",
       "      <td>2.88</td>\n",
       "      <td>Gabon</td>\n",
       "    </tr>\n",
       "    <tr>\n",
       "      <th>1</th>\n",
       "      <td>1</td>\n",
       "      <td>Barelegs Brew</td>\n",
       "      <td>19590</td>\n",
       "      <td>Strangford Lough Brewing Company Ltd</td>\n",
       "      <td>10093</td>\n",
       "      <td>English Pale Ale</td>\n",
       "      <td>stjamesgate.163714</td>\n",
       "      <td>3.00</td>\n",
       "      <td>3.50</td>\n",
       "      <td>3.50</td>\n",
       "      <td>4.00</td>\n",
       "      <td>3.5</td>\n",
       "      <td>3.67</td>\n",
       "      <td>United States, New York</td>\n",
       "      <td>3.85</td>\n",
       "      <td>Northern Ireland</td>\n",
       "    </tr>\n",
       "    <tr>\n",
       "      <th>2</th>\n",
       "      <td>2</td>\n",
       "      <td>Barelegs Brew</td>\n",
       "      <td>19590</td>\n",
       "      <td>Strangford Lough Brewing Company Ltd</td>\n",
       "      <td>10093</td>\n",
       "      <td>English Pale Ale</td>\n",
       "      <td>mdagnew.19527</td>\n",
       "      <td>4.00</td>\n",
       "      <td>3.50</td>\n",
       "      <td>3.50</td>\n",
       "      <td>4.00</td>\n",
       "      <td>3.5</td>\n",
       "      <td>3.73</td>\n",
       "      <td>Northern Ireland</td>\n",
       "      <td>3.85</td>\n",
       "      <td>Northern Ireland</td>\n",
       "    </tr>\n",
       "    <tr>\n",
       "      <th>3</th>\n",
       "      <td>3</td>\n",
       "      <td>Barelegs Brew</td>\n",
       "      <td>19590</td>\n",
       "      <td>Strangford Lough Brewing Company Ltd</td>\n",
       "      <td>10093</td>\n",
       "      <td>English Pale Ale</td>\n",
       "      <td>helloloser12345.10867</td>\n",
       "      <td>4.00</td>\n",
       "      <td>3.50</td>\n",
       "      <td>4.00</td>\n",
       "      <td>4.00</td>\n",
       "      <td>4.5</td>\n",
       "      <td>3.98</td>\n",
       "      <td>Northern Ireland</td>\n",
       "      <td>3.85</td>\n",
       "      <td>Northern Ireland</td>\n",
       "    </tr>\n",
       "    <tr>\n",
       "      <th>4</th>\n",
       "      <td>4</td>\n",
       "      <td>Barelegs Brew</td>\n",
       "      <td>19590</td>\n",
       "      <td>Strangford Lough Brewing Company Ltd</td>\n",
       "      <td>10093</td>\n",
       "      <td>English Pale Ale</td>\n",
       "      <td>cypressbob.3708</td>\n",
       "      <td>4.00</td>\n",
       "      <td>4.00</td>\n",
       "      <td>4.00</td>\n",
       "      <td>4.00</td>\n",
       "      <td>4.0</td>\n",
       "      <td>4.00</td>\n",
       "      <td>Northern Ireland</td>\n",
       "      <td>3.85</td>\n",
       "      <td>Northern Ireland</td>\n",
       "    </tr>\n",
       "  </tbody>\n",
       "</table>\n",
       "</div>"
      ],
      "text/plain": [
       "   Unnamed: 0      beer_name  beer_id  \\\n",
       "0           0          Régab   142544   \n",
       "1           1  Barelegs Brew    19590   \n",
       "2           2  Barelegs Brew    19590   \n",
       "3           3  Barelegs Brew    19590   \n",
       "4           4  Barelegs Brew    19590   \n",
       "\n",
       "                                brewery_name  brewery_id             style  \\\n",
       "0  Societe des Brasseries du Gabon (SOBRAGA)       37262   Euro Pale Lager   \n",
       "1       Strangford Lough Brewing Company Ltd       10093  English Pale Ale   \n",
       "2       Strangford Lough Brewing Company Ltd       10093  English Pale Ale   \n",
       "3       Strangford Lough Brewing Company Ltd       10093  English Pale Ale   \n",
       "4       Strangford Lough Brewing Company Ltd       10093  English Pale Ale   \n",
       "\n",
       "                 user_id  appearance  aroma  palate  taste  overall  rating  \\\n",
       "0         nmann08.184925        3.25   2.75    3.25   2.75      3.0    2.88   \n",
       "1     stjamesgate.163714        3.00   3.50    3.50   4.00      3.5    3.67   \n",
       "2          mdagnew.19527        4.00   3.50    3.50   4.00      3.5    3.73   \n",
       "3  helloloser12345.10867        4.00   3.50    4.00   4.00      4.5    3.98   \n",
       "4        cypressbob.3708        4.00   4.00    4.00   4.00      4.0    4.00   \n",
       "\n",
       "               user_location   avg     beer_location  \n",
       "0  United States, Washington  2.88             Gabon  \n",
       "1    United States, New York  3.85  Northern Ireland  \n",
       "2           Northern Ireland  3.85  Northern Ireland  \n",
       "3           Northern Ireland  3.85  Northern Ireland  \n",
       "4           Northern Ireland  3.85  Northern Ireland  "
      ]
     },
     "execution_count": 10,
     "metadata": {},
     "output_type": "execute_result"
    }
   ],
   "source": [
    "BA_ratbeer.head()"
   ]
  }
 ],
 "metadata": {
  "kernelspec": {
   "display_name": "ada",
   "language": "python",
   "name": "python3"
  },
  "language_info": {
   "codemirror_mode": {
    "name": "ipython",
    "version": 3
   },
   "file_extension": ".py",
   "mimetype": "text/x-python",
   "name": "python",
   "nbconvert_exporter": "python",
   "pygments_lexer": "ipython3",
   "version": "3.11.10"
  }
 },
 "nbformat": 4,
 "nbformat_minor": 2
}
