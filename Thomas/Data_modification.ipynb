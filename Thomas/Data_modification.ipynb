{
 "cells": [
  {
   "cell_type": "code",
   "execution_count": 9,
   "metadata": {},
   "outputs": [],
   "source": [
    "import numpy as np\n",
    "import pandas as pd\n",
    "import seaborn as sns\n",
    "import matplotlib.pyplot as plt\n",
    "import tqdm as tqdm\n",
    "import os"
   ]
  },
  {
   "cell_type": "code",
   "execution_count": 2,
   "metadata": {},
   "outputs": [],
   "source": [
    "def parse_ratings_file(file_path):\n",
    "    data = []\n",
    "    current_review = {}\n",
    "\n",
    "    with open(file_path, 'r') as file:\n",
    "        for line in file:\n",
    "            line = line.strip()  # Remove leading/trailing whitespace\n",
    "            if line:  # If the line is not empty\n",
    "                if ': ' in line:  # Check if the line contains the delimiter ': '\n",
    "                    key, value = line.split(': ', 1)  # Split by the first occurrence of ': '\n",
    "                    current_review[key] = value\n",
    "                else:\n",
    "                    # Handle lines that do not follow the expected key-value format\n",
    "                    # For example, this could happen for text reviews that span multiple lines\n",
    "                    if 'text' in current_review:\n",
    "                        current_review['text'] += ' ' + line  # Append to the 'text' field\n",
    "                    else:\n",
    "                        current_review['text'] = line  # Create the 'text' field\n",
    "            else:  # Blank line indicates the end of a review\n",
    "                if current_review:  # Ensure that the review is not empty\n",
    "                    data.append(current_review)\n",
    "                current_review = {}  # Reset for the next review\n",
    "\n",
    "        if current_review:  # Catch the last review if there's no trailing blank line\n",
    "            data.append(current_review)\n",
    "\n",
    "    # Convert the list of dictionaries to a DataFrame\n",
    "    return pd.DataFrame(data)"
   ]
  },
  {
   "cell_type": "code",
   "execution_count": 3,
   "metadata": {},
   "outputs": [],
   "source": [
    "#importing data\n",
    "BA_path = 'baseData/BeerAdvocate/'\n",
    "RB_path = 'baseData/RateBeer/'\n",
    "\n",
    "BA_beers = pd.read_csv(BA_path + 'beers.csv')\n",
    "BA_breweries = pd.read_csv(BA_path + 'breweries.csv')\n",
    "BA_users = pd.read_csv(BA_path + 'users.csv')\n",
    "\n",
    "RB_beers = pd.read_csv(RB_path + 'beers.csv')\n",
    "RB_breweries = pd.read_csv(RB_path + 'breweries.csv')\n",
    "RB_users = pd.read_csv(RB_path + 'users.csv')\n"
   ]
  },
  {
   "cell_type": "code",
   "execution_count": 47,
   "metadata": {},
   "outputs": [
    {
     "name": "stdout",
     "output_type": "stream",
     "text": [
      "ratings Done\n"
     ]
    }
   ],
   "source": [
    "BA_ratings = parse_ratings_file(BA_path + 'ratings.txt')\n",
    "print('ratings Done')\n",
    "BA_reviews = parse_ratings_file(BA_path + 'reviews.txt')"
   ]
  },
  {
   "cell_type": "code",
   "execution_count": null,
   "metadata": {},
   "outputs": [],
   "source": []
  },
  {
   "cell_type": "code",
   "execution_count": 42,
   "metadata": {},
   "outputs": [],
   "source": [
    "#automatically remove NaN values, can be modified\n",
    "def columns_to_remove(data, value, threshold):\n",
    "    cols_to_remove = []\n",
    "    \n",
    "    for col in data.columns:\n",
    "        if (data[col] == value).mean() > threshold:\n",
    "            cols_to_remove.append(col)\n",
    "        elif data[col].isna().mean() > threshold:\n",
    "            cols_to_remove.append(col)\n",
    "\n",
    "    return cols_to_remove\n",
    "\n",
    "def drop_columns(data, cols_to_remove, save_path):\n",
    "    data_new = data.drop(columns=cols_to_remove, errors='ignore')\n",
    "    data_new.to_csv(save_path, index=False)"
   ]
  },
  {
   "cell_type": "code",
   "execution_count": 40,
   "metadata": {},
   "outputs": [],
   "source": [
    "#allows application of multiple values\n",
    "def column_delete_save(data, values, save_path, threshold):\n",
    "    data_new = data.copy()\n",
    "\n",
    "    for val in values:\n",
    "        cols_remove = columns_to_remove(data_new, val, threshold)\n",
    "        print(cols_remove)\n",
    "        data_new = data_new.drop(columns=cols_remove, errors='ignore')\n",
    "    \n",
    "    data_new.to_csv(save_path, index=False)"
   ]
  },
  {
   "cell_type": "code",
   "execution_count": 43,
   "metadata": {},
   "outputs": [
    {
     "name": "stdout",
     "output_type": "stream",
     "text": [
      "     A  B  C   D  E\n",
      "0  1.0  0  1 NaN  5\n",
      "1  2.0  0  2 NaN  6\n",
      "2  3.0  0  1 NaN  7\n",
      "3  4.0  0  2 NaN  8\n",
      "4  NaN  0  1 NaN  9\n",
      "['B', 'D']\n",
      "['D']\n",
      "['B', 'D']\n"
     ]
    }
   ],
   "source": [
    "#Test with simple df\n",
    "data = {\n",
    "    'A': [1, 2, 3, 4, np.NaN],\n",
    "    'B': [0, 0, 0, 0, 0],\n",
    "    'C': [1, 2, 1, 2, 1],\n",
    "    'D': [np.NaN, np.NaN, np.NaN, np.NaN, np.NaN],\n",
    "    'E': [5, 6, 7, 8, 9]\n",
    "    }\n",
    "\n",
    "df = pd.DataFrame(data)\n",
    "\n",
    "print(df.head())\n",
    "\n",
    "print(columns_to_remove(df, 0, 0.8))\n",
    "print(columns_to_remove(df, 'NaN', 0.8))\n",
    "\n",
    "column_delete_save(df, [0], 'test.csv', 0.8)"
   ]
  },
  {
   "cell_type": "code",
   "execution_count": 44,
   "metadata": {},
   "outputs": [
    {
     "name": "stdout",
     "output_type": "stream",
     "text": [
      "Directory 'modData' created successfully.\n",
      "Directory 'modData/BeerAdvocate' created successfully.\n",
      "Directory 'modData/RateBeer' created successfully.\n"
     ]
    }
   ],
   "source": [
    "#make new directories for save\n",
    "def create_directory(directory_path):\n",
    "    \"\"\"\n",
    "    Create a directory if it does not exist.\n",
    "\n",
    "    Parameters:\n",
    "    - directory_path (str): The path of the directory to create.\n",
    "    \"\"\"\n",
    "    try:\n",
    "        # Create the directory\n",
    "        os.makedirs(directory_path, exist_ok=True)  # exist_ok=True avoids errors if the directory already exists\n",
    "        print(f\"Directory '{directory_path}' created successfully.\")\n",
    "    except Exception as e:\n",
    "        print(f\"Error creating directory: {e}\")\n",
    "\n",
    "create_directory('modData')\n",
    "create_directory('modData/BeerAdvocate')\n",
    "create_directory('modData/RateBeer')"
   ]
  },
  {
   "cell_type": "code",
   "execution_count": 46,
   "metadata": {},
   "outputs": [
    {
     "name": "stdout",
     "output_type": "stream",
     "text": [
      "['bros_score', 'zscore', 'nbr_matched_valid_ratings', 'avg_matched_valid_ratings']\n",
      "[]\n",
      "[]\n",
      "['zscore', 'nbr_matched_valid_ratings', 'avg_matched_valid_ratings']\n",
      "[]\n",
      "[]\n"
     ]
    }
   ],
   "source": [
    "column_delete_save(BA_beers, [0], 'modData/BeerAdvocate/beers.csv', 0.8)\n",
    "column_delete_save(BA_breweries, [0], 'modData/BeerAdvocate/breweries.csv', 0.8)\n",
    "column_delete_save(BA_users, [0], 'modData/BeerAdvocate/users.csv', 0.8)\n",
    "\n",
    "\n",
    "column_delete_save(RB_beers, [0], 'modData/RateBeer/beers.csv', 0.8)\n",
    "column_delete_save(RB_breweries, [0], 'modData/RateBeer/breweries.csv', 0.8)\n",
    "column_delete_save(RB_users, [0], 'modData/RateBeer/users.csv', 0.8)\n"
   ]
  }
 ],
 "metadata": {
  "kernelspec": {
   "display_name": "ada",
   "language": "python",
   "name": "python3"
  },
  "language_info": {
   "codemirror_mode": {
    "name": "ipython",
    "version": 3
   },
   "file_extension": ".py",
   "mimetype": "text/x-python",
   "name": "python",
   "nbconvert_exporter": "python",
   "pygments_lexer": "ipython3",
   "version": "3.11.10"
  }
 },
 "nbformat": 4,
 "nbformat_minor": 2
}
